{
 "cells": [
  {
   "cell_type": "markdown",
   "metadata": {},
   "source": [
    "# Borrowers’ risk of defaulting Analysis"
   ]
  },
  {
   "cell_type": "markdown",
   "metadata": {},
   "source": [
    "# Author: James Amezuca"
   ]
  },
  {
   "cell_type": "markdown",
   "metadata": {},
   "source": [
    "# Introduction"
   ]
  },
  {
   "cell_type": "markdown",
   "metadata": {},
   "source": [
    "Our project is to prepare a report for a bank’s loan division. We'll need to find out if a customer’s marital status and number of children has an impact on whether they will default on a loan. The bank already has some data on customers’ credit worthiness.\n",
    "\n",
    "Our report will be considered when building a credit scoring of a potential customer. A credit scoring is used to evaluate the ability of a potential borrower to repay their loan."
   ]
  },
  {
   "cell_type": "markdown",
   "metadata": {},
   "source": [
    "# Table of Content"
   ]
  },
  {
   "cell_type": "markdown",
   "metadata": {},
   "source": [
    "Part 1: Open the data file and have a look at the general information\n",
    "\n",
    "Part 2: Data Prerprocessing\n",
    "\n",
    "Part 3: Answer these questions\n",
    "\n",
    "Part 4: General Conclusion"
   ]
  },
  {
   "cell_type": "markdown",
   "metadata": {},
   "source": [
    "# Part 1. Open the data file and have a look at the general information"
   ]
  },
  {
   "cell_type": "code",
   "execution_count": 1,
   "metadata": {},
   "outputs": [],
   "source": [
    "import pandas as pd\n",
    "data = pd.read_csv('/datasets/credit_scoring_eng.csv')\n",
    "creditScore = pd.DataFrame(data=data)"
   ]
  },
  {
   "cell_type": "code",
   "execution_count": 2,
   "metadata": {},
   "outputs": [
    {
     "name": "stdout",
     "output_type": "stream",
     "text": [
      "<class 'pandas.core.frame.DataFrame'>\n",
      "RangeIndex: 21525 entries, 0 to 21524\n",
      "Data columns (total 12 columns):\n",
      "children            21525 non-null int64\n",
      "days_employed       19351 non-null float64\n",
      "dob_years           21525 non-null int64\n",
      "education           21525 non-null object\n",
      "education_id        21525 non-null int64\n",
      "family_status       21525 non-null object\n",
      "family_status_id    21525 non-null int64\n",
      "gender              21525 non-null object\n",
      "income_type         21525 non-null object\n",
      "debt                21525 non-null int64\n",
      "total_income        19351 non-null float64\n",
      "purpose             21525 non-null object\n",
      "dtypes: float64(2), int64(5), object(5)\n",
      "memory usage: 2.0+ MB\n"
     ]
    }
   ],
   "source": [
    "data.info()"
   ]
  },
  {
   "cell_type": "code",
   "execution_count": 3,
   "metadata": {},
   "outputs": [
    {
     "data": {
      "text/html": [
       "<div>\n",
       "<style scoped>\n",
       "    .dataframe tbody tr th:only-of-type {\n",
       "        vertical-align: middle;\n",
       "    }\n",
       "\n",
       "    .dataframe tbody tr th {\n",
       "        vertical-align: top;\n",
       "    }\n",
       "\n",
       "    .dataframe thead th {\n",
       "        text-align: right;\n",
       "    }\n",
       "</style>\n",
       "<table border=\"1\" class=\"dataframe\">\n",
       "  <thead>\n",
       "    <tr style=\"text-align: right;\">\n",
       "      <th></th>\n",
       "      <th>children</th>\n",
       "      <th>days_employed</th>\n",
       "      <th>dob_years</th>\n",
       "      <th>education</th>\n",
       "      <th>education_id</th>\n",
       "      <th>family_status</th>\n",
       "      <th>family_status_id</th>\n",
       "      <th>gender</th>\n",
       "      <th>income_type</th>\n",
       "      <th>debt</th>\n",
       "      <th>total_income</th>\n",
       "      <th>purpose</th>\n",
       "    </tr>\n",
       "  </thead>\n",
       "  <tbody>\n",
       "    <tr>\n",
       "      <td>0</td>\n",
       "      <td>1</td>\n",
       "      <td>-8437.673028</td>\n",
       "      <td>42</td>\n",
       "      <td>bachelor's degree</td>\n",
       "      <td>0</td>\n",
       "      <td>married</td>\n",
       "      <td>0</td>\n",
       "      <td>F</td>\n",
       "      <td>employee</td>\n",
       "      <td>0</td>\n",
       "      <td>40620.102</td>\n",
       "      <td>purchase of the house</td>\n",
       "    </tr>\n",
       "    <tr>\n",
       "      <td>1</td>\n",
       "      <td>1</td>\n",
       "      <td>-4024.803754</td>\n",
       "      <td>36</td>\n",
       "      <td>secondary education</td>\n",
       "      <td>1</td>\n",
       "      <td>married</td>\n",
       "      <td>0</td>\n",
       "      <td>F</td>\n",
       "      <td>employee</td>\n",
       "      <td>0</td>\n",
       "      <td>17932.802</td>\n",
       "      <td>car purchase</td>\n",
       "    </tr>\n",
       "    <tr>\n",
       "      <td>2</td>\n",
       "      <td>0</td>\n",
       "      <td>-5623.422610</td>\n",
       "      <td>33</td>\n",
       "      <td>Secondary Education</td>\n",
       "      <td>1</td>\n",
       "      <td>married</td>\n",
       "      <td>0</td>\n",
       "      <td>M</td>\n",
       "      <td>employee</td>\n",
       "      <td>0</td>\n",
       "      <td>23341.752</td>\n",
       "      <td>purchase of the house</td>\n",
       "    </tr>\n",
       "    <tr>\n",
       "      <td>3</td>\n",
       "      <td>3</td>\n",
       "      <td>-4124.747207</td>\n",
       "      <td>32</td>\n",
       "      <td>secondary education</td>\n",
       "      <td>1</td>\n",
       "      <td>married</td>\n",
       "      <td>0</td>\n",
       "      <td>M</td>\n",
       "      <td>employee</td>\n",
       "      <td>0</td>\n",
       "      <td>42820.568</td>\n",
       "      <td>supplementary education</td>\n",
       "    </tr>\n",
       "    <tr>\n",
       "      <td>4</td>\n",
       "      <td>0</td>\n",
       "      <td>340266.072047</td>\n",
       "      <td>53</td>\n",
       "      <td>secondary education</td>\n",
       "      <td>1</td>\n",
       "      <td>civil partnership</td>\n",
       "      <td>1</td>\n",
       "      <td>F</td>\n",
       "      <td>retiree</td>\n",
       "      <td>0</td>\n",
       "      <td>25378.572</td>\n",
       "      <td>to have a wedding</td>\n",
       "    </tr>\n",
       "  </tbody>\n",
       "</table>\n",
       "</div>"
      ],
      "text/plain": [
       "   children  days_employed  dob_years            education  education_id  \\\n",
       "0         1   -8437.673028         42    bachelor's degree             0   \n",
       "1         1   -4024.803754         36  secondary education             1   \n",
       "2         0   -5623.422610         33  Secondary Education             1   \n",
       "3         3   -4124.747207         32  secondary education             1   \n",
       "4         0  340266.072047         53  secondary education             1   \n",
       "\n",
       "       family_status  family_status_id gender income_type  debt  total_income  \\\n",
       "0            married                 0      F    employee     0     40620.102   \n",
       "1            married                 0      F    employee     0     17932.802   \n",
       "2            married                 0      M    employee     0     23341.752   \n",
       "3            married                 0      M    employee     0     42820.568   \n",
       "4  civil partnership                 1      F     retiree     0     25378.572   \n",
       "\n",
       "                   purpose  \n",
       "0    purchase of the house  \n",
       "1             car purchase  \n",
       "2    purchase of the house  \n",
       "3  supplementary education  \n",
       "4        to have a wedding  "
      ]
     },
     "execution_count": 3,
     "metadata": {},
     "output_type": "execute_result"
    }
   ],
   "source": [
    "data.head()"
   ]
  },
  {
   "cell_type": "markdown",
   "metadata": {},
   "source": [
    "# Part 2. Data Preprocessing"
   ]
  },
  {
   "cell_type": "markdown",
   "metadata": {},
   "source": [
    "# Processing missing values"
   ]
  },
  {
   "cell_type": "code",
   "execution_count": 4,
   "metadata": {},
   "outputs": [
    {
     "name": "stdout",
     "output_type": "stream",
     "text": [
      "54\n"
     ]
    }
   ],
   "source": [
    "# handle negative or missing children\n",
    "creditScore['children'] = creditScore['children'].replace(-1,0)\n",
    "creditScore['children'] = creditScore['children'].replace(20,0)\n",
    "creditScore['children'].fillna(0,inplace=True)\n",
    "\n",
    "#handle missing days employee \n",
    "creditScore['days_employed'].fillna(0,inplace=True)\n",
    "\n",
    "#handle missing total income\n",
    "creditScore['total_income'].fillna(0,inplace=True)\n",
    "print(creditScore.duplicated().sum())"
   ]
  },
  {
   "cell_type": "markdown",
   "metadata": {},
   "source": [
    "For the processing missing values step, I was able to identified three columns that had missing values: 'children, 'days_employed' and 'total_income'. I filled all missing values with a 0 to simply identify non-existent values in our dataset. In the 'children' column, there were rows that contained a negative value and rows that contained an outlier value. It appears to be that these might be data entry errors, as it is impossible to have a negative amount of children and it is very unlikely to have 20 children. \n",
    "    I replaced the values in these rows with 0. Any other rows with missing values was giving a default value of 0 children. In the 'days_employed' and 'total_income' columns, I replaced null values with 0 in order to fill in those missing values. \n",
    "    "
   ]
  },
  {
   "cell_type": "markdown",
   "metadata": {},
   "source": [
    "# Data type replacement"
   ]
  },
  {
   "cell_type": "code",
   "execution_count": 5,
   "metadata": {},
   "outputs": [
    {
     "name": "stdout",
     "output_type": "stream",
     "text": [
      "['real estate' 'car' 'education' 'wedding']\n"
     ]
    }
   ],
   "source": [
    "# change float type to int for days_employed\n",
    "creditScore['days_employed']= creditScore['days_employed'].astype(int)\n",
    "\n",
    "for days in creditScore['days_employed']:\n",
    "    if days < 0:\n",
    "        creditScore['days_employed'] = creditScore['days_employed'].replace(days,0)\n",
    "        \n",
    "creditScore['years_employed'] = (creditScore['days_employed']/365).astype(int).round()\n",
    "\n",
    "#change float type to int for total_income\n",
    "creditScore['total_income']= creditScore['total_income'].astype(int)\n",
    "\n",
    "#handle duplicates in education\n",
    "creditScore['education'] = creditScore['education'].str.lower()\n",
    "\n",
    "#handle duplicates in purpose \n",
    "import nltk\n",
    "from nltk.stem import WordNetLemmatizer\n",
    "\n",
    "wordnet_lemma = WordNetLemmatizer()\n",
    "\n",
    "for purpose in creditScore['purpose']:\n",
    "    words = nltk.word_tokenize(purpose)\n",
    "    \n",
    "    if 'education' in words or 'university' in words or 'educated' in words:\n",
    "        creditScore['purpose'].replace(purpose, 'education', inplace=True)\n",
    "        \n",
    "    if 'car' in words or 'cars' in words:\n",
    "        creditScore['purpose'].replace(purpose, 'car',inplace=True)\n",
    "        \n",
    "    if 'house' in words or 'housing' in words or 'estate' in words or 'property' in words:\n",
    "        creditScore['purpose'].replace(purpose,'real estate',inplace=True)\n",
    "        \n",
    "    if 'wedding' in words:\n",
    "        creditScore['purpose'].replace(purpose,'wedding',inplace=True)\n",
    "        \n",
    "print(creditScore['purpose'].unique())\n",
    "                                               "
   ]
  },
  {
   "cell_type": "markdown",
   "metadata": {},
   "source": [
    "In this data type replacement step, I started my handling the 'days_employed' column. I believe that this column is quite corrupted as there are many empty values or absurdly high values. To handle this column, I changed the type of the column from float to int, then I changed any negative value for this column to 0 (if you have been employed for a negative amount of time, then you have not been employed for that amount of time and therefore, your days employed are 0) and then I went through each value to change the number from days to years for ease of readibility then stored this new years value in a new column, years_employed. Even after this cleanup, there are still very strange values - looking at the first 30 rows in this column yields either 0 years employed or between 932 to 1096 years of employment, which is not possible.\n",
    "\n",
    "For the 'total_income' column, I changed the type of the column from float to int to make it easier to read the numbers. For the 'education' column, there were many of the same values but with different casing (for example, 'secondary education' and 'Secondary Education' are the same value but because of the capitilization difference, are stored differently). I used the str.lower() method to lower case all of the values which removes this unnecessary repetition.\n",
    "\n",
    "The 'purpose' column was very problematic because there were many purposes that were essentially the same but because of the different wording, was stored differently. For example, 'to have a wedding' and 'wedding ceremony' are the same purpose but worded differently so will be handed as different reasons. We don't want this so I used lemmatization to find all unique identifiable words in the raw purpose output and from that, categorized the purpose accordingly."
   ]
  },
  {
   "cell_type": "code",
   "execution_count": 6,
   "metadata": {},
   "outputs": [
    {
     "data": {
      "text/plain": [
       "low       12924\n",
       "median     7281\n",
       "high       1320\n",
       "Name: alert_income, dtype: int64"
      ]
     },
     "execution_count": 6,
     "metadata": {},
     "output_type": "execute_result"
    }
   ],
   "source": [
    "def alert_income(income):\n",
    "    if income <= 25000 :\n",
    "        return 'low'\n",
    "    if income <= 50000 :\n",
    "        return 'median'\n",
    "    return 'high'\n",
    "\n",
    "creditScore['alert_income'] = creditScore['total_income'].apply(alert_income)\n",
    "creditScore['alert_income'].value_counts()\n",
    "\n",
    "\n",
    "\n"
   ]
  },
  {
   "cell_type": "markdown",
   "metadata": {},
   "source": [
    "For the total_income column, I used the apply method to categorize customer's total income level. Using this technique gives us a better understanding on where customers fall in the income bracket. Customers whose total income is below 25,000 are considered low income and make up the largest group in our dataset. Customers whose total income is between 25,000 and 50,000 are considered median income and make up the second largest group our dataset. Customers whose total income is greater than 50,000 are considered high income and are the smallest group in our dataset. "
   ]
  },
  {
   "cell_type": "code",
   "execution_count": 7,
   "metadata": {},
   "outputs": [
    {
     "data": {
      "text/plain": [
       " no child               14272\n",
       " one child               4818\n",
       " more than one child     2435\n",
       "Name: alert_children, dtype: int64"
      ]
     },
     "execution_count": 7,
     "metadata": {},
     "output_type": "execute_result"
    }
   ],
   "source": [
    "def alert_children(children):\n",
    "    if children <= 0:\n",
    "        return' no child'\n",
    "    if children <= 1:\n",
    "        return ' one child'\n",
    "    if children <= 5:\n",
    "        return ' more than one child'\n",
    "\n",
    "creditScore['alert_children'] = creditScore['children'].apply(alert_children)\n",
    "creditScore['alert_children'].value_counts()"
   ]
  },
  {
   "cell_type": "markdown",
   "metadata": {},
   "source": [
    "For the children column, I also used the apply method to categorize the number of children of each customer. A great portion of our data set contains customers who have no children. "
   ]
  },
  {
   "cell_type": "markdown",
   "metadata": {},
   "source": [
    "# Processing Duplicates"
   ]
  },
  {
   "cell_type": "code",
   "execution_count": 8,
   "metadata": {},
   "outputs": [
    {
     "data": {
      "text/plain": [
       "False    96.8223\n",
       "True      3.1777\n",
       "dtype: float64"
      ]
     },
     "execution_count": 8,
     "metadata": {},
     "output_type": "execute_result"
    }
   ],
   "source": [
    "creditScore.duplicated(keep=False).value_counts(normalize=True) * 100"
   ]
  },
  {
   "cell_type": "code",
   "execution_count": 9,
   "metadata": {},
   "outputs": [],
   "source": [
    "#print(creditScore.duplicated().sum())\n",
    "creditScore = creditScore.drop_duplicates().reset_index(drop=True)"
   ]
  },
  {
   "cell_type": "code",
   "execution_count": 10,
   "metadata": {},
   "outputs": [
    {
     "data": {
      "text/html": [
       "<div>\n",
       "<style scoped>\n",
       "    .dataframe tbody tr th:only-of-type {\n",
       "        vertical-align: middle;\n",
       "    }\n",
       "\n",
       "    .dataframe tbody tr th {\n",
       "        vertical-align: top;\n",
       "    }\n",
       "\n",
       "    .dataframe thead th {\n",
       "        text-align: right;\n",
       "    }\n",
       "</style>\n",
       "<table border=\"1\" class=\"dataframe\">\n",
       "  <thead>\n",
       "    <tr style=\"text-align: right;\">\n",
       "      <th></th>\n",
       "      <th>children</th>\n",
       "      <th>days_employed</th>\n",
       "      <th>dob_years</th>\n",
       "      <th>education</th>\n",
       "      <th>education_id</th>\n",
       "      <th>family_status</th>\n",
       "      <th>family_status_id</th>\n",
       "      <th>gender</th>\n",
       "      <th>income_type</th>\n",
       "      <th>debt</th>\n",
       "      <th>total_income</th>\n",
       "      <th>purpose</th>\n",
       "      <th>years_employed</th>\n",
       "      <th>alert_income</th>\n",
       "      <th>alert_children</th>\n",
       "    </tr>\n",
       "  </thead>\n",
       "  <tbody>\n",
       "    <tr>\n",
       "      <td>0</td>\n",
       "      <td>1</td>\n",
       "      <td>0</td>\n",
       "      <td>42</td>\n",
       "      <td>bachelor's degree</td>\n",
       "      <td>0</td>\n",
       "      <td>married</td>\n",
       "      <td>0</td>\n",
       "      <td>F</td>\n",
       "      <td>employee</td>\n",
       "      <td>0</td>\n",
       "      <td>40620</td>\n",
       "      <td>real estate</td>\n",
       "      <td>0</td>\n",
       "      <td>median</td>\n",
       "      <td>one child</td>\n",
       "    </tr>\n",
       "    <tr>\n",
       "      <td>1</td>\n",
       "      <td>1</td>\n",
       "      <td>0</td>\n",
       "      <td>36</td>\n",
       "      <td>secondary education</td>\n",
       "      <td>1</td>\n",
       "      <td>married</td>\n",
       "      <td>0</td>\n",
       "      <td>F</td>\n",
       "      <td>employee</td>\n",
       "      <td>0</td>\n",
       "      <td>17932</td>\n",
       "      <td>car</td>\n",
       "      <td>0</td>\n",
       "      <td>low</td>\n",
       "      <td>one child</td>\n",
       "    </tr>\n",
       "    <tr>\n",
       "      <td>2</td>\n",
       "      <td>0</td>\n",
       "      <td>0</td>\n",
       "      <td>33</td>\n",
       "      <td>secondary education</td>\n",
       "      <td>1</td>\n",
       "      <td>married</td>\n",
       "      <td>0</td>\n",
       "      <td>M</td>\n",
       "      <td>employee</td>\n",
       "      <td>0</td>\n",
       "      <td>23341</td>\n",
       "      <td>real estate</td>\n",
       "      <td>0</td>\n",
       "      <td>low</td>\n",
       "      <td>no child</td>\n",
       "    </tr>\n",
       "    <tr>\n",
       "      <td>3</td>\n",
       "      <td>3</td>\n",
       "      <td>0</td>\n",
       "      <td>32</td>\n",
       "      <td>secondary education</td>\n",
       "      <td>1</td>\n",
       "      <td>married</td>\n",
       "      <td>0</td>\n",
       "      <td>M</td>\n",
       "      <td>employee</td>\n",
       "      <td>0</td>\n",
       "      <td>42820</td>\n",
       "      <td>education</td>\n",
       "      <td>0</td>\n",
       "      <td>median</td>\n",
       "      <td>more than one child</td>\n",
       "    </tr>\n",
       "    <tr>\n",
       "      <td>4</td>\n",
       "      <td>0</td>\n",
       "      <td>340266</td>\n",
       "      <td>53</td>\n",
       "      <td>secondary education</td>\n",
       "      <td>1</td>\n",
       "      <td>civil partnership</td>\n",
       "      <td>1</td>\n",
       "      <td>F</td>\n",
       "      <td>retiree</td>\n",
       "      <td>0</td>\n",
       "      <td>25378</td>\n",
       "      <td>wedding</td>\n",
       "      <td>932</td>\n",
       "      <td>median</td>\n",
       "      <td>no child</td>\n",
       "    </tr>\n",
       "    <tr>\n",
       "      <td>...</td>\n",
       "      <td>...</td>\n",
       "      <td>...</td>\n",
       "      <td>...</td>\n",
       "      <td>...</td>\n",
       "      <td>...</td>\n",
       "      <td>...</td>\n",
       "      <td>...</td>\n",
       "      <td>...</td>\n",
       "      <td>...</td>\n",
       "      <td>...</td>\n",
       "      <td>...</td>\n",
       "      <td>...</td>\n",
       "      <td>...</td>\n",
       "      <td>...</td>\n",
       "      <td>...</td>\n",
       "    </tr>\n",
       "    <tr>\n",
       "      <td>21112</td>\n",
       "      <td>1</td>\n",
       "      <td>0</td>\n",
       "      <td>43</td>\n",
       "      <td>secondary education</td>\n",
       "      <td>1</td>\n",
       "      <td>civil partnership</td>\n",
       "      <td>1</td>\n",
       "      <td>F</td>\n",
       "      <td>business</td>\n",
       "      <td>0</td>\n",
       "      <td>35966</td>\n",
       "      <td>real estate</td>\n",
       "      <td>0</td>\n",
       "      <td>median</td>\n",
       "      <td>one child</td>\n",
       "    </tr>\n",
       "    <tr>\n",
       "      <td>21113</td>\n",
       "      <td>0</td>\n",
       "      <td>343937</td>\n",
       "      <td>67</td>\n",
       "      <td>secondary education</td>\n",
       "      <td>1</td>\n",
       "      <td>married</td>\n",
       "      <td>0</td>\n",
       "      <td>F</td>\n",
       "      <td>retiree</td>\n",
       "      <td>0</td>\n",
       "      <td>24959</td>\n",
       "      <td>car</td>\n",
       "      <td>942</td>\n",
       "      <td>low</td>\n",
       "      <td>no child</td>\n",
       "    </tr>\n",
       "    <tr>\n",
       "      <td>21114</td>\n",
       "      <td>1</td>\n",
       "      <td>0</td>\n",
       "      <td>38</td>\n",
       "      <td>secondary education</td>\n",
       "      <td>1</td>\n",
       "      <td>civil partnership</td>\n",
       "      <td>1</td>\n",
       "      <td>M</td>\n",
       "      <td>employee</td>\n",
       "      <td>1</td>\n",
       "      <td>14347</td>\n",
       "      <td>real estate</td>\n",
       "      <td>0</td>\n",
       "      <td>low</td>\n",
       "      <td>one child</td>\n",
       "    </tr>\n",
       "    <tr>\n",
       "      <td>21115</td>\n",
       "      <td>3</td>\n",
       "      <td>0</td>\n",
       "      <td>38</td>\n",
       "      <td>secondary education</td>\n",
       "      <td>1</td>\n",
       "      <td>married</td>\n",
       "      <td>0</td>\n",
       "      <td>M</td>\n",
       "      <td>employee</td>\n",
       "      <td>1</td>\n",
       "      <td>39054</td>\n",
       "      <td>car</td>\n",
       "      <td>0</td>\n",
       "      <td>median</td>\n",
       "      <td>more than one child</td>\n",
       "    </tr>\n",
       "    <tr>\n",
       "      <td>21116</td>\n",
       "      <td>2</td>\n",
       "      <td>0</td>\n",
       "      <td>40</td>\n",
       "      <td>secondary education</td>\n",
       "      <td>1</td>\n",
       "      <td>married</td>\n",
       "      <td>0</td>\n",
       "      <td>F</td>\n",
       "      <td>employee</td>\n",
       "      <td>0</td>\n",
       "      <td>13127</td>\n",
       "      <td>car</td>\n",
       "      <td>0</td>\n",
       "      <td>low</td>\n",
       "      <td>more than one child</td>\n",
       "    </tr>\n",
       "  </tbody>\n",
       "</table>\n",
       "<p>21117 rows × 15 columns</p>\n",
       "</div>"
      ],
      "text/plain": [
       "       children  days_employed  dob_years            education  education_id  \\\n",
       "0             1              0         42    bachelor's degree             0   \n",
       "1             1              0         36  secondary education             1   \n",
       "2             0              0         33  secondary education             1   \n",
       "3             3              0         32  secondary education             1   \n",
       "4             0         340266         53  secondary education             1   \n",
       "...         ...            ...        ...                  ...           ...   \n",
       "21112         1              0         43  secondary education             1   \n",
       "21113         0         343937         67  secondary education             1   \n",
       "21114         1              0         38  secondary education             1   \n",
       "21115         3              0         38  secondary education             1   \n",
       "21116         2              0         40  secondary education             1   \n",
       "\n",
       "           family_status  family_status_id gender income_type  debt  \\\n",
       "0                married                 0      F    employee     0   \n",
       "1                married                 0      F    employee     0   \n",
       "2                married                 0      M    employee     0   \n",
       "3                married                 0      M    employee     0   \n",
       "4      civil partnership                 1      F     retiree     0   \n",
       "...                  ...               ...    ...         ...   ...   \n",
       "21112  civil partnership                 1      F    business     0   \n",
       "21113            married                 0      F     retiree     0   \n",
       "21114  civil partnership                 1      M    employee     1   \n",
       "21115            married                 0      M    employee     1   \n",
       "21116            married                 0      F    employee     0   \n",
       "\n",
       "       total_income      purpose  years_employed alert_income  \\\n",
       "0             40620  real estate               0       median   \n",
       "1             17932          car               0          low   \n",
       "2             23341  real estate               0          low   \n",
       "3             42820    education               0       median   \n",
       "4             25378      wedding             932       median   \n",
       "...             ...          ...             ...          ...   \n",
       "21112         35966  real estate               0       median   \n",
       "21113         24959          car             942          low   \n",
       "21114         14347  real estate               0          low   \n",
       "21115         39054          car               0       median   \n",
       "21116         13127          car               0          low   \n",
       "\n",
       "             alert_children  \n",
       "0                 one child  \n",
       "1                 one child  \n",
       "2                  no child  \n",
       "3       more than one child  \n",
       "4                  no child  \n",
       "...                     ...  \n",
       "21112             one child  \n",
       "21113              no child  \n",
       "21114             one child  \n",
       "21115   more than one child  \n",
       "21116   more than one child  \n",
       "\n",
       "[21117 rows x 15 columns]"
      ]
     },
     "execution_count": 10,
     "metadata": {},
     "output_type": "execute_result"
    }
   ],
   "source": [
    "creditScore.drop_duplicates()"
   ]
  },
  {
   "cell_type": "markdown",
   "metadata": {},
   "source": [
    "In this processing duplicates step, I identified 408 duplicates in the data. We have duplicates in our data due to the differences in string cases and also duplicates by meaning in the \"purpose\" column. I decided to drop all of these duplicates using the drop_duplicated() method. \n"
   ]
  },
  {
   "cell_type": "markdown",
   "metadata": {},
   "source": [
    "# Part 3. Answer these questions"
   ]
  },
  {
   "cell_type": "markdown",
   "metadata": {},
   "source": [
    "Is there a relation between having kids and repaying a loan on time?"
   ]
  },
  {
   "cell_type": "code",
   "execution_count": 11,
   "metadata": {},
   "outputs": [
    {
     "name": "stdout",
     "output_type": "stream",
     "text": [
      "            count      mean       std  min  25%  50%  75%  max\n",
      "children                                                      \n",
      "0         13949.0  0.076708  0.266137  0.0  0.0  0.0  0.0  1.0\n",
      "1          4751.0  0.093454  0.291098  0.0  0.0  0.0  0.0  1.0\n",
      "2          2039.0  0.095145  0.293487  0.0  0.0  0.0  0.0  1.0\n",
      "3           329.0  0.082067  0.274885  0.0  0.0  0.0  0.0  1.0\n",
      "4            40.0  0.100000  0.303822  0.0  0.0  0.0  0.0  1.0\n",
      "5             9.0  0.000000  0.000000  0.0  0.0  0.0  0.0  0.0\n",
      "children\n",
      "0    13.036449\n",
      "1    10.700450\n",
      "2    10.510309\n",
      "3    12.185185\n",
      "4    10.000000\n",
      "5          inf\n",
      "Name: debt, dtype: float64\n"
     ]
    }
   ],
   "source": [
    "kidsData = creditScore.groupby('children')\n",
    "print(kidsData['debt'].describe())\n",
    "print(kidsData['debt'].count()/kidsData['debt'].sum())"
   ]
  },
  {
   "cell_type": "code",
   "execution_count": 12,
   "metadata": {},
   "outputs": [
    {
     "data": {
      "text/html": [
       "<div>\n",
       "<style scoped>\n",
       "    .dataframe tbody tr th:only-of-type {\n",
       "        vertical-align: middle;\n",
       "    }\n",
       "\n",
       "    .dataframe tbody tr th {\n",
       "        vertical-align: top;\n",
       "    }\n",
       "\n",
       "    .dataframe thead tr th {\n",
       "        text-align: left;\n",
       "    }\n",
       "\n",
       "    .dataframe thead tr:last-of-type th {\n",
       "        text-align: right;\n",
       "    }\n",
       "</style>\n",
       "<table border=\"1\" class=\"dataframe\">\n",
       "  <thead>\n",
       "    <tr>\n",
       "      <th></th>\n",
       "      <th>count</th>\n",
       "      <th>mean</th>\n",
       "    </tr>\n",
       "    <tr>\n",
       "      <th></th>\n",
       "      <th>debt</th>\n",
       "      <th>debt</th>\n",
       "    </tr>\n",
       "    <tr>\n",
       "      <th>children</th>\n",
       "      <th></th>\n",
       "      <th></th>\n",
       "    </tr>\n",
       "  </thead>\n",
       "  <tbody>\n",
       "    <tr>\n",
       "      <td>0</td>\n",
       "      <td>13949</td>\n",
       "      <td>0.076708</td>\n",
       "    </tr>\n",
       "    <tr>\n",
       "      <td>1</td>\n",
       "      <td>4751</td>\n",
       "      <td>0.093454</td>\n",
       "    </tr>\n",
       "    <tr>\n",
       "      <td>2</td>\n",
       "      <td>2039</td>\n",
       "      <td>0.095145</td>\n",
       "    </tr>\n",
       "    <tr>\n",
       "      <td>3</td>\n",
       "      <td>329</td>\n",
       "      <td>0.082067</td>\n",
       "    </tr>\n",
       "    <tr>\n",
       "      <td>4</td>\n",
       "      <td>40</td>\n",
       "      <td>0.100000</td>\n",
       "    </tr>\n",
       "    <tr>\n",
       "      <td>5</td>\n",
       "      <td>9</td>\n",
       "      <td>0.000000</td>\n",
       "    </tr>\n",
       "  </tbody>\n",
       "</table>\n",
       "</div>"
      ],
      "text/plain": [
       "          count      mean\n",
       "           debt      debt\n",
       "children                 \n",
       "0         13949  0.076708\n",
       "1          4751  0.093454\n",
       "2          2039  0.095145\n",
       "3           329  0.082067\n",
       "4            40  0.100000\n",
       "5             9  0.000000"
      ]
     },
     "execution_count": 12,
     "metadata": {},
     "output_type": "execute_result"
    }
   ],
   "source": [
    "creditScore.pivot_table(index = 'children',values = 'debt', aggfunc = ['count', 'mean'])"
   ]
  },
  {
   "cell_type": "markdown",
   "metadata": {},
   "source": [
    "I started by grouping the data by the 'children' column.\n",
    "There are 13949 rows with 0 children, 4751 rows with 1 child, 2039 rows with 2 children, 329 rows with 3 children, 40 rows with 4 children and 9 rows with 5 children.\n",
    "\n",
    "Looking at the 'debt' column within this data grouping, there are 1070 rows with debt and 0 children, 444 rows with debt and 1 child, 194 rows with debt and 2 children, 27 rows with debt and 3 children, 4 rows with debt and 4 children and 0 rows with debt and 5 children.\n",
    "\n",
    "Putting these two numbers together: 13.0% of rows with 0 children have debt, 10.7% of rows with 1 child have debt, 10.5% of rows with 2 children have debt, 12.1% of rows with 3 children have debt, 10% of with 4 children have debt and 0% of rows with 5 children have debt.\n",
    "\n",
    "From this data, we can conclude that there is a relation between having kids and paying debt on time. The rows with more children are more likely to repay their loans on time, with the exception of the rows with 3 children."
   ]
  },
  {
   "cell_type": "markdown",
   "metadata": {},
   "source": [
    "Is there a relation between marital status and repaying a loan on time?"
   ]
  },
  {
   "cell_type": "code",
   "execution_count": 13,
   "metadata": {},
   "outputs": [
    {
     "name": "stdout",
     "output_type": "stream",
     "text": [
      "                     count      mean       std  min  25%  50%  75%  max\n",
      "family_status                                                          \n",
      "civil partnership   4124.0  0.094083  0.291980  0.0  0.0  0.0  0.0  1.0\n",
      "divorced            1193.0  0.071249  0.257348  0.0  0.0  0.0  0.0  1.0\n",
      "married            12074.0  0.076942  0.266511  0.0  0.0  0.0  0.0  1.0\n",
      "unmarried           2784.0  0.098420  0.297935  0.0  0.0  0.0  0.0  1.0\n",
      "widow / widower      942.0  0.066879  0.249945  0.0  0.0  0.0  0.0  1.0\n",
      "family_status\n",
      "civil partnership    10.628866\n",
      "divorced             14.035294\n",
      "married              12.996771\n",
      "unmarried            10.160584\n",
      "widow / widower      14.952381\n",
      "Name: debt, dtype: float64\n"
     ]
    }
   ],
   "source": [
    "maritalData = creditScore.groupby('family_status')\n",
    "print(maritalData['debt'].describe())\n",
    "print(maritalData['debt'].count()/maritalData['debt'].sum())"
   ]
  },
  {
   "cell_type": "code",
   "execution_count": 14,
   "metadata": {},
   "outputs": [
    {
     "data": {
      "text/html": [
       "<div>\n",
       "<style scoped>\n",
       "    .dataframe tbody tr th:only-of-type {\n",
       "        vertical-align: middle;\n",
       "    }\n",
       "\n",
       "    .dataframe tbody tr th {\n",
       "        vertical-align: top;\n",
       "    }\n",
       "\n",
       "    .dataframe thead tr th {\n",
       "        text-align: left;\n",
       "    }\n",
       "\n",
       "    .dataframe thead tr:last-of-type th {\n",
       "        text-align: right;\n",
       "    }\n",
       "</style>\n",
       "<table border=\"1\" class=\"dataframe\">\n",
       "  <thead>\n",
       "    <tr>\n",
       "      <th></th>\n",
       "      <th>count</th>\n",
       "      <th>mean</th>\n",
       "    </tr>\n",
       "    <tr>\n",
       "      <th></th>\n",
       "      <th>debt</th>\n",
       "      <th>debt</th>\n",
       "    </tr>\n",
       "    <tr>\n",
       "      <th>family_status</th>\n",
       "      <th></th>\n",
       "      <th></th>\n",
       "    </tr>\n",
       "  </thead>\n",
       "  <tbody>\n",
       "    <tr>\n",
       "      <td>civil partnership</td>\n",
       "      <td>4124</td>\n",
       "      <td>0.094083</td>\n",
       "    </tr>\n",
       "    <tr>\n",
       "      <td>divorced</td>\n",
       "      <td>1193</td>\n",
       "      <td>0.071249</td>\n",
       "    </tr>\n",
       "    <tr>\n",
       "      <td>married</td>\n",
       "      <td>12074</td>\n",
       "      <td>0.076942</td>\n",
       "    </tr>\n",
       "    <tr>\n",
       "      <td>unmarried</td>\n",
       "      <td>2784</td>\n",
       "      <td>0.098420</td>\n",
       "    </tr>\n",
       "    <tr>\n",
       "      <td>widow / widower</td>\n",
       "      <td>942</td>\n",
       "      <td>0.066879</td>\n",
       "    </tr>\n",
       "  </tbody>\n",
       "</table>\n",
       "</div>"
      ],
      "text/plain": [
       "                   count      mean\n",
       "                    debt      debt\n",
       "family_status                     \n",
       "civil partnership   4124  0.094083\n",
       "divorced            1193  0.071249\n",
       "married            12074  0.076942\n",
       "unmarried           2784  0.098420\n",
       "widow / widower      942  0.066879"
      ]
     },
     "execution_count": 14,
     "metadata": {},
     "output_type": "execute_result"
    }
   ],
   "source": [
    "creditScore.pivot_table(index = 'family_status',values = 'debt', aggfunc = ['count', 'mean'])"
   ]
  },
  {
   "cell_type": "markdown",
   "metadata": {},
   "source": [
    "I started by grouping the data by the 'family_status' column.\n",
    "\n",
    "Looking at the data: 388/4124 = 14.9% of those who are widows have debt, 14.0% of those who are divorced have debt, 13% of those who are married have debt,10.6% of those in a civil partnership have debt, 10.1% of those who are unmarried have debt.\n",
    "\n",
    "From this data, we can conclude that there is a relation between martial status and repaying the debt on time. Those who either have been married (widows, divorced) or are married are more likely to have debt than those who are unmarried (either single or in a civil partnership).\n"
   ]
  },
  {
   "cell_type": "markdown",
   "metadata": {},
   "source": [
    "Is there a relation between income level and repaying a loan on time?"
   ]
  },
  {
   "cell_type": "code",
   "execution_count": 15,
   "metadata": {},
   "outputs": [
    {
     "name": "stdout",
     "output_type": "stream",
     "text": [
      "                               count      mean       std  min   25%  50%  \\\n",
      "income_type                                                                \n",
      "business                      5032.0  0.074722  0.262968  0.0  0.00  0.0   \n",
      "civil servant                 1450.0  0.059310  0.236286  0.0  0.00  0.0   \n",
      "employee                     10899.0  0.097165  0.296196  0.0  0.00  0.0   \n",
      "entrepreneur                     2.0  0.000000  0.000000  0.0  0.00  0.0   \n",
      "paternity / maternity leave      1.0  1.000000       NaN  1.0  1.00  1.0   \n",
      "retiree                       3730.0  0.057909  0.233602  0.0  0.00  0.0   \n",
      "student                          1.0  0.000000       NaN  0.0  0.00  0.0   \n",
      "unemployed                       2.0  0.500000  0.707107  0.0  0.25  0.5   \n",
      "\n",
      "                              75%  max  \n",
      "income_type                             \n",
      "business                     0.00  1.0  \n",
      "civil servant                0.00  1.0  \n",
      "employee                     0.00  1.0  \n",
      "entrepreneur                 0.00  0.0  \n",
      "paternity / maternity leave  1.00  1.0  \n",
      "retiree                      0.00  1.0  \n",
      "student                      0.00  0.0  \n",
      "unemployed                   0.75  1.0  \n",
      "income_type\n",
      "business                       13.382979\n",
      "civil servant                  16.860465\n",
      "employee                       10.291785\n",
      "entrepreneur                         inf\n",
      "paternity / maternity leave     1.000000\n",
      "retiree                        17.268519\n",
      "student                              inf\n",
      "unemployed                      2.000000\n",
      "Name: debt, dtype: float64\n"
     ]
    }
   ],
   "source": [
    "incomeData = creditScore.groupby('income_type')\n",
    "print(incomeData['debt'].describe())\n",
    "print(incomeData['debt'].count()/incomeData['debt'].sum())"
   ]
  },
  {
   "cell_type": "code",
   "execution_count": 16,
   "metadata": {},
   "outputs": [
    {
     "data": {
      "text/html": [
       "<div>\n",
       "<style scoped>\n",
       "    .dataframe tbody tr th:only-of-type {\n",
       "        vertical-align: middle;\n",
       "    }\n",
       "\n",
       "    .dataframe tbody tr th {\n",
       "        vertical-align: top;\n",
       "    }\n",
       "\n",
       "    .dataframe thead tr th {\n",
       "        text-align: left;\n",
       "    }\n",
       "\n",
       "    .dataframe thead tr:last-of-type th {\n",
       "        text-align: right;\n",
       "    }\n",
       "</style>\n",
       "<table border=\"1\" class=\"dataframe\">\n",
       "  <thead>\n",
       "    <tr>\n",
       "      <th></th>\n",
       "      <th>count</th>\n",
       "      <th>mean</th>\n",
       "    </tr>\n",
       "    <tr>\n",
       "      <th></th>\n",
       "      <th>debt</th>\n",
       "      <th>debt</th>\n",
       "    </tr>\n",
       "    <tr>\n",
       "      <th>income_type</th>\n",
       "      <th></th>\n",
       "      <th></th>\n",
       "    </tr>\n",
       "  </thead>\n",
       "  <tbody>\n",
       "    <tr>\n",
       "      <td>business</td>\n",
       "      <td>5032</td>\n",
       "      <td>0.074722</td>\n",
       "    </tr>\n",
       "    <tr>\n",
       "      <td>civil servant</td>\n",
       "      <td>1450</td>\n",
       "      <td>0.059310</td>\n",
       "    </tr>\n",
       "    <tr>\n",
       "      <td>employee</td>\n",
       "      <td>10899</td>\n",
       "      <td>0.097165</td>\n",
       "    </tr>\n",
       "    <tr>\n",
       "      <td>entrepreneur</td>\n",
       "      <td>2</td>\n",
       "      <td>0.000000</td>\n",
       "    </tr>\n",
       "    <tr>\n",
       "      <td>paternity / maternity leave</td>\n",
       "      <td>1</td>\n",
       "      <td>1.000000</td>\n",
       "    </tr>\n",
       "    <tr>\n",
       "      <td>retiree</td>\n",
       "      <td>3730</td>\n",
       "      <td>0.057909</td>\n",
       "    </tr>\n",
       "    <tr>\n",
       "      <td>student</td>\n",
       "      <td>1</td>\n",
       "      <td>0.000000</td>\n",
       "    </tr>\n",
       "    <tr>\n",
       "      <td>unemployed</td>\n",
       "      <td>2</td>\n",
       "      <td>0.500000</td>\n",
       "    </tr>\n",
       "  </tbody>\n",
       "</table>\n",
       "</div>"
      ],
      "text/plain": [
       "                             count      mean\n",
       "                              debt      debt\n",
       "income_type                                 \n",
       "business                      5032  0.074722\n",
       "civil servant                 1450  0.059310\n",
       "employee                     10899  0.097165\n",
       "entrepreneur                     2  0.000000\n",
       "paternity / maternity leave      1  1.000000\n",
       "retiree                       3730  0.057909\n",
       "student                          1  0.000000\n",
       "unemployed                       2  0.500000"
      ]
     },
     "execution_count": 16,
     "metadata": {},
     "output_type": "execute_result"
    }
   ],
   "source": [
    "creditScore.pivot_table(index = 'income_type',values = 'debt', aggfunc = ['count', 'mean'])"
   ]
  },
  {
   "cell_type": "markdown",
   "metadata": {},
   "source": [
    "I started by grouping the data by the 'income_type' column.\n",
    "\n",
    "Looking at the data: 376/5032 = 13.3% of those who own a business have debt, 86/1450 = 16.8% of those who are civil servants have debt, 1059/10899 = 10.3% of those who are employees have debt, neither of the two entrepreneurs in the data have debt, the 1 row on paternity/maternity leave have debt, 216/3730 = 17.2% of retirees have debt, the 1 student in the data does not have debt, and only 1 of the 2 unemployed in the data have debt.\n",
    "\n",
    "From this data, we can conclude that there is a relation income level and repaying the loan on time. Those who either were employed (retired) or are employed by an external entity (business, civil servent, employee) have high percentage of debt than those who are either self employed (entrepreneur), on paternity / maternity leave, a student or unemployed."
   ]
  },
  {
   "cell_type": "markdown",
   "metadata": {},
   "source": [
    "How do different loan purposes affect on-time repayment of the loan?"
   ]
  },
  {
   "cell_type": "code",
   "execution_count": 17,
   "metadata": {},
   "outputs": [
    {
     "name": "stdout",
     "output_type": "stream",
     "text": [
      "               count      mean       std  min  25%  50%  75%  max\n",
      "purpose                                                          \n",
      "car           4271.0  0.094123  0.292034  0.0  0.0  0.0  0.0  1.0\n",
      "education     3964.0  0.093340  0.290945  0.0  0.0  0.0  0.0  1.0\n",
      "real estate  10576.0  0.073846  0.261533  0.0  0.0  0.0  0.0  1.0\n",
      "wedding       2306.0  0.080659  0.272370  0.0  0.0  0.0  0.0  1.0\n",
      "purpose\n",
      "car            10.624378\n",
      "education      10.713514\n",
      "real estate    13.541613\n",
      "wedding        12.397849\n",
      "Name: debt, dtype: float64\n"
     ]
    }
   ],
   "source": [
    "purposeData = creditScore.groupby('purpose')\n",
    "print(purposeData['debt'].describe())\n",
    "print(purposeData['debt'].count()/purposeData['debt'].sum())"
   ]
  },
  {
   "cell_type": "code",
   "execution_count": 18,
   "metadata": {},
   "outputs": [
    {
     "data": {
      "text/html": [
       "<div>\n",
       "<style scoped>\n",
       "    .dataframe tbody tr th:only-of-type {\n",
       "        vertical-align: middle;\n",
       "    }\n",
       "\n",
       "    .dataframe tbody tr th {\n",
       "        vertical-align: top;\n",
       "    }\n",
       "\n",
       "    .dataframe thead tr th {\n",
       "        text-align: left;\n",
       "    }\n",
       "\n",
       "    .dataframe thead tr:last-of-type th {\n",
       "        text-align: right;\n",
       "    }\n",
       "</style>\n",
       "<table border=\"1\" class=\"dataframe\">\n",
       "  <thead>\n",
       "    <tr>\n",
       "      <th></th>\n",
       "      <th>count</th>\n",
       "      <th>mean</th>\n",
       "    </tr>\n",
       "    <tr>\n",
       "      <th></th>\n",
       "      <th>debt</th>\n",
       "      <th>debt</th>\n",
       "    </tr>\n",
       "    <tr>\n",
       "      <th>purpose</th>\n",
       "      <th></th>\n",
       "      <th></th>\n",
       "    </tr>\n",
       "  </thead>\n",
       "  <tbody>\n",
       "    <tr>\n",
       "      <td>car</td>\n",
       "      <td>4271</td>\n",
       "      <td>0.094123</td>\n",
       "    </tr>\n",
       "    <tr>\n",
       "      <td>education</td>\n",
       "      <td>3964</td>\n",
       "      <td>0.093340</td>\n",
       "    </tr>\n",
       "    <tr>\n",
       "      <td>real estate</td>\n",
       "      <td>10576</td>\n",
       "      <td>0.073846</td>\n",
       "    </tr>\n",
       "    <tr>\n",
       "      <td>wedding</td>\n",
       "      <td>2306</td>\n",
       "      <td>0.080659</td>\n",
       "    </tr>\n",
       "  </tbody>\n",
       "</table>\n",
       "</div>"
      ],
      "text/plain": [
       "             count      mean\n",
       "              debt      debt\n",
       "purpose                     \n",
       "car           4271  0.094123\n",
       "education     3964  0.093340\n",
       "real estate  10576  0.073846\n",
       "wedding       2306  0.080659"
      ]
     },
     "execution_count": 18,
     "metadata": {},
     "output_type": "execute_result"
    }
   ],
   "source": [
    "creditScore.pivot_table(index = 'purpose',values = 'debt', aggfunc = ['count', 'mean'])"
   ]
  },
  {
   "cell_type": "markdown",
   "metadata": {},
   "source": [
    "I started by grouping the data by the 'purpose' column.\n",
    "\n",
    "Looking at the data: 781/10576 = 13.5% of those with debt took it out for real estate purpoes, 186/2306 = 12.4% of those with debt took it out for wedding purposes, 370/3964 = 10.7% of those with debt took it out for education purposes and 402/4271 = 10.6% of those with debt took it out for car purchase purposes.\n",
    "\n",
    "From this data, we can conclude that most people take out loans for real estate purposes (50% of people who took out debt took it out for real estate purposes). As a result, the number of those who have debt and took out that debt for real estate purposes is going to be the highest. Those who took out loans for real estate or wedding purposes are less likely to repay their loans on time than those who took out loans for car or education purposes.\n"
   ]
  },
  {
   "cell_type": "markdown",
   "metadata": {},
   "source": [
    "# Part 4. General Conclusion"
   ]
  },
  {
   "cell_type": "markdown",
   "metadata": {},
   "source": [
    "From this data, we can conclude that there is a relation income level and repaying the loan on time. Those who either were employed (retired) or are employed by an external entity (business, civil servent, employee) have high percentage of debt than those who are either self employed (entrepreneur), on paternity / maternity leave, a student or unemployed.\n",
    "\n",
    "In conclusion:\n",
    "\n",
    "-Those who have children are generally more likely to repay their loans on time, compared to those who do not have children. Those who have been married or are currently maried are generally more likely to have debt than those who have never been married or are not married.\n",
    "\n",
    "-Most people take out loans for real estate purposes. Those who take out loans for real estate or wedding purposes are less likely to repay their loans on time.\n",
    "\n",
    "-Those who either were employed (retired) or are currently employed by an external entity (business, civil servant,employee) are more likely to have debt than those who are either self-employed (entrepreneur), on paternity / maternity leave, a student or unemployed."
   ]
  }
 ],
 "metadata": {
  "kernelspec": {
   "display_name": "Python 3",
   "language": "python",
   "name": "python3"
  },
  "language_info": {
   "codemirror_mode": {
    "name": "ipython",
    "version": 3
   },
   "file_extension": ".py",
   "mimetype": "text/x-python",
   "name": "python",
   "nbconvert_exporter": "python",
   "pygments_lexer": "ipython3",
   "version": "3.7.6"
  },
  "toc": {
   "base_numbering": 1,
   "nav_menu": {},
   "number_sections": true,
   "sideBar": true,
   "skip_h1_title": true,
   "title_cell": "Table of Contents",
   "title_sidebar": "Contents",
   "toc_cell": false,
   "toc_position": {},
   "toc_section_display": true,
   "toc_window_display": false
  }
 },
 "nbformat": 4,
 "nbformat_minor": 4
}
