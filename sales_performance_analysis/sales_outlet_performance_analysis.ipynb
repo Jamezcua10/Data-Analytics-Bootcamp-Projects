{
 "cells": [
  {
   "cell_type": "markdown",
   "metadata": {},
   "source": [
    "# Report on sales outlets' performance assessment\n"
   ]
  },
  {
   "cell_type": "markdown",
   "metadata": {},
   "source": [
    "# Author: James Amezcua\n"
   ]
  },
  {
   "cell_type": "markdown",
   "metadata": {},
   "source": [
    "# Project introduction :\n"
   ]
  },
  {
   "cell_type": "markdown",
   "metadata": {},
   "source": [
    "\n",
    "The goal of this analysis is to assess the sales performance of the building-material retailer Home World. The results of the analysis will inform the marketing department of outlet performace and provide insights into what could possibly be done to improve their sales.\n",
    "\n",
    "The data includes two datasets. The retail dataset contains purchase information including purchase_id, date, item, quantity, customer_id, shop_id, and whether the customer is a member of the loyalty program. The product codes dataset contains information on unit price for each product.\n",
    "\n",
    "In what follows, we will first import and prepare the data.\n",
    "\n",
    "Then we will preprocess the data by doing the following:\n",
    "- study missing values\n",
    "\n",
    "- type correspondnce\n",
    "\n",
    "- search for duplicate values\n",
    "\n",
    "- if necessary, remove duplicates, rename columns, convert types\n",
    "\n",
    "Then an exploratory analysis will be carried out to examine:\n",
    "- the distribution of purchase quantities\n",
    "\n",
    "- the distribution of purchase values\n",
    "\n",
    "- quantities and purchase values over time\n",
    "\n",
    "- difference in the purchase quantities and values among stores\n",
    "\n",
    "- popular items\n",
    "\n",
    "- proportion of loyalty customers overall and by store\n",
    "\n",
    "- difference between loyalty program and none loyalty program customer purchases\n",
    "\n",
    "- is there a correlation between proportion of store's loyalty program cutomer purchases and its sales performance?\n",
    "\n",
    "Then a hypothesis testing will be performed to test:\n",
    "- the mean purchase quantities between loyalty program and non loyalty program customers. Our null hypothesis is that customers from loyalty programs have the same average purchase quantities as those who are not from loyalty programs. The alternative hypothesis is that they are different.\n",
    "\n",
    "- the mean purchase values between loyalty program and non loyalty program customers. Our null hypothesis is that customers from loyalty programs have the same average purchase values as those who are not from loyalty programs. The alternative hypothesis is that they are different.\n",
    "\n",
    "Drawing on the analysis, suggestions will be made to the company in order to improve its performance."
   ]
  },
  {
   "cell_type": "markdown",
   "metadata": {},
   "source": [
    "PDF presentation link : https://drive.google.com/file/d/1ODeP5sYN2-s0b9NfpW0q3FlJBpx_ZUvG/view?usp=sharing\n",
    "\n",
    "Tableau dashboard link : https://public.tableau.com/app/profile/james.amezcua/viz/Reportonhomeworldstoresperformance_16439872266850/Dailypurchase?publish=yes"
   ]
  },
  {
   "cell_type": "markdown",
   "metadata": {},
   "source": [
    "# Table of content"
   ]
  },
  {
   "cell_type": "markdown",
   "metadata": {},
   "source": [
    "Part 1: Data importing\n",
    "\n",
    "Part 2: Data preprocessing\n",
    "\n",
    "Part 3: Exploratory data analysis\n",
    "\n",
    "Part 4: Hypothesis testing\n",
    "\n",
    "Part 5: Findings and conclusions"
   ]
  },
  {
   "cell_type": "code",
   "execution_count": 2,
   "metadata": {},
   "outputs": [
    {
     "name": "stderr",
     "output_type": "stream",
     "text": [
      "/opt/conda/lib/python3.7/site-packages/statsmodels/tools/_testing.py:19: FutureWarning: pandas.util.testing is deprecated. Use the functions in the public API at pandas.testing instead.\n",
      "  import pandas.util.testing as tm\n"
     ]
    }
   ],
   "source": [
    "#import the libraries needed\n",
    "import pandas as pd\n",
    "import numpy as np\n",
    "import math\n",
    "from matplotlib import pyplot as plt\n",
    "from scipy import stats as st\n",
    "from IPython.display import display\n",
    "import seaborn as sns\n",
    "from matplotlib import pyplot as plt\n",
    "%matplotlib inline\n",
    "from scipy import stats as st\n",
    "import plotly.graph_objects as go\n",
    "plt.rcParams.update({'figure.figsize':(7,5), 'figure.dpi':100})\n",
    "import warnings\n",
    "warnings.filterwarnings(\"ignore\")"
   ]
  },
  {
   "cell_type": "markdown",
   "metadata": {},
   "source": [
    "# Part 1: Data importing"
   ]
  },
  {
   "cell_type": "markdown",
   "metadata": {},
   "source": [
    "# Data importing"
   ]
  },
  {
   "cell_type": "code",
   "execution_count": 3,
   "metadata": {},
   "outputs": [],
   "source": [
    "#check the first 50 rows for data types\n",
    "data_df = pd.read_csv('https://code.s3.yandex.net/datasets/retail_dataset_us.csv', nrows = 50)\n",
    "codes_df = pd.read_csv('https://code.s3.yandex.net/datasets/product_codes_us.csv', sep= ';', nrows=50)"
   ]
  },
  {
   "cell_type": "code",
   "execution_count": 4,
   "metadata": {},
   "outputs": [
    {
     "data": {
      "text/html": [
       "<div>\n",
       "<style scoped>\n",
       "    .dataframe tbody tr th:only-of-type {\n",
       "        vertical-align: middle;\n",
       "    }\n",
       "\n",
       "    .dataframe tbody tr th {\n",
       "        vertical-align: top;\n",
       "    }\n",
       "\n",
       "    .dataframe thead th {\n",
       "        text-align: right;\n",
       "    }\n",
       "</style>\n",
       "<table border=\"1\" class=\"dataframe\">\n",
       "  <thead>\n",
       "    <tr style=\"text-align: right;\">\n",
       "      <th></th>\n",
       "      <th>purchaseid</th>\n",
       "      <th>item_ID</th>\n",
       "      <th>Quantity</th>\n",
       "      <th>purchasedate</th>\n",
       "      <th>CustomerID</th>\n",
       "      <th>loyalty_program</th>\n",
       "      <th>ShopID</th>\n",
       "    </tr>\n",
       "  </thead>\n",
       "  <tbody>\n",
       "    <tr>\n",
       "      <th>0</th>\n",
       "      <td>538280</td>\n",
       "      <td>21873</td>\n",
       "      <td>11</td>\n",
       "      <td>2016-12-10 12:50:00</td>\n",
       "      <td>18427.0</td>\n",
       "      <td>0</td>\n",
       "      <td>Shop 3</td>\n",
       "    </tr>\n",
       "    <tr>\n",
       "      <th>1</th>\n",
       "      <td>538862</td>\n",
       "      <td>22195</td>\n",
       "      <td>0</td>\n",
       "      <td>2016-12-14 14:11:00</td>\n",
       "      <td>22389.0</td>\n",
       "      <td>1</td>\n",
       "      <td>Shop 2</td>\n",
       "    </tr>\n",
       "    <tr>\n",
       "      <th>2</th>\n",
       "      <td>538855</td>\n",
       "      <td>21239</td>\n",
       "      <td>7</td>\n",
       "      <td>2016-12-14 13:50:00</td>\n",
       "      <td>22182.0</td>\n",
       "      <td>1</td>\n",
       "      <td>Shop 3</td>\n",
       "    </tr>\n",
       "    <tr>\n",
       "      <th>3</th>\n",
       "      <td>543543</td>\n",
       "      <td>22271</td>\n",
       "      <td>0</td>\n",
       "      <td>2017-02-09 15:33:00</td>\n",
       "      <td>23522.0</td>\n",
       "      <td>1</td>\n",
       "      <td>Shop 28</td>\n",
       "    </tr>\n",
       "    <tr>\n",
       "      <th>4</th>\n",
       "      <td>543812</td>\n",
       "      <td>79321</td>\n",
       "      <td>0</td>\n",
       "      <td>2017-02-13 14:40:00</td>\n",
       "      <td>23151.0</td>\n",
       "      <td>1</td>\n",
       "      <td>Shop 28</td>\n",
       "    </tr>\n",
       "  </tbody>\n",
       "</table>\n",
       "</div>"
      ],
      "text/plain": [
       "   purchaseid item_ID  Quantity         purchasedate  CustomerID  \\\n",
       "0      538280   21873        11  2016-12-10 12:50:00     18427.0   \n",
       "1      538862   22195         0  2016-12-14 14:11:00     22389.0   \n",
       "2      538855   21239         7  2016-12-14 13:50:00     22182.0   \n",
       "3      543543   22271         0  2017-02-09 15:33:00     23522.0   \n",
       "4      543812   79321         0  2017-02-13 14:40:00     23151.0   \n",
       "\n",
       "   loyalty_program   ShopID  \n",
       "0                0   Shop 3  \n",
       "1                1   Shop 2  \n",
       "2                1   Shop 3  \n",
       "3                1  Shop 28  \n",
       "4                1  Shop 28  "
      ]
     },
     "execution_count": 4,
     "metadata": {},
     "output_type": "execute_result"
    }
   ],
   "source": [
    "data_df.head()"
   ]
  },
  {
   "cell_type": "code",
   "execution_count": 5,
   "metadata": {},
   "outputs": [
    {
     "name": "stdout",
     "output_type": "stream",
     "text": [
      "<class 'pandas.core.frame.DataFrame'>\n",
      "RangeIndex: 50 entries, 0 to 49\n",
      "Data columns (total 7 columns):\n",
      " #   Column           Non-Null Count  Dtype  \n",
      "---  ------           --------------  -----  \n",
      " 0   purchaseid       50 non-null     int64  \n",
      " 1   item_ID          50 non-null     object \n",
      " 2   Quantity         50 non-null     int64  \n",
      " 3   purchasedate     50 non-null     object \n",
      " 4   CustomerID       36 non-null     float64\n",
      " 5   loyalty_program  50 non-null     int64  \n",
      " 6   ShopID           50 non-null     object \n",
      "dtypes: float64(1), int64(3), object(3)\n",
      "memory usage: 2.9+ KB\n"
     ]
    }
   ],
   "source": [
    "data_df.info()"
   ]
  },
  {
   "cell_type": "markdown",
   "metadata": {},
   "source": [
    "It looks like at least purchasedate should be of datetime datatype. item_ID most likely should be int type too but we can not be sure it doesn't contain letters. So we can leave it as it is.\n",
    "\n",
    "We will also change the column names to lower case and with underscore between words when importing the data.\n",
    "]\n"
   ]
  },
  {
   "cell_type": "code",
   "execution_count": 6,
   "metadata": {},
   "outputs": [
    {
     "data": {
      "text/html": [
       "<div>\n",
       "<style scoped>\n",
       "    .dataframe tbody tr th:only-of-type {\n",
       "        vertical-align: middle;\n",
       "    }\n",
       "\n",
       "    .dataframe tbody tr th {\n",
       "        vertical-align: top;\n",
       "    }\n",
       "\n",
       "    .dataframe thead th {\n",
       "        text-align: right;\n",
       "    }\n",
       "</style>\n",
       "<table border=\"1\" class=\"dataframe\">\n",
       "  <thead>\n",
       "    <tr style=\"text-align: right;\">\n",
       "      <th></th>\n",
       "      <th>productID</th>\n",
       "      <th>price_per_one</th>\n",
       "    </tr>\n",
       "  </thead>\n",
       "  <tbody>\n",
       "    <tr>\n",
       "      <th>0</th>\n",
       "      <td>10002</td>\n",
       "      <td>0.85</td>\n",
       "    </tr>\n",
       "    <tr>\n",
       "      <th>1</th>\n",
       "      <td>10080</td>\n",
       "      <td>0.85</td>\n",
       "    </tr>\n",
       "    <tr>\n",
       "      <th>2</th>\n",
       "      <td>10120</td>\n",
       "      <td>0.21</td>\n",
       "    </tr>\n",
       "    <tr>\n",
       "      <th>3</th>\n",
       "      <td>10123C</td>\n",
       "      <td>0.65</td>\n",
       "    </tr>\n",
       "    <tr>\n",
       "      <th>4</th>\n",
       "      <td>10124A</td>\n",
       "      <td>0.42</td>\n",
       "    </tr>\n",
       "  </tbody>\n",
       "</table>\n",
       "</div>"
      ],
      "text/plain": [
       "  productID  price_per_one\n",
       "0     10002           0.85\n",
       "1     10080           0.85\n",
       "2     10120           0.21\n",
       "3    10123C           0.65\n",
       "4    10124A           0.42"
      ]
     },
     "execution_count": 6,
     "metadata": {},
     "output_type": "execute_result"
    }
   ],
   "source": [
    "codes_df.head()"
   ]
  },
  {
   "cell_type": "code",
   "execution_count": 7,
   "metadata": {},
   "outputs": [
    {
     "name": "stdout",
     "output_type": "stream",
     "text": [
      "<class 'pandas.core.frame.DataFrame'>\n",
      "RangeIndex: 50 entries, 0 to 49\n",
      "Data columns (total 2 columns):\n",
      " #   Column         Non-Null Count  Dtype  \n",
      "---  ------         --------------  -----  \n",
      " 0   productID      50 non-null     object \n",
      " 1   price_per_one  50 non-null     float64\n",
      "dtypes: float64(1), object(1)\n",
      "memory usage: 928.0+ bytes\n"
     ]
    }
   ],
   "source": [
    "codes_df.info()"
   ]
  },
  {
   "cell_type": "markdown",
   "metadata": {},
   "source": [
    "The codes data looks alright. We will leave the datatypes as they are and just change the names when importing data."
   ]
  },
  {
   "cell_type": "code",
   "execution_count": 8,
   "metadata": {},
   "outputs": [],
   "source": [
    "data_names = ['purchase_id', 'item_id', 'quantity', 'purchase_date', 'customer_id',\n",
    "       'loyalty_program', 'shop_id']\n",
    "codes_names = ['purchase_id', 'unit_price']"
   ]
  },
  {
   "cell_type": "code",
   "execution_count": 9,
   "metadata": {},
   "outputs": [],
   "source": [
    "data = pd.read_csv('https://code.s3.yandex.net/datasets/retail_dataset_us.csv',\n",
    "                  names = data_names,\n",
    "                  parse_dates = ['purchase_date'],\n",
    "                  header = 0)\n",
    "codes = pd.read_csv('https://code.s3.yandex.net/datasets/product_codes_us.csv', \n",
    "                    sep= ';',\n",
    "                   names = codes_names,\n",
    "                   header=0)"
   ]
  },
  {
   "cell_type": "code",
   "execution_count": 10,
   "metadata": {},
   "outputs": [
    {
     "data": {
      "text/html": [
       "<div>\n",
       "<style scoped>\n",
       "    .dataframe tbody tr th:only-of-type {\n",
       "        vertical-align: middle;\n",
       "    }\n",
       "\n",
       "    .dataframe tbody tr th {\n",
       "        vertical-align: top;\n",
       "    }\n",
       "\n",
       "    .dataframe thead th {\n",
       "        text-align: right;\n",
       "    }\n",
       "</style>\n",
       "<table border=\"1\" class=\"dataframe\">\n",
       "  <thead>\n",
       "    <tr style=\"text-align: right;\">\n",
       "      <th></th>\n",
       "      <th>purchase_id</th>\n",
       "      <th>item_id</th>\n",
       "      <th>quantity</th>\n",
       "      <th>purchase_date</th>\n",
       "      <th>customer_id</th>\n",
       "      <th>loyalty_program</th>\n",
       "      <th>shop_id</th>\n",
       "    </tr>\n",
       "  </thead>\n",
       "  <tbody>\n",
       "    <tr>\n",
       "      <th>0</th>\n",
       "      <td>538280</td>\n",
       "      <td>21873</td>\n",
       "      <td>11</td>\n",
       "      <td>2016-12-10 12:50:00</td>\n",
       "      <td>18427.0</td>\n",
       "      <td>0</td>\n",
       "      <td>Shop 3</td>\n",
       "    </tr>\n",
       "    <tr>\n",
       "      <th>1</th>\n",
       "      <td>538862</td>\n",
       "      <td>22195</td>\n",
       "      <td>0</td>\n",
       "      <td>2016-12-14 14:11:00</td>\n",
       "      <td>22389.0</td>\n",
       "      <td>1</td>\n",
       "      <td>Shop 2</td>\n",
       "    </tr>\n",
       "    <tr>\n",
       "      <th>2</th>\n",
       "      <td>538855</td>\n",
       "      <td>21239</td>\n",
       "      <td>7</td>\n",
       "      <td>2016-12-14 13:50:00</td>\n",
       "      <td>22182.0</td>\n",
       "      <td>1</td>\n",
       "      <td>Shop 3</td>\n",
       "    </tr>\n",
       "    <tr>\n",
       "      <th>3</th>\n",
       "      <td>543543</td>\n",
       "      <td>22271</td>\n",
       "      <td>0</td>\n",
       "      <td>2017-02-09 15:33:00</td>\n",
       "      <td>23522.0</td>\n",
       "      <td>1</td>\n",
       "      <td>Shop 28</td>\n",
       "    </tr>\n",
       "    <tr>\n",
       "      <th>4</th>\n",
       "      <td>543812</td>\n",
       "      <td>79321</td>\n",
       "      <td>0</td>\n",
       "      <td>2017-02-13 14:40:00</td>\n",
       "      <td>23151.0</td>\n",
       "      <td>1</td>\n",
       "      <td>Shop 28</td>\n",
       "    </tr>\n",
       "  </tbody>\n",
       "</table>\n",
       "</div>"
      ],
      "text/plain": [
       "  purchase_id item_id  quantity       purchase_date  customer_id  \\\n",
       "0      538280   21873        11 2016-12-10 12:50:00      18427.0   \n",
       "1      538862   22195         0 2016-12-14 14:11:00      22389.0   \n",
       "2      538855   21239         7 2016-12-14 13:50:00      22182.0   \n",
       "3      543543   22271         0 2017-02-09 15:33:00      23522.0   \n",
       "4      543812   79321         0 2017-02-13 14:40:00      23151.0   \n",
       "\n",
       "   loyalty_program  shop_id  \n",
       "0                0   Shop 3  \n",
       "1                1   Shop 2  \n",
       "2                1   Shop 3  \n",
       "3                1  Shop 28  \n",
       "4                1  Shop 28  "
      ]
     },
     "execution_count": 10,
     "metadata": {},
     "output_type": "execute_result"
    }
   ],
   "source": [
    "#check data \n",
    "data.head()"
   ]
  },
  {
   "cell_type": "code",
   "execution_count": 11,
   "metadata": {},
   "outputs": [
    {
     "name": "stdout",
     "output_type": "stream",
     "text": [
      "<class 'pandas.core.frame.DataFrame'>\n",
      "RangeIndex: 105335 entries, 0 to 105334\n",
      "Data columns (total 7 columns):\n",
      " #   Column           Non-Null Count   Dtype         \n",
      "---  ------           --------------   -----         \n",
      " 0   purchase_id      105335 non-null  object        \n",
      " 1   item_id          105335 non-null  object        \n",
      " 2   quantity         105335 non-null  int64         \n",
      " 3   purchase_date    105335 non-null  datetime64[ns]\n",
      " 4   customer_id      69125 non-null   float64       \n",
      " 5   loyalty_program  105335 non-null  int64         \n",
      " 6   shop_id          105335 non-null  object        \n",
      "dtypes: datetime64[ns](1), float64(1), int64(2), object(3)\n",
      "memory usage: 5.6+ MB\n"
     ]
    }
   ],
   "source": [
    "data.info()"
   ]
  },
  {
   "cell_type": "code",
   "execution_count": 12,
   "metadata": {},
   "outputs": [
    {
     "data": {
      "text/html": [
       "<div>\n",
       "<style scoped>\n",
       "    .dataframe tbody tr th:only-of-type {\n",
       "        vertical-align: middle;\n",
       "    }\n",
       "\n",
       "    .dataframe tbody tr th {\n",
       "        vertical-align: top;\n",
       "    }\n",
       "\n",
       "    .dataframe thead th {\n",
       "        text-align: right;\n",
       "    }\n",
       "</style>\n",
       "<table border=\"1\" class=\"dataframe\">\n",
       "  <thead>\n",
       "    <tr style=\"text-align: right;\">\n",
       "      <th></th>\n",
       "      <th>purchase_id</th>\n",
       "      <th>unit_price</th>\n",
       "    </tr>\n",
       "  </thead>\n",
       "  <tbody>\n",
       "    <tr>\n",
       "      <th>0</th>\n",
       "      <td>10002</td>\n",
       "      <td>0.85</td>\n",
       "    </tr>\n",
       "    <tr>\n",
       "      <th>1</th>\n",
       "      <td>10080</td>\n",
       "      <td>0.85</td>\n",
       "    </tr>\n",
       "    <tr>\n",
       "      <th>2</th>\n",
       "      <td>10120</td>\n",
       "      <td>0.21</td>\n",
       "    </tr>\n",
       "    <tr>\n",
       "      <th>3</th>\n",
       "      <td>10123C</td>\n",
       "      <td>0.65</td>\n",
       "    </tr>\n",
       "    <tr>\n",
       "      <th>4</th>\n",
       "      <td>10124A</td>\n",
       "      <td>0.42</td>\n",
       "    </tr>\n",
       "  </tbody>\n",
       "</table>\n",
       "</div>"
      ],
      "text/plain": [
       "  purchase_id  unit_price\n",
       "0       10002        0.85\n",
       "1       10080        0.85\n",
       "2       10120        0.21\n",
       "3      10123C        0.65\n",
       "4      10124A        0.42"
      ]
     },
     "execution_count": 12,
     "metadata": {},
     "output_type": "execute_result"
    }
   ],
   "source": [
    "codes.head()"
   ]
  },
  {
   "cell_type": "code",
   "execution_count": 13,
   "metadata": {},
   "outputs": [
    {
     "name": "stdout",
     "output_type": "stream",
     "text": [
      "<class 'pandas.core.frame.DataFrame'>\n",
      "RangeIndex: 3159 entries, 0 to 3158\n",
      "Data columns (total 2 columns):\n",
      " #   Column       Non-Null Count  Dtype  \n",
      "---  ------       --------------  -----  \n",
      " 0   purchase_id  3159 non-null   object \n",
      " 1   unit_price   3159 non-null   float64\n",
      "dtypes: float64(1), object(1)\n",
      "memory usage: 49.5+ KB\n"
     ]
    }
   ],
   "source": [
    "codes.info()"
   ]
  },
  {
   "cell_type": "markdown",
   "metadata": {},
   "source": [
    "It's interesting to see that purchase_id in the purchase information dataset has become 'oebject'. This indicates that the values are not all digits now in this column."
   ]
  },
  {
   "cell_type": "markdown",
   "metadata": {},
   "source": [
    "# Data checking"
   ]
  },
  {
   "cell_type": "code",
   "execution_count": 14,
   "metadata": {},
   "outputs": [
    {
     "name": "stdout",
     "output_type": "stream",
     "text": [
      "purchase_id            0\n",
      "item_id                0\n",
      "quantity               0\n",
      "purchase_date          0\n",
      "customer_id        36210\n",
      "loyalty_program        0\n",
      "shop_id                0\n",
      "dtype: int64\n",
      "purchase_id    0\n",
      "unit_price     0\n",
      "dtype: int64\n"
     ]
    }
   ],
   "source": [
    "#check for NA and duplicates\n",
    "print(data.isna().sum())\n",
    "print(codes.isna().sum())"
   ]
  },
  {
   "cell_type": "code",
   "execution_count": 15,
   "metadata": {},
   "outputs": [
    {
     "name": "stdout",
     "output_type": "stream",
     "text": [
      "1033\n",
      "0\n"
     ]
    }
   ],
   "source": [
    "print(data.duplicated().sum())\n",
    "print(codes.duplicated().sum())"
   ]
  },
  {
   "cell_type": "markdown",
   "metadata": {},
   "source": [
    "Codes data looks fine. However, there are 36210 missing values in the customer_id column in purchase dataset, and 1033 duplicated rows. Let's examine these matters now."
   ]
  },
  {
   "cell_type": "code",
   "execution_count": 16,
   "metadata": {},
   "outputs": [
    {
     "data": {
      "text/html": [
       "<div>\n",
       "<style scoped>\n",
       "    .dataframe tbody tr th:only-of-type {\n",
       "        vertical-align: middle;\n",
       "    }\n",
       "\n",
       "    .dataframe tbody tr th {\n",
       "        vertical-align: top;\n",
       "    }\n",
       "\n",
       "    .dataframe thead th {\n",
       "        text-align: right;\n",
       "    }\n",
       "</style>\n",
       "<table border=\"1\" class=\"dataframe\">\n",
       "  <thead>\n",
       "    <tr style=\"text-align: right;\">\n",
       "      <th></th>\n",
       "      <th>purchase_id</th>\n",
       "      <th>item_id</th>\n",
       "      <th>quantity</th>\n",
       "      <th>purchase_date</th>\n",
       "      <th>customer_id</th>\n",
       "      <th>loyalty_program</th>\n",
       "      <th>shop_id</th>\n",
       "    </tr>\n",
       "  </thead>\n",
       "  <tbody>\n",
       "    <tr>\n",
       "      <th>28407</th>\n",
       "      <td>543467</td>\n",
       "      <td>21385</td>\n",
       "      <td>0</td>\n",
       "      <td>2017-02-08 14:35:00</td>\n",
       "      <td>NaN</td>\n",
       "      <td>0</td>\n",
       "      <td>Shop 0</td>\n",
       "    </tr>\n",
       "    <tr>\n",
       "      <th>89288</th>\n",
       "      <td>537434</td>\n",
       "      <td>21815</td>\n",
       "      <td>0</td>\n",
       "      <td>2016-12-06 16:57:00</td>\n",
       "      <td>NaN</td>\n",
       "      <td>0</td>\n",
       "      <td>Shop 0</td>\n",
       "    </tr>\n",
       "    <tr>\n",
       "      <th>62930</th>\n",
       "      <td>540551</td>\n",
       "      <td>84988</td>\n",
       "      <td>2</td>\n",
       "      <td>2017-01-10 09:43:00</td>\n",
       "      <td>NaN</td>\n",
       "      <td>0</td>\n",
       "      <td>Shop 0</td>\n",
       "    </tr>\n",
       "    <tr>\n",
       "      <th>97096</th>\n",
       "      <td>541592</td>\n",
       "      <td>21658</td>\n",
       "      <td>0</td>\n",
       "      <td>2017-01-19 15:08:00</td>\n",
       "      <td>NaN</td>\n",
       "      <td>0</td>\n",
       "      <td>Shop 0</td>\n",
       "    </tr>\n",
       "    <tr>\n",
       "      <th>80683</th>\n",
       "      <td>541971</td>\n",
       "      <td>72816</td>\n",
       "      <td>2</td>\n",
       "      <td>2017-01-24 13:48:00</td>\n",
       "      <td>NaN</td>\n",
       "      <td>0</td>\n",
       "      <td>Shop 0</td>\n",
       "    </tr>\n",
       "  </tbody>\n",
       "</table>\n",
       "</div>"
      ],
      "text/plain": [
       "      purchase_id item_id  quantity       purchase_date  customer_id  \\\n",
       "28407      543467   21385         0 2017-02-08 14:35:00          NaN   \n",
       "89288      537434   21815         0 2016-12-06 16:57:00          NaN   \n",
       "62930      540551   84988         2 2017-01-10 09:43:00          NaN   \n",
       "97096      541592   21658         0 2017-01-19 15:08:00          NaN   \n",
       "80683      541971   72816         2 2017-01-24 13:48:00          NaN   \n",
       "\n",
       "       loyalty_program shop_id  \n",
       "28407                0  Shop 0  \n",
       "89288                0  Shop 0  \n",
       "62930                0  Shop 0  \n",
       "97096                0  Shop 0  \n",
       "80683                0  Shop 0  "
      ]
     },
     "execution_count": 16,
     "metadata": {},
     "output_type": "execute_result"
    }
   ],
   "source": [
    "data[data['customer_id'].isna()].sample(5)"
   ]
  },
  {
   "cell_type": "code",
   "execution_count": 17,
   "metadata": {},
   "outputs": [
    {
     "data": {
      "text/plain": [
       "0    36210\n",
       "Name: loyalty_program, dtype: int64"
      ]
     },
     "execution_count": 17,
     "metadata": {},
     "output_type": "execute_result"
    }
   ],
   "source": [
    "#check if all missing values are related to loyalty program\n",
    "data[data['customer_id'].isna()]['loyalty_program'].value_counts()\n",
    "\n"
   ]
  },
  {
   "cell_type": "code",
   "execution_count": 18,
   "metadata": {},
   "outputs": [
    {
     "data": {
      "text/plain": [
       "0    81493\n",
       "1    23842\n",
       "Name: loyalty_program, dtype: int64"
      ]
     },
     "execution_count": 18,
     "metadata": {},
     "output_type": "execute_result"
    }
   ],
   "source": [
    "data['loyalty_program'].value_counts()\n",
    "\n"
   ]
  },
  {
   "cell_type": "markdown",
   "metadata": {},
   "source": [
    "All transactions with missing customer_id values are from customers who are not in the loyalty program. Although there are loyalty program customers who are missing customer_ids as well. In our analysis, customer_id does not play an important role. So let's keep the column as it is for now.\n",
    "\n",
    "\n"
   ]
  },
  {
   "cell_type": "code",
   "execution_count": 19,
   "metadata": {},
   "outputs": [
    {
     "data": {
      "text/html": [
       "<div>\n",
       "<style scoped>\n",
       "    .dataframe tbody tr th:only-of-type {\n",
       "        vertical-align: middle;\n",
       "    }\n",
       "\n",
       "    .dataframe tbody tr th {\n",
       "        vertical-align: top;\n",
       "    }\n",
       "\n",
       "    .dataframe thead th {\n",
       "        text-align: right;\n",
       "    }\n",
       "</style>\n",
       "<table border=\"1\" class=\"dataframe\">\n",
       "  <thead>\n",
       "    <tr style=\"text-align: right;\">\n",
       "      <th></th>\n",
       "      <th>purchase_id</th>\n",
       "      <th>item_id</th>\n",
       "      <th>quantity</th>\n",
       "      <th>purchase_date</th>\n",
       "      <th>customer_id</th>\n",
       "      <th>loyalty_program</th>\n",
       "      <th>shop_id</th>\n",
       "    </tr>\n",
       "  </thead>\n",
       "  <tbody>\n",
       "    <tr>\n",
       "      <th>35340</th>\n",
       "      <td>537265</td>\n",
       "      <td>21163</td>\n",
       "      <td>0</td>\n",
       "      <td>2016-12-06 11:26:00</td>\n",
       "      <td>21598.0</td>\n",
       "      <td>0</td>\n",
       "      <td>Shop 7</td>\n",
       "    </tr>\n",
       "    <tr>\n",
       "      <th>50553</th>\n",
       "      <td>537265</td>\n",
       "      <td>21163</td>\n",
       "      <td>0</td>\n",
       "      <td>2016-12-06 11:26:00</td>\n",
       "      <td>21598.0</td>\n",
       "      <td>0</td>\n",
       "      <td>Shop 7</td>\n",
       "    </tr>\n",
       "    <tr>\n",
       "      <th>75242</th>\n",
       "      <td>537265</td>\n",
       "      <td>21163</td>\n",
       "      <td>0</td>\n",
       "      <td>2016-12-06 11:26:00</td>\n",
       "      <td>21598.0</td>\n",
       "      <td>0</td>\n",
       "      <td>Shop 7</td>\n",
       "    </tr>\n",
       "  </tbody>\n",
       "</table>\n",
       "</div>"
      ],
      "text/plain": [
       "      purchase_id item_id  quantity       purchase_date  customer_id  \\\n",
       "35340      537265   21163         0 2016-12-06 11:26:00      21598.0   \n",
       "50553      537265   21163         0 2016-12-06 11:26:00      21598.0   \n",
       "75242      537265   21163         0 2016-12-06 11:26:00      21598.0   \n",
       "\n",
       "       loyalty_program shop_id  \n",
       "35340                0  Shop 7  \n",
       "50553                0  Shop 7  \n",
       "75242                0  Shop 7  "
      ]
     },
     "execution_count": 19,
     "metadata": {},
     "output_type": "execute_result"
    }
   ],
   "source": [
    "#check duplicated rows\n",
    "sample = data[data.duplicated()].sample().values[0]\n",
    "data[(data['purchase_id'] == sample[0])\n",
    "     & (data['item_id'] == sample[1])]"
   ]
  },
  {
   "cell_type": "markdown",
   "metadata": {},
   "source": [
    "Looks like indeed, these are identical rows. We will need to drop these in the data preprocessing stage."
   ]
  },
  {
   "cell_type": "code",
   "execution_count": 20,
   "metadata": {},
   "outputs": [
    {
     "data": {
      "text/html": [
       "<div>\n",
       "<style scoped>\n",
       "    .dataframe tbody tr th:only-of-type {\n",
       "        vertical-align: middle;\n",
       "    }\n",
       "\n",
       "    .dataframe tbody tr th {\n",
       "        vertical-align: top;\n",
       "    }\n",
       "\n",
       "    .dataframe thead th {\n",
       "        text-align: right;\n",
       "    }\n",
       "</style>\n",
       "<table border=\"1\" class=\"dataframe\">\n",
       "  <thead>\n",
       "    <tr style=\"text-align: right;\">\n",
       "      <th></th>\n",
       "      <th>count</th>\n",
       "      <th>mean</th>\n",
       "      <th>std</th>\n",
       "      <th>min</th>\n",
       "      <th>25%</th>\n",
       "      <th>50%</th>\n",
       "      <th>75%</th>\n",
       "      <th>max</th>\n",
       "    </tr>\n",
       "  </thead>\n",
       "  <tbody>\n",
       "    <tr>\n",
       "      <th>quantity</th>\n",
       "      <td>105335.0</td>\n",
       "      <td>7.821218</td>\n",
       "      <td>327.946695</td>\n",
       "      <td>-74216.0</td>\n",
       "      <td>0.0</td>\n",
       "      <td>2.0</td>\n",
       "      <td>7.0</td>\n",
       "      <td>74214.0</td>\n",
       "    </tr>\n",
       "    <tr>\n",
       "      <th>customer_id</th>\n",
       "      <td>69125.0</td>\n",
       "      <td>21019.302047</td>\n",
       "      <td>1765.444679</td>\n",
       "      <td>18025.0</td>\n",
       "      <td>19544.0</td>\n",
       "      <td>20990.0</td>\n",
       "      <td>22659.0</td>\n",
       "      <td>23962.0</td>\n",
       "    </tr>\n",
       "    <tr>\n",
       "      <th>loyalty_program</th>\n",
       "      <td>105335.0</td>\n",
       "      <td>0.226345</td>\n",
       "      <td>0.418467</td>\n",
       "      <td>0.0</td>\n",
       "      <td>0.0</td>\n",
       "      <td>0.0</td>\n",
       "      <td>0.0</td>\n",
       "      <td>1.0</td>\n",
       "    </tr>\n",
       "  </tbody>\n",
       "</table>\n",
       "</div>"
      ],
      "text/plain": [
       "                    count          mean          std      min      25%  \\\n",
       "quantity         105335.0      7.821218   327.946695 -74216.0      0.0   \n",
       "customer_id       69125.0  21019.302047  1765.444679  18025.0  19544.0   \n",
       "loyalty_program  105335.0      0.226345     0.418467      0.0      0.0   \n",
       "\n",
       "                     50%      75%      max  \n",
       "quantity             2.0      7.0  74214.0  \n",
       "customer_id      20990.0  22659.0  23962.0  \n",
       "loyalty_program      0.0      0.0      1.0  "
      ]
     },
     "execution_count": 20,
     "metadata": {},
     "output_type": "execute_result"
    }
   ],
   "source": [
    "#check numerica columns \n",
    "data.describe().T\n",
    "\n"
   ]
  },
  {
   "cell_type": "code",
   "execution_count": 21,
   "metadata": {},
   "outputs": [
    {
     "data": {
      "text/html": [
       "<div>\n",
       "<style scoped>\n",
       "    .dataframe tbody tr th:only-of-type {\n",
       "        vertical-align: middle;\n",
       "    }\n",
       "\n",
       "    .dataframe tbody tr th {\n",
       "        vertical-align: top;\n",
       "    }\n",
       "\n",
       "    .dataframe thead th {\n",
       "        text-align: right;\n",
       "    }\n",
       "</style>\n",
       "<table border=\"1\" class=\"dataframe\">\n",
       "  <thead>\n",
       "    <tr style=\"text-align: right;\">\n",
       "      <th></th>\n",
       "      <th>count</th>\n",
       "      <th>mean</th>\n",
       "      <th>std</th>\n",
       "      <th>min</th>\n",
       "      <th>25%</th>\n",
       "      <th>50%</th>\n",
       "      <th>75%</th>\n",
       "      <th>max</th>\n",
       "    </tr>\n",
       "  </thead>\n",
       "  <tbody>\n",
       "    <tr>\n",
       "      <th>unit_price</th>\n",
       "      <td>3159.0</td>\n",
       "      <td>2.954495</td>\n",
       "      <td>7.213808</td>\n",
       "      <td>0.0</td>\n",
       "      <td>0.65</td>\n",
       "      <td>1.45</td>\n",
       "      <td>3.29</td>\n",
       "      <td>175.0</td>\n",
       "    </tr>\n",
       "  </tbody>\n",
       "</table>\n",
       "</div>"
      ],
      "text/plain": [
       "             count      mean       std  min   25%   50%   75%    max\n",
       "unit_price  3159.0  2.954495  7.213808  0.0  0.65  1.45  3.29  175.0"
      ]
     },
     "execution_count": 21,
     "metadata": {},
     "output_type": "execute_result"
    }
   ],
   "source": [
    "codes.describe().T"
   ]
  },
  {
   "cell_type": "markdown",
   "metadata": {},
   "source": [
    "There might be a data entry error for the quantity column since there shouldn't be any negative values for it. We will fix this in the next section.\n",
    "\n",
    "Moreover, there seems to be some extreme outlier in the quantity column, as large as 74214. We will need to take a closer look at this later too.\n",
    "\n",
    "For unit price, although 175 is a lot higher than 75% of the unit prices, this is just how items are priced and not really an outlier. It's strange to see the 0.0 as unit price. We can have a look at this later.\n",
    "\n",
    "Next, let's check the categorical columns."
   ]
  },
  {
   "cell_type": "code",
   "execution_count": 22,
   "metadata": {},
   "outputs": [
    {
     "data": {
      "text/plain": [
       "3159"
      ]
     },
     "execution_count": 22,
     "metadata": {},
     "output_type": "execute_result"
    }
   ],
   "source": [
    "data['item_id'].nunique()"
   ]
  },
  {
   "cell_type": "code",
   "execution_count": 23,
   "metadata": {},
   "outputs": [
    {
     "data": {
      "text/plain": [
       "85123A      565\n",
       "22423       499\n",
       "22469       414\n",
       "22720       377\n",
       "85099B      372\n",
       "           ... \n",
       "DCGS0072      1\n",
       "22125         1\n",
       "84977         1\n",
       "84964B        1\n",
       "79320         1\n",
       "Name: item_id, Length: 3159, dtype: int64"
      ]
     },
     "execution_count": 23,
     "metadata": {},
     "output_type": "execute_result"
    }
   ],
   "source": [
    "data['item_id'].value_counts()"
   ]
  },
  {
   "cell_type": "code",
   "execution_count": 24,
   "metadata": {},
   "outputs": [
    {
     "data": {
      "text/plain": [
       "31"
      ]
     },
     "execution_count": 24,
     "metadata": {},
     "output_type": "execute_result"
    }
   ],
   "source": [
    "data['shop_id'].nunique()"
   ]
  },
  {
   "cell_type": "code",
   "execution_count": 25,
   "metadata": {},
   "outputs": [
    {
     "data": {
      "text/plain": [
       "Shop 0     38389\n",
       "Shop 1      2744\n",
       "Shop 15     2710\n",
       "Shop 24     2656\n",
       "Shop 22     2601\n",
       "Shop 5      2510\n",
       "Shop 9      2496\n",
       "Shop 13     2448\n",
       "Shop 20     2435\n",
       "Shop 14     2400\n",
       "Shop 30     2395\n",
       "Shop 7      2368\n",
       "Shop 26     2340\n",
       "Shop 27     2338\n",
       "Shop 28     2324\n",
       "Shop 11     2301\n",
       "Shop 2      2248\n",
       "Shop 19     2242\n",
       "Shop 10     2204\n",
       "Shop 29     2202\n",
       "Shop 17     2178\n",
       "Shop 23     2077\n",
       "Shop 18     2022\n",
       "Shop 8      1985\n",
       "Shop 4      1968\n",
       "Shop 16     1939\n",
       "Shop 25     1935\n",
       "Shop 12     1786\n",
       "Shop 3      1732\n",
       "Shop 6      1694\n",
       "Shop 21     1668\n",
       "Name: shop_id, dtype: int64"
      ]
     },
     "execution_count": 25,
     "metadata": {},
     "output_type": "execute_result"
    }
   ],
   "source": [
    "data['shop_id'].value_counts()"
   ]
  },
  {
   "cell_type": "code",
   "execution_count": 26,
   "metadata": {},
   "outputs": [
    {
     "data": {
      "text/plain": [
       "3159"
      ]
     },
     "execution_count": 26,
     "metadata": {},
     "output_type": "execute_result"
    }
   ],
   "source": [
    "codes['purchase_id'].nunique()"
   ]
  },
  {
   "cell_type": "code",
   "execution_count": 27,
   "metadata": {},
   "outputs": [
    {
     "data": {
      "text/plain": [
       "10002     1\n",
       "72132     1\n",
       "72134     1\n",
       "72140E    1\n",
       "72225C    1\n",
       "         ..\n",
       "22164     1\n",
       "22165     1\n",
       "22166     1\n",
       "22167     1\n",
       "m         1\n",
       "Name: purchase_id, Length: 3159, dtype: int64"
      ]
     },
     "execution_count": 27,
     "metadata": {},
     "output_type": "execute_result"
    }
   ],
   "source": [
    "codes['purchase_id'].value_counts()"
   ]
  },
  {
   "cell_type": "code",
   "execution_count": 28,
   "metadata": {},
   "outputs": [
    {
     "name": "stdout",
     "output_type": "stream",
     "text": [
      "Earliest purchase date: 2016-12-01 08:26:00\n",
      "Latest purchase date: 2017-02-28 17:04:00\n"
     ]
    }
   ],
   "source": [
    "print('Earliest purchase date:', data['purchase_date'].min())\n",
    "print('Latest purchase date:', data['purchase_date'].max())"
   ]
  },
  {
   "cell_type": "code",
   "execution_count": 29,
   "metadata": {},
   "outputs": [
    {
     "data": {
      "text/plain": [
       "537434     675\n",
       "538071     652\n",
       "538349     620\n",
       "537638     601\n",
       "537237     597\n",
       "          ... \n",
       "542531       1\n",
       "537841       1\n",
       "C543775      1\n",
       "537013       1\n",
       "C541650      1\n",
       "Name: purchase_id, Length: 4894, dtype: int64"
      ]
     },
     "execution_count": 29,
     "metadata": {},
     "output_type": "execute_result"
    }
   ],
   "source": [
    "data['purchase_id'].value_counts()"
   ]
  },
  {
   "cell_type": "markdown",
   "metadata": {},
   "source": [
    "Object columns look mostly fine. However, we will change the values all to lower cases in the next step in case there are duplicates caused by this.\n",
    "\n",
    "Also in the codes dataset, the purchase_id in fact is item_id. We will change that too."
   ]
  },
  {
   "cell_type": "markdown",
   "metadata": {},
   "source": [
    "# Part 1 Summary"
   ]
  },
  {
   "cell_type": "markdown",
   "metadata": {},
   "source": [
    "In this section we imported and checked the data. We have purchase information about 3080 items over the span of 3 months from 31 shops.\n",
    "\n",
    "There are a few issues that have been noticed and need to be addressed next:\n",
    "\n",
    "- there are missing customer_id in the purchase inforamtion dataset\n",
    "- there are duplicated rows in the purcahse information dataset\n",
    "- values in the datasets will need to be changed to lower case\n",
    "- there are potential outliers in the quantity column\n",
    "- there are negative values in purchase quantity which could be errors\n",
    "- in the codes dataset the column name needs to be changed to match the purchaes information."
   ]
  },
  {
   "cell_type": "markdown",
   "metadata": {},
   "source": [
    "# Part 2: Data preprocessing"
   ]
  },
  {
   "cell_type": "markdown",
   "metadata": {},
   "source": [
    "Let's preprocess the data and address the issues noted from previous section."
   ]
  },
  {
   "cell_type": "markdown",
   "metadata": {},
   "source": [
    "# Change values to lower case"
   ]
  },
  {
   "cell_type": "code",
   "execution_count": 30,
   "metadata": {},
   "outputs": [],
   "source": [
    "for column in ['purchase_id', 'item_id', 'shop_id']:\n",
    "    data[column] = data[column].str.lower()\n",
    "codes['purchase_id'] = codes['purchase_id'].str.lower()"
   ]
  },
  {
   "cell_type": "markdown",
   "metadata": {},
   "source": [
    "# Drop duplicates"
   ]
  },
  {
   "cell_type": "code",
   "execution_count": 31,
   "metadata": {},
   "outputs": [
    {
     "data": {
      "text/plain": [
       "0"
      ]
     },
     "execution_count": 31,
     "metadata": {},
     "output_type": "execute_result"
    }
   ],
   "source": [
    "data.drop_duplicates(inplace=True)\n",
    "data.duplicated().sum()"
   ]
  },
  {
   "cell_type": "markdown",
   "metadata": {},
   "source": [
    "# Check negative values in quantity"
   ]
  },
  {
   "cell_type": "code",
   "execution_count": 32,
   "metadata": {},
   "outputs": [
    {
     "data": {
      "text/html": [
       "<div>\n",
       "<style scoped>\n",
       "    .dataframe tbody tr th:only-of-type {\n",
       "        vertical-align: middle;\n",
       "    }\n",
       "\n",
       "    .dataframe tbody tr th {\n",
       "        vertical-align: top;\n",
       "    }\n",
       "\n",
       "    .dataframe thead th {\n",
       "        text-align: right;\n",
       "    }\n",
       "</style>\n",
       "<table border=\"1\" class=\"dataframe\">\n",
       "  <thead>\n",
       "    <tr style=\"text-align: right;\">\n",
       "      <th></th>\n",
       "      <th>purchase_id</th>\n",
       "      <th>item_id</th>\n",
       "      <th>quantity</th>\n",
       "      <th>purchase_date</th>\n",
       "      <th>customer_id</th>\n",
       "      <th>loyalty_program</th>\n",
       "      <th>shop_id</th>\n",
       "    </tr>\n",
       "  </thead>\n",
       "  <tbody>\n",
       "    <tr>\n",
       "      <th>64</th>\n",
       "      <td>c539944</td>\n",
       "      <td>22776</td>\n",
       "      <td>-2</td>\n",
       "      <td>2016-12-23 11:38:00</td>\n",
       "      <td>20239.0</td>\n",
       "      <td>0</td>\n",
       "      <td>shop 27</td>\n",
       "    </tr>\n",
       "    <tr>\n",
       "      <th>109</th>\n",
       "      <td>c542910</td>\n",
       "      <td>20726</td>\n",
       "      <td>-2</td>\n",
       "      <td>2017-02-01 15:38:00</td>\n",
       "      <td>23190.0</td>\n",
       "      <td>1</td>\n",
       "      <td>shop 19</td>\n",
       "    </tr>\n",
       "    <tr>\n",
       "      <th>112</th>\n",
       "      <td>c542426</td>\n",
       "      <td>22418</td>\n",
       "      <td>-25</td>\n",
       "      <td>2017-01-28 09:32:00</td>\n",
       "      <td>19825.0</td>\n",
       "      <td>0</td>\n",
       "      <td>shop 27</td>\n",
       "    </tr>\n",
       "    <tr>\n",
       "      <th>253</th>\n",
       "      <td>c539726</td>\n",
       "      <td>22791</td>\n",
       "      <td>-11</td>\n",
       "      <td>2016-12-21 14:24:00</td>\n",
       "      <td>22686.0</td>\n",
       "      <td>1</td>\n",
       "      <td>shop 3</td>\n",
       "    </tr>\n",
       "    <tr>\n",
       "      <th>344</th>\n",
       "      <td>c544034</td>\n",
       "      <td>21878</td>\n",
       "      <td>-2</td>\n",
       "      <td>2017-02-15 11:28:00</td>\n",
       "      <td>20380.0</td>\n",
       "      <td>0</td>\n",
       "      <td>shop 9</td>\n",
       "    </tr>\n",
       "    <tr>\n",
       "      <th>...</th>\n",
       "      <td>...</td>\n",
       "      <td>...</td>\n",
       "      <td>...</td>\n",
       "      <td>...</td>\n",
       "      <td>...</td>\n",
       "      <td>...</td>\n",
       "      <td>...</td>\n",
       "    </tr>\n",
       "    <tr>\n",
       "      <th>105160</th>\n",
       "      <td>c541650</td>\n",
       "      <td>m</td>\n",
       "      <td>-2</td>\n",
       "      <td>2017-01-20 11:44:00</td>\n",
       "      <td>NaN</td>\n",
       "      <td>0</td>\n",
       "      <td>shop 0</td>\n",
       "    </tr>\n",
       "    <tr>\n",
       "      <th>105172</th>\n",
       "      <td>c540246</td>\n",
       "      <td>79320</td>\n",
       "      <td>-2</td>\n",
       "      <td>2017-01-05 15:43:00</td>\n",
       "      <td>18760.0</td>\n",
       "      <td>0</td>\n",
       "      <td>shop 19</td>\n",
       "    </tr>\n",
       "    <tr>\n",
       "      <th>105211</th>\n",
       "      <td>c539467</td>\n",
       "      <td>22801</td>\n",
       "      <td>-2</td>\n",
       "      <td>2016-12-19 12:46:00</td>\n",
       "      <td>20723.0</td>\n",
       "      <td>0</td>\n",
       "      <td>shop 13</td>\n",
       "    </tr>\n",
       "    <tr>\n",
       "      <th>105250</th>\n",
       "      <td>c540847</td>\n",
       "      <td>22197</td>\n",
       "      <td>-3</td>\n",
       "      <td>2017-01-11 17:35:00</td>\n",
       "      <td>19137.0</td>\n",
       "      <td>0</td>\n",
       "      <td>shop 0</td>\n",
       "    </tr>\n",
       "    <tr>\n",
       "      <th>105300</th>\n",
       "      <td>c540164</td>\n",
       "      <td>21144</td>\n",
       "      <td>-13</td>\n",
       "      <td>2017-01-05 12:02:00</td>\n",
       "      <td>20590.0</td>\n",
       "      <td>0</td>\n",
       "      <td>shop 16</td>\n",
       "    </tr>\n",
       "  </tbody>\n",
       "</table>\n",
       "<p>2076 rows × 7 columns</p>\n",
       "</div>"
      ],
      "text/plain": [
       "       purchase_id item_id  quantity       purchase_date  customer_id  \\\n",
       "64         c539944   22776        -2 2016-12-23 11:38:00      20239.0   \n",
       "109        c542910   20726        -2 2017-02-01 15:38:00      23190.0   \n",
       "112        c542426   22418       -25 2017-01-28 09:32:00      19825.0   \n",
       "253        c539726   22791       -11 2016-12-21 14:24:00      22686.0   \n",
       "344        c544034   21878        -2 2017-02-15 11:28:00      20380.0   \n",
       "...            ...     ...       ...                 ...          ...   \n",
       "105160     c541650       m        -2 2017-01-20 11:44:00          NaN   \n",
       "105172     c540246   79320        -2 2017-01-05 15:43:00      18760.0   \n",
       "105211     c539467   22801        -2 2016-12-19 12:46:00      20723.0   \n",
       "105250     c540847   22197        -3 2017-01-11 17:35:00      19137.0   \n",
       "105300     c540164   21144       -13 2017-01-05 12:02:00      20590.0   \n",
       "\n",
       "        loyalty_program  shop_id  \n",
       "64                    0  shop 27  \n",
       "109                   1  shop 19  \n",
       "112                   0  shop 27  \n",
       "253                   1   shop 3  \n",
       "344                   0   shop 9  \n",
       "...                 ...      ...  \n",
       "105160                0   shop 0  \n",
       "105172                0  shop 19  \n",
       "105211                0  shop 13  \n",
       "105250                0   shop 0  \n",
       "105300                0  shop 16  \n",
       "\n",
       "[2076 rows x 7 columns]"
      ]
     },
     "execution_count": 32,
     "metadata": {},
     "output_type": "execute_result"
    }
   ],
   "source": [
    "data[data['quantity'] < 0]"
   ]
  },
  {
   "cell_type": "markdown",
   "metadata": {},
   "source": [
    "There are 2076 rows that have negative quantity values. Ideally, this matter should be brought to the data provider to find out why this happened. In our case, we will treat it as data entry errors. We will take the absolute values for these quantities."
   ]
  },
  {
   "cell_type": "code",
   "execution_count": 33,
   "metadata": {},
   "outputs": [
    {
     "data": {
      "text/plain": [
       "count    104302.000000\n",
       "mean         10.175462\n",
       "std         329.502726\n",
       "min           0.000000\n",
       "25%           0.000000\n",
       "50%           2.000000\n",
       "75%           8.000000\n",
       "max       74216.000000\n",
       "Name: quantity, dtype: float64"
      ]
     },
     "execution_count": 33,
     "metadata": {},
     "output_type": "execute_result"
    }
   ],
   "source": [
    "data['quantity'] = data['quantity'].abs()\n",
    "data['quantity'].describe().T"
   ]
  },
  {
   "cell_type": "markdown",
   "metadata": {},
   "source": [
    "The highest quantity here is a bit strangely high. Later when we carry out the exploratory data analysis we will take a closer look to decide whether values like this are extreme outliers."
   ]
  },
  {
   "cell_type": "markdown",
   "metadata": {},
   "source": [
    "# Checking the purchase_id column in codes dataset"
   ]
  },
  {
   "cell_type": "code",
   "execution_count": 34,
   "metadata": {},
   "outputs": [
    {
     "data": {
      "text/plain": [
       "3159"
      ]
     },
     "execution_count": 34,
     "metadata": {},
     "output_type": "execute_result"
    }
   ],
   "source": [
    "len([i for i in codes['purchase_id'].to_list() if i in data['item_id'].to_list()])"
   ]
  },
  {
   "cell_type": "markdown",
   "metadata": {},
   "source": [
    "All the purchase_id's are also in the item_id column in the purchasing information dataset. The column in codes should be 'item_id' instead. Let's change that.\n",
    "\n"
   ]
  },
  {
   "cell_type": "code",
   "execution_count": 35,
   "metadata": {},
   "outputs": [
    {
     "data": {
      "text/plain": [
       "Index(['item_id', 'unit_price'], dtype='object')"
      ]
     },
     "execution_count": 35,
     "metadata": {},
     "output_type": "execute_result"
    }
   ],
   "source": [
    "codes = codes.rename(columns = {'purchase_id':'item_id'})\n",
    "codes.columns"
   ]
  },
  {
   "cell_type": "markdown",
   "metadata": {},
   "source": [
    "Next, let's quickly check the unit price for items"
   ]
  },
  {
   "cell_type": "code",
   "execution_count": 36,
   "metadata": {},
   "outputs": [
    {
     "data": {
      "text/html": [
       "<div>\n",
       "<style scoped>\n",
       "    .dataframe tbody tr th:only-of-type {\n",
       "        vertical-align: middle;\n",
       "    }\n",
       "\n",
       "    .dataframe tbody tr th {\n",
       "        vertical-align: top;\n",
       "    }\n",
       "\n",
       "    .dataframe thead th {\n",
       "        text-align: right;\n",
       "    }\n",
       "</style>\n",
       "<table border=\"1\" class=\"dataframe\">\n",
       "  <thead>\n",
       "    <tr style=\"text-align: right;\">\n",
       "      <th></th>\n",
       "      <th>item_id</th>\n",
       "      <th>unit_price</th>\n",
       "    </tr>\n",
       "  </thead>\n",
       "  <tbody>\n",
       "    <tr>\n",
       "      <th>34</th>\n",
       "      <td>16033</td>\n",
       "      <td>0.0</td>\n",
       "    </tr>\n",
       "    <tr>\n",
       "      <th>54</th>\n",
       "      <td>16207b</td>\n",
       "      <td>0.0</td>\n",
       "    </tr>\n",
       "    <tr>\n",
       "      <th>67</th>\n",
       "      <td>17011a</td>\n",
       "      <td>0.0</td>\n",
       "    </tr>\n",
       "    <tr>\n",
       "      <th>87</th>\n",
       "      <td>17091a</td>\n",
       "      <td>0.0</td>\n",
       "    </tr>\n",
       "    <tr>\n",
       "      <th>95</th>\n",
       "      <td>17165d</td>\n",
       "      <td>0.0</td>\n",
       "    </tr>\n",
       "    <tr>\n",
       "      <th>...</th>\n",
       "      <td>...</td>\n",
       "      <td>...</td>\n",
       "    </tr>\n",
       "    <tr>\n",
       "      <th>3141</th>\n",
       "      <td>dcgs0055</td>\n",
       "      <td>0.0</td>\n",
       "    </tr>\n",
       "    <tr>\n",
       "      <th>3142</th>\n",
       "      <td>dcgs0057</td>\n",
       "      <td>0.0</td>\n",
       "    </tr>\n",
       "    <tr>\n",
       "      <th>3145</th>\n",
       "      <td>dcgs0072</td>\n",
       "      <td>0.0</td>\n",
       "    </tr>\n",
       "    <tr>\n",
       "      <th>3146</th>\n",
       "      <td>dcgs0074</td>\n",
       "      <td>0.0</td>\n",
       "    </tr>\n",
       "    <tr>\n",
       "      <th>3152</th>\n",
       "      <td>post</td>\n",
       "      <td>0.0</td>\n",
       "    </tr>\n",
       "  </tbody>\n",
       "</table>\n",
       "<p>382 rows × 2 columns</p>\n",
       "</div>"
      ],
      "text/plain": [
       "       item_id  unit_price\n",
       "34       16033         0.0\n",
       "54      16207b         0.0\n",
       "67      17011a         0.0\n",
       "87      17091a         0.0\n",
       "95      17165d         0.0\n",
       "...        ...         ...\n",
       "3141  dcgs0055         0.0\n",
       "3142  dcgs0057         0.0\n",
       "3145  dcgs0072         0.0\n",
       "3146  dcgs0074         0.0\n",
       "3152      post         0.0\n",
       "\n",
       "[382 rows x 2 columns]"
      ]
     },
     "execution_count": 36,
     "metadata": {},
     "output_type": "execute_result"
    }
   ],
   "source": [
    "codes[codes['unit_price']==0]"
   ]
  },
  {
   "cell_type": "markdown",
   "metadata": {},
   "source": [
    "Perhaps these 0.0's are for free services or complimentary products. It would be great to check in reality. But for now we will leave them as they are."
   ]
  },
  {
   "cell_type": "markdown",
   "metadata": {},
   "source": [
    "# Part 2 summary"
   ]
  },
  {
   "cell_type": "markdown",
   "metadata": {},
   "source": [
    "Now our data is ready to be further analyzed. Let's move on to the exploratory data analysis."
   ]
  },
  {
   "cell_type": "markdown",
   "metadata": {},
   "source": [
    "# Part 3: Exploratory data analysis"
   ]
  },
  {
   "cell_type": "markdown",
   "metadata": {},
   "source": [
    "In this section, we will address the following tasks:\n",
    "\n",
    "- the distribution of purchase quantities\n",
    "\n",
    "- the distribution of purchase values\n",
    "\n",
    "- differences among stores in their purchase quantity and values\n",
    "\n",
    "- quantities and purchase values over time\n",
    "\n",
    "- popular items\n",
    "\n",
    "- proportion of loyalty customers overall and by store\n",
    "\n",
    "- is there a correlation between proportion of store's loyalty program cutomer purchase and its sales performance?\n",
    "\n",
    "- the difference between customers who are in the loyalty program and who are not in their purchase quantities and values."
   ]
  },
  {
   "cell_type": "markdown",
   "metadata": {},
   "source": [
    "# 3.1 Merge two datasets"
   ]
  },
  {
   "cell_type": "code",
   "execution_count": 38,
   "metadata": {},
   "outputs": [
    {
     "data": {
      "text/html": [
       "<div>\n",
       "<style scoped>\n",
       "    .dataframe tbody tr th:only-of-type {\n",
       "        vertical-align: middle;\n",
       "    }\n",
       "\n",
       "    .dataframe tbody tr th {\n",
       "        vertical-align: top;\n",
       "    }\n",
       "\n",
       "    .dataframe thead th {\n",
       "        text-align: right;\n",
       "    }\n",
       "</style>\n",
       "<table border=\"1\" class=\"dataframe\">\n",
       "  <thead>\n",
       "    <tr style=\"text-align: right;\">\n",
       "      <th></th>\n",
       "      <th>purchase_id</th>\n",
       "      <th>item_id</th>\n",
       "      <th>quantity</th>\n",
       "      <th>purchase_date</th>\n",
       "      <th>customer_id</th>\n",
       "      <th>loyalty_program</th>\n",
       "      <th>shop_id</th>\n",
       "      <th>unit_price</th>\n",
       "    </tr>\n",
       "  </thead>\n",
       "  <tbody>\n",
       "    <tr>\n",
       "      <th>0</th>\n",
       "      <td>538280</td>\n",
       "      <td>21873</td>\n",
       "      <td>11</td>\n",
       "      <td>2016-12-10 12:50:00</td>\n",
       "      <td>18427.0</td>\n",
       "      <td>0</td>\n",
       "      <td>shop 3</td>\n",
       "      <td>0.42</td>\n",
       "    </tr>\n",
       "    <tr>\n",
       "      <th>1</th>\n",
       "      <td>538862</td>\n",
       "      <td>22195</td>\n",
       "      <td>0</td>\n",
       "      <td>2016-12-14 14:11:00</td>\n",
       "      <td>22389.0</td>\n",
       "      <td>1</td>\n",
       "      <td>shop 2</td>\n",
       "      <td>1.65</td>\n",
       "    </tr>\n",
       "    <tr>\n",
       "      <th>2</th>\n",
       "      <td>538855</td>\n",
       "      <td>21239</td>\n",
       "      <td>7</td>\n",
       "      <td>2016-12-14 13:50:00</td>\n",
       "      <td>22182.0</td>\n",
       "      <td>1</td>\n",
       "      <td>shop 3</td>\n",
       "      <td>0.72</td>\n",
       "    </tr>\n",
       "    <tr>\n",
       "      <th>3</th>\n",
       "      <td>543543</td>\n",
       "      <td>22271</td>\n",
       "      <td>0</td>\n",
       "      <td>2017-02-09 15:33:00</td>\n",
       "      <td>23522.0</td>\n",
       "      <td>1</td>\n",
       "      <td>shop 28</td>\n",
       "      <td>2.55</td>\n",
       "    </tr>\n",
       "    <tr>\n",
       "      <th>4</th>\n",
       "      <td>543812</td>\n",
       "      <td>79321</td>\n",
       "      <td>0</td>\n",
       "      <td>2017-02-13 14:40:00</td>\n",
       "      <td>23151.0</td>\n",
       "      <td>1</td>\n",
       "      <td>shop 28</td>\n",
       "      <td>0.00</td>\n",
       "    </tr>\n",
       "  </tbody>\n",
       "</table>\n",
       "</div>"
      ],
      "text/plain": [
       "  purchase_id item_id  quantity       purchase_date  customer_id  \\\n",
       "0      538280   21873        11 2016-12-10 12:50:00      18427.0   \n",
       "1      538862   22195         0 2016-12-14 14:11:00      22389.0   \n",
       "2      538855   21239         7 2016-12-14 13:50:00      22182.0   \n",
       "3      543543   22271         0 2017-02-09 15:33:00      23522.0   \n",
       "4      543812   79321         0 2017-02-13 14:40:00      23151.0   \n",
       "\n",
       "   loyalty_program  shop_id  unit_price  \n",
       "0                0   shop 3        0.42  \n",
       "1                1   shop 2        1.65  \n",
       "2                1   shop 3        0.72  \n",
       "3                1  shop 28        2.55  \n",
       "4                1  shop 28        0.00  "
      ]
     },
     "execution_count": 38,
     "metadata": {},
     "output_type": "execute_result"
    }
   ],
   "source": [
    "data = data.merge(codes, on = 'item_id', how = 'left')\n",
    "data.head()"
   ]
  },
  {
   "cell_type": "code",
   "execution_count": 39,
   "metadata": {},
   "outputs": [
    {
     "data": {
      "text/html": [
       "<div>\n",
       "<style scoped>\n",
       "    .dataframe tbody tr th:only-of-type {\n",
       "        vertical-align: middle;\n",
       "    }\n",
       "\n",
       "    .dataframe tbody tr th {\n",
       "        vertical-align: top;\n",
       "    }\n",
       "\n",
       "    .dataframe thead th {\n",
       "        text-align: right;\n",
       "    }\n",
       "</style>\n",
       "<table border=\"1\" class=\"dataframe\">\n",
       "  <thead>\n",
       "    <tr style=\"text-align: right;\">\n",
       "      <th></th>\n",
       "      <th>purchase_id</th>\n",
       "      <th>item_id</th>\n",
       "      <th>quantity</th>\n",
       "      <th>purchase_date</th>\n",
       "      <th>customer_id</th>\n",
       "      <th>loyalty_program</th>\n",
       "      <th>shop_id</th>\n",
       "      <th>unit_price</th>\n",
       "      <th>purchase_value</th>\n",
       "    </tr>\n",
       "  </thead>\n",
       "  <tbody>\n",
       "    <tr>\n",
       "      <th>0</th>\n",
       "      <td>538280</td>\n",
       "      <td>21873</td>\n",
       "      <td>11</td>\n",
       "      <td>2016-12-10 12:50:00</td>\n",
       "      <td>18427.0</td>\n",
       "      <td>0</td>\n",
       "      <td>shop 3</td>\n",
       "      <td>0.42</td>\n",
       "      <td>4.62</td>\n",
       "    </tr>\n",
       "    <tr>\n",
       "      <th>1</th>\n",
       "      <td>538862</td>\n",
       "      <td>22195</td>\n",
       "      <td>0</td>\n",
       "      <td>2016-12-14 14:11:00</td>\n",
       "      <td>22389.0</td>\n",
       "      <td>1</td>\n",
       "      <td>shop 2</td>\n",
       "      <td>1.65</td>\n",
       "      <td>0.00</td>\n",
       "    </tr>\n",
       "    <tr>\n",
       "      <th>2</th>\n",
       "      <td>538855</td>\n",
       "      <td>21239</td>\n",
       "      <td>7</td>\n",
       "      <td>2016-12-14 13:50:00</td>\n",
       "      <td>22182.0</td>\n",
       "      <td>1</td>\n",
       "      <td>shop 3</td>\n",
       "      <td>0.72</td>\n",
       "      <td>5.04</td>\n",
       "    </tr>\n",
       "    <tr>\n",
       "      <th>3</th>\n",
       "      <td>543543</td>\n",
       "      <td>22271</td>\n",
       "      <td>0</td>\n",
       "      <td>2017-02-09 15:33:00</td>\n",
       "      <td>23522.0</td>\n",
       "      <td>1</td>\n",
       "      <td>shop 28</td>\n",
       "      <td>2.55</td>\n",
       "      <td>0.00</td>\n",
       "    </tr>\n",
       "    <tr>\n",
       "      <th>4</th>\n",
       "      <td>543812</td>\n",
       "      <td>79321</td>\n",
       "      <td>0</td>\n",
       "      <td>2017-02-13 14:40:00</td>\n",
       "      <td>23151.0</td>\n",
       "      <td>1</td>\n",
       "      <td>shop 28</td>\n",
       "      <td>0.00</td>\n",
       "      <td>0.00</td>\n",
       "    </tr>\n",
       "  </tbody>\n",
       "</table>\n",
       "</div>"
      ],
      "text/plain": [
       "  purchase_id item_id  quantity       purchase_date  customer_id  \\\n",
       "0      538280   21873        11 2016-12-10 12:50:00      18427.0   \n",
       "1      538862   22195         0 2016-12-14 14:11:00      22389.0   \n",
       "2      538855   21239         7 2016-12-14 13:50:00      22182.0   \n",
       "3      543543   22271         0 2017-02-09 15:33:00      23522.0   \n",
       "4      543812   79321         0 2017-02-13 14:40:00      23151.0   \n",
       "\n",
       "   loyalty_program  shop_id  unit_price  purchase_value  \n",
       "0                0   shop 3        0.42            4.62  \n",
       "1                1   shop 2        1.65            0.00  \n",
       "2                1   shop 3        0.72            5.04  \n",
       "3                1  shop 28        2.55            0.00  \n",
       "4                1  shop 28        0.00            0.00  "
      ]
     },
     "execution_count": 39,
     "metadata": {},
     "output_type": "execute_result"
    }
   ],
   "source": [
    "#add a column with information of total purchase value\n",
    "data['purchase_value'] = data['quantity'] * data['unit_price']\n",
    "data.head()"
   ]
  },
  {
   "cell_type": "markdown",
   "metadata": {},
   "source": [
    "# 3.2 Distribution of purchase quantities"
   ]
  },
  {
   "cell_type": "code",
   "execution_count": 40,
   "metadata": {},
   "outputs": [
    {
     "data": {
      "image/png": "[encoded data removed]",
      "text/plain": [
       "<Figure size 1000x500 with 2 Axes>"
      ]
     },
     "metadata": {
      "needs_background": "light"
     },
     "output_type": "display_data"
    }
   ],
   "source": [
    "#plot to histograms: one for all quantities, one for those below 500\n",
    "fig, (ax1, ax2) = plt.subplots(1, 2, figsize=(10, 5), sharey=True)\n",
    "plt.suptitle('Distribution of purchase quantities')\n",
    "data['quantity'].hist( ax=ax1)\n",
    "data['quantity'].hist(range = (0,500), ax=ax2)\n",
    "ax1.set_xlabel('Quantity')\n",
    "ax2.set_xlabel('Quantity')\n",
    "ax1.set_ylabel('Number of purchases')\n",
    "plt.show()"
   ]
  },
  {
   "cell_type": "markdown",
   "metadata": {},
   "source": [
    "From the above histograms we can see that most of the purchase quantities are under 100. It's rare to see purchases over 300."
   ]
  },
  {
   "cell_type": "code",
   "execution_count": 49,
   "metadata": {},
   "outputs": [
    {
     "data": {
      "text/plain": [
       "143.0"
      ]
     },
     "execution_count": 49,
     "metadata": {},
     "output_type": "execute_result"
    }
   ],
   "source": [
    "np.percentile(data['quantity'], 99.5)"
   ]
  },
  {
   "cell_type": "markdown",
   "metadata": {},
   "source": [
    "Only 0.5% of the purchases are higher than 143. Therefore for our analysis, we will consider any purchases over 200 as outliers. We can keep the dataset as it is and just exclude these from the calculations later in the analysis."
   ]
  },
  {
   "cell_type": "markdown",
   "metadata": {},
   "source": [
    "# 3.3 Distribution of purchase values"
   ]
  },
  {
   "cell_type": "code",
   "execution_count": 50,
   "metadata": {},
   "outputs": [
    {
     "data": {
      "image/png": "[encoded data removed]",
      "text/plain": [
       "<Figure size 700x500 with 1 Axes>"
      ]
     },
     "metadata": {
      "needs_background": "light"
     },
     "output_type": "display_data"
    }
   ],
   "source": [
    "#plot histogram for purchase values after removing quantities higher than 200\n",
    "data.query('quantity<200')['purchase_value'].hist(bins=50)\n",
    "plt.title('Distribution of purcahse values')\n",
    "plt.xlabel('Purchase value')\n",
    "plt.ylabel('Number of purchases')\n",
    "plt.show()"
   ]
  },
  {
   "cell_type": "markdown",
   "metadata": {},
   "source": [
    "We can see from the above that most of purchase valuse are below 400. There are also values as high as over 1000, despite the fact that we excluded the purchase quantities that are higher than 200.\n",
    "\n",
    "This, on the one hand, is because some items have a much higher unit price; on the other, even if the unit price is 7, having 200 units would make the purchase value approaching 1400. Given we already consider quantity over 200 as outliers, we will keep the purcahse values as they are."
   ]
  },
  {
   "cell_type": "markdown",
   "metadata": {},
   "source": [
    "# 3.4 Purchase quantity and value over time"
   ]
  },
  {
   "cell_type": "code",
   "execution_count": 51,
   "metadata": {},
   "outputs": [
    {
     "data": {
      "text/html": [
       "<div>\n",
       "<style scoped>\n",
       "    .dataframe tbody tr th:only-of-type {\n",
       "        vertical-align: middle;\n",
       "    }\n",
       "\n",
       "    .dataframe tbody tr th {\n",
       "        vertical-align: top;\n",
       "    }\n",
       "\n",
       "    .dataframe thead th {\n",
       "        text-align: right;\n",
       "    }\n",
       "</style>\n",
       "<table border=\"1\" class=\"dataframe\">\n",
       "  <thead>\n",
       "    <tr style=\"text-align: right;\">\n",
       "      <th></th>\n",
       "      <th>purchase_date</th>\n",
       "      <th>quantity</th>\n",
       "      <th>purchase_value</th>\n",
       "    </tr>\n",
       "  </thead>\n",
       "  <tbody>\n",
       "    <tr>\n",
       "      <th>0</th>\n",
       "      <td>2016-12-01</td>\n",
       "      <td>25074</td>\n",
       "      <td>33569.00</td>\n",
       "    </tr>\n",
       "    <tr>\n",
       "      <th>1</th>\n",
       "      <td>2016-12-02</td>\n",
       "      <td>40480</td>\n",
       "      <td>33923.93</td>\n",
       "    </tr>\n",
       "    <tr>\n",
       "      <th>2</th>\n",
       "      <td>2016-12-03</td>\n",
       "      <td>16553</td>\n",
       "      <td>17824.44</td>\n",
       "    </tr>\n",
       "    <tr>\n",
       "      <th>3</th>\n",
       "      <td>2016-12-05</td>\n",
       "      <td>14207</td>\n",
       "      <td>17946.72</td>\n",
       "    </tr>\n",
       "    <tr>\n",
       "      <th>4</th>\n",
       "      <td>2016-12-06</td>\n",
       "      <td>19114</td>\n",
       "      <td>25402.23</td>\n",
       "    </tr>\n",
       "    <tr>\n",
       "      <th>...</th>\n",
       "      <td>...</td>\n",
       "      <td>...</td>\n",
       "      <td>...</td>\n",
       "    </tr>\n",
       "    <tr>\n",
       "      <th>63</th>\n",
       "      <td>2017-02-23</td>\n",
       "      <td>12625</td>\n",
       "      <td>14777.42</td>\n",
       "    </tr>\n",
       "    <tr>\n",
       "      <th>64</th>\n",
       "      <td>2017-02-24</td>\n",
       "      <td>11061</td>\n",
       "      <td>14152.52</td>\n",
       "    </tr>\n",
       "    <tr>\n",
       "      <th>65</th>\n",
       "      <td>2017-02-25</td>\n",
       "      <td>10629</td>\n",
       "      <td>15859.38</td>\n",
       "    </tr>\n",
       "    <tr>\n",
       "      <th>66</th>\n",
       "      <td>2017-02-27</td>\n",
       "      <td>4167</td>\n",
       "      <td>5862.72</td>\n",
       "    </tr>\n",
       "    <tr>\n",
       "      <th>67</th>\n",
       "      <td>2017-02-28</td>\n",
       "      <td>8665</td>\n",
       "      <td>11369.08</td>\n",
       "    </tr>\n",
       "  </tbody>\n",
       "</table>\n",
       "<p>68 rows × 3 columns</p>\n",
       "</div>"
      ],
      "text/plain": [
       "   purchase_date  quantity  purchase_value\n",
       "0     2016-12-01     25074        33569.00\n",
       "1     2016-12-02     40480        33923.93\n",
       "2     2016-12-03     16553        17824.44\n",
       "3     2016-12-05     14207        17946.72\n",
       "4     2016-12-06     19114        25402.23\n",
       "..           ...       ...             ...\n",
       "63    2017-02-23     12625        14777.42\n",
       "64    2017-02-24     11061        14152.52\n",
       "65    2017-02-25     10629        15859.38\n",
       "66    2017-02-27      4167         5862.72\n",
       "67    2017-02-28      8665        11369.08\n",
       "\n",
       "[68 rows x 3 columns]"
      ]
     },
     "execution_count": 51,
     "metadata": {},
     "output_type": "execute_result"
    }
   ],
   "source": [
    "#add a date column to the dataset \n",
    "data['purchase_date'] = pd.to_datetime(data['purchase_date'].dt.date)\n",
    "#group by date and calculate the sum of quantity and values\n",
    "purchase_by_date = data.groupby('purchase_date').agg({'quantity' : 'sum', 'purchase_value': 'sum'}).reset_index()\n",
    "purchase_by_date"
   ]
  },
  {
   "cell_type": "code",
   "execution_count": 52,
   "metadata": {},
   "outputs": [
    {
     "data": {
      "image/png": "[encoded data removed]",
      "text/plain": [
       "<Figure size 1000x500 with 2 Axes>"
      ]
     },
     "metadata": {
      "needs_background": "light"
     },
     "output_type": "display_data"
    }
   ],
   "source": [
    "#plot quantity and value by day before removing the quantity outliers\n",
    "fig, (ax1, ax2) = plt.subplots(1, 2, figsize=(10, 5))\n",
    "plt.suptitle('Purchase quantities and values')\n",
    "sns.lineplot(data=purchase_by_date, x='purchase_date',\n",
    "             y='quantity', ax=ax1, label='quantity')\n",
    "sns.lineplot(data=purchase_by_date,\n",
    "             x='purchase_date', \n",
    "             y='purchase_value', ax=ax2, label='purchase_value')\n",
    "\n",
    "ax1.set_xlabel('Date')\n",
    "ax1.set_ylabel('Total daily purchase quantity')\n",
    "for tick in ax1.get_xticklabels():\n",
    "    tick.set_rotation(45)\n",
    "\n",
    "ax2.set_xlabel('Date')\n",
    "ax2.set_ylabel('Total daily purchase value')\n",
    "for tick in ax2.get_xticklabels():\n",
    "    tick.set_rotation(45)\n",
    "plt.tight_layout()\n"
   ]
  },
  {
   "cell_type": "markdown",
   "metadata": {},
   "source": [
    "Before we remove the quantity outliers, we can see that the spike of purchase happened around mid of January. Given what the graphs look like, this seems to be a single purchase of large amount of small value item. Well let's take a look."
   ]
  },
  {
   "cell_type": "code",
   "execution_count": 53,
   "metadata": {},
   "outputs": [
    {
     "data": {
      "text/html": [
       "<div>\n",
       "<style scoped>\n",
       "    .dataframe tbody tr th:only-of-type {\n",
       "        vertical-align: middle;\n",
       "    }\n",
       "\n",
       "    .dataframe tbody tr th {\n",
       "        vertical-align: top;\n",
       "    }\n",
       "\n",
       "    .dataframe thead th {\n",
       "        text-align: right;\n",
       "    }\n",
       "</style>\n",
       "<table border=\"1\" class=\"dataframe\">\n",
       "  <thead>\n",
       "    <tr style=\"text-align: right;\">\n",
       "      <th></th>\n",
       "      <th>purchase_id</th>\n",
       "      <th>item_id</th>\n",
       "      <th>quantity</th>\n",
       "      <th>purchase_date</th>\n",
       "      <th>customer_id</th>\n",
       "      <th>loyalty_program</th>\n",
       "      <th>shop_id</th>\n",
       "      <th>unit_price</th>\n",
       "      <th>purchase_value</th>\n",
       "    </tr>\n",
       "  </thead>\n",
       "  <tbody>\n",
       "    <tr>\n",
       "      <th>51503</th>\n",
       "      <td>c541433</td>\n",
       "      <td>23166</td>\n",
       "      <td>74216</td>\n",
       "      <td>2017-01-18</td>\n",
       "      <td>18025.0</td>\n",
       "      <td>0</td>\n",
       "      <td>shop 21</td>\n",
       "      <td>1.04</td>\n",
       "      <td>77184.64</td>\n",
       "    </tr>\n",
       "  </tbody>\n",
       "</table>\n",
       "</div>"
      ],
      "text/plain": [
       "      purchase_id item_id  quantity purchase_date  customer_id  \\\n",
       "51503     c541433   23166     74216    2017-01-18      18025.0   \n",
       "\n",
       "       loyalty_program  shop_id  unit_price  purchase_value  \n",
       "51503                0  shop 21        1.04        77184.64  "
      ]
     },
     "execution_count": 53,
     "metadata": {},
     "output_type": "execute_result"
    }
   ],
   "source": [
    "data[data['quantity']== data['quantity'].max()]"
   ]
  },
  {
   "cell_type": "markdown",
   "metadata": {},
   "source": [
    "Yes indeed. This is one of our most extreme outlier purchase, made by a non loyalty program customer.\n",
    "\n",
    "Next, let's look at the purhcase quantity and value change over tiem after we remove the outliers."
   ]
  },
  {
   "cell_type": "code",
   "execution_count": 54,
   "metadata": {},
   "outputs": [
    {
     "data": {
      "image/png": "[encoded data removed]",
      "text/plain": [
       "<Figure size 1000x500 with 2 Axes>"
      ]
     },
     "metadata": {
      "needs_background": "light"
     },
     "output_type": "display_data"
    }
   ],
   "source": [
    "# plot the line graphs after removing the outlier quantities\n",
    "purchase_by_date_ = data.query('quantity<200').groupby('purchase_date').agg(\n",
    "    {'quantity': 'sum', 'purchase_value': 'sum'}).reset_index()\n",
    "\n",
    "fig, (ax1, ax2) = plt.subplots(1, 2, figsize=(10, 5))\n",
    "plt.suptitle('Purchase quantities and values (after removing the quantity outliers)')\n",
    "sns.lineplot(data=purchase_by_date_, x='purchase_date',\n",
    "             y='quantity', ax=ax1, label='quantity')\n",
    "sns.lineplot(data=purchase_by_date_,\n",
    "             x='purchase_date',\n",
    "             y='purchase_value', ax=ax2, label='purchase_value')\n",
    "\n",
    "ax1.set_xlabel('Date')\n",
    "ax1.set_ylabel('Total daily purchase quantity')\n",
    "for tick in ax1.get_xticklabels():\n",
    "    tick.set_rotation(45)\n",
    "\n",
    "ax2.set_xlabel('Date')\n",
    "ax2.set_ylabel('Total daily purchase value')\n",
    "for tick in ax2.get_xticklabels():\n",
    "    tick.set_rotation(45)\n",
    "plt.tight_layout()"
   ]
  },
  {
   "cell_type": "markdown",
   "metadata": {},
   "source": [
    "Excluding the outliers, we now see sychronous flutuations in purchase quantities and values. This might reflect weekday and weekend differences in purchases. However, we will not investigate further into this."
   ]
  },
  {
   "cell_type": "markdown",
   "metadata": {},
   "source": [
    "# 3.5 Purchase by stores"
   ]
  },
  {
   "cell_type": "code",
   "execution_count": 55,
   "metadata": {},
   "outputs": [
    {
     "data": {
      "text/plain": [
       "31"
      ]
     },
     "execution_count": 55,
     "metadata": {},
     "output_type": "execute_result"
    }
   ],
   "source": [
    "data['shop_id'].nunique()"
   ]
  },
  {
   "cell_type": "markdown",
   "metadata": {},
   "source": [
    "There are a total of 31 shops. Let's take a look at their overall sales performance before removing the quantity outliers."
   ]
  },
  {
   "cell_type": "code",
   "execution_count": 56,
   "metadata": {},
   "outputs": [
    {
     "data": {
      "text/html": [
       "<div>\n",
       "<style scoped>\n",
       "    .dataframe tbody tr th:only-of-type {\n",
       "        vertical-align: middle;\n",
       "    }\n",
       "\n",
       "    .dataframe tbody tr th {\n",
       "        vertical-align: top;\n",
       "    }\n",
       "\n",
       "    .dataframe thead th {\n",
       "        text-align: right;\n",
       "    }\n",
       "</style>\n",
       "<table border=\"1\" class=\"dataframe\">\n",
       "  <thead>\n",
       "    <tr style=\"text-align: right;\">\n",
       "      <th></th>\n",
       "      <th>shop_id</th>\n",
       "      <th>quantity</th>\n",
       "      <th>purchase_value</th>\n",
       "    </tr>\n",
       "  </thead>\n",
       "  <tbody>\n",
       "    <tr>\n",
       "      <th>0</th>\n",
       "      <td>shop 0</td>\n",
       "      <td>129212</td>\n",
       "      <td>137229.92</td>\n",
       "    </tr>\n",
       "    <tr>\n",
       "      <th>7</th>\n",
       "      <td>shop 15</td>\n",
       "      <td>111258</td>\n",
       "      <td>130907.16</td>\n",
       "    </tr>\n",
       "    <tr>\n",
       "      <th>14</th>\n",
       "      <td>shop 21</td>\n",
       "      <td>89969</td>\n",
       "      <td>99772.88</td>\n",
       "    </tr>\n",
       "    <tr>\n",
       "      <th>26</th>\n",
       "      <td>shop 5</td>\n",
       "      <td>42538</td>\n",
       "      <td>70588.60</td>\n",
       "    </tr>\n",
       "    <tr>\n",
       "      <th>25</th>\n",
       "      <td>shop 4</td>\n",
       "      <td>36761</td>\n",
       "      <td>48919.25</td>\n",
       "    </tr>\n",
       "    <tr>\n",
       "      <th>24</th>\n",
       "      <td>shop 30</td>\n",
       "      <td>34897</td>\n",
       "      <td>40804.53</td>\n",
       "    </tr>\n",
       "    <tr>\n",
       "      <th>13</th>\n",
       "      <td>shop 20</td>\n",
       "      <td>34700</td>\n",
       "      <td>61544.35</td>\n",
       "    </tr>\n",
       "    <tr>\n",
       "      <th>17</th>\n",
       "      <td>shop 24</td>\n",
       "      <td>31780</td>\n",
       "      <td>42378.34</td>\n",
       "    </tr>\n",
       "    <tr>\n",
       "      <th>5</th>\n",
       "      <td>shop 13</td>\n",
       "      <td>31415</td>\n",
       "      <td>48603.76</td>\n",
       "    </tr>\n",
       "    <tr>\n",
       "      <th>9</th>\n",
       "      <td>shop 17</td>\n",
       "      <td>31182</td>\n",
       "      <td>29020.97</td>\n",
       "    </tr>\n",
       "    <tr>\n",
       "      <th>23</th>\n",
       "      <td>shop 3</td>\n",
       "      <td>30736</td>\n",
       "      <td>36419.61</td>\n",
       "    </tr>\n",
       "    <tr>\n",
       "      <th>18</th>\n",
       "      <td>shop 25</td>\n",
       "      <td>30597</td>\n",
       "      <td>43361.08</td>\n",
       "    </tr>\n",
       "    <tr>\n",
       "      <th>2</th>\n",
       "      <td>shop 10</td>\n",
       "      <td>30572</td>\n",
       "      <td>37695.87</td>\n",
       "    </tr>\n",
       "    <tr>\n",
       "      <th>16</th>\n",
       "      <td>shop 23</td>\n",
       "      <td>30091</td>\n",
       "      <td>37233.03</td>\n",
       "    </tr>\n",
       "    <tr>\n",
       "      <th>30</th>\n",
       "      <td>shop 9</td>\n",
       "      <td>29369</td>\n",
       "      <td>38851.98</td>\n",
       "    </tr>\n",
       "    <tr>\n",
       "      <th>21</th>\n",
       "      <td>shop 28</td>\n",
       "      <td>28554</td>\n",
       "      <td>39727.79</td>\n",
       "    </tr>\n",
       "    <tr>\n",
       "      <th>10</th>\n",
       "      <td>shop 18</td>\n",
       "      <td>26414</td>\n",
       "      <td>34625.86</td>\n",
       "    </tr>\n",
       "    <tr>\n",
       "      <th>20</th>\n",
       "      <td>shop 27</td>\n",
       "      <td>25530</td>\n",
       "      <td>32420.60</td>\n",
       "    </tr>\n",
       "    <tr>\n",
       "      <th>12</th>\n",
       "      <td>shop 2</td>\n",
       "      <td>24940</td>\n",
       "      <td>29732.19</td>\n",
       "    </tr>\n",
       "    <tr>\n",
       "      <th>19</th>\n",
       "      <td>shop 26</td>\n",
       "      <td>24913</td>\n",
       "      <td>36948.67</td>\n",
       "    </tr>\n",
       "    <tr>\n",
       "      <th>15</th>\n",
       "      <td>shop 22</td>\n",
       "      <td>24411</td>\n",
       "      <td>32039.26</td>\n",
       "    </tr>\n",
       "    <tr>\n",
       "      <th>1</th>\n",
       "      <td>shop 1</td>\n",
       "      <td>24250</td>\n",
       "      <td>37889.14</td>\n",
       "    </tr>\n",
       "    <tr>\n",
       "      <th>29</th>\n",
       "      <td>shop 8</td>\n",
       "      <td>23569</td>\n",
       "      <td>34814.21</td>\n",
       "    </tr>\n",
       "    <tr>\n",
       "      <th>11</th>\n",
       "      <td>shop 19</td>\n",
       "      <td>22993</td>\n",
       "      <td>34110.04</td>\n",
       "    </tr>\n",
       "    <tr>\n",
       "      <th>27</th>\n",
       "      <td>shop 6</td>\n",
       "      <td>22835</td>\n",
       "      <td>31680.09</td>\n",
       "    </tr>\n",
       "    <tr>\n",
       "      <th>3</th>\n",
       "      <td>shop 11</td>\n",
       "      <td>22487</td>\n",
       "      <td>33370.25</td>\n",
       "    </tr>\n",
       "    <tr>\n",
       "      <th>22</th>\n",
       "      <td>shop 29</td>\n",
       "      <td>22004</td>\n",
       "      <td>36982.56</td>\n",
       "    </tr>\n",
       "    <tr>\n",
       "      <th>28</th>\n",
       "      <td>shop 7</td>\n",
       "      <td>21444</td>\n",
       "      <td>30487.08</td>\n",
       "    </tr>\n",
       "    <tr>\n",
       "      <th>6</th>\n",
       "      <td>shop 14</td>\n",
       "      <td>21177</td>\n",
       "      <td>30481.51</td>\n",
       "    </tr>\n",
       "    <tr>\n",
       "      <th>8</th>\n",
       "      <td>shop 16</td>\n",
       "      <td>19969</td>\n",
       "      <td>23926.92</td>\n",
       "    </tr>\n",
       "    <tr>\n",
       "      <th>4</th>\n",
       "      <td>shop 12</td>\n",
       "      <td>19088</td>\n",
       "      <td>25234.10</td>\n",
       "    </tr>\n",
       "  </tbody>\n",
       "</table>\n",
       "</div>"
      ],
      "text/plain": [
       "    shop_id  quantity  purchase_value\n",
       "0    shop 0    129212       137229.92\n",
       "7   shop 15    111258       130907.16\n",
       "14  shop 21     89969        99772.88\n",
       "26   shop 5     42538        70588.60\n",
       "25   shop 4     36761        48919.25\n",
       "24  shop 30     34897        40804.53\n",
       "13  shop 20     34700        61544.35\n",
       "17  shop 24     31780        42378.34\n",
       "5   shop 13     31415        48603.76\n",
       "9   shop 17     31182        29020.97\n",
       "23   shop 3     30736        36419.61\n",
       "18  shop 25     30597        43361.08\n",
       "2   shop 10     30572        37695.87\n",
       "16  shop 23     30091        37233.03\n",
       "30   shop 9     29369        38851.98\n",
       "21  shop 28     28554        39727.79\n",
       "10  shop 18     26414        34625.86\n",
       "20  shop 27     25530        32420.60\n",
       "12   shop 2     24940        29732.19\n",
       "19  shop 26     24913        36948.67\n",
       "15  shop 22     24411        32039.26\n",
       "1    shop 1     24250        37889.14\n",
       "29   shop 8     23569        34814.21\n",
       "11  shop 19     22993        34110.04\n",
       "27   shop 6     22835        31680.09\n",
       "3   shop 11     22487        33370.25\n",
       "22  shop 29     22004        36982.56\n",
       "28   shop 7     21444        30487.08\n",
       "6   shop 14     21177        30481.51\n",
       "8   shop 16     19969        23926.92\n",
       "4   shop 12     19088        25234.10"
      ]
     },
     "execution_count": 56,
     "metadata": {},
     "output_type": "execute_result"
    }
   ],
   "source": [
    "purchase_by_store = data.groupby('shop_id').agg(\n",
    "    {'quantity': 'sum', 'purchase_value': 'sum'}).reset_index()\n",
    "purchase_by_store.sort_values(by='quantity', ascending=False)"
   ]
  },
  {
   "cell_type": "markdown",
   "metadata": {},
   "source": [
    "High quantity in general also leads to high purchase values, but not always so. Next, let's make a scatterplot for store total quantity and values."
   ]
  },
  {
   "cell_type": "code",
   "execution_count": 57,
   "metadata": {},
   "outputs": [
    {
     "data": {
      "image/png": "[encoded data removed]",
      "text/plain": [
       "<Figure size 700x500 with 1 Axes>"
      ]
     },
     "metadata": {
      "needs_background": "light"
     },
     "output_type": "display_data"
    }
   ],
   "source": [
    "# plot the scatter plot before removing the outlier quantities\n",
    "sns.scatterplot(data=purchase_by_store,\n",
    "                x='quantity',\n",
    "                y='purchase_value')\n",
    "plt.title('Scatter plot of purchase quantity and value by store')\n",
    "plt.xlabel('Purchase quantity (store total)')\n",
    "plt.ylabel('Purchase value (store total)')\n",
    "\n",
    "for x, y, z in zip(purchase_by_store['shop_id'], \n",
    "                   purchase_by_store['purchase_value'], \n",
    "                   purchase_by_store['quantity']):\n",
    "    if y > np.percentile(purchase_by_store['purchase_value'], 80):\n",
    "        plt.text(x=z+1500,\n",
    "                 y=y-1000,\n",
    "                 s=x,\n",
    "                 color='purple')\n",
    "plt.show()"
   ]
  },
  {
   "cell_type": "markdown",
   "metadata": {},
   "source": [
    "Before we remove the quantity outliers, we can see that shop 0, shop 15, shop 21, shop 5, shop 20, and shop 4 are the top 5 performance stores, with the highest purchase quantity, as well as purchase values.\n",
    "\n",
    "Next, let's take a look at how they performed after we remove the outliers."
   ]
  },
  {
   "cell_type": "code",
   "execution_count": 58,
   "metadata": {},
   "outputs": [
    {
     "data": {
      "image/png": "[encoded data removed]",
      "text/plain": [
       "<Figure size 700x500 with 1 Axes>"
      ]
     },
     "metadata": {
      "needs_background": "light"
     },
     "output_type": "display_data"
    }
   ],
   "source": [
    "# plot the scatter plot after removing the outlier quantities\n",
    "purchase_by_store_ = data.query('quantity < 200').groupby('shop_id').agg(\n",
    "    {'quantity': 'sum', 'purchase_value': 'sum'}).reset_index()\n",
    "\n",
    "sns.scatterplot(data=purchase_by_store_,\n",
    "                x='quantity',\n",
    "                y='purchase_value')\n",
    "plt.title(\n",
    "    'Scatter plot of purchase quantity and value by store (after removing outliers)')\n",
    "plt.xlabel('Purchase quantity (store total)')\n",
    "plt.ylabel('Purchase value (store total)')\n",
    "\n",
    "for x, y, z in zip(purchase_by_store_['shop_id'],\n",
    "                   purchase_by_store_['purchase_value'],\n",
    "                   purchase_by_store_['quantity']):\n",
    "    if y > np.percentile(purchase_by_store_['purchase_value'], 80):\n",
    "        plt.text(x=z-8000,\n",
    "                 y=y+2000,\n",
    "                 s=x,\n",
    "                 color='purple',\n",
    "                 size=8)\n",
    "plt.show()"
   ]
  },
  {
   "cell_type": "code",
   "execution_count": 59,
   "metadata": {},
   "outputs": [
    {
     "data": {
      "text/html": [
       "<div>\n",
       "<style scoped>\n",
       "    .dataframe tbody tr th:only-of-type {\n",
       "        vertical-align: middle;\n",
       "    }\n",
       "\n",
       "    .dataframe tbody tr th {\n",
       "        vertical-align: top;\n",
       "    }\n",
       "\n",
       "    .dataframe thead th {\n",
       "        text-align: right;\n",
       "    }\n",
       "</style>\n",
       "<table border=\"1\" class=\"dataframe\">\n",
       "  <thead>\n",
       "    <tr style=\"text-align: right;\">\n",
       "      <th></th>\n",
       "      <th>shop_id</th>\n",
       "      <th>quantity</th>\n",
       "      <th>purchase_value</th>\n",
       "    </tr>\n",
       "  </thead>\n",
       "  <tbody>\n",
       "    <tr>\n",
       "      <th>0</th>\n",
       "      <td>shop 0</td>\n",
       "      <td>96217</td>\n",
       "      <td>126369.47</td>\n",
       "    </tr>\n",
       "    <tr>\n",
       "      <th>26</th>\n",
       "      <td>shop 5</td>\n",
       "      <td>29441</td>\n",
       "      <td>49346.18</td>\n",
       "    </tr>\n",
       "    <tr>\n",
       "      <th>5</th>\n",
       "      <td>shop 13</td>\n",
       "      <td>27707</td>\n",
       "      <td>45691.07</td>\n",
       "    </tr>\n",
       "    <tr>\n",
       "      <th>25</th>\n",
       "      <td>shop 4</td>\n",
       "      <td>31033</td>\n",
       "      <td>43319.61</td>\n",
       "    </tr>\n",
       "    <tr>\n",
       "      <th>18</th>\n",
       "      <td>shop 25</td>\n",
       "      <td>28224</td>\n",
       "      <td>41158.71</td>\n",
       "    </tr>\n",
       "  </tbody>\n",
       "</table>\n",
       "</div>"
      ],
      "text/plain": [
       "    shop_id  quantity  purchase_value\n",
       "0    shop 0     96217       126369.47\n",
       "26   shop 5     29441        49346.18\n",
       "5   shop 13     27707        45691.07\n",
       "25   shop 4     31033        43319.61\n",
       "18  shop 25     28224        41158.71"
      ]
     },
     "execution_count": 59,
     "metadata": {},
     "output_type": "execute_result"
    }
   ],
   "source": [
    "purchase_by_store_.sort_values(by='purchase_value', ascending=False).head()"
   ]
  },
  {
   "cell_type": "markdown",
   "metadata": {},
   "source": [
    "It's a little crowded above to see but we can still tell that shop 0 still appears to be the top performing store after removing the outliers. Following shop 0, the next 4 high performance shops are shop 5, shop 13, shop 4, and shop 25.\n",
    "\n",
    "Ideally, we can also take a look at purchase per customer by store. However, we have a large number of missing values in customer_id's and therefore we won't be able to perform this analysis here.\n",
    "\n",
    "With or without the outliers, shop 0 seems to be the star store among all."
   ]
  },
  {
   "cell_type": "markdown",
   "metadata": {},
   "source": [
    "# 3.6 Popular items"
   ]
  },
  {
   "cell_type": "markdown",
   "metadata": {},
   "source": [
    "Let's take a look at what items are sold the most across all stores."
   ]
  },
  {
   "cell_type": "code",
   "execution_count": 60,
   "metadata": {},
   "outputs": [
    {
     "data": {
      "text/html": [
       "<div>\n",
       "<style scoped>\n",
       "    .dataframe tbody tr th:only-of-type {\n",
       "        vertical-align: middle;\n",
       "    }\n",
       "\n",
       "    .dataframe tbody tr th {\n",
       "        vertical-align: top;\n",
       "    }\n",
       "\n",
       "    .dataframe thead th {\n",
       "        text-align: right;\n",
       "    }\n",
       "</style>\n",
       "<table border=\"1\" class=\"dataframe\">\n",
       "  <thead>\n",
       "    <tr style=\"text-align: right;\">\n",
       "      <th></th>\n",
       "      <th>item_id</th>\n",
       "      <th>quantity</th>\n",
       "    </tr>\n",
       "  </thead>\n",
       "  <tbody>\n",
       "    <tr>\n",
       "      <th>1837</th>\n",
       "      <td>23166</td>\n",
       "      <td>148430</td>\n",
       "    </tr>\n",
       "    <tr>\n",
       "      <th>2627</th>\n",
       "      <td>85123a</td>\n",
       "      <td>22566</td>\n",
       "    </tr>\n",
       "    <tr>\n",
       "      <th>2243</th>\n",
       "      <td>84347</td>\n",
       "      <td>11678</td>\n",
       "    </tr>\n",
       "    <tr>\n",
       "      <th>2215</th>\n",
       "      <td>84077</td>\n",
       "      <td>10126</td>\n",
       "    </tr>\n",
       "    <tr>\n",
       "      <th>413</th>\n",
       "      <td>21212</td>\n",
       "      <td>9359</td>\n",
       "    </tr>\n",
       "    <tr>\n",
       "      <th>2611</th>\n",
       "      <td>85099b</td>\n",
       "      <td>7761</td>\n",
       "    </tr>\n",
       "    <tr>\n",
       "      <th>1082</th>\n",
       "      <td>22197</td>\n",
       "      <td>6988</td>\n",
       "    </tr>\n",
       "    <tr>\n",
       "      <th>1538</th>\n",
       "      <td>22693</td>\n",
       "      <td>6830</td>\n",
       "    </tr>\n",
       "    <tr>\n",
       "      <th>1465</th>\n",
       "      <td>22616</td>\n",
       "      <td>5764</td>\n",
       "    </tr>\n",
       "    <tr>\n",
       "      <th>1930</th>\n",
       "      <td>37413</td>\n",
       "      <td>5672</td>\n",
       "    </tr>\n",
       "  </tbody>\n",
       "</table>\n",
       "</div>"
      ],
      "text/plain": [
       "     item_id  quantity\n",
       "1837   23166    148430\n",
       "2627  85123a     22566\n",
       "2243   84347     11678\n",
       "2215   84077     10126\n",
       "413    21212      9359\n",
       "2611  85099b      7761\n",
       "1082   22197      6988\n",
       "1538   22693      6830\n",
       "1465   22616      5764\n",
       "1930   37413      5672"
      ]
     },
     "execution_count": 60,
     "metadata": {},
     "output_type": "execute_result"
    }
   ],
   "source": [
    "data.groupby('item_id').agg({'quantity': 'sum'}).reset_index(\n",
    ").sort_values(by='quantity', ascending=False).head(10)"
   ]
  },
  {
   "cell_type": "code",
   "execution_count": 61,
   "metadata": {},
   "outputs": [
    {
     "data": {
      "image/png": "[encoded data removed]",
      "text/plain": [
       "<Figure size 700x500 with 1 Axes>"
      ]
     },
     "metadata": {
      "needs_background": "light"
     },
     "output_type": "display_data"
    }
   ],
   "source": [
    "data.groupby('item_id').agg({'quantity': 'sum'}).reset_index(\n",
    ").sort_values(by='quantity', ascending=False).head(10).plot(x='item_id', kind='bar')\n",
    "plt.title('Top 10 selling store items')\n",
    "plt.xlabel('Item ID')\n",
    "plt.ylabel('Total quantities sold')\n",
    "plt.xticks(rotation=45)\n",
    "plt.grid()\n",
    "plt.show()"
   ]
  },
  {
   "cell_type": "markdown",
   "metadata": {},
   "source": [
    "Outliers included, we can see that the top selling item in the stores is item 23166, which has sales quantities 7 times higher than the next item, 85123a."
   ]
  },
  {
   "cell_type": "code",
   "execution_count": 62,
   "metadata": {},
   "outputs": [
    {
     "data": {
      "image/png": "[encoded data removed]",
      "text/plain": [
       "<Figure size 700x500 with 1 Axes>"
      ]
     },
     "metadata": {
      "needs_background": "light"
     },
     "output_type": "display_data"
    }
   ],
   "source": [
    "#plot top selling items after removing the outliers\n",
    "data.query('quantity <200').groupby('item_id').agg({'quantity': 'sum'}).reset_index(\n",
    ").sort_values(by='quantity', ascending=False).head(10).plot(x='item_id', kind='bar')\n",
    "plt.title('Top 10 selling store items (after removal of outliers)')\n",
    "plt.xlabel('Item ID')\n",
    "plt.ylabel('Total quantities sold')\n",
    "plt.xticks(rotation=45)\n",
    "plt.grid()\n",
    "plt.show()"
   ]
  },
  {
   "cell_type": "markdown",
   "metadata": {},
   "source": [
    "After we remove the outliers, 85123a become the top selling item. However, unless it's an entry error, we probably don't need to exclude the outliers for the purpose of this analysis."
   ]
  },
  {
   "cell_type": "markdown",
   "metadata": {},
   "source": [
    "# 4.6 Proportion of loyalty customers"
   ]
  },
  {
   "cell_type": "code",
   "execution_count": 63,
   "metadata": {},
   "outputs": [
    {
     "data": {
      "text/plain": [
       "0    0.77574\n",
       "1    0.22426\n",
       "Name: loyalty_program, dtype: float64"
      ]
     },
     "execution_count": 63,
     "metadata": {},
     "output_type": "execute_result"
    }
   ],
   "source": [
    "data['loyalty_program'].value_counts()/data.shape[0]"
   ]
  },
  {
   "cell_type": "markdown",
   "metadata": {},
   "source": [
    "Overall, less than 25% of the purchases are made by customers who are not in the loyalty program. Let's see how that differs among stores."
   ]
  },
  {
   "cell_type": "code",
   "execution_count": 64,
   "metadata": {},
   "outputs": [
    {
     "data": {
      "image/png": "[encoded data removed]",
      "text/plain": [
       "<Figure size 700x500 with 1 Axes>"
      ]
     },
     "metadata": {
      "needs_background": "light"
     },
     "output_type": "display_data"
    }
   ],
   "source": [
    "data.groupby('shop_id').agg({'loyalty_program' :'mean'}).reset_index().hist()\n",
    "plt.title('Distribution of loyalty program purchase percentage among stores')\n",
    "plt.xlabel('Proportion of purcahses made by loyalty program customers')\n",
    "plt.ylabel('Number of stores')\n",
    "plt.show()"
   ]
  },
  {
   "cell_type": "markdown",
   "metadata": {},
   "source": [
    "We can see that for most of the store, loyalty program customer contribute to around 30-40% of the purchases."
   ]
  },
  {
   "cell_type": "markdown",
   "metadata": {},
   "source": [
    "# 4.7 Correlation between loyalty membership and purchases"
   ]
  },
  {
   "cell_type": "code",
   "execution_count": 65,
   "metadata": {},
   "outputs": [
    {
     "data": {
      "text/html": [
       "<div>\n",
       "<style scoped>\n",
       "    .dataframe tbody tr th:only-of-type {\n",
       "        vertical-align: middle;\n",
       "    }\n",
       "\n",
       "    .dataframe tbody tr th {\n",
       "        vertical-align: top;\n",
       "    }\n",
       "\n",
       "    .dataframe thead th {\n",
       "        text-align: right;\n",
       "    }\n",
       "</style>\n",
       "<table border=\"1\" class=\"dataframe\">\n",
       "  <thead>\n",
       "    <tr style=\"text-align: right;\">\n",
       "      <th></th>\n",
       "      <th>count</th>\n",
       "      <th>mean</th>\n",
       "      <th>std</th>\n",
       "      <th>min</th>\n",
       "      <th>25%</th>\n",
       "      <th>50%</th>\n",
       "      <th>75%</th>\n",
       "      <th>max</th>\n",
       "    </tr>\n",
       "    <tr>\n",
       "      <th>loyalty_program</th>\n",
       "      <th></th>\n",
       "      <th></th>\n",
       "      <th></th>\n",
       "      <th></th>\n",
       "      <th></th>\n",
       "      <th></th>\n",
       "      <th></th>\n",
       "      <th></th>\n",
       "    </tr>\n",
       "  </thead>\n",
       "  <tbody>\n",
       "    <tr>\n",
       "      <th>0</th>\n",
       "      <td>84665.0</td>\n",
       "      <td>10.081450</td>\n",
       "      <td>364.668401</td>\n",
       "      <td>0.0</td>\n",
       "      <td>0.0</td>\n",
       "      <td>2.0</td>\n",
       "      <td>7.0</td>\n",
       "      <td>74216.0</td>\n",
       "    </tr>\n",
       "    <tr>\n",
       "      <th>1</th>\n",
       "      <td>24476.0</td>\n",
       "      <td>10.055115</td>\n",
       "      <td>54.593324</td>\n",
       "      <td>0.0</td>\n",
       "      <td>1.0</td>\n",
       "      <td>3.0</td>\n",
       "      <td>9.0</td>\n",
       "      <td>3905.0</td>\n",
       "    </tr>\n",
       "  </tbody>\n",
       "</table>\n",
       "</div>"
      ],
      "text/plain": [
       "                   count       mean         std  min  25%  50%  75%      max\n",
       "loyalty_program                                                             \n",
       "0                84665.0  10.081450  364.668401  0.0  0.0  2.0  7.0  74216.0\n",
       "1                24476.0  10.055115   54.593324  0.0  1.0  3.0  9.0   3905.0"
      ]
     },
     "execution_count": 65,
     "metadata": {},
     "output_type": "execute_result"
    }
   ],
   "source": [
    "data.groupby('loyalty_program')['quantity'].describe()"
   ]
  },
  {
   "cell_type": "code",
   "execution_count": 66,
   "metadata": {},
   "outputs": [
    {
     "data": {
      "text/html": [
       "<div>\n",
       "<style scoped>\n",
       "    .dataframe tbody tr th:only-of-type {\n",
       "        vertical-align: middle;\n",
       "    }\n",
       "\n",
       "    .dataframe tbody tr th {\n",
       "        vertical-align: top;\n",
       "    }\n",
       "\n",
       "    .dataframe thead th {\n",
       "        text-align: right;\n",
       "    }\n",
       "</style>\n",
       "<table border=\"1\" class=\"dataframe\">\n",
       "  <thead>\n",
       "    <tr style=\"text-align: right;\">\n",
       "      <th></th>\n",
       "      <th>count</th>\n",
       "      <th>mean</th>\n",
       "      <th>std</th>\n",
       "      <th>min</th>\n",
       "      <th>25%</th>\n",
       "      <th>50%</th>\n",
       "      <th>75%</th>\n",
       "      <th>max</th>\n",
       "    </tr>\n",
       "    <tr>\n",
       "      <th>loyalty_program</th>\n",
       "      <th></th>\n",
       "      <th></th>\n",
       "      <th></th>\n",
       "      <th></th>\n",
       "      <th></th>\n",
       "      <th></th>\n",
       "      <th></th>\n",
       "      <th></th>\n",
       "    </tr>\n",
       "  </thead>\n",
       "  <tbody>\n",
       "    <tr>\n",
       "      <th>0</th>\n",
       "      <td>84440.0</td>\n",
       "      <td>6.874562</td>\n",
       "      <td>16.079821</td>\n",
       "      <td>0.0</td>\n",
       "      <td>0.0</td>\n",
       "      <td>2.0</td>\n",
       "      <td>7.0</td>\n",
       "      <td>199.0</td>\n",
       "    </tr>\n",
       "    <tr>\n",
       "      <th>1</th>\n",
       "      <td>24372.0</td>\n",
       "      <td>7.608280</td>\n",
       "      <td>16.224409</td>\n",
       "      <td>0.0</td>\n",
       "      <td>1.0</td>\n",
       "      <td>3.0</td>\n",
       "      <td>9.0</td>\n",
       "      <td>199.0</td>\n",
       "    </tr>\n",
       "  </tbody>\n",
       "</table>\n",
       "</div>"
      ],
      "text/plain": [
       "                   count      mean        std  min  25%  50%  75%    max\n",
       "loyalty_program                                                         \n",
       "0                84440.0  6.874562  16.079821  0.0  0.0  2.0  7.0  199.0\n",
       "1                24372.0  7.608280  16.224409  0.0  1.0  3.0  9.0  199.0"
      ]
     },
     "execution_count": 66,
     "metadata": {},
     "output_type": "execute_result"
    }
   ],
   "source": [
    "data.query('quantity<200').groupby('loyalty_program')['quantity'].describe()"
   ]
  },
  {
   "cell_type": "code",
   "execution_count": 67,
   "metadata": {},
   "outputs": [
    {
     "data": {
      "text/html": [
       "<div>\n",
       "<style scoped>\n",
       "    .dataframe tbody tr th:only-of-type {\n",
       "        vertical-align: middle;\n",
       "    }\n",
       "\n",
       "    .dataframe tbody tr th {\n",
       "        vertical-align: top;\n",
       "    }\n",
       "\n",
       "    .dataframe thead th {\n",
       "        text-align: right;\n",
       "    }\n",
       "</style>\n",
       "<table border=\"1\" class=\"dataframe\">\n",
       "  <thead>\n",
       "    <tr style=\"text-align: right;\">\n",
       "      <th></th>\n",
       "      <th>count</th>\n",
       "      <th>mean</th>\n",
       "      <th>std</th>\n",
       "      <th>min</th>\n",
       "      <th>25%</th>\n",
       "      <th>50%</th>\n",
       "      <th>75%</th>\n",
       "      <th>max</th>\n",
       "    </tr>\n",
       "    <tr>\n",
       "      <th>loyalty_program</th>\n",
       "      <th></th>\n",
       "      <th></th>\n",
       "      <th></th>\n",
       "      <th></th>\n",
       "      <th></th>\n",
       "      <th></th>\n",
       "      <th></th>\n",
       "      <th></th>\n",
       "    </tr>\n",
       "  </thead>\n",
       "  <tbody>\n",
       "    <tr>\n",
       "      <th>0</th>\n",
       "      <td>84665.0</td>\n",
       "      <td>13.061982</td>\n",
       "      <td>382.552732</td>\n",
       "      <td>0.0</td>\n",
       "      <td>0.0</td>\n",
       "      <td>1.45</td>\n",
       "      <td>9.66</td>\n",
       "      <td>77184.64</td>\n",
       "    </tr>\n",
       "    <tr>\n",
       "      <th>1</th>\n",
       "      <td>24476.0</td>\n",
       "      <td>13.152024</td>\n",
       "      <td>83.884436</td>\n",
       "      <td>0.0</td>\n",
       "      <td>0.0</td>\n",
       "      <td>3.32</td>\n",
       "      <td>11.05</td>\n",
       "      <td>6689.67</td>\n",
       "    </tr>\n",
       "  </tbody>\n",
       "</table>\n",
       "</div>"
      ],
      "text/plain": [
       "                   count       mean         std  min  25%   50%    75%  \\\n",
       "loyalty_program                                                          \n",
       "0                84665.0  13.061982  382.552732  0.0  0.0  1.45   9.66   \n",
       "1                24476.0  13.152024   83.884436  0.0  0.0  3.32  11.05   \n",
       "\n",
       "                      max  \n",
       "loyalty_program            \n",
       "0                77184.64  \n",
       "1                 6689.67  "
      ]
     },
     "execution_count": 67,
     "metadata": {},
     "output_type": "execute_result"
    }
   ],
   "source": [
    "data.groupby('loyalty_program')['purchase_value'].describe()"
   ]
  },
  {
   "cell_type": "code",
   "execution_count": 68,
   "metadata": {},
   "outputs": [
    {
     "data": {
      "text/html": [
       "<div>\n",
       "<style scoped>\n",
       "    .dataframe tbody tr th:only-of-type {\n",
       "        vertical-align: middle;\n",
       "    }\n",
       "\n",
       "    .dataframe tbody tr th {\n",
       "        vertical-align: top;\n",
       "    }\n",
       "\n",
       "    .dataframe thead th {\n",
       "        text-align: right;\n",
       "    }\n",
       "</style>\n",
       "<table border=\"1\" class=\"dataframe\">\n",
       "  <thead>\n",
       "    <tr style=\"text-align: right;\">\n",
       "      <th></th>\n",
       "      <th>count</th>\n",
       "      <th>mean</th>\n",
       "      <th>std</th>\n",
       "      <th>min</th>\n",
       "      <th>25%</th>\n",
       "      <th>50%</th>\n",
       "      <th>75%</th>\n",
       "      <th>max</th>\n",
       "    </tr>\n",
       "    <tr>\n",
       "      <th>loyalty_program</th>\n",
       "      <th></th>\n",
       "      <th></th>\n",
       "      <th></th>\n",
       "      <th></th>\n",
       "      <th></th>\n",
       "      <th></th>\n",
       "      <th></th>\n",
       "      <th></th>\n",
       "    </tr>\n",
       "  </thead>\n",
       "  <tbody>\n",
       "    <tr>\n",
       "      <th>0</th>\n",
       "      <td>84440.0</td>\n",
       "      <td>9.888135</td>\n",
       "      <td>34.373919</td>\n",
       "      <td>0.0</td>\n",
       "      <td>0.0</td>\n",
       "      <td>1.45</td>\n",
       "      <td>9.615</td>\n",
       "      <td>1482.74</td>\n",
       "    </tr>\n",
       "    <tr>\n",
       "      <th>1</th>\n",
       "      <td>24372.0</td>\n",
       "      <td>10.546041</td>\n",
       "      <td>29.687659</td>\n",
       "      <td>0.0</td>\n",
       "      <td>0.0</td>\n",
       "      <td>3.30</td>\n",
       "      <td>10.900</td>\n",
       "      <td>1317.50</td>\n",
       "    </tr>\n",
       "  </tbody>\n",
       "</table>\n",
       "</div>"
      ],
      "text/plain": [
       "                   count       mean        std  min  25%   50%     75%  \\\n",
       "loyalty_program                                                          \n",
       "0                84440.0   9.888135  34.373919  0.0  0.0  1.45   9.615   \n",
       "1                24372.0  10.546041  29.687659  0.0  0.0  3.30  10.900   \n",
       "\n",
       "                     max  \n",
       "loyalty_program           \n",
       "0                1482.74  \n",
       "1                1317.50  "
      ]
     },
     "execution_count": 68,
     "metadata": {},
     "output_type": "execute_result"
    }
   ],
   "source": [
    "data.query('quantity<200').groupby('loyalty_program')['purchase_value'].describe()"
   ]
  },
  {
   "cell_type": "markdown",
   "metadata": {},
   "source": [
    "Next, let's also plot the daily changes to average purchase quantity for both customer groups."
   ]
  },
  {
   "cell_type": "code",
   "execution_count": 69,
   "metadata": {},
   "outputs": [],
   "source": [
    "purchase_loyalty_date = data.query('quantity<200').groupby(['loyalty_program', 'purchase_date']).agg(\n",
    "    {'quantity': 'sum', 'purchase_value': 'sum', 'purchase_id':'count'}).reset_index()"
   ]
  },
  {
   "cell_type": "code",
   "execution_count": 70,
   "metadata": {},
   "outputs": [],
   "source": [
    "purchase_loyalty_date['average_quantity'] = purchase_loyalty_date['quantity'] / \\\n",
    "    purchase_loyalty_date['purchase_id']"
   ]
  },
  {
   "cell_type": "code",
   "execution_count": 71,
   "metadata": {},
   "outputs": [
    {
     "data": {
      "image/png": "[encoded data removed]",
      "text/plain": [
       "<Figure size 700x500 with 1 Axes>"
      ]
     },
     "metadata": {
      "needs_background": "light"
     },
     "output_type": "display_data"
    }
   ],
   "source": [
    "sns.lineplot(data=purchase_loyalty_date, x='purchase_date',\n",
    "             y='average_quantity', hue = 'loyalty_program')\n",
    "plt.title('Daily purchase quantity by customer group')\n",
    "plt.xlabel('Date')\n",
    "plt.ylabel('Total daily purchase quantity')\n",
    "plt.xticks(rotation=45)\n",
    "plt.legend()\n",
    "plt.show()"
   ]
  },
  {
   "cell_type": "markdown",
   "metadata": {},
   "source": [
    "From the above we can see that for both customer groups there are some outliers in purchase quantities towards the higher end.\n",
    "\n",
    "Excluding the outliers, purchases by customers from loyalty program have a slightly higer mean and median purchase quantity. The mean and median purchase value for loyalty program customers are also higher than those who are not in the loyalty program.\n",
    "\n",
    "A plot of the daily average purchase quantity also shows loyalty program customers performed slightly better than thsoe who are not in the program.\n",
    "\n",
    "In the next section, we will carry out a statistical testing to see if the difference is significant."
   ]
  },
  {
   "cell_type": "markdown",
   "metadata": {},
   "source": [
    "# 4.8 Correlation between proportion of loyalty program cutomers purchases and store performance"
   ]
  },
  {
   "cell_type": "code",
   "execution_count": 72,
   "metadata": {},
   "outputs": [
    {
     "data": {
      "text/html": [
       "<div>\n",
       "<style scoped>\n",
       "    .dataframe tbody tr th:only-of-type {\n",
       "        vertical-align: middle;\n",
       "    }\n",
       "\n",
       "    .dataframe tbody tr th {\n",
       "        vertical-align: top;\n",
       "    }\n",
       "\n",
       "    .dataframe thead th {\n",
       "        text-align: right;\n",
       "    }\n",
       "</style>\n",
       "<table border=\"1\" class=\"dataframe\">\n",
       "  <thead>\n",
       "    <tr style=\"text-align: right;\">\n",
       "      <th></th>\n",
       "      <th>shop_id</th>\n",
       "      <th>loyalty_program</th>\n",
       "      <th>quantity</th>\n",
       "      <th>purchase_value</th>\n",
       "    </tr>\n",
       "  </thead>\n",
       "  <tbody>\n",
       "    <tr>\n",
       "      <th>0</th>\n",
       "      <td>shop 0</td>\n",
       "      <td>0.021635</td>\n",
       "      <td>96217</td>\n",
       "      <td>126369.47</td>\n",
       "    </tr>\n",
       "    <tr>\n",
       "      <th>1</th>\n",
       "      <td>shop 1</td>\n",
       "      <td>0.354480</td>\n",
       "      <td>21497</td>\n",
       "      <td>30268.60</td>\n",
       "    </tr>\n",
       "    <tr>\n",
       "      <th>2</th>\n",
       "      <td>shop 10</td>\n",
       "      <td>0.301987</td>\n",
       "      <td>23576</td>\n",
       "      <td>35241.06</td>\n",
       "    </tr>\n",
       "    <tr>\n",
       "      <th>3</th>\n",
       "      <td>shop 11</td>\n",
       "      <td>0.410072</td>\n",
       "      <td>20409</td>\n",
       "      <td>29467.83</td>\n",
       "    </tr>\n",
       "    <tr>\n",
       "      <th>4</th>\n",
       "      <td>shop 12</td>\n",
       "      <td>0.333333</td>\n",
       "      <td>17751</td>\n",
       "      <td>24959.99</td>\n",
       "    </tr>\n",
       "  </tbody>\n",
       "</table>\n",
       "</div>"
      ],
      "text/plain": [
       "   shop_id  loyalty_program  quantity  purchase_value\n",
       "0   shop 0         0.021635     96217       126369.47\n",
       "1   shop 1         0.354480     21497        30268.60\n",
       "2  shop 10         0.301987     23576        35241.06\n",
       "3  shop 11         0.410072     20409        29467.83\n",
       "4  shop 12         0.333333     17751        24959.99"
      ]
     },
     "execution_count": 72,
     "metadata": {},
     "output_type": "execute_result"
    }
   ],
   "source": [
    "#calculate percentage of loyalty customer purcahses and sum of purchase\n",
    "loyalty_purchase = data.query('quantity<200').groupby('shop_id').agg(\n",
    "    {'loyalty_program': 'mean', 'quantity': 'sum', 'purchase_value': 'sum'}).reset_index()\n",
    "loyalty_purchase.head()"
   ]
  },
  {
   "cell_type": "code",
   "execution_count": 73,
   "metadata": {},
   "outputs": [
    {
     "data": {
      "image/png": "[encoded data removed]",
      "text/plain": [
       "<Figure size 700x500 with 1 Axes>"
      ]
     },
     "metadata": {
      "needs_background": "light"
     },
     "output_type": "display_data"
    }
   ],
   "source": [
    "#scatterplot proportion of loyalty program purchaess and total purchase value by store\n",
    "sns.scatterplot(data=loyalty_purchase,\n",
    "                x='loyalty_program',\n",
    "                y='purchase_value')\n",
    "plt.title(\n",
    "    'Proportion of loyalty program customer purchases and purchase value by store',\n",
    "    pad=12)\n",
    "plt.xlabel('proportion of loyalty program customer purchases')\n",
    "plt.ylabel('Purchase value (store total)')\n",
    "plt.show()"
   ]
  },
  {
   "cell_type": "markdown",
   "metadata": {},
   "source": [
    "Here we don't really see any clear correlation patterns. Most of the stores are scattered in the right bottom corner whereas one shop (shop 0) has the lowest proportion of loyalty program customer purchases but the highest total purchase value."
   ]
  },
  {
   "cell_type": "markdown",
   "metadata": {},
   "source": [
    "# Part 3 summary"
   ]
  },
  {
   "cell_type": "markdown",
   "metadata": {},
   "source": [
    "In this section, results of the exploratory data analysis reveals that there are indeed outliers in purchase quantities. Excluding these outliers, shop 0, shop 5, shop 13, shop 4, and shop 25 are the top performing stores in terms of both quantity and values. Shop 0, in particular, stands out as the sales star with or without the quantity outliers.\n",
    "\n",
    "Comparing the average quantity and values, we can see purchases made by loyalty program customers are higher than those made by others in both asepcts. However, we do need to keep in mind that the two groups vary significantly in size: none loyalty program customer purchases also triple the loyalty program customer purchases.\n",
    "\n",
    "In the next section, we will carry out two statistical tests to compare the two groups' average purchase quantity and value."
   ]
  },
  {
   "cell_type": "markdown",
   "metadata": {},
   "source": [
    "# Part 4: Hypothesis testing"
   ]
  },
  {
   "cell_type": "markdown",
   "metadata": {},
   "source": [
    "In this section, we will perform two statistical significance testing.\n",
    "\n",
    "The first will test the mean purchase quantities between loyalty program and non loyalty program customers. Our null hypothesis is that customers from loyalty programs have the same average purchase quantities as those who are not from loyalty programs. The alternative hypothesis is that they are different.\n",
    "\n",
    "The second will test the mean purchase values between loyalty program and non loyalty program customers. Our null hypothesis is that customers from loyalty programs have the same average purchase values as those who are not from loyalty programs. The alternative hypothesis is that they are different.\n",
    "\n",
    "We will use the data removed of the outliers in purchase quantity. The purchase values are related to purchase quantities with an additional factor of unit price. It is considered important to carry out both testings because we want to see if customers in the loyalty program are more likely to purchase expensive products and generate higher average purchase values.\n",
    "\n",
    "A T test will be performed for both. Assumptions to carry out T test are considered to have been met because the purcahses in the data are independant of one another. From previous visualization we already clearly see that neither the purchase quantity or values are normally distributed. However, the sample size for both loyalty program and non loyalty program customer purchases are large in this project. Therefore, the two-sample t-test is robust to non-normality due to the central limit theorem.\n",
    "\n",
    "For both statistical testing, as well as the Shapiro normality test and the levene equal variance testing, we will set alpha as 0.05.\n",
    "\n",
    "For the statistical testing, quantity is being used twice, once in testing if the mean quantity is the same, second time in testing if the mean purchase value is the same (purchaes value is the result of quantity * unit_price). Therefore we will adjust the alpha value using Bonferoni method and divide it by 2, which would be 0.025."
   ]
  },
  {
   "cell_type": "markdown",
   "metadata": {},
   "source": [
    "# Tesing 1: purchase quantities"
   ]
  },
  {
   "cell_type": "code",
   "execution_count": 74,
   "metadata": {},
   "outputs": [],
   "source": [
    "#slice two subsets for testing \n",
    "loyalty_quantity = data.query('(quantity<200) & (loyalty_program == 1)')['quantity']\n",
    "non_loyalty_quantity = data.query('(quantity<200) & (loyalty_program == 0)')['quantity']"
   ]
  },
  {
   "cell_type": "code",
   "execution_count": 75,
   "metadata": {},
   "outputs": [
    {
     "name": "stdout",
     "output_type": "stream",
     "text": [
      "Mean of loyalty program customer purchase quantity:  7.608279993435089\n",
      "\n",
      "Mean of non loyalty program customer purchase quantity:  6.874561819043108\n"
     ]
    }
   ],
   "source": [
    "print('Mean of loyalty program customer purchase quantity: ',\n",
    "      loyalty_quantity.mean())\n",
    "print('\\nMean of non loyalty program customer purchase quantity: ',\n",
    "      non_loyalty_quantity.mean())"
   ]
  },
  {
   "cell_type": "markdown",
   "metadata": {},
   "source": [
    "First, we need to do a shapiro test to see if the two sets of scores are from a normal distribution. We perhaps don't really need to do this as we can already tell from previous visualization. But let's go ahead anyway."
   ]
  },
  {
   "cell_type": "code",
   "execution_count": 76,
   "metadata": {},
   "outputs": [
    {
     "data": {
      "text/plain": [
       "(0.44701772928237915, 0.0)"
      ]
     },
     "execution_count": 76,
     "metadata": {},
     "output_type": "execute_result"
    }
   ],
   "source": [
    "st.shapiro(loyalty_quantity)"
   ]
  },
  {
   "cell_type": "code",
   "execution_count": 77,
   "metadata": {},
   "outputs": [
    {
     "data": {
      "text/plain": [
       "(0.42407339811325073, 0.0)"
      ]
     },
     "execution_count": 77,
     "metadata": {},
     "output_type": "execute_result"
    }
   ],
   "source": [
    "st.shapiro(non_loyalty_quantity)"
   ]
  },
  {
   "cell_type": "markdown",
   "metadata": {},
   "source": [
    "As expected, neither is from a normal distribution. So we will use levene test again to check on variance."
   ]
  },
  {
   "cell_type": "code",
   "execution_count": 78,
   "metadata": {},
   "outputs": [
    {
     "data": {
      "text/plain": [
       "LeveneResult(statistic=5.283793780036412, pvalue=0.02152668372780346)"
      ]
     },
     "execution_count": 78,
     "metadata": {},
     "output_type": "execute_result"
    }
   ],
   "source": [
    "st.levene(loyalty_quantity, non_loyalty_quantity, center = 'mean')"
   ]
  },
  {
   "cell_type": "markdown",
   "metadata": {},
   "source": [
    "The test above results in a pvalue smaller than 0.05, therefore we will set equal_var as False."
   ]
  },
  {
   "cell_type": "code",
   "execution_count": 79,
   "metadata": {},
   "outputs": [
    {
     "data": {
      "text/plain": [
       "4.660841530510829e-10"
      ]
     },
     "execution_count": 79,
     "metadata": {},
     "output_type": "execute_result"
    }
   ],
   "source": [
    "st.ttest_ind(loyalty_quantity, non_loyalty_quantity, equal_var=False).pvalue"
   ]
  },
  {
   "cell_type": "markdown",
   "metadata": {},
   "source": [
    "Pvalue from the above is very small and smaller than 0.025. Therefore we can reject the null hypothesis, average purchase quantity from loyalty program customers are not the same as none loyalty program customers.\n",
    "\n",
    "If we are to perform a one sided test and set the alternative hypothesis as loyalty program customers have a higher average purchase quantities than non loyalty program customers, we will divided the pvalue by 2."
   ]
  },
  {
   "cell_type": "code",
   "execution_count": 80,
   "metadata": {},
   "outputs": [
    {
     "data": {
      "text/plain": [
       "2.3304207652554143e-10"
      ]
     },
     "execution_count": 80,
     "metadata": {},
     "output_type": "execute_result"
    }
   ],
   "source": [
    "st.ttest_ind(loyalty_quantity, non_loyalty_quantity, equal_var=False).pvalue/2"
   ]
  },
  {
   "cell_type": "markdown",
   "metadata": {},
   "source": [
    "The result, as we would expect, is much smaller than alpha level 0.025. Therefore we can again reject the null hypothesis and conclude that loyalty program customers make a higher average purchase quantity than non loyalty program customers."
   ]
  },
  {
   "cell_type": "markdown",
   "metadata": {},
   "source": [
    "# Testing 2"
   ]
  },
  {
   "cell_type": "code",
   "execution_count": 81,
   "metadata": {},
   "outputs": [],
   "source": [
    "#slice two subsets for testing \n",
    "loyalty_value = data.query('(quantity<200) & (loyalty_program == 1)')['purchase_value']\n",
    "non_loyalty_value = data.query('(quantity<200) & (loyalty_program == 0)')['purchase_value']\n",
    "\n"
   ]
  },
  {
   "cell_type": "code",
   "execution_count": 82,
   "metadata": {},
   "outputs": [
    {
     "name": "stdout",
     "output_type": "stream",
     "text": [
      "Mean of loyalty program customer purchase value:  10.546040948629575\n",
      "\n",
      "Mean of non loyalty program customer purchase value:  9.888134770251066\n"
     ]
    }
   ],
   "source": [
    "print('Mean of loyalty program customer purchase value: ',\n",
    "      loyalty_value.mean())\n",
    "print('\\nMean of non loyalty program customer purchase value: ',\n",
    "      non_loyalty_value.mean())"
   ]
  },
  {
   "cell_type": "code",
   "execution_count": 83,
   "metadata": {},
   "outputs": [
    {
     "data": {
      "text/plain": [
       "(0.3100327253341675, 0.0)"
      ]
     },
     "execution_count": 83,
     "metadata": {},
     "output_type": "execute_result"
    }
   ],
   "source": [
    "st.shapiro(loyalty_value)"
   ]
  },
  {
   "cell_type": "code",
   "execution_count": 84,
   "metadata": {},
   "outputs": [
    {
     "data": {
      "text/plain": [
       "(0.24890673160552979, 0.0)"
      ]
     },
     "execution_count": 84,
     "metadata": {},
     "output_type": "execute_result"
    }
   ],
   "source": [
    "st.shapiro(non_loyalty_value)"
   ]
  },
  {
   "cell_type": "markdown",
   "metadata": {},
   "source": [
    "Neither is from a normal distribution. So we will use levene test again to check on variance."
   ]
  },
  {
   "cell_type": "code",
   "execution_count": 85,
   "metadata": {},
   "outputs": [
    {
     "data": {
      "text/plain": [
       "LeveneResult(statistic=2.6261026313718805, pvalue=0.10512235642678254)"
      ]
     },
     "execution_count": 85,
     "metadata": {},
     "output_type": "execute_result"
    }
   ],
   "source": [
    "st.levene(loyalty_value, non_loyalty_value, center = 'mean')"
   ]
  },
  {
   "cell_type": "markdown",
   "metadata": {},
   "source": [
    "The test above results in a pvalue higher than 0.05, therefore we will set equal_var as True."
   ]
  },
  {
   "cell_type": "code",
   "execution_count": 86,
   "metadata": {},
   "outputs": [
    {
     "data": {
      "text/plain": [
       "0.006720541665389104"
      ]
     },
     "execution_count": 86,
     "metadata": {},
     "output_type": "execute_result"
    }
   ],
   "source": [
    "st.ttest_ind(loyalty_value, non_loyalty_value, equal_var=True).pvalue"
   ]
  },
  {
   "cell_type": "markdown",
   "metadata": {},
   "source": [
    "Pvalue from the above is very small and smaller than 0.025. Therefore we can reject the null hypothesis, average purchase value from loyalty program customers are not the same as none loyalty program customers.\n",
    "\n",
    "Similarly, the alternative hypothesis if we are to perform a one sided test is loyalty program customers make higher average purchases than none loyalty program customers. Dividing the pvalue by 2 make it even smaller and therefore still smaller than pvalue 0.025.\n",
    "\n",
    "Therefore we can reject the null hypothesis and conclude that loyalty program customers have higher average purchase values than none loyalty program customers."
   ]
  },
  {
   "cell_type": "markdown",
   "metadata": {},
   "source": [
    "# Part 4 summary"
   ]
  },
  {
   "cell_type": "markdown",
   "metadata": {},
   "source": [
    "In this section, the results of our statistical testing show that loyalty program customers on average make higher quantity purchases and generate higher purchase values. This is useful insights for the company when it needs to justify the promotion of loyalty programs."
   ]
  },
  {
   "cell_type": "markdown",
   "metadata": {},
   "source": [
    "# Part 5: Findings and conclusions "
   ]
  },
  {
   "cell_type": "markdown",
   "metadata": {},
   "source": [
    "In conclusion, examination of the purchase data from 2016-12-01 to 2017-02-28 from a total of 31 Home World retail stores reveal that the top 5 performing stores are shop 0, shop 5, shop 13, shop 4, and shop 25. Shop 0 in particular stands out to have performed the best even taking into account of the outliers in the data.\n",
    "\n",
    "Overall the purchase quantity and values fluctuate throughout the weeks, except when an extremely large amount of a particular item was purchased on 2017-01-18.\n",
    "\n",
    "Analysis of the data shows that loyalty program customers contribute to close to 25% of the toal purchases. On average, loyalty program customers make larger quantity purchase and generate higher values than the customers not in the program.\n",
    "\n",
    "As a next step, the company could further investigate the top performing stores if it's interested in finding out why they outperformed the others, especially shop 0.\n",
    "\n",
    "It also makes sense to promote loyalty programs among the customers given it seems to boost customer purchases. $20 a month seems a little expensive as membership fees, especially considering most companies nowadays offer free loyalty membership. Perhaps the company could try promote free loyalty program membership if monthly spend exceeds certain amount, or free membership for the first 3 months or so."
   ]
  },
  {
   "cell_type": "markdown",
   "metadata": {},
   "source": [
    "# Part 6: Resources"
   ]
  },
  {
   "cell_type": "markdown",
   "metadata": {},
   "source": [
    "How to label data in seaborn plots : This article helps with highlighting particular values on seaborn graphs.\n",
    "https://medium.com/swlh/quick-guide-to-labelling-data-for-common-seaborn-plots-736e10bf14a9\n",
    "\n",
    "How to rotate xtick labels: I struggled with rotating the dates as xticklabels and this thread really helped.\n",
    "https://stackoverflow.com/questions/43152502/how-can-i-rotate-xticklabels-in-matplotlib-so-that-the-spacing-between-each-xtic\n",
    "\n",
    "50 stats about good loyalty programs: This article gives some insights into what loyalty programs work and why, which I found helpful in writing up the conclusions.\n",
    "https://www.forbes.com/sites/blakemorgan/2020/05/07/50-stats-that-show-the-importance-of-good-loyalty-programs-even-during-a-crisis/?sh=300130772410\n",
    "\n",
    "Choosing Mann whitney u test: this article and the two below help with the decision on which statistical test to use.\n",
    "https://thestatsgeek.com/2014/04/12/is-the-wilcoxon-mann-whitney-test-a-good-non-parametric-alternative-to-the-t-test/\n",
    "\n",
    "Further read on Mann Whitney U test: http://thestatsgeek.com/2014/04/12/is-the-wilcoxon-mann-whitney-test-a-good-non-parametric-alternative-to-the-t-test/\n",
    "\n",
    "Further read T test: https://stats.stackexchange.com/questions/9573/t-test-for-non-normal-when-n50"
   ]
  }
 ],
 "metadata": {
  "ExecuteTimeLog": [
   {
    "duration": 92,
    "start_time": "2022-02-03T17:26:50.930Z"
   },
   {
    "duration": 83,
    "start_time": "2022-02-03T17:32:09.542Z"
   },
   {
    "duration": 1669,
    "start_time": "2022-02-03T17:32:18.497Z"
   },
   {
    "duration": 282,
    "start_time": "2022-02-03T17:33:02.389Z"
   },
   {
    "duration": 14,
    "start_time": "2022-02-03T17:33:12.816Z"
   },
   {
    "duration": 8,
    "start_time": "2022-02-03T17:33:22.499Z"
   },
   {
    "duration": 8,
    "start_time": "2022-02-03T17:33:51.332Z"
   },
   {
    "duration": 114,
    "start_time": "2022-02-03T17:34:02.342Z"
   },
   {
    "duration": 7,
    "start_time": "2022-02-03T17:34:07.006Z"
   },
   {
    "duration": 3,
    "start_time": "2022-02-03T17:34:33.787Z"
   },
   {
    "duration": 270,
    "start_time": "2022-02-03T17:34:44.643Z"
   },
   {
    "duration": 12,
    "start_time": "2022-02-03T17:34:56.056Z"
   },
   {
    "duration": 19,
    "start_time": "2022-02-03T17:35:06.333Z"
   },
   {
    "duration": 8,
    "start_time": "2022-02-03T17:35:15.591Z"
   },
   {
    "duration": 7,
    "start_time": "2022-02-03T17:35:24.799Z"
   },
   {
    "duration": 21,
    "start_time": "2022-02-03T17:36:02.170Z"
   },
   {
    "duration": 35,
    "start_time": "2022-02-03T17:36:14.799Z"
   },
   {
    "duration": 15,
    "start_time": "2022-02-03T17:36:41.895Z"
   },
   {
    "duration": 10,
    "start_time": "2022-02-03T17:37:08.907Z"
   },
   {
    "duration": 7,
    "start_time": "2022-02-03T17:37:24.274Z"
   },
   {
    "duration": 64,
    "start_time": "2022-02-03T17:38:02.645Z"
   },
   {
    "duration": 35,
    "start_time": "2022-02-03T17:38:31.110Z"
   },
   {
    "duration": 15,
    "start_time": "2022-02-03T17:38:43.640Z"
   },
   {
    "duration": 9,
    "start_time": "2022-02-03T17:39:10.359Z"
   },
   {
    "duration": 17,
    "start_time": "2022-02-03T17:39:20.071Z"
   },
   {
    "duration": 9,
    "start_time": "2022-02-03T17:39:29.442Z"
   },
   {
    "duration": 16,
    "start_time": "2022-02-03T17:39:38.936Z"
   },
   {
    "duration": 5,
    "start_time": "2022-02-03T17:39:52.214Z"
   },
   {
    "duration": 9,
    "start_time": "2022-02-03T17:40:02.861Z"
   },
   {
    "duration": 5,
    "start_time": "2022-02-03T17:40:17.836Z"
   },
   {
    "duration": 16,
    "start_time": "2022-02-03T17:40:28.855Z"
   },
   {
    "duration": 306,
    "start_time": "2022-02-03T20:46:46.767Z"
   },
   {
    "duration": 1486,
    "start_time": "2022-02-03T20:47:00.430Z"
   },
   {
    "duration": 564,
    "start_time": "2022-02-03T20:47:01.918Z"
   },
   {
    "duration": 13,
    "start_time": "2022-02-03T20:47:02.484Z"
   },
   {
    "duration": 7,
    "start_time": "2022-02-03T20:47:02.499Z"
   },
   {
    "duration": 13,
    "start_time": "2022-02-03T20:47:02.508Z"
   },
   {
    "duration": 6,
    "start_time": "2022-02-03T20:47:03.019Z"
   },
   {
    "duration": 3,
    "start_time": "2022-02-03T20:47:04.039Z"
   },
   {
    "duration": 412,
    "start_time": "2022-02-03T20:47:04.306Z"
   },
   {
    "duration": 12,
    "start_time": "2022-02-03T20:47:04.720Z"
   },
   {
    "duration": 19,
    "start_time": "2022-02-03T20:47:04.947Z"
   },
   {
    "duration": 8,
    "start_time": "2022-02-03T20:47:05.733Z"
   },
   {
    "duration": 7,
    "start_time": "2022-02-03T20:47:06.786Z"
   },
   {
    "duration": 19,
    "start_time": "2022-02-03T20:47:07.519Z"
   },
   {
    "duration": 35,
    "start_time": "2022-02-03T20:47:07.864Z"
   },
   {
    "duration": 16,
    "start_time": "2022-02-03T20:47:08.543Z"
   },
   {
    "duration": 10,
    "start_time": "2022-02-03T20:47:09.144Z"
   },
   {
    "duration": 7,
    "start_time": "2022-02-03T20:47:09.544Z"
   },
   {
    "duration": 51,
    "start_time": "2022-02-03T20:47:10.014Z"
   },
   {
    "duration": 34,
    "start_time": "2022-02-03T20:47:10.822Z"
   },
   {
    "duration": 17,
    "start_time": "2022-02-03T20:47:11.086Z"
   },
   {
    "duration": 8,
    "start_time": "2022-02-03T20:47:12.057Z"
   },
   {
    "duration": 16,
    "start_time": "2022-02-03T20:47:12.278Z"
   },
   {
    "duration": 8,
    "start_time": "2022-02-03T20:47:12.606Z"
   },
   {
    "duration": 16,
    "start_time": "2022-02-03T20:47:12.867Z"
   },
   {
    "duration": 5,
    "start_time": "2022-02-03T20:47:13.250Z"
   },
   {
    "duration": 8,
    "start_time": "2022-02-03T20:47:13.697Z"
   },
   {
    "duration": 5,
    "start_time": "2022-02-03T20:47:16.224Z"
   },
   {
    "duration": 17,
    "start_time": "2022-02-03T20:47:16.742Z"
   },
   {
    "duration": 118,
    "start_time": "2022-02-03T20:47:19.176Z"
   },
   {
    "duration": 77,
    "start_time": "2022-02-03T20:47:46.448Z"
   },
   {
    "duration": 18,
    "start_time": "2022-02-03T20:48:13.799Z"
   },
   {
    "duration": 12,
    "start_time": "2022-02-03T20:48:40.764Z"
   },
   {
    "duration": 3417,
    "start_time": "2022-02-03T20:49:18.019Z"
   },
   {
    "duration": 6,
    "start_time": "2022-02-03T20:49:48.725Z"
   },
   {
    "duration": 12,
    "start_time": "2022-02-03T20:50:13.896Z"
   },
   {
    "duration": 58,
    "start_time": "2022-02-03T21:02:59.284Z"
   },
   {
    "duration": 16,
    "start_time": "2022-02-03T21:03:12.215Z"
   },
   {
    "duration": 446,
    "start_time": "2022-02-03T21:03:40.252Z"
   },
   {
    "duration": 6,
    "start_time": "2022-02-03T21:04:11.332Z"
   },
   {
    "duration": 381,
    "start_time": "2022-02-03T21:04:48.707Z"
   },
   {
    "duration": 73,
    "start_time": "2022-02-03T21:05:27.037Z"
   },
   {
    "duration": 822,
    "start_time": "2022-02-03T21:05:58.871Z"
   },
   {
    "duration": 13,
    "start_time": "2022-02-03T21:07:11.329Z"
   },
   {
    "duration": 778,
    "start_time": "2022-02-03T21:08:32.907Z"
   },
   {
    "duration": 11,
    "start_time": "2022-02-03T21:09:11.670Z"
   },
   {
    "duration": 21,
    "start_time": "2022-02-03T21:10:03.994Z"
   },
   {
    "duration": 509,
    "start_time": "2022-02-03T21:10:32.416Z"
   },
   {
    "duration": 393,
    "start_time": "2022-02-03T21:10:58.619Z"
   },
   {
    "duration": 10,
    "start_time": "2022-02-03T21:11:10.693Z"
   },
   {
    "duration": 22,
    "start_time": "2022-02-03T21:12:01.343Z"
   },
   {
    "duration": 341,
    "start_time": "2022-02-03T21:12:12.842Z"
   },
   {
    "duration": 345,
    "start_time": "2022-02-03T21:13:33.318Z"
   },
   {
    "duration": 7,
    "start_time": "2022-02-03T21:14:14.950Z"
   },
   {
    "duration": 289,
    "start_time": "2022-02-03T21:14:36.826Z"
   },
   {
    "duration": 29,
    "start_time": "2022-02-03T21:15:30.488Z"
   },
   {
    "duration": 40,
    "start_time": "2022-02-03T21:15:42.606Z"
   },
   {
    "duration": 26,
    "start_time": "2022-02-03T21:15:56.368Z"
   },
   {
    "duration": 41,
    "start_time": "2022-02-03T21:16:10.394Z"
   },
   {
    "duration": 37,
    "start_time": "2022-02-03T21:16:39.575Z"
   },
   {
    "duration": 6,
    "start_time": "2022-02-03T21:16:49.608Z"
   },
   {
    "duration": 426,
    "start_time": "2022-02-03T21:17:06.646Z"
   },
   {
    "duration": 33,
    "start_time": "2022-02-03T21:17:50.747Z"
   },
   {
    "duration": 403,
    "start_time": "2022-02-03T21:18:06.691Z"
   },
   {
    "duration": 24,
    "start_time": "2022-02-03T21:19:40.378Z"
   },
   {
    "duration": 5,
    "start_time": "2022-02-03T21:19:51.738Z"
   },
   {
    "duration": 5,
    "start_time": "2022-02-03T21:20:15.194Z"
   },
   {
    "duration": 9,
    "start_time": "2022-02-03T21:20:24.682Z"
   },
   {
    "duration": 6,
    "start_time": "2022-02-03T21:20:49.846Z"
   },
   {
    "duration": 6,
    "start_time": "2022-02-03T21:21:18.829Z"
   },
   {
    "duration": 6,
    "start_time": "2022-02-03T21:21:45.527Z"
   },
   {
    "duration": 102,
    "start_time": "2022-02-03T21:22:36.412Z"
   },
   {
    "duration": 25,
    "start_time": "2022-02-03T21:22:40.700Z"
   },
   {
    "duration": 5,
    "start_time": "2022-02-03T21:22:54.647Z"
   },
   {
    "duration": 7,
    "start_time": "2022-02-03T21:23:05.217Z"
   },
   {
    "duration": 9,
    "start_time": "2022-02-03T21:23:18.347Z"
   },
   {
    "duration": 7,
    "start_time": "2022-02-03T21:23:40.964Z"
   },
   {
    "duration": 6,
    "start_time": "2022-02-03T21:24:40.663Z"
   },
   {
    "duration": 345,
    "start_time": "2022-02-05T17:20:22.919Z"
   },
   {
    "duration": 1099,
    "start_time": "2022-02-05T17:21:22.217Z"
   },
   {
    "duration": 776,
    "start_time": "2022-02-05T17:21:26.860Z"
   },
   {
    "duration": 15,
    "start_time": "2022-02-05T17:21:30.530Z"
   },
   {
    "duration": 10,
    "start_time": "2022-02-05T17:21:33.225Z"
   },
   {
    "duration": 7,
    "start_time": "2022-02-05T17:21:54.774Z"
   },
   {
    "duration": 9,
    "start_time": "2022-02-05T17:21:55.137Z"
   },
   {
    "duration": 2,
    "start_time": "2022-02-05T17:21:57.518Z"
   },
   {
    "duration": 294,
    "start_time": "2022-02-05T17:21:59.257Z"
   },
   {
    "duration": 11,
    "start_time": "2022-02-05T17:22:02.560Z"
   },
   {
    "duration": 21,
    "start_time": "2022-02-05T17:22:06.527Z"
   },
   {
    "duration": 6,
    "start_time": "2022-02-05T17:22:06.550Z"
   },
   {
    "duration": 10,
    "start_time": "2022-02-05T17:22:06.965Z"
   },
   {
    "duration": 17,
    "start_time": "2022-02-05T17:22:57.558Z"
   },
   {
    "duration": 31,
    "start_time": "2022-02-05T17:22:58.167Z"
   },
   {
    "duration": 16,
    "start_time": "2022-02-05T17:23:10.873Z"
   },
   {
    "duration": 8,
    "start_time": "2022-02-05T17:23:27.884Z"
   },
   {
    "duration": 5,
    "start_time": "2022-02-05T17:23:34.460Z"
   },
   {
    "duration": 47,
    "start_time": "2022-02-05T17:23:50.723Z"
   },
   {
    "duration": 29,
    "start_time": "2022-02-05T17:23:58.973Z"
   },
   {
    "duration": 14,
    "start_time": "2022-02-05T17:23:59.530Z"
   },
   {
    "duration": 8,
    "start_time": "2022-02-05T17:24:22.693Z"
   },
   {
    "duration": 10,
    "start_time": "2022-02-05T17:24:23.247Z"
   },
   {
    "duration": 9,
    "start_time": "2022-02-05T17:24:23.787Z"
   },
   {
    "duration": 9,
    "start_time": "2022-02-05T17:24:24.393Z"
   },
   {
    "duration": 5,
    "start_time": "2022-02-05T17:24:24.886Z"
   },
   {
    "duration": 7,
    "start_time": "2022-02-05T17:24:33.657Z"
   },
   {
    "duration": 6,
    "start_time": "2022-02-05T17:24:34.113Z"
   },
   {
    "duration": 11,
    "start_time": "2022-02-05T17:24:34.978Z"
   },
   {
    "duration": 78,
    "start_time": "2022-02-05T17:26:46.024Z"
   },
   {
    "duration": 87,
    "start_time": "2022-02-05T17:26:50.507Z"
   },
   {
    "duration": 18,
    "start_time": "2022-02-05T17:26:53.520Z"
   },
   {
    "duration": 11,
    "start_time": "2022-02-05T17:27:03.010Z"
   },
   {
    "duration": 3059,
    "start_time": "2022-02-05T17:27:30.092Z"
   },
   {
    "duration": 5,
    "start_time": "2022-02-05T17:27:48.452Z"
   },
   {
    "duration": 10,
    "start_time": "2022-02-05T17:27:50.831Z"
   },
   {
    "duration": 57,
    "start_time": "2022-02-05T17:29:17.556Z"
   },
   {
    "duration": 55,
    "start_time": "2022-02-05T17:29:37.477Z"
   },
   {
    "duration": 13,
    "start_time": "2022-02-05T17:29:49.337Z"
   },
   {
    "duration": 1318,
    "start_time": "2022-02-05T17:29:56.627Z"
   },
   {
    "duration": 5,
    "start_time": "2022-02-05T17:32:46.733Z"
   },
   {
    "duration": 256,
    "start_time": "2022-02-05T17:32:50.732Z"
   },
   {
    "duration": 7,
    "start_time": "2022-02-05T17:32:53.928Z"
   },
   {
    "duration": 305,
    "start_time": "2022-02-05T17:33:44.072Z"
   },
   {
    "duration": 315,
    "start_time": "2022-02-05T17:33:52.274Z"
   },
   {
    "duration": 254,
    "start_time": "2022-02-05T17:33:56.374Z"
   },
   {
    "duration": 252,
    "start_time": "2022-02-05T17:34:10.083Z"
   },
   {
    "duration": 441,
    "start_time": "2022-02-05T17:34:40.002Z"
   },
   {
    "duration": 5,
    "start_time": "2022-02-05T17:34:55.635Z"
   },
   {
    "duration": 328,
    "start_time": "2022-02-05T17:35:11.272Z"
   },
   {
    "duration": 59,
    "start_time": "2022-02-05T17:36:29.297Z"
   },
   {
    "duration": 730,
    "start_time": "2022-02-05T17:36:40.569Z"
   },
   {
    "duration": 12,
    "start_time": "2022-02-05T17:37:02.351Z"
   },
   {
    "duration": 725,
    "start_time": "2022-02-05T17:37:12.224Z"
   },
   {
    "duration": 11,
    "start_time": "2022-02-05T17:37:25.649Z"
   },
   {
    "duration": 21,
    "start_time": "2022-02-05T17:37:29.461Z"
   },
   {
    "duration": 369,
    "start_time": "2022-02-05T17:37:42.861Z"
   },
   {
    "duration": 371,
    "start_time": "2022-02-05T17:37:53.099Z"
   },
   {
    "duration": 9,
    "start_time": "2022-02-05T17:38:02.519Z"
   },
   {
    "duration": 24,
    "start_time": "2022-02-05T17:38:40.883Z"
   },
   {
    "duration": 353,
    "start_time": "2022-02-05T17:38:43.403Z"
   },
   {
    "duration": 275,
    "start_time": "2022-02-05T17:38:53.823Z"
   },
   {
    "duration": 6,
    "start_time": "2022-02-05T17:39:01.517Z"
   },
   {
    "duration": 236,
    "start_time": "2022-02-05T17:39:07.163Z"
   },
   {
    "duration": 24,
    "start_time": "2022-02-05T17:39:12.524Z"
   },
   {
    "duration": 38,
    "start_time": "2022-02-05T17:39:12.724Z"
   },
   {
    "duration": 24,
    "start_time": "2022-02-05T17:39:13.114Z"
   },
   {
    "duration": 38,
    "start_time": "2022-02-05T17:39:13.334Z"
   },
   {
    "duration": 34,
    "start_time": "2022-02-05T17:39:24.988Z"
   },
   {
    "duration": 4,
    "start_time": "2022-02-05T17:39:25.329Z"
   },
   {
    "duration": 313,
    "start_time": "2022-02-05T17:39:25.666Z"
   },
   {
    "duration": 36,
    "start_time": "2022-02-05T17:39:53.014Z"
   },
   {
    "duration": 348,
    "start_time": "2022-02-05T17:39:54.336Z"
   },
   {
    "duration": 25,
    "start_time": "2022-02-05T17:46:59.219Z"
   },
   {
    "duration": 5,
    "start_time": "2022-02-05T17:46:59.850Z"
   },
   {
    "duration": 7,
    "start_time": "2022-02-05T17:47:05.401Z"
   },
   {
    "duration": 6,
    "start_time": "2022-02-05T17:47:05.878Z"
   },
   {
    "duration": 6,
    "start_time": "2022-02-05T17:47:10.268Z"
   },
   {
    "duration": 6,
    "start_time": "2022-02-05T17:47:11.092Z"
   },
   {
    "duration": 7,
    "start_time": "2022-02-05T17:47:40.389Z"
   },
   {
    "duration": 24,
    "start_time": "2022-02-05T17:47:49.515Z"
   },
   {
    "duration": 5,
    "start_time": "2022-02-05T17:47:50.525Z"
   },
   {
    "duration": 5,
    "start_time": "2022-02-05T17:47:51.046Z"
   },
   {
    "duration": 8,
    "start_time": "2022-02-05T17:47:51.324Z"
   },
   {
    "duration": 6,
    "start_time": "2022-02-05T17:47:51.769Z"
   },
   {
    "duration": 6,
    "start_time": "2022-02-05T17:47:52.308Z"
   },
   {
    "duration": 60,
    "start_time": "2022-02-05T17:51:39.755Z"
   }
  ],
  "kernelspec": {
   "display_name": "Python 3",
   "language": "python",
   "name": "python3"
  },
  "language_info": {
   "codemirror_mode": {
    "name": "ipython",
    "version": 3
   },
   "file_extension": ".py",
   "mimetype": "text/x-python",
   "name": "python",
   "nbconvert_exporter": "python",
   "pygments_lexer": "ipython3",
   "version": "3.7.6"
  },
  "toc": {
   "base_numbering": 1,
   "nav_menu": {},
   "number_sections": true,
   "sideBar": true,
   "skip_h1_title": true,
   "title_cell": "Table of Contents",
   "title_sidebar": "Contents",
   "toc_cell": false,
   "toc_position": {},
   "toc_section_display": true,
   "toc_window_display": false
  }
 },
 "nbformat": 4,
 "nbformat_minor": 2
}
