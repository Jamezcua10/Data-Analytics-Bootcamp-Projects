{
 "cells": [
  {
   "cell_type": "markdown",
   "metadata": {},
   "source": [
    "# Title: Trending Videos Report"
   ]
  },
  {
   "cell_type": "markdown",
   "metadata": {},
   "source": [
    "# Author : James Amezcua"
   ]
  },
  {
   "cell_type": "markdown",
   "metadata": {},
   "source": [
    "# Introduction"
   ]
  },
  {
   "cell_type": "markdown",
   "metadata": {},
   "source": [
    "This report presents the analysis of the trending video data from 5 countries."
   ]
  },
  {
   "cell_type": "markdown",
   "metadata": {},
   "source": [
    "# Table of content"
   ]
  },
  {
   "cell_type": "markdown",
   "metadata": {},
   "source": [
    "Part 1 : Data importing\n",
    "\n",
    "Part 2 : EDA"
   ]
  },
  {
   "cell_type": "code",
   "execution_count": 2,
   "metadata": {},
   "outputs": [
    {
     "data": {
      "text/html": [
       "        <script type=\"text/javascript\">\n",
       "        window.PlotlyConfig = {MathJaxConfig: 'local'};\n",
       "        if (window.MathJax) {MathJax.Hub.Config({SVG: {font: \"STIX-Web\"}});}\n",
       "        if (typeof require !== 'undefined') {\n",
       "        require.undef(\"plotly\");\n",
       "        requirejs.config({\n",
       "            paths: {\n",
       "                'plotly': ['https://cdn.plot.ly/plotly-latest.min']\n",
       "            }\n",
       "        });\n",
       "        require(['plotly'], function(Plotly) {\n",
       "            window._Plotly = Plotly;\n",
       "        });\n",
       "        }\n",
       "        </script>\n",
       "        "
      ]
     },
     "metadata": {},
     "output_type": "display_data"
    }
   ],
   "source": [
    "import pandas as pd\n",
    "import numpy as np\n",
    "import plotly.express as px \n",
    "#import cufflinks as cf\n",
    "from plotly import graph_objects as go\n",
    "from plotly.offline import download_plotlyjs, init_notebook_mode, plot\n",
    "init_notebook_mode(connected=True)\n",
    "#cf.go_offline()\n",
    "from matplotlib import pyplot as plt\n",
    "from IPython.display import display\n",
    "import seaborn as sns\n",
    "sns.set_style('whitegrid')\n",
    "sns.set_context('notebook')\n",
    "sns.set_palette('colorblind')\n",
    "import warnings\n",
    "warnings.filterwarnings(\"ignore\")\n",
    "%matplotlib inline\n",
    "\n",
    "#!pip install --upgrade plotly\n"
   ]
  },
  {
   "cell_type": "code",
   "execution_count": 3,
   "metadata": {},
   "outputs": [
    {
     "name": "stdout",
     "output_type": "stream",
     "text": [
      "Requirement already up-to-date: pandas in ./opt/anaconda3/lib/python3.7/site-packages (1.3.5)\n",
      "Requirement already satisfied, skipping upgrade: numpy>=1.17.3; platform_machine != \"aarch64\" and platform_machine != \"arm64\" and python_version < \"3.10\" in ./opt/anaconda3/lib/python3.7/site-packages (from pandas) (1.18.1)\n",
      "Requirement already satisfied, skipping upgrade: python-dateutil>=2.7.3 in ./opt/anaconda3/lib/python3.7/site-packages (from pandas) (2.8.1)\n",
      "Requirement already satisfied, skipping upgrade: pytz>=2017.3 in ./opt/anaconda3/lib/python3.7/site-packages (from pandas) (2019.3)\n",
      "Requirement already satisfied, skipping upgrade: six>=1.5 in ./opt/anaconda3/lib/python3.7/site-packages (from python-dateutil>=2.7.3->pandas) (1.14.0)\n",
      "Note: you may need to restart the kernel to use updated packages.\n"
     ]
    }
   ],
   "source": [
    "pip install --upgrade pandas"
   ]
  },
  {
   "cell_type": "markdown",
   "metadata": {},
   "source": [
    "# Part 1 : Data importing"
   ]
  },
  {
   "cell_type": "code",
   "execution_count": 4,
   "metadata": {},
   "outputs": [],
   "source": [
    "videos = pd.read_csv('https://code.s3.yandex.net/datasets/trending_by_time.csv')"
   ]
  },
  {
   "cell_type": "code",
   "execution_count": 5,
   "metadata": {},
   "outputs": [
    {
     "name": "stdout",
     "output_type": "stream",
     "text": [
      "<class 'pandas.core.frame.DataFrame'>\n",
      "RangeIndex: 12343 entries, 0 to 12342\n",
      "Data columns (total 5 columns):\n",
      " #   Column          Non-Null Count  Dtype \n",
      "---  ------          --------------  ----- \n",
      " 0   record_id       12343 non-null  int64 \n",
      " 1   region          12343 non-null  object\n",
      " 2   trending_date   12343 non-null  object\n",
      " 3   category_title  12343 non-null  object\n",
      " 4   videos_count    12343 non-null  int64 \n",
      "dtypes: int64(2), object(3)\n",
      "memory usage: 482.3+ KB\n"
     ]
    }
   ],
   "source": [
    "videos.info()"
   ]
  },
  {
   "cell_type": "code",
   "execution_count": 6,
   "metadata": {},
   "outputs": [
    {
     "data": {
      "text/plain": [
       "count    12343.000000\n",
       "mean        27.545167\n",
       "std         29.793491\n",
       "min          2.000000\n",
       "25%          8.000000\n",
       "50%         18.000000\n",
       "75%         36.000000\n",
       "max        220.000000\n",
       "Name: videos_count, dtype: float64"
      ]
     },
     "execution_count": 6,
     "metadata": {},
     "output_type": "execute_result"
    }
   ],
   "source": [
    "videos['videos_count'].describe()"
   ]
  },
  {
   "cell_type": "code",
   "execution_count": 7,
   "metadata": {},
   "outputs": [
    {
     "data": {
      "text/plain": [
       "0"
      ]
     },
     "execution_count": 7,
     "metadata": {},
     "output_type": "execute_result"
    }
   ],
   "source": [
    "videos.duplicated().sum()"
   ]
  },
  {
   "cell_type": "code",
   "execution_count": 8,
   "metadata": {},
   "outputs": [
    {
     "data": {
      "text/plain": [
       "record_id         0\n",
       "region            0\n",
       "trending_date     0\n",
       "category_title    0\n",
       "videos_count      0\n",
       "dtype: int64"
      ]
     },
     "execution_count": 8,
     "metadata": {},
     "output_type": "execute_result"
    }
   ],
   "source": [
    "videos.isna().sum()"
   ]
  },
  {
   "cell_type": "code",
   "execution_count": 9,
   "metadata": {},
   "outputs": [],
   "source": [
    "#videos['trending_date'].unique()"
   ]
  },
  {
   "cell_type": "code",
   "execution_count": 10,
   "metadata": {},
   "outputs": [
    {
     "data": {
      "text/plain": [
       "2018-05-11    69\n",
       "2018-06-03    69\n",
       "2018-02-28    69\n",
       "2018-04-23    68\n",
       "2018-02-16    68\n",
       "              ..\n",
       "2017-12-14    51\n",
       "2018-02-03    51\n",
       "2017-12-15    50\n",
       "2018-02-04    50\n",
       "2017-12-24    49\n",
       "Name: trending_date, Length: 205, dtype: int64"
      ]
     },
     "execution_count": 10,
     "metadata": {},
     "output_type": "execute_result"
    }
   ],
   "source": [
    "videos['trending_date'] = pd.to_datetime(videos['trending_date'], \n",
    "                                         format = '%Y-%m-%d')\n",
    "videos['trending_date'].value_counts()"
   ]
  },
  {
   "cell_type": "code",
   "execution_count": 11,
   "metadata": {},
   "outputs": [
    {
     "name": "stdout",
     "output_type": "stream",
     "text": [
      "<class 'pandas.core.frame.DataFrame'>\n",
      "RangeIndex: 12343 entries, 0 to 12342\n",
      "Data columns (total 5 columns):\n",
      " #   Column          Non-Null Count  Dtype         \n",
      "---  ------          --------------  -----         \n",
      " 0   record_id       12343 non-null  int64         \n",
      " 1   region          12343 non-null  object        \n",
      " 2   trending_date   12343 non-null  datetime64[ns]\n",
      " 3   category_title  12343 non-null  category      \n",
      " 4   videos_count    12343 non-null  int64         \n",
      "dtypes: category(1), datetime64[ns](1), int64(2), object(1)\n",
      "memory usage: 398.6+ KB\n"
     ]
    }
   ],
   "source": [
    "videos['category_title'] = videos['category_title'].astype('category')\n",
    "videos.info()"
   ]
  },
  {
   "cell_type": "code",
   "execution_count": 12,
   "metadata": {},
   "outputs": [],
   "source": [
    "videos['region'] = videos['region'].astype('category')"
   ]
  },
  {
   "cell_type": "markdown",
   "metadata": {},
   "source": [
    "# Part 2: EDA"
   ]
  },
  {
   "cell_type": "markdown",
   "metadata": {},
   "source": [
    "- Which video categories trended most often?\n",
    "- How were they distributed among regions?\n",
    "- What categories were especially popular in the United States?\n",
    "- Were there any differences between the categories popular in the US and those popular elsewhere?"
   ]
  },
  {
   "cell_type": "code",
   "execution_count": 13,
   "metadata": {},
   "outputs": [
    {
     "data": {
      "text/html": [
       "<div>\n",
       "<style scoped>\n",
       "    .dataframe tbody tr th:only-of-type {\n",
       "        vertical-align: middle;\n",
       "    }\n",
       "\n",
       "    .dataframe tbody tr th {\n",
       "        vertical-align: top;\n",
       "    }\n",
       "\n",
       "    .dataframe thead th {\n",
       "        text-align: right;\n",
       "    }\n",
       "</style>\n",
       "<table border=\"1\" class=\"dataframe\">\n",
       "  <thead>\n",
       "    <tr style=\"text-align: right;\">\n",
       "      <th></th>\n",
       "      <th>record_id</th>\n",
       "      <th>region</th>\n",
       "      <th>trending_date</th>\n",
       "      <th>category_title</th>\n",
       "      <th>videos_count</th>\n",
       "    </tr>\n",
       "  </thead>\n",
       "  <tbody>\n",
       "    <tr>\n",
       "      <th>0</th>\n",
       "      <td>1</td>\n",
       "      <td>France</td>\n",
       "      <td>2017-11-14</td>\n",
       "      <td>Autos &amp; Vehicles</td>\n",
       "      <td>8</td>\n",
       "    </tr>\n",
       "    <tr>\n",
       "      <th>1</th>\n",
       "      <td>2</td>\n",
       "      <td>France</td>\n",
       "      <td>2017-11-15</td>\n",
       "      <td>Autos &amp; Vehicles</td>\n",
       "      <td>2</td>\n",
       "    </tr>\n",
       "    <tr>\n",
       "      <th>2</th>\n",
       "      <td>3</td>\n",
       "      <td>France</td>\n",
       "      <td>2017-11-16</td>\n",
       "      <td>Autos &amp; Vehicles</td>\n",
       "      <td>6</td>\n",
       "    </tr>\n",
       "    <tr>\n",
       "      <th>3</th>\n",
       "      <td>4</td>\n",
       "      <td>France</td>\n",
       "      <td>2017-11-17</td>\n",
       "      <td>Autos &amp; Vehicles</td>\n",
       "      <td>8</td>\n",
       "    </tr>\n",
       "    <tr>\n",
       "      <th>4</th>\n",
       "      <td>5</td>\n",
       "      <td>France</td>\n",
       "      <td>2017-11-18</td>\n",
       "      <td>Autos &amp; Vehicles</td>\n",
       "      <td>4</td>\n",
       "    </tr>\n",
       "  </tbody>\n",
       "</table>\n",
       "</div>"
      ],
      "text/plain": [
       "   record_id  region trending_date    category_title  videos_count\n",
       "0          1  France    2017-11-14  Autos & Vehicles             8\n",
       "1          2  France    2017-11-15  Autos & Vehicles             2\n",
       "2          3  France    2017-11-16  Autos & Vehicles             6\n",
       "3          4  France    2017-11-17  Autos & Vehicles             8\n",
       "4          5  France    2017-11-18  Autos & Vehicles             4"
      ]
     },
     "execution_count": 13,
     "metadata": {},
     "output_type": "execute_result"
    }
   ],
   "source": [
    "videos.head()"
   ]
  },
  {
   "cell_type": "code",
   "execution_count": 14,
   "metadata": {},
   "outputs": [
    {
     "data": {
      "text/plain": [
       "18"
      ]
     },
     "execution_count": 14,
     "metadata": {},
     "output_type": "execute_result"
    }
   ],
   "source": [
    "videos['category_title'].nunique()"
   ]
  },
  {
   "cell_type": "markdown",
   "metadata": {},
   "source": [
    "# Daily trending videos by category"
   ]
  },
  {
   "cell_type": "code",
   "execution_count": 15,
   "metadata": {},
   "outputs": [],
   "source": [
    "#only choosing those with aggregated videos count over 10000\n",
    "top_8 = videos.groupby('category_title').agg({'videos_count': 'sum'}).sort_values(by='videos_count',\n",
    "                                                                          ascending=False).reset_index().head(8)"
   ]
  },
  {
   "cell_type": "code",
   "execution_count": 16,
   "metadata": {},
   "outputs": [],
   "source": [
    "top_8_categories = top_8['category_title'].values.tolist()"
   ]
  },
  {
   "cell_type": "code",
   "execution_count": 17,
   "metadata": {},
   "outputs": [],
   "source": [
    "#creating new column to only keep the names of the top 8 categories\n",
    "videos['top_8'] = np.where(videos['category_title'].isin(top_8_categories), \n",
    "                           videos['category_title'], 'Others')"
   ]
  },
  {
   "cell_type": "code",
   "execution_count": 18,
   "metadata": {},
   "outputs": [
    {
     "data": {
      "text/plain": [
       "Others              4834\n",
       "Entertainment        942\n",
       "People & Blogs       942\n",
       "Comedy               940\n",
       "News & Politics      939\n",
       "Film & Animation     938\n",
       "Music                938\n",
       "Howto & Style        937\n",
       "Sports               933\n",
       "Name: top_8, dtype: int64"
      ]
     },
     "execution_count": 18,
     "metadata": {},
     "output_type": "execute_result"
    }
   ],
   "source": [
    "videos['top_8'].value_counts()"
   ]
  },
  {
   "cell_type": "code",
   "execution_count": 19,
   "metadata": {},
   "outputs": [
    {
     "data": {
      "text/html": [
       "<div>\n",
       "<style scoped>\n",
       "    .dataframe tbody tr th:only-of-type {\n",
       "        vertical-align: middle;\n",
       "    }\n",
       "\n",
       "    .dataframe tbody tr th {\n",
       "        vertical-align: top;\n",
       "    }\n",
       "\n",
       "    .dataframe thead th {\n",
       "        text-align: right;\n",
       "    }\n",
       "</style>\n",
       "<table border=\"1\" class=\"dataframe\">\n",
       "  <thead>\n",
       "    <tr style=\"text-align: right;\">\n",
       "      <th></th>\n",
       "      <th>record_id</th>\n",
       "      <th>region</th>\n",
       "      <th>trending_date</th>\n",
       "      <th>category_title</th>\n",
       "      <th>videos_count</th>\n",
       "      <th>top_8</th>\n",
       "    </tr>\n",
       "  </thead>\n",
       "  <tbody>\n",
       "    <tr>\n",
       "      <th>0</th>\n",
       "      <td>1</td>\n",
       "      <td>France</td>\n",
       "      <td>2017-11-14</td>\n",
       "      <td>Autos &amp; Vehicles</td>\n",
       "      <td>8</td>\n",
       "      <td>Others</td>\n",
       "    </tr>\n",
       "    <tr>\n",
       "      <th>1</th>\n",
       "      <td>2</td>\n",
       "      <td>France</td>\n",
       "      <td>2017-11-15</td>\n",
       "      <td>Autos &amp; Vehicles</td>\n",
       "      <td>2</td>\n",
       "      <td>Others</td>\n",
       "    </tr>\n",
       "    <tr>\n",
       "      <th>2</th>\n",
       "      <td>3</td>\n",
       "      <td>France</td>\n",
       "      <td>2017-11-16</td>\n",
       "      <td>Autos &amp; Vehicles</td>\n",
       "      <td>6</td>\n",
       "      <td>Others</td>\n",
       "    </tr>\n",
       "    <tr>\n",
       "      <th>3</th>\n",
       "      <td>4</td>\n",
       "      <td>France</td>\n",
       "      <td>2017-11-17</td>\n",
       "      <td>Autos &amp; Vehicles</td>\n",
       "      <td>8</td>\n",
       "      <td>Others</td>\n",
       "    </tr>\n",
       "    <tr>\n",
       "      <th>4</th>\n",
       "      <td>5</td>\n",
       "      <td>France</td>\n",
       "      <td>2017-11-18</td>\n",
       "      <td>Autos &amp; Vehicles</td>\n",
       "      <td>4</td>\n",
       "      <td>Others</td>\n",
       "    </tr>\n",
       "  </tbody>\n",
       "</table>\n",
       "</div>"
      ],
      "text/plain": [
       "   record_id  region trending_date    category_title  videos_count   top_8\n",
       "0          1  France    2017-11-14  Autos & Vehicles             8  Others\n",
       "1          2  France    2017-11-15  Autos & Vehicles             2  Others\n",
       "2          3  France    2017-11-16  Autos & Vehicles             6  Others\n",
       "3          4  France    2017-11-17  Autos & Vehicles             8  Others\n",
       "4          5  France    2017-11-18  Autos & Vehicles             4  Others"
      ]
     },
     "execution_count": 19,
     "metadata": {},
     "output_type": "execute_result"
    }
   ],
   "source": [
    "videos.head()"
   ]
  },
  {
   "cell_type": "code",
   "execution_count": 20,
   "metadata": {},
   "outputs": [],
   "source": [
    "trending_rank = videos.groupby('top_8').agg({'videos_count': 'sum'}).sort_values(by='videos_count', \n",
    "                                                                ascending=False).reset_index()"
   ]
  },
  {
   "cell_type": "code",
   "execution_count": 21,
   "metadata": {},
   "outputs": [
    {
     "data": {
      "application/vnd.plotly.v1+json": {
       "config": {
        "plotlyServerURL": "https://plot.ly"
       },
       "data": [
        {
         "alignmentgroup": "True",
         "hovertemplate": "Video category=%{x}<br>Total video count=%{y}<extra></extra>",
         "legendgroup": "",
         "marker": {
          "color": "#636efa"
         },
         "name": "",
         "offsetgroup": "",
         "orientation": "v",
         "showlegend": false,
         "textposition": "auto",
         "type": "bar",
         "x": [
          "Entertainment",
          "People & Blogs",
          "Others",
          "Music",
          "News & Politics",
          "Comedy",
          "Sports",
          "Howto & Style",
          "Film & Animation"
         ],
         "xaxis": "x",
         "y": [
          95008,
          44700,
          41568,
          34390,
          34202,
          29470,
          20966,
          20124,
          19562
         ],
         "yaxis": "y"
        }
       ],
       "layout": {
        "barmode": "relative",
        "height": 600,
        "legend": {
         "tracegroupgap": 0
        },
        "template": {
         "data": {
          "bar": [
           {
            "error_x": {
             "color": "#2a3f5f"
            },
            "error_y": {
             "color": "#2a3f5f"
            },
            "marker": {
             "line": {
              "color": "#E5ECF6",
              "width": 0.5
             }
            },
            "type": "bar"
           }
          ],
          "barpolar": [
           {
            "marker": {
             "line": {
              "color": "#E5ECF6",
              "width": 0.5
             }
            },
            "type": "barpolar"
           }
          ],
          "carpet": [
           {
            "aaxis": {
             "endlinecolor": "#2a3f5f",
             "gridcolor": "white",
             "linecolor": "white",
             "minorgridcolor": "white",
             "startlinecolor": "#2a3f5f"
            },
            "baxis": {
             "endlinecolor": "#2a3f5f",
             "gridcolor": "white",
             "linecolor": "white",
             "minorgridcolor": "white",
             "startlinecolor": "#2a3f5f"
            },
            "type": "carpet"
           }
          ],
          "choropleth": [
           {
            "colorbar": {
             "outlinewidth": 0,
             "ticks": ""
            },
            "type": "choropleth"
           }
          ],
          "contour": [
           {
            "colorbar": {
             "outlinewidth": 0,
             "ticks": ""
            },
            "colorscale": [
             [
              0,
              "#0d0887"
             ],
             [
              0.1111111111111111,
              "#46039f"
             ],
             [
              0.2222222222222222,
              "#7201a8"
             ],
             [
              0.3333333333333333,
              "#9c179e"
             ],
             [
              0.4444444444444444,
              "#bd3786"
             ],
             [
              0.5555555555555556,
              "#d8576b"
             ],
             [
              0.6666666666666666,
              "#ed7953"
             ],
             [
              0.7777777777777778,
              "#fb9f3a"
             ],
             [
              0.8888888888888888,
              "#fdca26"
             ],
             [
              1,
              "#f0f921"
             ]
            ],
            "type": "contour"
           }
          ],
          "contourcarpet": [
           {
            "colorbar": {
             "outlinewidth": 0,
             "ticks": ""
            },
            "type": "contourcarpet"
           }
          ],
          "heatmap": [
           {
            "colorbar": {
             "outlinewidth": 0,
             "ticks": ""
            },
            "colorscale": [
             [
              0,
              "#0d0887"
             ],
             [
              0.1111111111111111,
              "#46039f"
             ],
             [
              0.2222222222222222,
              "#7201a8"
             ],
             [
              0.3333333333333333,
              "#9c179e"
             ],
             [
              0.4444444444444444,
              "#bd3786"
             ],
             [
              0.5555555555555556,
              "#d8576b"
             ],
             [
              0.6666666666666666,
              "#ed7953"
             ],
             [
              0.7777777777777778,
              "#fb9f3a"
             ],
             [
              0.8888888888888888,
              "#fdca26"
             ],
             [
              1,
              "#f0f921"
             ]
            ],
            "type": "heatmap"
           }
          ],
          "heatmapgl": [
           {
            "colorbar": {
             "outlinewidth": 0,
             "ticks": ""
            },
            "colorscale": [
             [
              0,
              "#0d0887"
             ],
             [
              0.1111111111111111,
              "#46039f"
             ],
             [
              0.2222222222222222,
              "#7201a8"
             ],
             [
              0.3333333333333333,
              "#9c179e"
             ],
             [
              0.4444444444444444,
              "#bd3786"
             ],
             [
              0.5555555555555556,
              "#d8576b"
             ],
             [
              0.6666666666666666,
              "#ed7953"
             ],
             [
              0.7777777777777778,
              "#fb9f3a"
             ],
             [
              0.8888888888888888,
              "#fdca26"
             ],
             [
              1,
              "#f0f921"
             ]
            ],
            "type": "heatmapgl"
           }
          ],
          "histogram": [
           {
            "marker": {
             "colorbar": {
              "outlinewidth": 0,
              "ticks": ""
             }
            },
            "type": "histogram"
           }
          ],
          "histogram2d": [
           {
            "colorbar": {
             "outlinewidth": 0,
             "ticks": ""
            },
            "colorscale": [
             [
              0,
              "#0d0887"
             ],
             [
              0.1111111111111111,
              "#46039f"
             ],
             [
              0.2222222222222222,
              "#7201a8"
             ],
             [
              0.3333333333333333,
              "#9c179e"
             ],
             [
              0.4444444444444444,
              "#bd3786"
             ],
             [
              0.5555555555555556,
              "#d8576b"
             ],
             [
              0.6666666666666666,
              "#ed7953"
             ],
             [
              0.7777777777777778,
              "#fb9f3a"
             ],
             [
              0.8888888888888888,
              "#fdca26"
             ],
             [
              1,
              "#f0f921"
             ]
            ],
            "type": "histogram2d"
           }
          ],
          "histogram2dcontour": [
           {
            "colorbar": {
             "outlinewidth": 0,
             "ticks": ""
            },
            "colorscale": [
             [
              0,
              "#0d0887"
             ],
             [
              0.1111111111111111,
              "#46039f"
             ],
             [
              0.2222222222222222,
              "#7201a8"
             ],
             [
              0.3333333333333333,
              "#9c179e"
             ],
             [
              0.4444444444444444,
              "#bd3786"
             ],
             [
              0.5555555555555556,
              "#d8576b"
             ],
             [
              0.6666666666666666,
              "#ed7953"
             ],
             [
              0.7777777777777778,
              "#fb9f3a"
             ],
             [
              0.8888888888888888,
              "#fdca26"
             ],
             [
              1,
              "#f0f921"
             ]
            ],
            "type": "histogram2dcontour"
           }
          ],
          "mesh3d": [
           {
            "colorbar": {
             "outlinewidth": 0,
             "ticks": ""
            },
            "type": "mesh3d"
           }
          ],
          "parcoords": [
           {
            "line": {
             "colorbar": {
              "outlinewidth": 0,
              "ticks": ""
             }
            },
            "type": "parcoords"
           }
          ],
          "pie": [
           {
            "automargin": true,
            "type": "pie"
           }
          ],
          "scatter": [
           {
            "marker": {
             "colorbar": {
              "outlinewidth": 0,
              "ticks": ""
             }
            },
            "type": "scatter"
           }
          ],
          "scatter3d": [
           {
            "line": {
             "colorbar": {
              "outlinewidth": 0,
              "ticks": ""
             }
            },
            "marker": {
             "colorbar": {
              "outlinewidth": 0,
              "ticks": ""
             }
            },
            "type": "scatter3d"
           }
          ],
          "scattercarpet": [
           {
            "marker": {
             "colorbar": {
              "outlinewidth": 0,
              "ticks": ""
             }
            },
            "type": "scattercarpet"
           }
          ],
          "scattergeo": [
           {
            "marker": {
             "colorbar": {
              "outlinewidth": 0,
              "ticks": ""
             }
            },
            "type": "scattergeo"
           }
          ],
          "scattergl": [
           {
            "marker": {
             "colorbar": {
              "outlinewidth": 0,
              "ticks": ""
             }
            },
            "type": "scattergl"
           }
          ],
          "scattermapbox": [
           {
            "marker": {
             "colorbar": {
              "outlinewidth": 0,
              "ticks": ""
             }
            },
            "type": "scattermapbox"
           }
          ],
          "scatterpolar": [
           {
            "marker": {
             "colorbar": {
              "outlinewidth": 0,
              "ticks": ""
             }
            },
            "type": "scatterpolar"
           }
          ],
          "scatterpolargl": [
           {
            "marker": {
             "colorbar": {
              "outlinewidth": 0,
              "ticks": ""
             }
            },
            "type": "scatterpolargl"
           }
          ],
          "scatterternary": [
           {
            "marker": {
             "colorbar": {
              "outlinewidth": 0,
              "ticks": ""
             }
            },
            "type": "scatterternary"
           }
          ],
          "surface": [
           {
            "colorbar": {
             "outlinewidth": 0,
             "ticks": ""
            },
            "colorscale": [
             [
              0,
              "#0d0887"
             ],
             [
              0.1111111111111111,
              "#46039f"
             ],
             [
              0.2222222222222222,
              "#7201a8"
             ],
             [
              0.3333333333333333,
              "#9c179e"
             ],
             [
              0.4444444444444444,
              "#bd3786"
             ],
             [
              0.5555555555555556,
              "#d8576b"
             ],
             [
              0.6666666666666666,
              "#ed7953"
             ],
             [
              0.7777777777777778,
              "#fb9f3a"
             ],
             [
              0.8888888888888888,
              "#fdca26"
             ],
             [
              1,
              "#f0f921"
             ]
            ],
            "type": "surface"
           }
          ],
          "table": [
           {
            "cells": {
             "fill": {
              "color": "#EBF0F8"
             },
             "line": {
              "color": "white"
             }
            },
            "header": {
             "fill": {
              "color": "#C8D4E3"
             },
             "line": {
              "color": "white"
             }
            },
            "type": "table"
           }
          ]
         },
         "layout": {
          "annotationdefaults": {
           "arrowcolor": "#2a3f5f",
           "arrowhead": 0,
           "arrowwidth": 1
          },
          "autotypenumbers": "strict",
          "coloraxis": {
           "colorbar": {
            "outlinewidth": 0,
            "ticks": ""
           }
          },
          "colorscale": {
           "diverging": [
            [
             0,
             "#8e0152"
            ],
            [
             0.1,
             "#c51b7d"
            ],
            [
             0.2,
             "#de77ae"
            ],
            [
             0.3,
             "#f1b6da"
            ],
            [
             0.4,
             "#fde0ef"
            ],
            [
             0.5,
             "#f7f7f7"
            ],
            [
             0.6,
             "#e6f5d0"
            ],
            [
             0.7,
             "#b8e186"
            ],
            [
             0.8,
             "#7fbc41"
            ],
            [
             0.9,
             "#4d9221"
            ],
            [
             1,
             "#276419"
            ]
           ],
           "sequential": [
            [
             0,
             "#0d0887"
            ],
            [
             0.1111111111111111,
             "#46039f"
            ],
            [
             0.2222222222222222,
             "#7201a8"
            ],
            [
             0.3333333333333333,
             "#9c179e"
            ],
            [
             0.4444444444444444,
             "#bd3786"
            ],
            [
             0.5555555555555556,
             "#d8576b"
            ],
            [
             0.6666666666666666,
             "#ed7953"
            ],
            [
             0.7777777777777778,
             "#fb9f3a"
            ],
            [
             0.8888888888888888,
             "#fdca26"
            ],
            [
             1,
             "#f0f921"
            ]
           ],
           "sequentialminus": [
            [
             0,
             "#0d0887"
            ],
            [
             0.1111111111111111,
             "#46039f"
            ],
            [
             0.2222222222222222,
             "#7201a8"
            ],
            [
             0.3333333333333333,
             "#9c179e"
            ],
            [
             0.4444444444444444,
             "#bd3786"
            ],
            [
             0.5555555555555556,
             "#d8576b"
            ],
            [
             0.6666666666666666,
             "#ed7953"
            ],
            [
             0.7777777777777778,
             "#fb9f3a"
            ],
            [
             0.8888888888888888,
             "#fdca26"
            ],
            [
             1,
             "#f0f921"
            ]
           ]
          },
          "colorway": [
           "#636efa",
           "#EF553B",
           "#00cc96",
           "#ab63fa",
           "#FFA15A",
           "#19d3f3",
           "#FF6692",
           "#B6E880",
           "#FF97FF",
           "#FECB52"
          ],
          "font": {
           "color": "#2a3f5f"
          },
          "geo": {
           "bgcolor": "white",
           "lakecolor": "white",
           "landcolor": "#E5ECF6",
           "showlakes": true,
           "showland": true,
           "subunitcolor": "white"
          },
          "hoverlabel": {
           "align": "left"
          },
          "hovermode": "closest",
          "mapbox": {
           "style": "light"
          },
          "paper_bgcolor": "white",
          "plot_bgcolor": "#E5ECF6",
          "polar": {
           "angularaxis": {
            "gridcolor": "white",
            "linecolor": "white",
            "ticks": ""
           },
           "bgcolor": "#E5ECF6",
           "radialaxis": {
            "gridcolor": "white",
            "linecolor": "white",
            "ticks": ""
           }
          },
          "scene": {
           "xaxis": {
            "backgroundcolor": "#E5ECF6",
            "gridcolor": "white",
            "gridwidth": 2,
            "linecolor": "white",
            "showbackground": true,
            "ticks": "",
            "zerolinecolor": "white"
           },
           "yaxis": {
            "backgroundcolor": "#E5ECF6",
            "gridcolor": "white",
            "gridwidth": 2,
            "linecolor": "white",
            "showbackground": true,
            "ticks": "",
            "zerolinecolor": "white"
           },
           "zaxis": {
            "backgroundcolor": "#E5ECF6",
            "gridcolor": "white",
            "gridwidth": 2,
            "linecolor": "white",
            "showbackground": true,
            "ticks": "",
            "zerolinecolor": "white"
           }
          },
          "shapedefaults": {
           "line": {
            "color": "#2a3f5f"
           }
          },
          "ternary": {
           "aaxis": {
            "gridcolor": "white",
            "linecolor": "white",
            "ticks": ""
           },
           "baxis": {
            "gridcolor": "white",
            "linecolor": "white",
            "ticks": ""
           },
           "bgcolor": "#E5ECF6",
           "caxis": {
            "gridcolor": "white",
            "linecolor": "white",
            "ticks": ""
           }
          },
          "title": {
           "x": 0.05
          },
          "xaxis": {
           "automargin": true,
           "gridcolor": "white",
           "linecolor": "white",
           "ticks": "",
           "title": {
            "standoff": 15
           },
           "zerolinecolor": "white",
           "zerolinewidth": 2
          },
          "yaxis": {
           "automargin": true,
           "gridcolor": "white",
           "linecolor": "white",
           "ticks": "",
           "title": {
            "standoff": 15
           },
           "zerolinecolor": "white",
           "zerolinewidth": 2
          }
         }
        },
        "title": {
         "text": "Trending videos of all times by category",
         "x": 0.5
        },
        "width": 800,
        "xaxis": {
         "anchor": "y",
         "domain": [
          0,
          1
         ],
         "tickangle": -45,
         "title": {
          "text": "Video category"
         }
        },
        "yaxis": {
         "anchor": "x",
         "domain": [
          0,
          1
         ],
         "title": {
          "text": "Total video count"
         }
        }
       }
      },
      "text/html": [
       "<div>                            <div id=\"117ee6b7-b029-43b6-9de6-36bd45cda390\" class=\"plotly-graph-div\" style=\"height:600px; width:800px;\"></div>            <script type=\"text/javascript\">                require([\"plotly\"], function(Plotly) {                    window.PLOTLYENV=window.PLOTLYENV || {};                                    if (document.getElementById(\"117ee6b7-b029-43b6-9de6-36bd45cda390\")) {                    Plotly.newPlot(                        \"117ee6b7-b029-43b6-9de6-36bd45cda390\",                        [{\"alignmentgroup\": \"True\", \"hovertemplate\": \"Video category=%{x}<br>Total video count=%{y}<extra></extra>\", \"legendgroup\": \"\", \"marker\": {\"color\": \"#636efa\"}, \"name\": \"\", \"offsetgroup\": \"\", \"orientation\": \"v\", \"showlegend\": false, \"textposition\": \"auto\", \"type\": \"bar\", \"x\": [\"Entertainment\", \"People & Blogs\", \"Others\", \"Music\", \"News & Politics\", \"Comedy\", \"Sports\", \"Howto & Style\", \"Film & Animation\"], \"xaxis\": \"x\", \"y\": [95008, 44700, 41568, 34390, 34202, 29470, 20966, 20124, 19562], \"yaxis\": \"y\"}],                        {\"barmode\": \"relative\", \"height\": 600, \"legend\": {\"tracegroupgap\": 0}, \"template\": {\"data\": {\"bar\": [{\"error_x\": {\"color\": \"#2a3f5f\"}, \"error_y\": {\"color\": \"#2a3f5f\"}, \"marker\": {\"line\": {\"color\": \"#E5ECF6\", \"width\": 0.5}}, \"type\": \"bar\"}], \"barpolar\": [{\"marker\": {\"line\": {\"color\": \"#E5ECF6\", \"width\": 0.5}}, \"type\": \"barpolar\"}], \"carpet\": [{\"aaxis\": {\"endlinecolor\": \"#2a3f5f\", \"gridcolor\": \"white\", \"linecolor\": \"white\", \"minorgridcolor\": \"white\", \"startlinecolor\": \"#2a3f5f\"}, \"baxis\": {\"endlinecolor\": \"#2a3f5f\", \"gridcolor\": \"white\", \"linecolor\": \"white\", \"minorgridcolor\": \"white\", \"startlinecolor\": \"#2a3f5f\"}, \"type\": \"carpet\"}], \"choropleth\": [{\"colorbar\": {\"outlinewidth\": 0, \"ticks\": \"\"}, \"type\": \"choropleth\"}], \"contour\": [{\"colorbar\": {\"outlinewidth\": 0, \"ticks\": \"\"}, \"colorscale\": [[0.0, \"#0d0887\"], [0.1111111111111111, \"#46039f\"], [0.2222222222222222, \"#7201a8\"], [0.3333333333333333, \"#9c179e\"], [0.4444444444444444, \"#bd3786\"], [0.5555555555555556, \"#d8576b\"], [0.6666666666666666, \"#ed7953\"], [0.7777777777777778, \"#fb9f3a\"], [0.8888888888888888, \"#fdca26\"], [1.0, \"#f0f921\"]], \"type\": \"contour\"}], \"contourcarpet\": [{\"colorbar\": {\"outlinewidth\": 0, \"ticks\": \"\"}, \"type\": \"contourcarpet\"}], \"heatmap\": [{\"colorbar\": {\"outlinewidth\": 0, \"ticks\": \"\"}, \"colorscale\": [[0.0, \"#0d0887\"], [0.1111111111111111, \"#46039f\"], [0.2222222222222222, \"#7201a8\"], [0.3333333333333333, \"#9c179e\"], [0.4444444444444444, \"#bd3786\"], [0.5555555555555556, \"#d8576b\"], [0.6666666666666666, \"#ed7953\"], [0.7777777777777778, \"#fb9f3a\"], [0.8888888888888888, \"#fdca26\"], [1.0, \"#f0f921\"]], \"type\": \"heatmap\"}], \"heatmapgl\": [{\"colorbar\": {\"outlinewidth\": 0, \"ticks\": \"\"}, \"colorscale\": [[0.0, \"#0d0887\"], [0.1111111111111111, \"#46039f\"], [0.2222222222222222, \"#7201a8\"], [0.3333333333333333, \"#9c179e\"], [0.4444444444444444, \"#bd3786\"], [0.5555555555555556, \"#d8576b\"], [0.6666666666666666, \"#ed7953\"], [0.7777777777777778, \"#fb9f3a\"], [0.8888888888888888, \"#fdca26\"], [1.0, \"#f0f921\"]], \"type\": \"heatmapgl\"}], \"histogram\": [{\"marker\": {\"colorbar\": {\"outlinewidth\": 0, \"ticks\": \"\"}}, \"type\": \"histogram\"}], \"histogram2d\": [{\"colorbar\": {\"outlinewidth\": 0, \"ticks\": \"\"}, \"colorscale\": [[0.0, \"#0d0887\"], [0.1111111111111111, \"#46039f\"], [0.2222222222222222, \"#7201a8\"], [0.3333333333333333, \"#9c179e\"], [0.4444444444444444, \"#bd3786\"], [0.5555555555555556, \"#d8576b\"], [0.6666666666666666, \"#ed7953\"], [0.7777777777777778, \"#fb9f3a\"], [0.8888888888888888, \"#fdca26\"], [1.0, \"#f0f921\"]], \"type\": \"histogram2d\"}], \"histogram2dcontour\": [{\"colorbar\": {\"outlinewidth\": 0, \"ticks\": \"\"}, \"colorscale\": [[0.0, \"#0d0887\"], [0.1111111111111111, \"#46039f\"], [0.2222222222222222, \"#7201a8\"], [0.3333333333333333, \"#9c179e\"], [0.4444444444444444, \"#bd3786\"], [0.5555555555555556, \"#d8576b\"], [0.6666666666666666, \"#ed7953\"], [0.7777777777777778, \"#fb9f3a\"], [0.8888888888888888, \"#fdca26\"], [1.0, \"#f0f921\"]], \"type\": \"histogram2dcontour\"}], \"mesh3d\": [{\"colorbar\": {\"outlinewidth\": 0, \"ticks\": \"\"}, \"type\": \"mesh3d\"}], \"parcoords\": [{\"line\": {\"colorbar\": {\"outlinewidth\": 0, \"ticks\": \"\"}}, \"type\": \"parcoords\"}], \"pie\": [{\"automargin\": true, \"type\": \"pie\"}], \"scatter\": [{\"marker\": {\"colorbar\": {\"outlinewidth\": 0, \"ticks\": \"\"}}, \"type\": \"scatter\"}], \"scatter3d\": [{\"line\": {\"colorbar\": {\"outlinewidth\": 0, \"ticks\": \"\"}}, \"marker\": {\"colorbar\": {\"outlinewidth\": 0, \"ticks\": \"\"}}, \"type\": \"scatter3d\"}], \"scattercarpet\": [{\"marker\": {\"colorbar\": {\"outlinewidth\": 0, \"ticks\": \"\"}}, \"type\": \"scattercarpet\"}], \"scattergeo\": [{\"marker\": {\"colorbar\": {\"outlinewidth\": 0, \"ticks\": \"\"}}, \"type\": \"scattergeo\"}], \"scattergl\": [{\"marker\": {\"colorbar\": {\"outlinewidth\": 0, \"ticks\": \"\"}}, \"type\": \"scattergl\"}], \"scattermapbox\": [{\"marker\": {\"colorbar\": {\"outlinewidth\": 0, \"ticks\": \"\"}}, \"type\": \"scattermapbox\"}], \"scatterpolar\": [{\"marker\": {\"colorbar\": {\"outlinewidth\": 0, \"ticks\": \"\"}}, \"type\": \"scatterpolar\"}], \"scatterpolargl\": [{\"marker\": {\"colorbar\": {\"outlinewidth\": 0, \"ticks\": \"\"}}, \"type\": \"scatterpolargl\"}], \"scatterternary\": [{\"marker\": {\"colorbar\": {\"outlinewidth\": 0, \"ticks\": \"\"}}, \"type\": \"scatterternary\"}], \"surface\": [{\"colorbar\": {\"outlinewidth\": 0, \"ticks\": \"\"}, \"colorscale\": [[0.0, \"#0d0887\"], [0.1111111111111111, \"#46039f\"], [0.2222222222222222, \"#7201a8\"], [0.3333333333333333, \"#9c179e\"], [0.4444444444444444, \"#bd3786\"], [0.5555555555555556, \"#d8576b\"], [0.6666666666666666, \"#ed7953\"], [0.7777777777777778, \"#fb9f3a\"], [0.8888888888888888, \"#fdca26\"], [1.0, \"#f0f921\"]], \"type\": \"surface\"}], \"table\": [{\"cells\": {\"fill\": {\"color\": \"#EBF0F8\"}, \"line\": {\"color\": \"white\"}}, \"header\": {\"fill\": {\"color\": \"#C8D4E3\"}, \"line\": {\"color\": \"white\"}}, \"type\": \"table\"}]}, \"layout\": {\"annotationdefaults\": {\"arrowcolor\": \"#2a3f5f\", \"arrowhead\": 0, \"arrowwidth\": 1}, \"autotypenumbers\": \"strict\", \"coloraxis\": {\"colorbar\": {\"outlinewidth\": 0, \"ticks\": \"\"}}, \"colorscale\": {\"diverging\": [[0, \"#8e0152\"], [0.1, \"#c51b7d\"], [0.2, \"#de77ae\"], [0.3, \"#f1b6da\"], [0.4, \"#fde0ef\"], [0.5, \"#f7f7f7\"], [0.6, \"#e6f5d0\"], [0.7, \"#b8e186\"], [0.8, \"#7fbc41\"], [0.9, \"#4d9221\"], [1, \"#276419\"]], \"sequential\": [[0.0, \"#0d0887\"], [0.1111111111111111, \"#46039f\"], [0.2222222222222222, \"#7201a8\"], [0.3333333333333333, \"#9c179e\"], [0.4444444444444444, \"#bd3786\"], [0.5555555555555556, \"#d8576b\"], [0.6666666666666666, \"#ed7953\"], [0.7777777777777778, \"#fb9f3a\"], [0.8888888888888888, \"#fdca26\"], [1.0, \"#f0f921\"]], \"sequentialminus\": [[0.0, \"#0d0887\"], [0.1111111111111111, \"#46039f\"], [0.2222222222222222, \"#7201a8\"], [0.3333333333333333, \"#9c179e\"], [0.4444444444444444, \"#bd3786\"], [0.5555555555555556, \"#d8576b\"], [0.6666666666666666, \"#ed7953\"], [0.7777777777777778, \"#fb9f3a\"], [0.8888888888888888, \"#fdca26\"], [1.0, \"#f0f921\"]]}, \"colorway\": [\"#636efa\", \"#EF553B\", \"#00cc96\", \"#ab63fa\", \"#FFA15A\", \"#19d3f3\", \"#FF6692\", \"#B6E880\", \"#FF97FF\", \"#FECB52\"], \"font\": {\"color\": \"#2a3f5f\"}, \"geo\": {\"bgcolor\": \"white\", \"lakecolor\": \"white\", \"landcolor\": \"#E5ECF6\", \"showlakes\": true, \"showland\": true, \"subunitcolor\": \"white\"}, \"hoverlabel\": {\"align\": \"left\"}, \"hovermode\": \"closest\", \"mapbox\": {\"style\": \"light\"}, \"paper_bgcolor\": \"white\", \"plot_bgcolor\": \"#E5ECF6\", \"polar\": {\"angularaxis\": {\"gridcolor\": \"white\", \"linecolor\": \"white\", \"ticks\": \"\"}, \"bgcolor\": \"#E5ECF6\", \"radialaxis\": {\"gridcolor\": \"white\", \"linecolor\": \"white\", \"ticks\": \"\"}}, \"scene\": {\"xaxis\": {\"backgroundcolor\": \"#E5ECF6\", \"gridcolor\": \"white\", \"gridwidth\": 2, \"linecolor\": \"white\", \"showbackground\": true, \"ticks\": \"\", \"zerolinecolor\": \"white\"}, \"yaxis\": {\"backgroundcolor\": \"#E5ECF6\", \"gridcolor\": \"white\", \"gridwidth\": 2, \"linecolor\": \"white\", \"showbackground\": true, \"ticks\": \"\", \"zerolinecolor\": \"white\"}, \"zaxis\": {\"backgroundcolor\": \"#E5ECF6\", \"gridcolor\": \"white\", \"gridwidth\": 2, \"linecolor\": \"white\", \"showbackground\": true, \"ticks\": \"\", \"zerolinecolor\": \"white\"}}, \"shapedefaults\": {\"line\": {\"color\": \"#2a3f5f\"}}, \"ternary\": {\"aaxis\": {\"gridcolor\": \"white\", \"linecolor\": \"white\", \"ticks\": \"\"}, \"baxis\": {\"gridcolor\": \"white\", \"linecolor\": \"white\", \"ticks\": \"\"}, \"bgcolor\": \"#E5ECF6\", \"caxis\": {\"gridcolor\": \"white\", \"linecolor\": \"white\", \"ticks\": \"\"}}, \"title\": {\"x\": 0.05}, \"xaxis\": {\"automargin\": true, \"gridcolor\": \"white\", \"linecolor\": \"white\", \"ticks\": \"\", \"title\": {\"standoff\": 15}, \"zerolinecolor\": \"white\", \"zerolinewidth\": 2}, \"yaxis\": {\"automargin\": true, \"gridcolor\": \"white\", \"linecolor\": \"white\", \"ticks\": \"\", \"title\": {\"standoff\": 15}, \"zerolinecolor\": \"white\", \"zerolinewidth\": 2}}}, \"title\": {\"text\": \"Trending videos of all times by category\", \"x\": 0.5}, \"width\": 800, \"xaxis\": {\"anchor\": \"y\", \"domain\": [0.0, 1.0], \"tickangle\": -45, \"title\": {\"text\": \"Video category\"}}, \"yaxis\": {\"anchor\": \"x\", \"domain\": [0.0, 1.0], \"title\": {\"text\": \"Total video count\"}}},                        {\"responsive\": true}                    ).then(function(){\n",
       "                            \n",
       "var gd = document.getElementById('117ee6b7-b029-43b6-9de6-36bd45cda390');\n",
       "var x = new MutationObserver(function (mutations, observer) {{\n",
       "        var display = window.getComputedStyle(gd).display;\n",
       "        if (!display || display === 'none') {{\n",
       "            console.log([gd, 'removed!']);\n",
       "            Plotly.purge(gd);\n",
       "            observer.disconnect();\n",
       "        }}\n",
       "}});\n",
       "\n",
       "// Listen for the removal of the full notebook cells\n",
       "var notebookContainer = gd.closest('#notebook-container');\n",
       "if (notebookContainer) {{\n",
       "    x.observe(notebookContainer, {childList: true});\n",
       "}}\n",
       "\n",
       "// Listen for the clearing of the current output cell\n",
       "var outputEl = gd.closest('.output');\n",
       "if (outputEl) {{\n",
       "    x.observe(outputEl, {childList: true});\n",
       "}}\n",
       "\n",
       "                        })                };                });            </script>        </div>"
      ]
     },
     "metadata": {},
     "output_type": "display_data"
    }
   ],
   "source": [
    "fig=px.bar(x=trending_rank['top_8'], \n",
    "           y=trending_rank['videos_count'],\n",
    "           title = 'Trending videos of all times by category',\n",
    "           labels = ({'x':'Video category', 'y':'Total video count'}),\n",
    "           height =600,\n",
    "           width=800)\n",
    "fig.update_xaxes(tickangle=-45)\n",
    "fig.update_layout(title_x=0.5)\n"
   ]
  },
  {
   "cell_type": "code",
   "execution_count": 22,
   "metadata": {},
   "outputs": [],
   "source": [
    "trending_category_date = videos.groupby(['top_8', 'trending_date']).agg(\n",
    "    {'videos_count': 'sum'}).sort_values(by='videos_count',\n",
    "                                            ascending=False).reset_index()"
   ]
  },
  {
   "cell_type": "code",
   "execution_count": 23,
   "metadata": {},
   "outputs": [
    {
     "data": {
      "text/plain": [
       "top_8            0\n",
       "trending_date    0\n",
       "videos_count     0\n",
       "dtype: int64"
      ]
     },
     "execution_count": 23,
     "metadata": {},
     "output_type": "execute_result"
    }
   ],
   "source": [
    "trending_category_date.isna().sum()"
   ]
  },
  {
   "cell_type": "code",
   "execution_count": 24,
   "metadata": {},
   "outputs": [],
   "source": [
    "trending_category_date = trending_category_date.replace(np.nan, 0)"
   ]
  },
  {
   "cell_type": "code",
   "execution_count": 25,
   "metadata": {},
   "outputs": [
    {
     "data": {
      "text/html": [
       "<div>\n",
       "<style scoped>\n",
       "    .dataframe tbody tr th:only-of-type {\n",
       "        vertical-align: middle;\n",
       "    }\n",
       "\n",
       "    .dataframe tbody tr th {\n",
       "        vertical-align: top;\n",
       "    }\n",
       "\n",
       "    .dataframe thead th {\n",
       "        text-align: right;\n",
       "    }\n",
       "</style>\n",
       "<table border=\"1\" class=\"dataframe\">\n",
       "  <thead>\n",
       "    <tr style=\"text-align: right;\">\n",
       "      <th></th>\n",
       "      <th>top_8</th>\n",
       "      <th>trending_date</th>\n",
       "      <th>videos_count</th>\n",
       "    </tr>\n",
       "  </thead>\n",
       "  <tbody>\n",
       "    <tr>\n",
       "      <th>0</th>\n",
       "      <td>Entertainment</td>\n",
       "      <td>2018-05-23</td>\n",
       "      <td>642</td>\n",
       "    </tr>\n",
       "    <tr>\n",
       "      <th>1</th>\n",
       "      <td>Entertainment</td>\n",
       "      <td>2018-05-18</td>\n",
       "      <td>606</td>\n",
       "    </tr>\n",
       "    <tr>\n",
       "      <th>2</th>\n",
       "      <td>Entertainment</td>\n",
       "      <td>2018-05-22</td>\n",
       "      <td>602</td>\n",
       "    </tr>\n",
       "    <tr>\n",
       "      <th>3</th>\n",
       "      <td>Entertainment</td>\n",
       "      <td>2018-05-25</td>\n",
       "      <td>598</td>\n",
       "    </tr>\n",
       "    <tr>\n",
       "      <th>4</th>\n",
       "      <td>Entertainment</td>\n",
       "      <td>2018-05-31</td>\n",
       "      <td>596</td>\n",
       "    </tr>\n",
       "  </tbody>\n",
       "</table>\n",
       "</div>"
      ],
      "text/plain": [
       "           top_8 trending_date  videos_count\n",
       "0  Entertainment    2018-05-23           642\n",
       "1  Entertainment    2018-05-18           606\n",
       "2  Entertainment    2018-05-22           602\n",
       "3  Entertainment    2018-05-25           598\n",
       "4  Entertainment    2018-05-31           596"
      ]
     },
     "execution_count": 25,
     "metadata": {},
     "output_type": "execute_result"
    }
   ],
   "source": [
    "trending_category_date.head()"
   ]
  },
  {
   "cell_type": "code",
   "execution_count": 26,
   "metadata": {},
   "outputs": [
    {
     "data": {
      "text/html": [
       "<div>\n",
       "<style scoped>\n",
       "    .dataframe tbody tr th:only-of-type {\n",
       "        vertical-align: middle;\n",
       "    }\n",
       "\n",
       "    .dataframe tbody tr th {\n",
       "        vertical-align: top;\n",
       "    }\n",
       "\n",
       "    .dataframe thead th {\n",
       "        text-align: right;\n",
       "    }\n",
       "</style>\n",
       "<table border=\"1\" class=\"dataframe\">\n",
       "  <thead>\n",
       "    <tr style=\"text-align: right;\">\n",
       "      <th></th>\n",
       "      <th>trending_date</th>\n",
       "      <th>videos_count</th>\n",
       "    </tr>\n",
       "  </thead>\n",
       "  <tbody>\n",
       "    <tr>\n",
       "      <th>0</th>\n",
       "      <td>2017-11-14</td>\n",
       "      <td>1500</td>\n",
       "    </tr>\n",
       "    <tr>\n",
       "      <th>1</th>\n",
       "      <td>2017-11-15</td>\n",
       "      <td>1510</td>\n",
       "    </tr>\n",
       "    <tr>\n",
       "      <th>2</th>\n",
       "      <td>2017-11-16</td>\n",
       "      <td>1512</td>\n",
       "    </tr>\n",
       "    <tr>\n",
       "      <th>3</th>\n",
       "      <td>2017-11-17</td>\n",
       "      <td>1528</td>\n",
       "    </tr>\n",
       "    <tr>\n",
       "      <th>4</th>\n",
       "      <td>2017-11-18</td>\n",
       "      <td>1508</td>\n",
       "    </tr>\n",
       "  </tbody>\n",
       "</table>\n",
       "</div>"
      ],
      "text/plain": [
       "  trending_date  videos_count\n",
       "0    2017-11-14          1500\n",
       "1    2017-11-15          1510\n",
       "2    2017-11-16          1512\n",
       "3    2017-11-17          1528\n",
       "4    2017-11-18          1508"
      ]
     },
     "execution_count": 26,
     "metadata": {},
     "output_type": "execute_result"
    }
   ],
   "source": [
    "trending_date = trending_category_date.groupby('trending_date').agg(\n",
    "    {'videos_count': 'sum'}).reset_index()\n",
    "trending_date.head()"
   ]
  },
  {
   "cell_type": "code",
   "execution_count": 27,
   "metadata": {},
   "outputs": [
    {
     "data": {
      "text/html": [
       "<div>\n",
       "<style scoped>\n",
       "    .dataframe tbody tr th:only-of-type {\n",
       "        vertical-align: middle;\n",
       "    }\n",
       "\n",
       "    .dataframe tbody tr th {\n",
       "        vertical-align: top;\n",
       "    }\n",
       "\n",
       "    .dataframe thead th {\n",
       "        text-align: right;\n",
       "    }\n",
       "</style>\n",
       "<table border=\"1\" class=\"dataframe\">\n",
       "  <thead>\n",
       "    <tr style=\"text-align: right;\">\n",
       "      <th></th>\n",
       "      <th>top_8</th>\n",
       "      <th>trending_date</th>\n",
       "      <th>videos_count_x</th>\n",
       "      <th>videos_count_y</th>\n",
       "    </tr>\n",
       "  </thead>\n",
       "  <tbody>\n",
       "    <tr>\n",
       "      <th>0</th>\n",
       "      <td>Entertainment</td>\n",
       "      <td>2018-05-23</td>\n",
       "      <td>642</td>\n",
       "      <td>1858</td>\n",
       "    </tr>\n",
       "    <tr>\n",
       "      <th>1</th>\n",
       "      <td>Entertainment</td>\n",
       "      <td>2018-05-18</td>\n",
       "      <td>606</td>\n",
       "      <td>1842</td>\n",
       "    </tr>\n",
       "    <tr>\n",
       "      <th>2</th>\n",
       "      <td>Entertainment</td>\n",
       "      <td>2018-05-22</td>\n",
       "      <td>602</td>\n",
       "      <td>1822</td>\n",
       "    </tr>\n",
       "    <tr>\n",
       "      <th>3</th>\n",
       "      <td>Entertainment</td>\n",
       "      <td>2018-05-25</td>\n",
       "      <td>598</td>\n",
       "      <td>1830</td>\n",
       "    </tr>\n",
       "    <tr>\n",
       "      <th>4</th>\n",
       "      <td>Entertainment</td>\n",
       "      <td>2018-05-31</td>\n",
       "      <td>596</td>\n",
       "      <td>1870</td>\n",
       "    </tr>\n",
       "    <tr>\n",
       "      <th>5</th>\n",
       "      <td>Entertainment</td>\n",
       "      <td>2018-06-06</td>\n",
       "      <td>594</td>\n",
       "      <td>1756</td>\n",
       "    </tr>\n",
       "    <tr>\n",
       "      <th>6</th>\n",
       "      <td>Entertainment</td>\n",
       "      <td>2018-06-03</td>\n",
       "      <td>592</td>\n",
       "      <td>1802</td>\n",
       "    </tr>\n",
       "    <tr>\n",
       "      <th>7</th>\n",
       "      <td>Entertainment</td>\n",
       "      <td>2018-06-07</td>\n",
       "      <td>590</td>\n",
       "      <td>1782</td>\n",
       "    </tr>\n",
       "    <tr>\n",
       "      <th>8</th>\n",
       "      <td>Entertainment</td>\n",
       "      <td>2018-06-09</td>\n",
       "      <td>588</td>\n",
       "      <td>1850</td>\n",
       "    </tr>\n",
       "    <tr>\n",
       "      <th>9</th>\n",
       "      <td>Entertainment</td>\n",
       "      <td>2018-05-26</td>\n",
       "      <td>582</td>\n",
       "      <td>1794</td>\n",
       "    </tr>\n",
       "    <tr>\n",
       "      <th>10</th>\n",
       "      <td>Entertainment</td>\n",
       "      <td>2018-05-28</td>\n",
       "      <td>582</td>\n",
       "      <td>1806</td>\n",
       "    </tr>\n",
       "    <tr>\n",
       "      <th>11</th>\n",
       "      <td>Entertainment</td>\n",
       "      <td>2018-05-04</td>\n",
       "      <td>582</td>\n",
       "      <td>1844</td>\n",
       "    </tr>\n",
       "    <tr>\n",
       "      <th>12</th>\n",
       "      <td>Entertainment</td>\n",
       "      <td>2018-06-12</td>\n",
       "      <td>576</td>\n",
       "      <td>1842</td>\n",
       "    </tr>\n",
       "    <tr>\n",
       "      <th>13</th>\n",
       "      <td>Entertainment</td>\n",
       "      <td>2018-05-24</td>\n",
       "      <td>574</td>\n",
       "      <td>1806</td>\n",
       "    </tr>\n",
       "    <tr>\n",
       "      <th>14</th>\n",
       "      <td>Entertainment</td>\n",
       "      <td>2018-06-02</td>\n",
       "      <td>566</td>\n",
       "      <td>1826</td>\n",
       "    </tr>\n",
       "    <tr>\n",
       "      <th>15</th>\n",
       "      <td>Entertainment</td>\n",
       "      <td>2018-05-21</td>\n",
       "      <td>564</td>\n",
       "      <td>1858</td>\n",
       "    </tr>\n",
       "    <tr>\n",
       "      <th>16</th>\n",
       "      <td>Entertainment</td>\n",
       "      <td>2018-06-08</td>\n",
       "      <td>562</td>\n",
       "      <td>1852</td>\n",
       "    </tr>\n",
       "    <tr>\n",
       "      <th>17</th>\n",
       "      <td>Entertainment</td>\n",
       "      <td>2018-05-30</td>\n",
       "      <td>560</td>\n",
       "      <td>1810</td>\n",
       "    </tr>\n",
       "    <tr>\n",
       "      <th>18</th>\n",
       "      <td>Entertainment</td>\n",
       "      <td>2018-06-01</td>\n",
       "      <td>556</td>\n",
       "      <td>1852</td>\n",
       "    </tr>\n",
       "    <tr>\n",
       "      <th>19</th>\n",
       "      <td>Entertainment</td>\n",
       "      <td>2018-05-27</td>\n",
       "      <td>556</td>\n",
       "      <td>1768</td>\n",
       "    </tr>\n",
       "  </tbody>\n",
       "</table>\n",
       "</div>"
      ],
      "text/plain": [
       "            top_8 trending_date  videos_count_x  videos_count_y\n",
       "0   Entertainment    2018-05-23             642            1858\n",
       "1   Entertainment    2018-05-18             606            1842\n",
       "2   Entertainment    2018-05-22             602            1822\n",
       "3   Entertainment    2018-05-25             598            1830\n",
       "4   Entertainment    2018-05-31             596            1870\n",
       "5   Entertainment    2018-06-06             594            1756\n",
       "6   Entertainment    2018-06-03             592            1802\n",
       "7   Entertainment    2018-06-07             590            1782\n",
       "8   Entertainment    2018-06-09             588            1850\n",
       "9   Entertainment    2018-05-26             582            1794\n",
       "10  Entertainment    2018-05-28             582            1806\n",
       "11  Entertainment    2018-05-04             582            1844\n",
       "12  Entertainment    2018-06-12             576            1842\n",
       "13  Entertainment    2018-05-24             574            1806\n",
       "14  Entertainment    2018-06-02             566            1826\n",
       "15  Entertainment    2018-05-21             564            1858\n",
       "16  Entertainment    2018-06-08             562            1852\n",
       "17  Entertainment    2018-05-30             560            1810\n",
       "18  Entertainment    2018-06-01             556            1852\n",
       "19  Entertainment    2018-05-27             556            1768"
      ]
     },
     "execution_count": 27,
     "metadata": {},
     "output_type": "execute_result"
    }
   ],
   "source": [
    "trending_category_date = trending_category_date.merge(\n",
    "    trending_date, on='trending_date', how = 'left')\n",
    "trending_category_date.head(20)"
   ]
  },
  {
   "cell_type": "code",
   "execution_count": 28,
   "metadata": {},
   "outputs": [
    {
     "data": {
      "text/html": [
       "<div>\n",
       "<style scoped>\n",
       "    .dataframe tbody tr th:only-of-type {\n",
       "        vertical-align: middle;\n",
       "    }\n",
       "\n",
       "    .dataframe tbody tr th {\n",
       "        vertical-align: top;\n",
       "    }\n",
       "\n",
       "    .dataframe thead th {\n",
       "        text-align: right;\n",
       "    }\n",
       "</style>\n",
       "<table border=\"1\" class=\"dataframe\">\n",
       "  <thead>\n",
       "    <tr style=\"text-align: right;\">\n",
       "      <th></th>\n",
       "      <th>category</th>\n",
       "      <th>trending_date</th>\n",
       "      <th>videos_count</th>\n",
       "      <th>videos_count_total</th>\n",
       "    </tr>\n",
       "  </thead>\n",
       "  <tbody>\n",
       "    <tr>\n",
       "      <th>0</th>\n",
       "      <td>Entertainment</td>\n",
       "      <td>2018-05-23</td>\n",
       "      <td>642</td>\n",
       "      <td>1858</td>\n",
       "    </tr>\n",
       "    <tr>\n",
       "      <th>1</th>\n",
       "      <td>Entertainment</td>\n",
       "      <td>2018-05-18</td>\n",
       "      <td>606</td>\n",
       "      <td>1842</td>\n",
       "    </tr>\n",
       "    <tr>\n",
       "      <th>2</th>\n",
       "      <td>Entertainment</td>\n",
       "      <td>2018-05-22</td>\n",
       "      <td>602</td>\n",
       "      <td>1822</td>\n",
       "    </tr>\n",
       "    <tr>\n",
       "      <th>3</th>\n",
       "      <td>Entertainment</td>\n",
       "      <td>2018-05-25</td>\n",
       "      <td>598</td>\n",
       "      <td>1830</td>\n",
       "    </tr>\n",
       "    <tr>\n",
       "      <th>4</th>\n",
       "      <td>Entertainment</td>\n",
       "      <td>2018-05-31</td>\n",
       "      <td>596</td>\n",
       "      <td>1870</td>\n",
       "    </tr>\n",
       "  </tbody>\n",
       "</table>\n",
       "</div>"
      ],
      "text/plain": [
       "        category trending_date  videos_count  videos_count_total\n",
       "0  Entertainment    2018-05-23           642                1858\n",
       "1  Entertainment    2018-05-18           606                1842\n",
       "2  Entertainment    2018-05-22           602                1822\n",
       "3  Entertainment    2018-05-25           598                1830\n",
       "4  Entertainment    2018-05-31           596                1870"
      ]
     },
     "execution_count": 28,
     "metadata": {},
     "output_type": "execute_result"
    }
   ],
   "source": [
    "trending_category_date.columns= ['category', \n",
    "                                'trending_date', \n",
    "                                'videos_count',\n",
    "                                'videos_count_total']\n",
    "trending_category_date.head()"
   ]
  },
  {
   "cell_type": "code",
   "execution_count": 29,
   "metadata": {},
   "outputs": [],
   "source": [
    "#trending_category_date = trending_category_date.sort_values(by='trending_date',\n",
    "                                                           #ascending=True)"
   ]
  },
  {
   "cell_type": "code",
   "execution_count": 30,
   "metadata": {},
   "outputs": [],
   "source": [
    "#trending_category_date['trending_date'].unique()"
   ]
  },
  {
   "cell_type": "code",
   "execution_count": 31,
   "metadata": {},
   "outputs": [
    {
     "data": {
      "image/png": "[encoded data removed]",
      "text/plain": [
       "<Figure size 576x432 with 1 Axes>"
      ]
     },
     "metadata": {},
     "output_type": "display_data"
    }
   ],
   "source": [
    "sns.set_style('whitegrid')\n",
    "sns.set_context('notebook')\n",
    "plt.figure(figsize=(8, 6))\n",
    "sns.lineplot(\n",
    "    x='trending_date',\n",
    "    y='videos_count',\n",
    "    data = trending_category_date,\n",
    "    hue='category'\n",
    "          )\n",
    "plt.legend(bbox_to_anchor=(1.05, 1), loc=2, borderaxespad=0.)\n",
    "plt.title('Daily trending video count by category', size=14)\n",
    "plt.xlabel('Date')\n",
    "plt.ylabel('Count of videos')\n",
    "plt.show()"
   ]
  },
  {
   "cell_type": "code",
   "execution_count": 32,
   "metadata": {},
   "outputs": [
    {
     "data": {
      "application/vnd.plotly.v1+json": {
       "config": {
        "plotlyServerURL": "https://plot.ly"
       },
       "data": [
        {
         "hovertemplate": "Video category=Entertainment<br>Date=%{x}<br>Count of videos=%{y}<extra></extra>",
         "legendgroup": "Entertainment",
         "line": {
          "color": "#636efa"
         },
         "mode": "lines",
         "name": "Entertainment",
         "orientation": "v",
         "showlegend": true,
         "stackgroup": "1",
         "type": "scatter",
         "x": [
          "2018-05-23T00:00:00",
          "2018-05-18T00:00:00",
          "2018-05-22T00:00:00",
          "2018-05-25T00:00:00",
          "2018-05-31T00:00:00",
          "2018-06-06T00:00:00",
          "2018-06-03T00:00:00",
          "2018-06-07T00:00:00",
          "2018-06-09T00:00:00",
          "2018-05-26T00:00:00",
          "2018-05-28T00:00:00",
          "2018-05-04T00:00:00",
          "2018-06-12T00:00:00",
          "2018-05-24T00:00:00",
          "2018-06-02T00:00:00",
          "2018-05-21T00:00:00",
          "2018-06-08T00:00:00",
          "2018-05-30T00:00:00",
          "2018-06-01T00:00:00",
          "2018-05-27T00:00:00",
          "2018-04-26T00:00:00",
          "2018-05-06T00:00:00",
          "2018-05-05T00:00:00",
          "2018-05-29T00:00:00",
          "2018-05-15T00:00:00",
          "2018-06-14T00:00:00",
          "2018-06-11T00:00:00",
          "2018-05-03T00:00:00",
          "2018-05-11T00:00:00",
          "2018-06-04T00:00:00",
          "2018-05-10T00:00:00",
          "2018-05-16T00:00:00",
          "2018-03-31T00:00:00",
          "2018-05-09T00:00:00",
          "2018-04-01T00:00:00",
          "2018-03-17T00:00:00",
          "2018-06-05T00:00:00",
          "2018-04-04T00:00:00",
          "2018-05-17T00:00:00",
          "2018-05-02T00:00:00",
          "2018-05-13T00:00:00",
          "2018-03-20T00:00:00",
          "2018-06-10T00:00:00",
          "2018-02-18T00:00:00",
          "2018-03-18T00:00:00",
          "2018-04-29T00:00:00",
          "2018-04-15T00:00:00",
          "2018-03-25T00:00:00",
          "2018-04-28T00:00:00",
          "2018-04-25T00:00:00",
          "2018-04-24T00:00:00",
          "2018-04-23T00:00:00",
          "2018-04-30T00:00:00",
          "2018-04-27T00:00:00",
          "2018-03-22T00:00:00",
          "2018-02-08T00:00:00",
          "2018-05-01T00:00:00",
          "2018-03-30T00:00:00",
          "2018-04-16T00:00:00",
          "2018-02-28T00:00:00",
          "2018-02-19T00:00:00",
          "2018-06-13T00:00:00",
          "2018-04-05T00:00:00",
          "2018-02-17T00:00:00",
          "2018-04-20T00:00:00",
          "2018-05-12T00:00:00",
          "2018-03-29T00:00:00",
          "2018-02-10T00:00:00",
          "2018-04-03T00:00:00",
          "2018-04-06T00:00:00",
          "2018-04-18T00:00:00",
          "2018-03-23T00:00:00",
          "2018-05-19T00:00:00",
          "2018-04-21T00:00:00",
          "2018-03-07T00:00:00",
          "2018-03-27T00:00:00",
          "2018-03-19T00:00:00",
          "2018-03-21T00:00:00",
          "2018-02-27T00:00:00",
          "2018-04-14T00:00:00",
          "2018-03-26T00:00:00",
          "2018-03-08T00:00:00",
          "2018-04-19T00:00:00",
          "2018-04-22T00:00:00",
          "2018-04-07T00:00:00",
          "2018-03-05T00:00:00",
          "2018-03-03T00:00:00",
          "2018-05-07T00:00:00",
          "2018-02-11T00:00:00",
          "2018-02-21T00:00:00",
          "2018-03-24T00:00:00",
          "2018-02-09T00:00:00",
          "2018-04-02T00:00:00",
          "2018-03-16T00:00:00",
          "2018-05-20T00:00:00",
          "2018-03-06T00:00:00",
          "2018-03-10T00:00:00",
          "2017-12-18T00:00:00",
          "2018-03-11T00:00:00",
          "2018-02-22T00:00:00",
          "2018-03-09T00:00:00",
          "2018-03-01T00:00:00",
          "2018-04-17T00:00:00",
          "2018-05-08T00:00:00",
          "2018-02-20T00:00:00",
          "2017-12-17T00:00:00",
          "2018-02-14T00:00:00",
          "2018-02-23T00:00:00",
          "2018-02-07T00:00:00",
          "2018-02-16T00:00:00",
          "2018-03-14T00:00:00",
          "2018-05-14T00:00:00",
          "2018-03-13T00:00:00",
          "2018-02-26T00:00:00",
          "2017-12-04T00:00:00",
          "2018-02-15T00:00:00",
          "2018-02-25T00:00:00",
          "2018-03-04T00:00:00",
          "2017-12-24T00:00:00",
          "2017-12-03T00:00:00",
          "2017-12-05T00:00:00",
          "2018-03-02T00:00:00",
          "2018-01-25T00:00:00",
          "2017-12-30T00:00:00",
          "2017-12-19T00:00:00",
          "2018-01-21T00:00:00",
          "2018-02-04T00:00:00",
          "2017-12-16T00:00:00",
          "2018-01-12T00:00:00",
          "2017-12-01T00:00:00",
          "2018-02-24T00:00:00",
          "2017-12-06T00:00:00",
          "2017-12-25T00:00:00",
          "2017-12-22T00:00:00",
          "2017-12-10T00:00:00",
          "2018-02-13T00:00:00",
          "2017-12-13T00:00:00",
          "2018-03-12T00:00:00",
          "2018-01-14T00:00:00",
          "2017-12-07T00:00:00",
          "2018-03-28T00:00:00",
          "2018-02-12T00:00:00",
          "2017-12-21T00:00:00",
          "2017-11-24T00:00:00",
          "2018-01-13T00:00:00",
          "2018-01-26T00:00:00",
          "2017-12-31T00:00:00",
          "2017-12-23T00:00:00",
          "2017-11-19T00:00:00",
          "2017-12-14T00:00:00",
          "2017-12-12T00:00:00",
          "2017-11-28T00:00:00",
          "2017-11-20T00:00:00",
          "2017-12-15T00:00:00",
          "2017-11-23T00:00:00",
          "2017-12-08T00:00:00",
          "2017-11-14T00:00:00",
          "2018-01-09T00:00:00",
          "2018-01-27T00:00:00",
          "2018-01-08T00:00:00",
          "2017-12-20T00:00:00",
          "2018-01-07T00:00:00",
          "2017-11-16T00:00:00",
          "2017-12-27T00:00:00",
          "2018-02-05T00:00:00",
          "2017-11-17T00:00:00",
          "2018-01-17T00:00:00",
          "2017-11-18T00:00:00",
          "2017-11-22T00:00:00",
          "2017-12-11T00:00:00",
          "2018-01-28T00:00:00",
          "2017-11-29T00:00:00",
          "2018-01-24T00:00:00",
          "2017-11-15T00:00:00",
          "2018-01-15T00:00:00",
          "2017-12-28T00:00:00",
          "2017-12-02T00:00:00",
          "2017-11-30T00:00:00",
          "2018-01-20T00:00:00",
          "2017-11-27T00:00:00",
          "2018-01-31T00:00:00",
          "2018-01-22T00:00:00",
          "2017-12-29T00:00:00",
          "2018-02-03T00:00:00",
          "2018-02-06T00:00:00",
          "2017-12-09T00:00:00",
          "2017-11-25T00:00:00",
          "2017-12-26T00:00:00",
          "2018-01-01T00:00:00",
          "2018-01-06T00:00:00",
          "2018-01-05T00:00:00",
          "2018-03-15T00:00:00",
          "2018-01-04T00:00:00",
          "2018-01-23T00:00:00",
          "2017-11-21T00:00:00",
          "2018-01-29T00:00:00",
          "2018-01-30T00:00:00",
          "2017-11-26T00:00:00",
          "2018-01-03T00:00:00",
          "2018-01-18T00:00:00",
          "2018-01-02T00:00:00",
          "2018-01-19T00:00:00",
          "2018-01-16T00:00:00",
          "2018-02-01T00:00:00",
          "2018-02-02T00:00:00"
         ],
         "xaxis": "x",
         "y": [
          642,
          606,
          602,
          598,
          596,
          594,
          592,
          590,
          588,
          582,
          582,
          582,
          576,
          574,
          566,
          564,
          562,
          560,
          556,
          556,
          554,
          554,
          552,
          552,
          550,
          548,
          548,
          546,
          544,
          544,
          542,
          542,
          540,
          540,
          536,
          536,
          530,
          530,
          528,
          528,
          526,
          524,
          524,
          520,
          518,
          518,
          518,
          518,
          516,
          516,
          516,
          514,
          514,
          514,
          510,
          510,
          510,
          508,
          508,
          508,
          508,
          508,
          500,
          500,
          498,
          498,
          496,
          496,
          494,
          494,
          494,
          492,
          492,
          492,
          490,
          490,
          490,
          490,
          488,
          488,
          486,
          486,
          486,
          484,
          484,
          484,
          484,
          482,
          482,
          482,
          478,
          476,
          476,
          474,
          474,
          472,
          472,
          470,
          470,
          466,
          464,
          464,
          462,
          460,
          456,
          452,
          452,
          452,
          446,
          444,
          444,
          444,
          442,
          442,
          440,
          440,
          438,
          438,
          438,
          436,
          436,
          434,
          434,
          432,
          432,
          428,
          428,
          428,
          428,
          428,
          428,
          428,
          426,
          426,
          426,
          424,
          424,
          424,
          422,
          420,
          420,
          418,
          418,
          418,
          418,
          416,
          414,
          412,
          410,
          410,
          410,
          410,
          410,
          408,
          408,
          408,
          406,
          402,
          402,
          400,
          398,
          398,
          398,
          398,
          396,
          396,
          396,
          394,
          394,
          392,
          390,
          390,
          390,
          390,
          390,
          384,
          384,
          384,
          384,
          382,
          382,
          382,
          382,
          380,
          380,
          378,
          378,
          376,
          374,
          374,
          374,
          374,
          372,
          366,
          366,
          364,
          364,
          362,
          356,
          354,
          354,
          352,
          348,
          344,
          328
         ],
         "yaxis": "y"
        },
        {
         "hovertemplate": "Video category=Others<br>Date=%{x}<br>Count of videos=%{y}<extra></extra>",
         "legendgroup": "Others",
         "line": {
          "color": "#EF553B"
         },
         "mode": "lines",
         "name": "Others",
         "orientation": "v",
         "showlegend": true,
         "stackgroup": "1",
         "type": "scatter",
         "x": [
          "2018-03-14T00:00:00",
          "2018-03-13T00:00:00",
          "2018-03-11T00:00:00",
          "2018-03-10T00:00:00",
          "2018-03-09T00:00:00",
          "2018-02-09T00:00:00",
          "2018-02-08T00:00:00",
          "2018-03-07T00:00:00",
          "2018-02-13T00:00:00",
          "2018-06-12T00:00:00",
          "2018-06-11T00:00:00",
          "2018-02-15T00:00:00",
          "2017-11-17T00:00:00",
          "2018-02-10T00:00:00",
          "2018-02-07T00:00:00",
          "2018-05-18T00:00:00",
          "2018-02-12T00:00:00",
          "2018-03-02T00:00:00",
          "2018-06-05T00:00:00",
          "2018-03-12T00:00:00",
          "2018-02-28T00:00:00",
          "2018-05-15T00:00:00",
          "2018-02-27T00:00:00",
          "2018-03-01T00:00:00",
          "2018-05-31T00:00:00",
          "2018-03-05T00:00:00",
          "2018-03-06T00:00:00",
          "2018-06-13T00:00:00",
          "2018-02-24T00:00:00",
          "2018-03-08T00:00:00",
          "2018-02-20T00:00:00",
          "2018-02-23T00:00:00",
          "2018-02-14T00:00:00",
          "2018-04-24T00:00:00",
          "2018-06-04T00:00:00",
          "2018-05-01T00:00:00",
          "2018-02-06T00:00:00",
          "2018-02-21T00:00:00",
          "2018-02-11T00:00:00",
          "2018-06-10T00:00:00",
          "2018-03-03T00:00:00",
          "2018-03-16T00:00:00",
          "2018-02-16T00:00:00",
          "2018-05-30T00:00:00",
          "2018-05-14T00:00:00",
          "2018-06-03T00:00:00",
          "2018-01-07T00:00:00",
          "2018-03-22T00:00:00",
          "2018-05-22T00:00:00",
          "2017-11-14T00:00:00",
          "2018-03-15T00:00:00",
          "2017-11-16T00:00:00",
          "2018-05-16T00:00:00",
          "2018-05-11T00:00:00",
          "2018-03-17T00:00:00",
          "2018-06-01T00:00:00",
          "2018-04-20T00:00:00",
          "2018-04-29T00:00:00",
          "2018-03-23T00:00:00",
          "2018-02-22T00:00:00",
          "2018-06-14T00:00:00",
          "2018-02-17T00:00:00",
          "2018-02-01T00:00:00",
          "2018-01-05T00:00:00",
          "2017-11-15T00:00:00",
          "2017-11-18T00:00:00",
          "2018-01-12T00:00:00",
          "2018-02-18T00:00:00",
          "2018-01-08T00:00:00",
          "2018-03-18T00:00:00",
          "2018-02-05T00:00:00",
          "2018-05-13T00:00:00",
          "2018-05-21T00:00:00",
          "2018-03-31T00:00:00",
          "2018-04-25T00:00:00",
          "2018-03-29T00:00:00",
          "2017-11-27T00:00:00",
          "2018-02-02T00:00:00",
          "2018-04-23T00:00:00",
          "2018-05-09T00:00:00",
          "2018-05-29T00:00:00",
          "2018-04-30T00:00:00",
          "2018-03-21T00:00:00",
          "2018-02-26T00:00:00",
          "2018-06-07T00:00:00",
          "2017-12-09T00:00:00",
          "2017-11-19T00:00:00",
          "2017-11-21T00:00:00",
          "2018-03-30T00:00:00",
          "2018-04-19T00:00:00",
          "2018-04-21T00:00:00",
          "2018-05-04T00:00:00",
          "2018-03-19T00:00:00",
          "2018-01-29T00:00:00",
          "2018-05-12T00:00:00",
          "2018-05-26T00:00:00",
          "2018-02-19T00:00:00",
          "2018-01-30T00:00:00",
          "2018-05-24T00:00:00",
          "2018-03-04T00:00:00",
          "2018-02-25T00:00:00",
          "2018-05-06T00:00:00",
          "2018-03-26T00:00:00",
          "2018-04-26T00:00:00",
          "2018-04-28T00:00:00",
          "2018-01-23T00:00:00",
          "2018-04-14T00:00:00",
          "2017-12-28T00:00:00",
          "2018-05-17T00:00:00",
          "2018-05-03T00:00:00",
          "2018-01-20T00:00:00",
          "2018-06-06T00:00:00",
          "2018-05-23T00:00:00",
          "2018-05-25T00:00:00",
          "2017-12-07T00:00:00",
          "2018-04-22T00:00:00",
          "2018-01-16T00:00:00",
          "2018-05-27T00:00:00",
          "2018-01-18T00:00:00",
          "2018-03-24T00:00:00",
          "2018-06-08T00:00:00",
          "2018-05-28T00:00:00",
          "2018-04-17T00:00:00",
          "2018-01-19T00:00:00",
          "2018-01-31T00:00:00",
          "2018-02-03T00:00:00",
          "2018-05-10T00:00:00",
          "2018-02-04T00:00:00",
          "2018-05-05T00:00:00",
          "2018-01-06T00:00:00",
          "2018-05-08T00:00:00",
          "2018-04-03T00:00:00",
          "2018-04-06T00:00:00",
          "2017-12-29T00:00:00",
          "2018-06-09T00:00:00",
          "2017-11-20T00:00:00",
          "2017-12-01T00:00:00",
          "2017-12-30T00:00:00",
          "2018-04-04T00:00:00",
          "2018-04-05T00:00:00",
          "2018-05-02T00:00:00",
          "2017-11-23T00:00:00",
          "2017-11-29T00:00:00",
          "2017-12-31T00:00:00",
          "2017-12-08T00:00:00",
          "2018-04-02T00:00:00",
          "2018-03-25T00:00:00",
          "2018-01-13T00:00:00",
          "2018-04-01T00:00:00",
          "2018-01-04T00:00:00",
          "2018-01-21T00:00:00",
          "2018-03-27T00:00:00",
          "2018-04-15T00:00:00",
          "2017-11-24T00:00:00",
          "2018-01-17T00:00:00",
          "2018-01-27T00:00:00",
          "2017-12-19T00:00:00",
          "2018-04-16T00:00:00",
          "2018-01-03T00:00:00",
          "2017-12-20T00:00:00",
          "2017-12-13T00:00:00",
          "2018-03-20T00:00:00",
          "2018-05-07T00:00:00",
          "2018-04-27T00:00:00",
          "2017-11-22T00:00:00",
          "2018-03-28T00:00:00",
          "2018-01-22T00:00:00",
          "2018-01-01T00:00:00",
          "2018-01-14T00:00:00",
          "2018-01-25T00:00:00",
          "2018-04-18T00:00:00",
          "2018-05-19T00:00:00",
          "2018-06-02T00:00:00",
          "2017-12-05T00:00:00",
          "2018-01-28T00:00:00",
          "2018-01-15T00:00:00",
          "2017-12-22T00:00:00",
          "2018-01-09T00:00:00",
          "2018-04-07T00:00:00",
          "2017-12-12T00:00:00",
          "2017-12-04T00:00:00",
          "2017-12-10T00:00:00",
          "2018-01-24T00:00:00",
          "2018-01-02T00:00:00",
          "2017-12-23T00:00:00",
          "2018-01-26T00:00:00",
          "2017-12-06T00:00:00",
          "2017-12-27T00:00:00",
          "2017-12-14T00:00:00",
          "2017-11-28T00:00:00",
          "2017-12-15T00:00:00",
          "2017-12-11T00:00:00",
          "2017-11-25T00:00:00",
          "2017-12-18T00:00:00",
          "2017-12-21T00:00:00",
          "2017-12-02T00:00:00",
          "2017-12-03T00:00:00",
          "2017-11-26T00:00:00",
          "2018-05-20T00:00:00",
          "2017-12-26T00:00:00",
          "2017-12-16T00:00:00",
          "2017-12-17T00:00:00",
          "2017-11-30T00:00:00",
          "2017-12-25T00:00:00",
          "2017-12-24T00:00:00"
         ],
         "xaxis": "x",
         "y": [
          424,
          424,
          310,
          306,
          306,
          288,
          288,
          276,
          274,
          274,
          264,
          262,
          260,
          256,
          254,
          252,
          248,
          248,
          248,
          246,
          246,
          246,
          242,
          242,
          240,
          238,
          236,
          234,
          234,
          232,
          232,
          232,
          230,
          228,
          228,
          228,
          228,
          226,
          226,
          226,
          222,
          222,
          222,
          222,
          222,
          220,
          220,
          220,
          220,
          218,
          218,
          216,
          216,
          216,
          214,
          214,
          214,
          212,
          212,
          212,
          212,
          212,
          212,
          212,
          210,
          210,
          210,
          208,
          208,
          206,
          206,
          206,
          206,
          206,
          206,
          206,
          204,
          204,
          202,
          202,
          202,
          202,
          202,
          202,
          202,
          200,
          200,
          200,
          200,
          200,
          200,
          200,
          200,
          198,
          198,
          198,
          198,
          198,
          198,
          198,
          198,
          198,
          198,
          198,
          198,
          196,
          196,
          196,
          196,
          196,
          196,
          196,
          196,
          194,
          194,
          194,
          194,
          192,
          192,
          192,
          190,
          190,
          190,
          188,
          188,
          188,
          188,
          188,
          188,
          188,
          188,
          188,
          188,
          186,
          186,
          184,
          184,
          184,
          184,
          184,
          184,
          182,
          182,
          182,
          182,
          182,
          182,
          182,
          180,
          180,
          180,
          180,
          180,
          178,
          178,
          178,
          178,
          178,
          178,
          176,
          176,
          176,
          176,
          176,
          174,
          174,
          174,
          174,
          172,
          172,
          172,
          172,
          172,
          172,
          172,
          172,
          170,
          170,
          170,
          170,
          170,
          168,
          168,
          168,
          168,
          166,
          166,
          166,
          166,
          164,
          164,
          160,
          160,
          158,
          158,
          158,
          158,
          158,
          154,
          154,
          152,
          150,
          150,
          144,
          132
         ],
         "yaxis": "y"
        },
        {
         "hovertemplate": "Video category=People & Blogs<br>Date=%{x}<br>Count of videos=%{y}<extra></extra>",
         "legendgroup": "People & Blogs",
         "line": {
          "color": "#00cc96"
         },
         "mode": "lines",
         "name": "People & Blogs",
         "orientation": "v",
         "showlegend": true,
         "stackgroup": "1",
         "type": "scatter",
         "x": [
          "2018-02-20T00:00:00",
          "2018-02-14T00:00:00",
          "2018-03-03T00:00:00",
          "2018-04-06T00:00:00",
          "2018-02-19T00:00:00",
          "2018-05-02T00:00:00",
          "2018-03-27T00:00:00",
          "2018-04-30T00:00:00",
          "2018-04-04T00:00:00",
          "2018-04-27T00:00:00",
          "2018-05-07T00:00:00",
          "2018-04-03T00:00:00",
          "2018-04-02T00:00:00",
          "2018-04-18T00:00:00",
          "2018-04-21T00:00:00",
          "2018-03-18T00:00:00",
          "2018-02-17T00:00:00",
          "2018-02-21T00:00:00",
          "2018-04-25T00:00:00",
          "2018-04-17T00:00:00",
          "2018-02-11T00:00:00",
          "2018-02-16T00:00:00",
          "2018-03-26T00:00:00",
          "2018-05-05T00:00:00",
          "2018-04-28T00:00:00",
          "2018-02-25T00:00:00",
          "2018-03-21T00:00:00",
          "2018-04-16T00:00:00",
          "2018-02-22T00:00:00",
          "2018-03-12T00:00:00",
          "2018-03-25T00:00:00",
          "2018-02-26T00:00:00",
          "2018-02-27T00:00:00",
          "2018-04-19T00:00:00",
          "2018-04-01T00:00:00",
          "2018-05-01T00:00:00",
          "2018-03-02T00:00:00",
          "2018-04-26T00:00:00",
          "2018-03-08T00:00:00",
          "2018-02-28T00:00:00",
          "2018-04-24T00:00:00",
          "2018-03-19T00:00:00",
          "2018-03-22T00:00:00",
          "2018-05-11T00:00:00",
          "2018-04-20T00:00:00",
          "2018-05-13T00:00:00",
          "2018-03-29T00:00:00",
          "2018-04-29T00:00:00",
          "2018-03-09T00:00:00",
          "2018-04-05T00:00:00",
          "2018-03-10T00:00:00",
          "2018-02-18T00:00:00",
          "2018-04-22T00:00:00",
          "2018-04-14T00:00:00",
          "2018-05-04T00:00:00",
          "2018-02-15T00:00:00",
          "2018-02-13T00:00:00",
          "2018-03-17T00:00:00",
          "2018-04-23T00:00:00",
          "2018-03-28T00:00:00",
          "2018-03-31T00:00:00",
          "2018-04-07T00:00:00",
          "2018-02-12T00:00:00",
          "2018-01-03T00:00:00",
          "2018-05-03T00:00:00",
          "2018-03-30T00:00:00",
          "2018-03-06T00:00:00",
          "2018-03-04T00:00:00",
          "2018-01-04T00:00:00",
          "2018-05-14T00:00:00",
          "2018-02-24T00:00:00",
          "2018-03-24T00:00:00",
          "2018-03-13T00:00:00",
          "2018-01-18T00:00:00",
          "2017-12-31T00:00:00",
          "2018-02-10T00:00:00",
          "2018-03-01T00:00:00",
          "2018-03-23T00:00:00",
          "2018-02-08T00:00:00",
          "2018-05-12T00:00:00",
          "2018-03-14T00:00:00",
          "2018-03-20T00:00:00",
          "2018-02-23T00:00:00",
          "2017-11-14T00:00:00",
          "2017-12-17T00:00:00",
          "2018-02-07T00:00:00",
          "2017-12-15T00:00:00",
          "2017-12-22T00:00:00",
          "2018-06-12T00:00:00",
          "2018-04-15T00:00:00",
          "2017-12-21T00:00:00",
          "2018-05-21T00:00:00",
          "2017-12-29T00:00:00",
          "2018-01-30T00:00:00",
          "2018-02-05T00:00:00",
          "2018-03-07T00:00:00",
          "2018-01-02T00:00:00",
          "2017-12-05T00:00:00",
          "2017-12-04T00:00:00",
          "2018-01-24T00:00:00",
          "2018-01-01T00:00:00",
          "2018-03-11T00:00:00",
          "2017-12-24T00:00:00",
          "2017-12-11T00:00:00",
          "2017-12-16T00:00:00",
          "2017-12-13T00:00:00",
          "2017-12-12T00:00:00",
          "2017-11-15T00:00:00",
          "2018-06-11T00:00:00",
          "2017-12-26T00:00:00",
          "2018-02-01T00:00:00",
          "2018-01-15T00:00:00",
          "2017-12-08T00:00:00",
          "2017-11-16T00:00:00",
          "2018-05-24T00:00:00",
          "2018-06-13T00:00:00",
          "2017-12-10T00:00:00",
          "2018-03-16T00:00:00",
          "2018-05-08T00:00:00",
          "2018-03-05T00:00:00",
          "2017-12-19T00:00:00",
          "2018-05-23T00:00:00",
          "2018-05-06T00:00:00",
          "2018-01-31T00:00:00",
          "2017-12-28T00:00:00",
          "2018-01-23T00:00:00",
          "2017-11-26T00:00:00",
          "2018-01-06T00:00:00",
          "2017-12-09T00:00:00",
          "2018-01-19T00:00:00",
          "2018-01-09T00:00:00",
          "2017-12-14T00:00:00",
          "2018-01-05T00:00:00",
          "2018-05-15T00:00:00",
          "2018-06-09T00:00:00",
          "2017-12-30T00:00:00",
          "2017-12-03T00:00:00",
          "2017-12-20T00:00:00",
          "2017-11-22T00:00:00",
          "2018-01-07T00:00:00",
          "2018-01-26T00:00:00",
          "2018-01-28T00:00:00",
          "2018-01-12T00:00:00",
          "2018-05-09T00:00:00",
          "2018-06-08T00:00:00",
          "2017-12-18T00:00:00",
          "2017-11-25T00:00:00",
          "2018-02-02T00:00:00",
          "2018-05-10T00:00:00",
          "2018-03-15T00:00:00",
          "2018-06-01T00:00:00",
          "2018-01-20T00:00:00",
          "2018-05-16T00:00:00",
          "2018-02-04T00:00:00",
          "2017-12-23T00:00:00",
          "2017-12-25T00:00:00",
          "2017-11-19T00:00:00",
          "2018-06-05T00:00:00",
          "2018-01-16T00:00:00",
          "2017-12-06T00:00:00",
          "2018-06-02T00:00:00",
          "2018-06-07T00:00:00",
          "2017-11-30T00:00:00",
          "2017-12-27T00:00:00",
          "2018-05-22T00:00:00",
          "2017-11-18T00:00:00",
          "2018-06-14T00:00:00",
          "2018-06-03T00:00:00",
          "2018-01-22T00:00:00",
          "2018-01-29T00:00:00",
          "2018-01-13T00:00:00",
          "2018-05-20T00:00:00",
          "2017-11-21T00:00:00",
          "2018-06-06T00:00:00",
          "2018-01-25T00:00:00",
          "2018-05-29T00:00:00",
          "2018-02-09T00:00:00",
          "2018-01-14T00:00:00",
          "2017-11-28T00:00:00",
          "2017-11-24T00:00:00",
          "2018-01-17T00:00:00",
          "2018-05-31T00:00:00",
          "2018-01-08T00:00:00",
          "2017-11-20T00:00:00",
          "2018-05-18T00:00:00",
          "2018-01-27T00:00:00",
          "2017-11-27T00:00:00",
          "2018-05-25T00:00:00",
          "2018-02-06T00:00:00",
          "2018-05-27T00:00:00",
          "2017-12-07T00:00:00",
          "2017-11-17T00:00:00",
          "2018-06-04T00:00:00",
          "2018-05-26T00:00:00",
          "2017-11-23T00:00:00",
          "2018-02-03T00:00:00",
          "2018-05-17T00:00:00",
          "2018-05-28T00:00:00",
          "2018-01-21T00:00:00",
          "2017-12-01T00:00:00",
          "2018-06-10T00:00:00",
          "2017-12-02T00:00:00",
          "2017-11-29T00:00:00",
          "2018-05-30T00:00:00",
          "2018-05-19T00:00:00"
         ],
         "xaxis": "x",
         "y": [
          306,
          294,
          294,
          292,
          286,
          286,
          286,
          284,
          284,
          284,
          280,
          276,
          272,
          268,
          266,
          266,
          266,
          266,
          262,
          262,
          260,
          260,
          260,
          260,
          260,
          260,
          258,
          258,
          258,
          256,
          256,
          256,
          256,
          254,
          254,
          254,
          254,
          252,
          248,
          248,
          248,
          248,
          248,
          246,
          246,
          244,
          244,
          244,
          240,
          240,
          238,
          238,
          238,
          238,
          238,
          236,
          236,
          234,
          234,
          234,
          232,
          232,
          232,
          232,
          232,
          230,
          230,
          230,
          230,
          230,
          228,
          228,
          228,
          226,
          226,
          226,
          224,
          224,
          224,
          222,
          222,
          222,
          222,
          222,
          222,
          222,
          222,
          220,
          220,
          220,
          218,
          218,
          218,
          218,
          218,
          218,
          216,
          216,
          216,
          216,
          216,
          216,
          214,
          214,
          212,
          212,
          212,
          212,
          212,
          212,
          212,
          212,
          212,
          210,
          210,
          210,
          210,
          210,
          210,
          208,
          208,
          208,
          208,
          208,
          206,
          204,
          204,
          204,
          204,
          202,
          202,
          202,
          202,
          202,
          202,
          200,
          200,
          200,
          200,
          198,
          198,
          198,
          198,
          198,
          198,
          198,
          196,
          196,
          196,
          196,
          196,
          194,
          194,
          194,
          194,
          192,
          192,
          192,
          190,
          190,
          190,
          190,
          190,
          190,
          188,
          188,
          188,
          186,
          186,
          186,
          186,
          186,
          186,
          186,
          184,
          182,
          182,
          182,
          182,
          182,
          182,
          182,
          180,
          180,
          180,
          180,
          178,
          178,
          176,
          176,
          176,
          174,
          174,
          174,
          172,
          172,
          170,
          166,
          166,
          166,
          166,
          164,
          162,
          160,
          160
         ],
         "yaxis": "y"
        },
        {
         "hovertemplate": "Video category=News & Politics<br>Date=%{x}<br>Count of videos=%{y}<extra></extra>",
         "legendgroup": "News & Politics",
         "line": {
          "color": "#ab63fa"
         },
         "mode": "lines",
         "name": "News & Politics",
         "orientation": "v",
         "showlegend": true,
         "stackgroup": "1",
         "type": "scatter",
         "x": [
          "2018-03-29T00:00:00",
          "2018-03-27T00:00:00",
          "2018-04-18T00:00:00",
          "2018-03-20T00:00:00",
          "2018-02-28T00:00:00",
          "2017-12-12T00:00:00",
          "2017-11-30T00:00:00",
          "2018-05-15T00:00:00",
          "2018-04-17T00:00:00",
          "2018-03-30T00:00:00",
          "2018-04-24T00:00:00",
          "2018-03-02T00:00:00",
          "2018-03-28T00:00:00",
          "2018-02-27T00:00:00",
          "2018-02-02T00:00:00",
          "2018-03-19T00:00:00",
          "2017-12-13T00:00:00",
          "2018-04-19T00:00:00",
          "2018-03-23T00:00:00",
          "2018-01-20T00:00:00",
          "2018-02-20T00:00:00",
          "2018-05-10T00:00:00",
          "2018-03-16T00:00:00",
          "2017-12-07T00:00:00",
          "2018-01-17T00:00:00",
          "2018-02-09T00:00:00",
          "2018-03-17T00:00:00",
          "2018-03-01T00:00:00",
          "2018-02-13T00:00:00",
          "2017-12-01T00:00:00",
          "2017-11-29T00:00:00",
          "2018-04-06T00:00:00",
          "2018-01-25T00:00:00",
          "2018-02-01T00:00:00",
          "2018-01-19T00:00:00",
          "2018-05-29T00:00:00",
          "2018-04-20T00:00:00",
          "2017-12-08T00:00:00",
          "2018-01-24T00:00:00",
          "2018-04-15T00:00:00",
          "2018-02-12T00:00:00",
          "2018-02-16T00:00:00",
          "2018-02-21T00:00:00",
          "2017-12-09T00:00:00",
          "2018-05-24T00:00:00",
          "2018-05-14T00:00:00",
          "2018-03-24T00:00:00",
          "2018-04-27T00:00:00",
          "2017-12-15T00:00:00",
          "2018-04-03T00:00:00",
          "2018-01-23T00:00:00",
          "2018-03-26T00:00:00",
          "2018-04-04T00:00:00",
          "2018-04-14T00:00:00",
          "2017-12-26T00:00:00",
          "2017-12-06T00:00:00",
          "2017-12-02T00:00:00",
          "2018-04-16T00:00:00",
          "2018-03-21T00:00:00",
          "2018-05-08T00:00:00",
          "2018-02-26T00:00:00",
          "2018-01-16T00:00:00",
          "2017-11-26T00:00:00",
          "2018-05-17T00:00:00",
          "2018-05-09T00:00:00",
          "2017-11-23T00:00:00",
          "2017-11-24T00:00:00",
          "2018-05-25T00:00:00",
          "2018-01-18T00:00:00",
          "2018-05-18T00:00:00",
          "2018-02-06T00:00:00",
          "2018-02-14T00:00:00",
          "2018-03-03T00:00:00",
          "2018-03-22T00:00:00",
          "2018-03-07T00:00:00",
          "2018-02-17T00:00:00",
          "2018-04-25T00:00:00",
          "2018-01-09T00:00:00",
          "2017-12-22T00:00:00",
          "2018-02-08T00:00:00",
          "2017-12-16T00:00:00",
          "2018-05-23T00:00:00",
          "2017-11-25T00:00:00",
          "2017-11-21T00:00:00",
          "2017-11-28T00:00:00",
          "2017-12-05T00:00:00",
          "2017-12-10T00:00:00",
          "2018-02-10T00:00:00",
          "2018-01-06T00:00:00",
          "2018-02-03T00:00:00",
          "2018-01-26T00:00:00",
          "2018-03-31T00:00:00",
          "2018-01-05T00:00:00",
          "2018-01-04T00:00:00",
          "2018-01-03T00:00:00",
          "2018-05-30T00:00:00",
          "2018-02-22T00:00:00",
          "2018-04-26T00:00:00",
          "2018-04-05T00:00:00",
          "2017-11-17T00:00:00",
          "2018-05-16T00:00:00",
          "2017-12-21T00:00:00",
          "2018-02-07T00:00:00",
          "2017-11-18T00:00:00",
          "2018-01-14T00:00:00",
          "2018-01-21T00:00:00",
          "2017-12-14T00:00:00",
          "2018-03-08T00:00:00",
          "2018-01-07T00:00:00",
          "2018-04-22T00:00:00",
          "2018-04-28T00:00:00",
          "2018-01-29T00:00:00",
          "2017-12-23T00:00:00",
          "2018-01-31T00:00:00",
          "2018-04-21T00:00:00",
          "2018-03-09T00:00:00",
          "2018-03-18T00:00:00",
          "2018-05-22T00:00:00",
          "2018-05-03T00:00:00",
          "2018-02-23T00:00:00",
          "2018-04-29T00:00:00",
          "2018-03-05T00:00:00",
          "2018-03-06T00:00:00",
          "2017-12-11T00:00:00",
          "2018-01-13T00:00:00",
          "2018-05-26T00:00:00",
          "2018-01-22T00:00:00",
          "2018-05-11T00:00:00",
          "2018-04-07T00:00:00",
          "2018-04-23T00:00:00",
          "2018-02-15T00:00:00",
          "2017-12-27T00:00:00",
          "2018-01-27T00:00:00",
          "2018-02-18T00:00:00",
          "2018-05-27T00:00:00",
          "2018-05-12T00:00:00",
          "2018-05-21T00:00:00",
          "2018-01-08T00:00:00",
          "2018-01-15T00:00:00",
          "2018-05-06T00:00:00",
          "2018-05-02T00:00:00",
          "2017-12-28T00:00:00",
          "2018-06-01T00:00:00",
          "2018-05-05T00:00:00",
          "2018-03-10T00:00:00",
          "2018-03-15T00:00:00",
          "2018-02-19T00:00:00",
          "2018-05-28T00:00:00",
          "2017-11-19T00:00:00",
          "2017-11-20T00:00:00",
          "2017-11-27T00:00:00",
          "2018-01-02T00:00:00",
          "2018-02-11T00:00:00",
          "2018-03-04T00:00:00",
          "2018-02-25T00:00:00",
          "2017-12-29T00:00:00",
          "2018-01-12T00:00:00",
          "2017-12-24T00:00:00",
          "2018-01-30T00:00:00",
          "2018-05-07T00:00:00",
          "2018-03-12T00:00:00",
          "2018-06-07T00:00:00",
          "2017-11-14T00:00:00",
          "2017-11-16T00:00:00",
          "2018-02-24T00:00:00",
          "2017-11-15T00:00:00",
          "2017-11-22T00:00:00",
          "2018-03-25T00:00:00",
          "2017-12-19T00:00:00",
          "2018-02-05T00:00:00",
          "2018-03-11T00:00:00",
          "2018-05-31T00:00:00",
          "2018-06-11T00:00:00",
          "2018-04-01T00:00:00",
          "2017-12-17T00:00:00",
          "2017-12-25T00:00:00",
          "2018-05-19T00:00:00",
          "2017-12-18T00:00:00",
          "2018-03-13T00:00:00",
          "2017-12-30T00:00:00",
          "2018-05-04T00:00:00",
          "2018-03-14T00:00:00",
          "2017-12-03T00:00:00",
          "2018-01-28T00:00:00",
          "2018-01-01T00:00:00",
          "2018-04-02T00:00:00",
          "2018-04-30T00:00:00",
          "2018-06-02T00:00:00",
          "2018-06-12T00:00:00",
          "2018-02-04T00:00:00",
          "2017-12-20T00:00:00",
          "2018-06-04T00:00:00",
          "2018-06-08T00:00:00",
          "2018-05-01T00:00:00",
          "2018-06-06T00:00:00",
          "2018-06-14T00:00:00",
          "2018-05-13T00:00:00",
          "2017-12-04T00:00:00",
          "2018-06-05T00:00:00",
          "2017-12-31T00:00:00",
          "2018-05-20T00:00:00",
          "2018-06-03T00:00:00",
          "2018-06-09T00:00:00",
          "2018-06-10T00:00:00",
          "2018-06-13T00:00:00"
         ],
         "xaxis": "x",
         "y": [
          268,
          242,
          238,
          232,
          230,
          222,
          218,
          216,
          216,
          214,
          212,
          212,
          210,
          210,
          208,
          206,
          206,
          206,
          204,
          204,
          202,
          202,
          202,
          200,
          200,
          200,
          200,
          200,
          200,
          198,
          198,
          198,
          196,
          196,
          196,
          196,
          196,
          194,
          194,
          192,
          192,
          192,
          190,
          190,
          190,
          190,
          190,
          188,
          188,
          188,
          186,
          186,
          186,
          186,
          186,
          184,
          184,
          184,
          184,
          184,
          182,
          182,
          182,
          182,
          182,
          182,
          180,
          180,
          178,
          178,
          176,
          176,
          176,
          176,
          174,
          174,
          174,
          174,
          172,
          172,
          172,
          172,
          172,
          172,
          172,
          172,
          172,
          170,
          170,
          170,
          170,
          170,
          170,
          170,
          170,
          170,
          168,
          168,
          168,
          168,
          168,
          168,
          168,
          166,
          166,
          166,
          166,
          166,
          166,
          166,
          166,
          164,
          164,
          164,
          164,
          164,
          164,
          164,
          164,
          164,
          162,
          162,
          162,
          162,
          162,
          162,
          160,
          160,
          160,
          160,
          160,
          158,
          158,
          156,
          156,
          156,
          154,
          154,
          154,
          152,
          152,
          152,
          152,
          150,
          150,
          150,
          150,
          150,
          150,
          150,
          150,
          150,
          148,
          146,
          146,
          146,
          146,
          144,
          144,
          144,
          144,
          144,
          144,
          144,
          142,
          142,
          142,
          140,
          140,
          138,
          138,
          136,
          136,
          136,
          134,
          134,
          132,
          132,
          132,
          130,
          130,
          130,
          130,
          128,
          128,
          128,
          126,
          124,
          124,
          122,
          122,
          122,
          122,
          120,
          120,
          120,
          118,
          116,
          116,
          114,
          112,
          106,
          102,
          96,
          78
         ],
         "yaxis": "y"
        },
        {
         "hovertemplate": "Video category=Music<br>Date=%{x}<br>Count of videos=%{y}<extra></extra>",
         "legendgroup": "Music",
         "line": {
          "color": "#FFA15A"
         },
         "mode": "lines",
         "name": "Music",
         "orientation": "v",
         "showlegend": true,
         "stackgroup": "1",
         "type": "scatter",
         "x": [
          "2018-04-14T00:00:00",
          "2018-06-09T00:00:00",
          "2018-06-08T00:00:00",
          "2018-06-02T00:00:00",
          "2018-04-21T00:00:00",
          "2018-05-12T00:00:00",
          "2018-06-05T00:00:00",
          "2018-06-06T00:00:00",
          "2018-05-05T00:00:00",
          "2018-05-07T00:00:00",
          "2018-02-24T00:00:00",
          "2018-05-19T00:00:00",
          "2018-05-20T00:00:00",
          "2018-04-28T00:00:00",
          "2018-06-01T00:00:00",
          "2018-04-15T00:00:00",
          "2018-06-03T00:00:00",
          "2018-06-04T00:00:00",
          "2018-06-12T00:00:00",
          "2018-06-07T00:00:00",
          "2018-05-22T00:00:00",
          "2018-06-11T00:00:00",
          "2018-05-11T00:00:00",
          "2018-05-08T00:00:00",
          "2018-05-04T00:00:00",
          "2018-03-03T00:00:00",
          "2018-02-17T00:00:00",
          "2018-05-06T00:00:00",
          "2018-06-10T00:00:00",
          "2018-03-31T00:00:00",
          "2018-04-22T00:00:00",
          "2018-06-14T00:00:00",
          "2018-05-23T00:00:00",
          "2018-04-07T00:00:00",
          "2018-05-13T00:00:00",
          "2018-04-26T00:00:00",
          "2018-05-26T00:00:00",
          "2018-02-23T00:00:00",
          "2018-05-02T00:00:00",
          "2018-05-25T00:00:00",
          "2018-06-13T00:00:00",
          "2018-02-10T00:00:00",
          "2018-05-31T00:00:00",
          "2018-02-15T00:00:00",
          "2018-03-18T00:00:00",
          "2018-05-10T00:00:00",
          "2018-04-27T00:00:00",
          "2018-05-24T00:00:00",
          "2018-02-16T00:00:00",
          "2018-04-29T00:00:00",
          "2018-05-18T00:00:00",
          "2018-05-01T00:00:00",
          "2018-05-03T00:00:00",
          "2018-05-21T00:00:00",
          "2018-03-22T00:00:00",
          "2018-02-19T00:00:00",
          "2018-04-30T00:00:00",
          "2018-04-25T00:00:00",
          "2018-03-20T00:00:00",
          "2018-04-02T00:00:00",
          "2018-04-01T00:00:00",
          "2018-03-10T00:00:00",
          "2018-05-09T00:00:00",
          "2018-03-02T00:00:00",
          "2018-05-29T00:00:00",
          "2018-05-15T00:00:00",
          "2018-03-23T00:00:00",
          "2018-05-30T00:00:00",
          "2018-04-23T00:00:00",
          "2018-03-24T00:00:00",
          "2018-01-26T00:00:00",
          "2017-12-23T00:00:00",
          "2018-04-20T00:00:00",
          "2018-04-24T00:00:00",
          "2018-04-17T00:00:00",
          "2018-03-17T00:00:00",
          "2018-02-18T00:00:00",
          "2018-04-19T00:00:00",
          "2018-05-14T00:00:00",
          "2017-12-16T00:00:00",
          "2018-03-19T00:00:00",
          "2018-02-22T00:00:00",
          "2018-01-27T00:00:00",
          "2017-11-25T00:00:00",
          "2018-04-18T00:00:00",
          "2018-04-03T00:00:00",
          "2018-02-14T00:00:00",
          "2018-03-16T00:00:00",
          "2018-03-27T00:00:00",
          "2017-12-21T00:00:00",
          "2017-12-02T00:00:00",
          "2018-05-27T00:00:00",
          "2018-04-06T00:00:00",
          "2018-05-16T00:00:00",
          "2018-05-17T00:00:00",
          "2018-01-13T00:00:00",
          "2018-01-20T00:00:00",
          "2018-02-20T00:00:00",
          "2018-03-01T00:00:00",
          "2017-12-17T00:00:00",
          "2017-12-22T00:00:00",
          "2017-12-24T00:00:00",
          "2018-04-16T00:00:00",
          "2017-11-20T00:00:00",
          "2018-05-28T00:00:00",
          "2018-03-04T00:00:00",
          "2018-01-30T00:00:00",
          "2018-02-25T00:00:00",
          "2018-03-11T00:00:00",
          "2018-03-21T00:00:00",
          "2017-12-26T00:00:00",
          "2017-12-27T00:00:00",
          "2018-03-14T00:00:00",
          "2018-03-13T00:00:00",
          "2018-03-12T00:00:00",
          "2017-12-03T00:00:00",
          "2017-11-21T00:00:00",
          "2017-12-19T00:00:00",
          "2017-12-31T00:00:00",
          "2018-01-03T00:00:00",
          "2018-01-01T00:00:00",
          "2018-01-02T00:00:00",
          "2018-01-16T00:00:00",
          "2018-03-26T00:00:00",
          "2017-12-25T00:00:00",
          "2018-03-30T00:00:00",
          "2018-03-09T00:00:00",
          "2018-02-13T00:00:00",
          "2017-11-18T00:00:00",
          "2018-03-25T00:00:00",
          "2018-04-04T00:00:00",
          "2018-04-05T00:00:00",
          "2018-02-28T00:00:00",
          "2018-01-21T00:00:00",
          "2017-12-20T00:00:00",
          "2017-12-14T00:00:00",
          "2017-12-15T00:00:00",
          "2018-01-25T00:00:00",
          "2018-02-03T00:00:00",
          "2018-02-09T00:00:00",
          "2017-11-22T00:00:00",
          "2018-01-29T00:00:00",
          "2018-02-21T00:00:00",
          "2018-01-28T00:00:00",
          "2018-01-31T00:00:00",
          "2017-11-14T00:00:00",
          "2018-03-29T00:00:00",
          "2017-12-18T00:00:00",
          "2017-11-15T00:00:00",
          "2017-11-19T00:00:00",
          "2018-03-05T00:00:00",
          "2018-03-08T00:00:00",
          "2018-01-22T00:00:00",
          "2017-12-05T00:00:00",
          "2018-01-12T00:00:00",
          "2018-01-15T00:00:00",
          "2018-02-27T00:00:00",
          "2018-01-14T00:00:00",
          "2018-02-04T00:00:00",
          "2017-11-24T00:00:00",
          "2018-03-28T00:00:00",
          "2018-03-07T00:00:00",
          "2017-12-30T00:00:00",
          "2017-11-16T00:00:00",
          "2018-01-17T00:00:00",
          "2017-12-28T00:00:00",
          "2018-02-05T00:00:00",
          "2018-01-07T00:00:00",
          "2018-01-04T00:00:00",
          "2017-12-29T00:00:00",
          "2018-02-08T00:00:00",
          "2018-01-19T00:00:00",
          "2018-01-06T00:00:00",
          "2018-01-05T00:00:00",
          "2018-03-06T00:00:00",
          "2018-02-07T00:00:00",
          "2017-12-06T00:00:00",
          "2017-12-01T00:00:00",
          "2018-01-24T00:00:00",
          "2018-01-08T00:00:00",
          "2017-11-23T00:00:00",
          "2018-02-02T00:00:00",
          "2018-02-12T00:00:00",
          "2017-12-04T00:00:00",
          "2018-01-23T00:00:00",
          "2018-02-01T00:00:00",
          "2017-11-30T00:00:00",
          "2017-11-26T00:00:00",
          "2018-01-18T00:00:00",
          "2017-11-17T00:00:00",
          "2018-02-06T00:00:00",
          "2018-02-11T00:00:00",
          "2018-02-26T00:00:00",
          "2017-12-07T00:00:00",
          "2017-12-09T00:00:00",
          "2018-03-15T00:00:00",
          "2017-12-13T00:00:00",
          "2017-12-11T00:00:00",
          "2017-11-27T00:00:00",
          "2017-12-10T00:00:00",
          "2017-12-12T00:00:00",
          "2018-01-09T00:00:00",
          "2017-11-29T00:00:00",
          "2017-11-28T00:00:00",
          "2017-12-08T00:00:00"
         ],
         "xaxis": "x",
         "y": [
          242,
          240,
          238,
          238,
          238,
          236,
          236,
          234,
          230,
          224,
          222,
          218,
          216,
          216,
          216,
          216,
          214,
          214,
          214,
          214,
          212,
          212,
          212,
          212,
          208,
          208,
          208,
          208,
          208,
          208,
          206,
          206,
          204,
          202,
          202,
          202,
          202,
          202,
          200,
          200,
          200,
          200,
          198,
          198,
          198,
          198,
          196,
          196,
          194,
          194,
          192,
          192,
          192,
          192,
          190,
          190,
          188,
          188,
          188,
          188,
          188,
          188,
          188,
          188,
          186,
          184,
          184,
          184,
          184,
          184,
          182,
          182,
          182,
          180,
          180,
          180,
          180,
          178,
          178,
          178,
          178,
          176,
          176,
          176,
          176,
          174,
          172,
          172,
          172,
          170,
          170,
          170,
          168,
          168,
          168,
          168,
          168,
          168,
          166,
          166,
          166,
          166,
          164,
          164,
          164,
          160,
          160,
          160,
          160,
          160,
          160,
          160,
          160,
          160,
          158,
          158,
          158,
          158,
          158,
          156,
          156,
          156,
          156,
          156,
          156,
          156,
          156,
          154,
          154,
          154,
          154,
          152,
          152,
          152,
          152,
          150,
          150,
          150,
          150,
          150,
          150,
          150,
          150,
          150,
          148,
          148,
          146,
          146,
          146,
          146,
          146,
          146,
          144,
          144,
          144,
          142,
          142,
          142,
          142,
          140,
          140,
          140,
          140,
          140,
          138,
          136,
          136,
          136,
          134,
          134,
          134,
          134,
          134,
          132,
          132,
          132,
          132,
          130,
          130,
          128,
          128,
          128,
          128,
          126,
          124,
          124,
          124,
          122,
          122,
          120,
          120,
          120,
          120,
          118,
          116,
          116,
          112,
          112,
          110,
          110,
          108,
          104,
          104,
          102,
          102
         ],
         "yaxis": "y"
        },
        {
         "hovertemplate": "Video category=Comedy<br>Date=%{x}<br>Count of videos=%{y}<extra></extra>",
         "legendgroup": "Comedy",
         "line": {
          "color": "#19d3f3"
         },
         "mode": "lines",
         "name": "Comedy",
         "orientation": "v",
         "showlegend": true,
         "stackgroup": "1",
         "type": "scatter",
         "x": [
          "2018-05-27T00:00:00",
          "2018-05-28T00:00:00",
          "2018-06-13T00:00:00",
          "2018-06-02T00:00:00",
          "2018-05-21T00:00:00",
          "2018-04-07T00:00:00",
          "2018-05-07T00:00:00",
          "2017-12-24T00:00:00",
          "2018-05-22T00:00:00",
          "2018-05-26T00:00:00",
          "2018-05-31T00:00:00",
          "2017-12-09T00:00:00",
          "2018-04-15T00:00:00",
          "2018-04-05T00:00:00",
          "2018-05-08T00:00:00",
          "2017-11-26T00:00:00",
          "2017-12-22T00:00:00",
          "2017-12-16T00:00:00",
          "2018-06-14T00:00:00",
          "2018-04-27T00:00:00",
          "2018-04-28T00:00:00",
          "2018-03-31T00:00:00",
          "2018-01-01T00:00:00",
          "2017-11-25T00:00:00",
          "2018-06-01T00:00:00",
          "2018-03-30T00:00:00",
          "2018-04-16T00:00:00",
          "2017-12-23T00:00:00",
          "2017-12-15T00:00:00",
          "2018-02-08T00:00:00",
          "2018-06-11T00:00:00",
          "2018-04-25T00:00:00",
          "2018-04-26T00:00:00",
          "2018-04-04T00:00:00",
          "2018-05-25T00:00:00",
          "2017-11-17T00:00:00",
          "2018-06-09T00:00:00",
          "2017-11-18T00:00:00",
          "2018-04-22T00:00:00",
          "2017-12-18T00:00:00",
          "2018-05-23T00:00:00",
          "2017-12-25T00:00:00",
          "2017-12-31T00:00:00",
          "2018-06-04T00:00:00",
          "2018-05-29T00:00:00",
          "2017-12-10T00:00:00",
          "2017-12-11T00:00:00",
          "2018-05-30T00:00:00",
          "2018-01-02T00:00:00",
          "2017-12-01T00:00:00",
          "2017-12-02T00:00:00",
          "2018-05-20T00:00:00",
          "2018-01-12T00:00:00",
          "2017-12-21T00:00:00",
          "2018-04-17T00:00:00",
          "2018-01-21T00:00:00",
          "2017-12-17T00:00:00",
          "2018-02-24T00:00:00",
          "2018-02-07T00:00:00",
          "2017-11-29T00:00:00",
          "2018-04-06T00:00:00",
          "2018-04-24T00:00:00",
          "2018-02-09T00:00:00",
          "2018-06-07T00:00:00",
          "2017-11-28T00:00:00",
          "2018-05-06T00:00:00",
          "2018-06-08T00:00:00",
          "2018-03-17T00:00:00",
          "2018-03-26T00:00:00",
          "2018-06-12T00:00:00",
          "2018-06-05T00:00:00",
          "2017-11-30T00:00:00",
          "2018-02-11T00:00:00",
          "2018-03-12T00:00:00",
          "2017-12-14T00:00:00",
          "2018-03-03T00:00:00",
          "2017-11-27T00:00:00",
          "2018-03-22T00:00:00",
          "2018-04-23T00:00:00",
          "2018-06-03T00:00:00",
          "2018-04-29T00:00:00",
          "2018-01-07T00:00:00",
          "2017-11-16T00:00:00",
          "2018-03-27T00:00:00",
          "2018-01-13T00:00:00",
          "2017-12-12T00:00:00",
          "2017-12-08T00:00:00",
          "2017-11-15T00:00:00",
          "2018-06-10T00:00:00",
          "2017-11-19T00:00:00",
          "2017-11-23T00:00:00",
          "2017-11-20T00:00:00",
          "2018-05-12T00:00:00",
          "2017-12-03T00:00:00",
          "2017-12-20T00:00:00",
          "2018-03-28T00:00:00",
          "2018-03-29T00:00:00",
          "2018-04-02T00:00:00",
          "2018-04-03T00:00:00",
          "2018-04-20T00:00:00",
          "2018-01-18T00:00:00",
          "2018-05-24T00:00:00",
          "2017-12-13T00:00:00",
          "2018-02-25T00:00:00",
          "2018-03-08T00:00:00",
          "2018-02-12T00:00:00",
          "2018-01-26T00:00:00",
          "2018-03-02T00:00:00",
          "2018-03-23T00:00:00",
          "2018-05-05T00:00:00",
          "2018-02-10T00:00:00",
          "2018-04-14T00:00:00",
          "2018-05-19T00:00:00",
          "2018-03-04T00:00:00",
          "2018-04-21T00:00:00",
          "2018-03-09T00:00:00",
          "2018-04-19T00:00:00",
          "2018-05-09T00:00:00",
          "2018-04-18T00:00:00",
          "2018-05-02T00:00:00",
          "2017-11-24T00:00:00",
          "2018-01-20T00:00:00",
          "2017-12-19T00:00:00",
          "2018-04-01T00:00:00",
          "2018-02-03T00:00:00",
          "2018-01-27T00:00:00",
          "2017-12-30T00:00:00",
          "2018-05-03T00:00:00",
          "2017-12-04T00:00:00",
          "2018-01-09T00:00:00",
          "2018-03-10T00:00:00",
          "2018-06-06T00:00:00",
          "2018-03-06T00:00:00",
          "2018-01-14T00:00:00",
          "2017-12-28T00:00:00",
          "2018-05-18T00:00:00",
          "2018-05-13T00:00:00",
          "2017-11-22T00:00:00",
          "2018-02-14T00:00:00",
          "2018-02-23T00:00:00",
          "2018-03-13T00:00:00",
          "2018-05-10T00:00:00",
          "2018-01-15T00:00:00",
          "2018-04-30T00:00:00",
          "2018-02-26T00:00:00",
          "2017-12-29T00:00:00",
          "2018-03-14T00:00:00",
          "2018-02-27T00:00:00",
          "2018-02-22T00:00:00",
          "2017-12-05T00:00:00",
          "2018-01-08T00:00:00",
          "2018-02-17T00:00:00",
          "2018-01-04T00:00:00",
          "2018-05-04T00:00:00",
          "2017-12-07T00:00:00",
          "2018-03-24T00:00:00",
          "2017-12-26T00:00:00",
          "2018-01-28T00:00:00",
          "2018-05-01T00:00:00",
          "2018-01-29T00:00:00",
          "2018-02-28T00:00:00",
          "2018-05-11T00:00:00",
          "2018-03-01T00:00:00",
          "2018-02-18T00:00:00",
          "2018-02-19T00:00:00",
          "2018-02-06T00:00:00",
          "2017-12-06T00:00:00",
          "2018-05-16T00:00:00",
          "2018-05-15T00:00:00",
          "2018-03-20T00:00:00",
          "2018-01-03T00:00:00",
          "2018-02-13T00:00:00",
          "2018-02-16T00:00:00",
          "2018-03-25T00:00:00",
          "2018-03-11T00:00:00",
          "2018-03-07T00:00:00",
          "2018-01-17T00:00:00",
          "2018-01-22T00:00:00",
          "2018-01-25T00:00:00",
          "2018-01-19T00:00:00",
          "2017-12-27T00:00:00",
          "2018-03-21T00:00:00",
          "2018-01-05T00:00:00",
          "2018-01-31T00:00:00",
          "2017-11-14T00:00:00",
          "2018-05-17T00:00:00",
          "2018-03-05T00:00:00",
          "2018-01-06T00:00:00",
          "2017-11-21T00:00:00",
          "2018-02-05T00:00:00",
          "2018-01-16T00:00:00",
          "2018-01-24T00:00:00",
          "2018-03-19T00:00:00",
          "2018-02-15T00:00:00",
          "2018-02-04T00:00:00",
          "2018-03-16T00:00:00",
          "2018-05-14T00:00:00",
          "2018-03-18T00:00:00",
          "2018-02-02T00:00:00",
          "2018-02-20T00:00:00",
          "2018-03-15T00:00:00",
          "2018-01-23T00:00:00",
          "2018-02-21T00:00:00",
          "2018-02-01T00:00:00",
          "2018-01-30T00:00:00"
         ],
         "xaxis": "x",
         "y": [
          188,
          188,
          186,
          182,
          180,
          178,
          176,
          176,
          176,
          176,
          176,
          176,
          176,
          176,
          174,
          174,
          174,
          174,
          172,
          172,
          172,
          170,
          170,
          168,
          168,
          168,
          168,
          168,
          168,
          168,
          168,
          166,
          166,
          166,
          166,
          166,
          164,
          164,
          164,
          164,
          164,
          164,
          164,
          162,
          162,
          160,
          160,
          160,
          160,
          158,
          158,
          158,
          158,
          158,
          156,
          156,
          156,
          156,
          156,
          156,
          154,
          154,
          154,
          154,
          154,
          154,
          154,
          152,
          152,
          152,
          152,
          152,
          152,
          150,
          150,
          150,
          150,
          150,
          150,
          150,
          148,
          148,
          148,
          148,
          148,
          148,
          146,
          146,
          146,
          146,
          144,
          144,
          144,
          144,
          144,
          144,
          144,
          144,
          144,
          144,
          142,
          142,
          142,
          142,
          140,
          140,
          140,
          140,
          140,
          140,
          140,
          138,
          138,
          138,
          138,
          138,
          138,
          138,
          138,
          138,
          138,
          136,
          136,
          136,
          136,
          136,
          136,
          136,
          136,
          136,
          134,
          134,
          134,
          134,
          134,
          134,
          134,
          134,
          134,
          134,
          132,
          132,
          132,
          132,
          132,
          130,
          130,
          130,
          130,
          130,
          130,
          130,
          130,
          130,
          128,
          128,
          128,
          128,
          128,
          128,
          128,
          128,
          126,
          126,
          126,
          126,
          126,
          126,
          126,
          126,
          126,
          124,
          124,
          124,
          124,
          124,
          124,
          124,
          122,
          122,
          122,
          120,
          120,
          120,
          118,
          118,
          118,
          118,
          118,
          116,
          116,
          116,
          116,
          114,
          114,
          114,
          112,
          112,
          110,
          110,
          110,
          110,
          108,
          102,
          100
         ],
         "yaxis": "y"
        },
        {
         "hovertemplate": "Video category=Sports<br>Date=%{x}<br>Count of videos=%{y}<extra></extra>",
         "legendgroup": "Sports",
         "line": {
          "color": "#FF6692"
         },
         "mode": "lines",
         "name": "Sports",
         "orientation": "v",
         "showlegend": true,
         "stackgroup": "1",
         "type": "scatter",
         "x": [
          "2018-03-19T00:00:00",
          "2018-04-01T00:00:00",
          "2018-05-28T00:00:00",
          "2018-02-25T00:00:00",
          "2018-04-05T00:00:00",
          "2018-06-01T00:00:00",
          "2018-05-14T00:00:00",
          "2018-02-26T00:00:00",
          "2018-05-07T00:00:00",
          "2018-04-06T00:00:00",
          "2018-04-04T00:00:00",
          "2018-04-07T00:00:00",
          "2018-05-08T00:00:00",
          "2018-05-29T00:00:00",
          "2018-05-27T00:00:00",
          "2018-05-04T00:00:00",
          "2018-06-02T00:00:00",
          "2018-05-06T00:00:00",
          "2018-04-02T00:00:00",
          "2018-05-03T00:00:00",
          "2018-05-31T00:00:00",
          "2018-03-04T00:00:00",
          "2018-02-15T00:00:00",
          "2018-06-08T00:00:00",
          "2018-02-27T00:00:00",
          "2018-02-21T00:00:00",
          "2018-04-23T00:00:00",
          "2018-02-11T00:00:00",
          "2018-06-04T00:00:00",
          "2018-01-23T00:00:00",
          "2018-05-02T00:00:00",
          "2018-03-25T00:00:00",
          "2018-04-26T00:00:00",
          "2018-03-12T00:00:00",
          "2018-06-03T00:00:00",
          "2018-05-30T00:00:00",
          "2018-02-18T00:00:00",
          "2018-04-16T00:00:00",
          "2018-03-24T00:00:00",
          "2018-02-20T00:00:00",
          "2018-03-05T00:00:00",
          "2018-01-22T00:00:00",
          "2018-02-19T00:00:00",
          "2018-02-09T00:00:00",
          "2018-05-21T00:00:00",
          "2018-04-15T00:00:00",
          "2018-04-22T00:00:00",
          "2018-03-28T00:00:00",
          "2018-03-08T00:00:00",
          "2018-02-04T00:00:00",
          "2018-01-15T00:00:00",
          "2018-04-03T00:00:00",
          "2018-01-29T00:00:00",
          "2018-03-20T00:00:00",
          "2018-05-25T00:00:00",
          "2018-05-05T00:00:00",
          "2018-02-16T00:00:00",
          "2018-05-13T00:00:00",
          "2018-04-29T00:00:00",
          "2018-02-22T00:00:00",
          "2018-03-11T00:00:00",
          "2018-03-01T00:00:00",
          "2018-04-30T00:00:00",
          "2018-04-27T00:00:00",
          "2018-05-09T00:00:00",
          "2018-04-19T00:00:00",
          "2018-01-16T00:00:00",
          "2018-02-23T00:00:00",
          "2018-06-11T00:00:00",
          "2018-02-24T00:00:00",
          "2018-03-21T00:00:00",
          "2018-06-05T00:00:00",
          "2018-06-13T00:00:00",
          "2018-04-25T00:00:00",
          "2018-06-09T00:00:00",
          "2018-02-14T00:00:00",
          "2018-02-13T00:00:00",
          "2018-02-12T00:00:00",
          "2018-02-05T00:00:00",
          "2018-01-25T00:00:00",
          "2018-04-28T00:00:00",
          "2018-03-29T00:00:00",
          "2018-03-02T00:00:00",
          "2018-04-21T00:00:00",
          "2018-06-14T00:00:00",
          "2018-03-22T00:00:00",
          "2018-05-10T00:00:00",
          "2018-05-15T00:00:00",
          "2018-01-30T00:00:00",
          "2018-06-10T00:00:00",
          "2018-01-28T00:00:00",
          "2018-01-08T00:00:00",
          "2018-01-02T00:00:00",
          "2018-05-24T00:00:00",
          "2018-03-30T00:00:00",
          "2018-03-18T00:00:00",
          "2018-03-06T00:00:00",
          "2018-02-07T00:00:00",
          "2018-01-24T00:00:00",
          "2017-12-06T00:00:00",
          "2018-04-24T00:00:00",
          "2018-03-31T00:00:00",
          "2017-12-04T00:00:00",
          "2018-05-17T00:00:00",
          "2018-05-01T00:00:00",
          "2017-12-25T00:00:00",
          "2017-11-28T00:00:00",
          "2018-01-09T00:00:00",
          "2017-11-19T00:00:00",
          "2017-11-15T00:00:00",
          "2017-11-16T00:00:00",
          "2018-05-23T00:00:00",
          "2018-03-16T00:00:00",
          "2018-01-19T00:00:00",
          "2018-01-31T00:00:00",
          "2017-11-17T00:00:00",
          "2018-02-10T00:00:00",
          "2018-03-09T00:00:00",
          "2018-05-11T00:00:00",
          "2018-01-21T00:00:00",
          "2017-12-27T00:00:00",
          "2017-11-27T00:00:00",
          "2018-02-28T00:00:00",
          "2018-06-12T00:00:00",
          "2018-06-07T00:00:00",
          "2018-03-26T00:00:00",
          "2017-12-24T00:00:00",
          "2018-01-05T00:00:00",
          "2017-12-07T00:00:00",
          "2018-05-18T00:00:00",
          "2018-05-16T00:00:00",
          "2018-05-12T00:00:00",
          "2018-02-08T00:00:00",
          "2018-03-10T00:00:00",
          "2018-01-26T00:00:00",
          "2017-12-10T00:00:00",
          "2018-05-26T00:00:00",
          "2018-03-07T00:00:00",
          "2018-05-19T00:00:00",
          "2018-03-23T00:00:00",
          "2018-01-12T00:00:00",
          "2018-02-17T00:00:00",
          "2017-12-11T00:00:00",
          "2018-04-14T00:00:00",
          "2018-03-03T00:00:00",
          "2018-01-06T00:00:00",
          "2018-02-01T00:00:00",
          "2017-11-14T00:00:00",
          "2018-01-04T00:00:00",
          "2018-05-22T00:00:00",
          "2018-04-17T00:00:00",
          "2018-02-02T00:00:00",
          "2017-12-31T00:00:00",
          "2017-12-05T00:00:00",
          "2018-01-17T00:00:00",
          "2018-03-14T00:00:00",
          "2018-01-27T00:00:00",
          "2017-12-29T00:00:00",
          "2018-02-06T00:00:00",
          "2017-12-08T00:00:00",
          "2018-06-06T00:00:00",
          "2018-01-18T00:00:00",
          "2018-03-15T00:00:00",
          "2018-03-13T00:00:00",
          "2018-04-18T00:00:00",
          "2017-11-22T00:00:00",
          "2017-12-28T00:00:00",
          "2017-11-20T00:00:00",
          "2017-12-12T00:00:00",
          "2017-12-18T00:00:00",
          "2017-11-21T00:00:00",
          "2018-04-20T00:00:00",
          "2017-11-30T00:00:00",
          "2018-01-03T00:00:00",
          "2017-12-23T00:00:00",
          "2018-01-01T00:00:00",
          "2018-01-14T00:00:00",
          "2018-03-27T00:00:00",
          "2017-12-26T00:00:00",
          "2018-03-17T00:00:00",
          "2017-11-29T00:00:00",
          "2017-12-03T00:00:00",
          "2017-11-23T00:00:00",
          "2018-01-13T00:00:00",
          "2017-12-01T00:00:00",
          "2017-12-09T00:00:00",
          "2018-01-20T00:00:00",
          "2017-12-02T00:00:00",
          "2017-11-26T00:00:00",
          "2017-12-14T00:00:00",
          "2017-12-17T00:00:00",
          "2017-11-18T00:00:00",
          "2017-11-24T00:00:00",
          "2018-01-07T00:00:00",
          "2017-12-22T00:00:00",
          "2017-12-30T00:00:00",
          "2017-12-19T00:00:00",
          "2018-02-03T00:00:00",
          "2017-12-13T00:00:00",
          "2017-12-21T00:00:00",
          "2018-05-20T00:00:00",
          "2017-12-16T00:00:00",
          "2017-12-15T00:00:00",
          "2017-12-20T00:00:00",
          "2017-11-25T00:00:00"
         ],
         "xaxis": "x",
         "y": [
          174,
          172,
          170,
          170,
          168,
          166,
          164,
          160,
          160,
          158,
          158,
          152,
          150,
          148,
          146,
          144,
          144,
          142,
          140,
          140,
          138,
          138,
          138,
          138,
          138,
          138,
          136,
          136,
          134,
          134,
          132,
          132,
          130,
          130,
          130,
          130,
          128,
          128,
          126,
          126,
          124,
          124,
          124,
          122,
          120,
          120,
          120,
          120,
          120,
          120,
          120,
          120,
          118,
          118,
          116,
          116,
          114,
          114,
          114,
          114,
          114,
          114,
          112,
          112,
          112,
          112,
          112,
          112,
          112,
          110,
          110,
          110,
          108,
          108,
          108,
          106,
          106,
          106,
          106,
          106,
          106,
          106,
          106,
          106,
          104,
          104,
          104,
          104,
          104,
          104,
          104,
          104,
          104,
          102,
          102,
          102,
          102,
          102,
          102,
          102,
          100,
          100,
          100,
          98,
          98,
          98,
          98,
          96,
          96,
          96,
          96,
          96,
          96,
          96,
          96,
          94,
          94,
          94,
          94,
          94,
          92,
          92,
          92,
          92,
          92,
          92,
          92,
          90,
          90,
          90,
          90,
          90,
          88,
          88,
          88,
          88,
          88,
          88,
          88,
          86,
          86,
          86,
          86,
          86,
          86,
          86,
          86,
          86,
          86,
          82,
          82,
          82,
          82,
          82,
          82,
          80,
          80,
          80,
          80,
          80,
          80,
          80,
          78,
          78,
          78,
          78,
          78,
          78,
          78,
          78,
          76,
          76,
          76,
          76,
          76,
          76,
          76,
          76,
          76,
          76,
          74,
          72,
          72,
          72,
          70,
          70,
          68,
          68,
          68,
          66,
          66,
          66,
          66,
          66,
          66,
          64,
          64,
          60,
          60,
          58,
          58,
          56,
          50,
          48,
          48
         ],
         "yaxis": "y"
        },
        {
         "hovertemplate": "Video category=Film & Animation<br>Date=%{x}<br>Count of videos=%{y}<extra></extra>",
         "legendgroup": "Film & Animation",
         "line": {
          "color": "#B6E880"
         },
         "mode": "lines",
         "name": "Film & Animation",
         "orientation": "v",
         "showlegend": true,
         "stackgroup": "1",
         "type": "scatter",
         "x": [
          "2018-06-08T00:00:00",
          "2018-04-22T00:00:00",
          "2018-06-09T00:00:00",
          "2018-05-16T00:00:00",
          "2018-05-17T00:00:00",
          "2018-05-12T00:00:00",
          "2018-05-13T00:00:00",
          "2018-06-14T00:00:00",
          "2018-06-13T00:00:00",
          "2018-04-28T00:00:00",
          "2018-04-21T00:00:00",
          "2018-03-17T00:00:00",
          "2018-03-16T00:00:00",
          "2018-03-06T00:00:00",
          "2018-06-06T00:00:00",
          "2018-03-05T00:00:00",
          "2018-06-07T00:00:00",
          "2018-04-14T00:00:00",
          "2018-05-04T00:00:00",
          "2018-05-18T00:00:00",
          "2018-03-04T00:00:00",
          "2018-02-11T00:00:00",
          "2018-05-21T00:00:00",
          "2018-04-27T00:00:00",
          "2018-04-18T00:00:00",
          "2017-12-25T00:00:00",
          "2018-03-25T00:00:00",
          "2017-12-26T00:00:00",
          "2018-05-09T00:00:00",
          "2018-05-15T00:00:00",
          "2018-05-19T00:00:00",
          "2017-12-30T00:00:00",
          "2018-05-03T00:00:00",
          "2018-05-05T00:00:00",
          "2018-02-10T00:00:00",
          "2018-05-30T00:00:00",
          "2018-04-17T00:00:00",
          "2017-11-26T00:00:00",
          "2018-03-12T00:00:00",
          "2018-03-21T00:00:00",
          "2018-02-12T00:00:00",
          "2018-02-07T00:00:00",
          "2018-03-20T00:00:00",
          "2018-06-02T00:00:00",
          "2018-02-15T00:00:00",
          "2018-03-07T00:00:00",
          "2018-01-14T00:00:00",
          "2018-06-12T00:00:00",
          "2018-01-28T00:00:00",
          "2018-05-25T00:00:00",
          "2017-12-31T00:00:00",
          "2018-04-20T00:00:00",
          "2018-03-09T00:00:00",
          "2018-04-19T00:00:00",
          "2018-05-11T00:00:00",
          "2018-02-09T00:00:00",
          "2018-03-27T00:00:00",
          "2018-05-01T00:00:00",
          "2018-03-19T00:00:00",
          "2018-05-26T00:00:00",
          "2017-11-21T00:00:00",
          "2017-12-21T00:00:00",
          "2018-04-24T00:00:00",
          "2018-04-15T00:00:00",
          "2017-11-27T00:00:00",
          "2018-05-20T00:00:00",
          "2017-12-03T00:00:00",
          "2018-06-04T00:00:00",
          "2018-06-03T00:00:00",
          "2017-12-29T00:00:00",
          "2018-04-23T00:00:00",
          "2018-03-18T00:00:00",
          "2018-03-10T00:00:00",
          "2018-03-02T00:00:00",
          "2018-03-01T00:00:00",
          "2018-02-23T00:00:00",
          "2018-02-22T00:00:00",
          "2018-02-14T00:00:00",
          "2018-04-16T00:00:00",
          "2018-03-08T00:00:00",
          "2018-06-05T00:00:00",
          "2018-06-01T00:00:00",
          "2018-03-26T00:00:00",
          "2017-12-24T00:00:00",
          "2017-12-11T00:00:00",
          "2018-04-01T00:00:00",
          "2018-01-22T00:00:00",
          "2018-05-28T00:00:00",
          "2017-11-22T00:00:00",
          "2018-05-24T00:00:00",
          "2018-02-13T00:00:00",
          "2018-06-10T00:00:00",
          "2017-12-04T00:00:00",
          "2017-11-20T00:00:00",
          "2018-03-31T00:00:00",
          "2018-02-25T00:00:00",
          "2018-03-11T00:00:00",
          "2018-05-31T00:00:00",
          "2018-01-01T00:00:00",
          "2017-12-28T00:00:00",
          "2017-12-12T00:00:00",
          "2017-12-13T00:00:00",
          "2018-05-06T00:00:00",
          "2018-01-17T00:00:00",
          "2018-05-10T00:00:00",
          "2018-05-08T00:00:00",
          "2018-03-03T00:00:00",
          "2018-02-02T00:00:00",
          "2017-12-20T00:00:00",
          "2018-02-16T00:00:00",
          "2017-11-25T00:00:00",
          "2018-02-06T00:00:00",
          "2017-12-27T00:00:00",
          "2018-05-14T00:00:00",
          "2017-12-02T00:00:00",
          "2018-04-29T00:00:00",
          "2017-12-14T00:00:00",
          "2018-03-23T00:00:00",
          "2018-03-15T00:00:00",
          "2017-11-23T00:00:00",
          "2017-12-10T00:00:00",
          "2017-11-30T00:00:00",
          "2018-04-30T00:00:00",
          "2018-01-16T00:00:00",
          "2018-04-06T00:00:00",
          "2018-02-24T00:00:00",
          "2018-02-28T00:00:00",
          "2018-06-11T00:00:00",
          "2018-01-15T00:00:00",
          "2018-02-26T00:00:00",
          "2018-05-02T00:00:00",
          "2017-11-24T00:00:00",
          "2018-02-21T00:00:00",
          "2017-11-19T00:00:00",
          "2018-04-03T00:00:00",
          "2018-01-23T00:00:00",
          "2018-01-03T00:00:00",
          "2018-01-21T00:00:00",
          "2018-01-02T00:00:00",
          "2018-04-02T00:00:00",
          "2017-12-15T00:00:00",
          "2017-12-22T00:00:00",
          "2018-02-17T00:00:00",
          "2018-01-07T00:00:00",
          "2018-05-23T00:00:00",
          "2017-12-05T00:00:00",
          "2017-12-01T00:00:00",
          "2018-04-25T00:00:00",
          "2017-12-09T00:00:00",
          "2018-05-07T00:00:00",
          "2017-11-16T00:00:00",
          "2018-01-08T00:00:00",
          "2018-01-24T00:00:00",
          "2017-12-23T00:00:00",
          "2018-02-18T00:00:00",
          "2018-04-26T00:00:00",
          "2017-12-18T00:00:00",
          "2018-05-27T00:00:00",
          "2018-01-09T00:00:00",
          "2018-01-13T00:00:00",
          "2017-11-28T00:00:00",
          "2017-11-29T00:00:00",
          "2018-02-27T00:00:00",
          "2018-05-29T00:00:00",
          "2018-01-25T00:00:00",
          "2018-01-31T00:00:00",
          "2017-12-19T00:00:00",
          "2017-11-17T00:00:00",
          "2018-02-20T00:00:00",
          "2017-11-18T00:00:00",
          "2018-02-19T00:00:00",
          "2018-02-03T00:00:00",
          "2018-01-20T00:00:00",
          "2018-04-04T00:00:00",
          "2018-02-08T00:00:00",
          "2017-12-16T00:00:00",
          "2017-12-17T00:00:00",
          "2018-01-30T00:00:00",
          "2018-01-04T00:00:00",
          "2018-03-14T00:00:00",
          "2017-11-14T00:00:00",
          "2018-01-18T00:00:00",
          "2018-04-07T00:00:00",
          "2018-05-22T00:00:00",
          "2018-03-13T00:00:00",
          "2017-12-08T00:00:00",
          "2018-03-30T00:00:00",
          "2018-01-19T00:00:00",
          "2018-03-24T00:00:00",
          "2018-01-12T00:00:00",
          "2017-12-06T00:00:00",
          "2017-11-15T00:00:00",
          "2018-01-27T00:00:00",
          "2018-04-05T00:00:00",
          "2018-02-05T00:00:00",
          "2018-02-01T00:00:00",
          "2018-01-26T00:00:00",
          "2018-01-29T00:00:00",
          "2018-01-05T00:00:00",
          "2018-03-22T00:00:00",
          "2017-12-07T00:00:00",
          "2018-02-04T00:00:00",
          "2018-03-29T00:00:00",
          "2018-03-28T00:00:00",
          "2018-01-06T00:00:00"
         ],
         "xaxis": "x",
         "y": [
          150,
          146,
          142,
          136,
          136,
          134,
          134,
          134,
          130,
          122,
          122,
          122,
          122,
          122,
          120,
          120,
          118,
          118,
          118,
          118,
          118,
          118,
          118,
          116,
          116,
          114,
          114,
          114,
          114,
          114,
          114,
          112,
          112,
          112,
          110,
          110,
          110,
          110,
          108,
          108,
          108,
          108,
          108,
          106,
          106,
          106,
          106,
          106,
          106,
          106,
          106,
          106,
          106,
          104,
          104,
          104,
          104,
          104,
          104,
          104,
          104,
          104,
          102,
          102,
          102,
          102,
          102,
          102,
          102,
          100,
          100,
          100,
          100,
          100,
          100,
          100,
          100,
          100,
          100,
          100,
          100,
          100,
          98,
          98,
          98,
          98,
          98,
          98,
          98,
          98,
          98,
          98,
          98,
          96,
          96,
          96,
          96,
          96,
          96,
          96,
          96,
          96,
          94,
          94,
          94,
          94,
          94,
          94,
          94,
          94,
          94,
          92,
          92,
          92,
          92,
          92,
          92,
          92,
          92,
          92,
          90,
          90,
          90,
          90,
          90,
          90,
          90,
          90,
          90,
          88,
          88,
          88,
          88,
          88,
          88,
          88,
          88,
          88,
          86,
          86,
          86,
          86,
          86,
          86,
          84,
          84,
          84,
          84,
          84,
          84,
          84,
          84,
          84,
          84,
          84,
          82,
          82,
          82,
          82,
          82,
          82,
          82,
          82,
          82,
          80,
          80,
          80,
          80,
          80,
          78,
          78,
          78,
          78,
          78,
          78,
          78,
          78,
          76,
          76,
          76,
          76,
          76,
          76,
          76,
          76,
          76,
          76,
          74,
          74,
          74,
          72,
          72,
          70,
          68,
          68,
          68,
          68,
          68,
          68,
          66,
          66,
          64,
          62,
          60,
          60
         ],
         "yaxis": "y"
        },
        {
         "hovertemplate": "Video category=Howto & Style<br>Date=%{x}<br>Count of videos=%{y}<extra></extra>",
         "legendgroup": "Howto & Style",
         "line": {
          "color": "#FF97FF"
         },
         "mode": "lines",
         "name": "Howto & Style",
         "orientation": "v",
         "showlegend": true,
         "stackgroup": "1",
         "type": "scatter",
         "x": [
          "2018-05-14T00:00:00",
          "2018-03-05T00:00:00",
          "2018-03-14T00:00:00",
          "2018-03-13T00:00:00",
          "2018-02-24T00:00:00",
          "2018-03-12T00:00:00",
          "2018-03-03T00:00:00",
          "2018-03-04T00:00:00",
          "2018-02-13T00:00:00",
          "2018-04-23T00:00:00",
          "2018-04-21T00:00:00",
          "2018-04-03T00:00:00",
          "2018-03-11T00:00:00",
          "2018-04-24T00:00:00",
          "2018-02-08T00:00:00",
          "2018-02-12T00:00:00",
          "2018-06-04T00:00:00",
          "2018-02-23T00:00:00",
          "2018-04-18T00:00:00",
          "2018-03-21T00:00:00",
          "2018-03-24T00:00:00",
          "2018-03-20T00:00:00",
          "2018-04-02T00:00:00",
          "2018-04-07T00:00:00",
          "2018-06-09T00:00:00",
          "2018-03-02T00:00:00",
          "2018-03-08T00:00:00",
          "2018-03-29T00:00:00",
          "2018-01-06T00:00:00",
          "2018-03-26T00:00:00",
          "2018-02-11T00:00:00",
          "2018-04-17T00:00:00",
          "2018-04-30T00:00:00",
          "2018-03-23T00:00:00",
          "2018-03-19T00:00:00",
          "2018-02-28T00:00:00",
          "2018-05-30T00:00:00",
          "2018-03-06T00:00:00",
          "2018-05-07T00:00:00",
          "2018-03-07T00:00:00",
          "2018-04-22T00:00:00",
          "2018-03-10T00:00:00",
          "2018-03-22T00:00:00",
          "2018-03-25T00:00:00",
          "2018-06-13T00:00:00",
          "2018-01-05T00:00:00",
          "2018-02-14T00:00:00",
          "2018-03-17T00:00:00",
          "2018-02-10T00:00:00",
          "2018-03-09T00:00:00",
          "2018-02-25T00:00:00",
          "2018-04-28T00:00:00",
          "2018-05-08T00:00:00",
          "2018-05-01T00:00:00",
          "2018-04-27T00:00:00",
          "2018-04-16T00:00:00",
          "2018-01-19T00:00:00",
          "2018-04-26T00:00:00",
          "2018-05-26T00:00:00",
          "2017-12-14T00:00:00",
          "2018-05-31T00:00:00",
          "2018-05-09T00:00:00",
          "2017-11-27T00:00:00",
          "2018-04-20T00:00:00",
          "2018-02-22T00:00:00",
          "2018-05-06T00:00:00",
          "2018-04-19T00:00:00",
          "2018-05-15T00:00:00",
          "2018-02-09T00:00:00",
          "2018-05-21T00:00:00",
          "2018-04-14T00:00:00",
          "2018-02-26T00:00:00",
          "2017-11-26T00:00:00",
          "2018-02-15T00:00:00",
          "2018-03-18T00:00:00",
          "2018-06-02T00:00:00",
          "2018-05-17T00:00:00",
          "2018-05-16T00:00:00",
          "2018-04-15T00:00:00",
          "2018-06-03T00:00:00",
          "2018-05-22T00:00:00",
          "2018-01-03T00:00:00",
          "2018-02-17T00:00:00",
          "2018-05-27T00:00:00",
          "2018-05-10T00:00:00",
          "2018-06-08T00:00:00",
          "2018-02-19T00:00:00",
          "2017-11-25T00:00:00",
          "2018-02-07T00:00:00",
          "2017-12-17T00:00:00",
          "2018-05-12T00:00:00",
          "2018-05-28T00:00:00",
          "2018-05-29T00:00:00",
          "2018-01-22T00:00:00",
          "2018-06-05T00:00:00",
          "2017-12-19T00:00:00",
          "2018-05-24T00:00:00",
          "2018-04-29T00:00:00",
          "2018-05-20T00:00:00",
          "2018-02-20T00:00:00",
          "2018-02-18T00:00:00",
          "2017-11-28T00:00:00",
          "2018-01-27T00:00:00",
          "2017-11-15T00:00:00",
          "2018-03-01T00:00:00",
          "2017-11-29T00:00:00",
          "2018-01-18T00:00:00",
          "2018-05-04T00:00:00",
          "2018-05-05T00:00:00",
          "2018-02-21T00:00:00",
          "2018-06-10T00:00:00",
          "2018-01-07T00:00:00",
          "2018-03-27T00:00:00",
          "2018-05-18T00:00:00",
          "2018-03-30T00:00:00",
          "2017-12-30T00:00:00",
          "2018-04-04T00:00:00",
          "2018-03-31T00:00:00",
          "2018-01-04T00:00:00",
          "2018-06-06T00:00:00",
          "2018-01-29T00:00:00",
          "2018-06-14T00:00:00",
          "2018-02-01T00:00:00",
          "2018-01-20T00:00:00",
          "2017-11-30T00:00:00",
          "2017-12-01T00:00:00",
          "2018-02-27T00:00:00",
          "2018-05-25T00:00:00",
          "2018-05-23T00:00:00",
          "2017-12-11T00:00:00",
          "2018-02-16T00:00:00",
          "2017-12-16T00:00:00",
          "2018-01-08T00:00:00",
          "2018-04-25T00:00:00",
          "2018-04-06T00:00:00",
          "2017-11-23T00:00:00",
          "2018-05-11T00:00:00",
          "2017-12-20T00:00:00",
          "2018-05-13T00:00:00",
          "2018-05-02T00:00:00",
          "2017-12-18T00:00:00",
          "2017-12-15T00:00:00",
          "2018-03-16T00:00:00",
          "2018-06-11T00:00:00",
          "2017-11-18T00:00:00",
          "2017-12-06T00:00:00",
          "2017-12-12T00:00:00",
          "2018-05-03T00:00:00",
          "2017-12-13T00:00:00",
          "2018-03-28T00:00:00",
          "2018-01-30T00:00:00",
          "2017-12-05T00:00:00",
          "2018-06-01T00:00:00",
          "2018-01-14T00:00:00",
          "2018-01-23T00:00:00",
          "2018-01-24T00:00:00",
          "2018-06-12T00:00:00",
          "2018-01-17T00:00:00",
          "2017-12-04T00:00:00",
          "2018-01-31T00:00:00",
          "2018-04-01T00:00:00",
          "2018-04-05T00:00:00",
          "2017-12-21T00:00:00",
          "2017-12-23T00:00:00",
          "2017-12-26T00:00:00",
          "2018-02-02T00:00:00",
          "2017-11-14T00:00:00",
          "2017-12-31T00:00:00",
          "2018-01-09T00:00:00",
          "2018-02-04T00:00:00",
          "2017-11-22T00:00:00",
          "2017-12-10T00:00:00",
          "2017-12-27T00:00:00",
          "2017-12-09T00:00:00",
          "2018-01-15T00:00:00",
          "2017-12-07T00:00:00",
          "2018-01-28T00:00:00",
          "2018-05-19T00:00:00",
          "2017-11-24T00:00:00",
          "2018-01-12T00:00:00",
          "2018-02-03T00:00:00",
          "2018-03-15T00:00:00",
          "2018-06-07T00:00:00",
          "2017-12-28T00:00:00",
          "2017-12-29T00:00:00",
          "2017-12-25T00:00:00",
          "2017-12-03T00:00:00",
          "2017-12-02T00:00:00",
          "2017-11-21T00:00:00",
          "2018-01-16T00:00:00",
          "2017-11-16T00:00:00",
          "2018-01-21T00:00:00",
          "2018-01-01T00:00:00",
          "2017-11-20T00:00:00",
          "2018-01-13T00:00:00",
          "2018-02-05T00:00:00",
          "2018-01-25T00:00:00",
          "2018-02-06T00:00:00",
          "2017-11-17T00:00:00",
          "2017-12-08T00:00:00",
          "2018-01-02T00:00:00",
          "2017-11-19T00:00:00",
          "2018-01-26T00:00:00",
          "2017-12-24T00:00:00",
          "2017-12-22T00:00:00"
         ],
         "xaxis": "x",
         "y": [
          150,
          146,
          144,
          144,
          142,
          140,
          134,
          132,
          132,
          128,
          126,
          126,
          126,
          126,
          126,
          126,
          124,
          124,
          124,
          122,
          122,
          120,
          120,
          118,
          118,
          118,
          116,
          116,
          116,
          114,
          114,
          114,
          114,
          114,
          114,
          114,
          114,
          114,
          114,
          112,
          112,
          112,
          112,
          112,
          112,
          112,
          112,
          110,
          110,
          110,
          110,
          110,
          110,
          110,
          108,
          108,
          108,
          108,
          108,
          108,
          108,
          106,
          106,
          106,
          106,
          106,
          106,
          106,
          106,
          106,
          106,
          106,
          104,
          104,
          104,
          104,
          104,
          102,
          102,
          102,
          102,
          102,
          102,
          102,
          100,
          100,
          100,
          100,
          100,
          100,
          100,
          98,
          98,
          98,
          98,
          96,
          96,
          96,
          96,
          96,
          96,
          96,
          96,
          96,
          96,
          94,
          94,
          94,
          94,
          94,
          94,
          94,
          92,
          92,
          92,
          92,
          92,
          92,
          92,
          92,
          92,
          92,
          92,
          92,
          92,
          92,
          92,
          92,
          92,
          92,
          92,
          92,
          92,
          90,
          90,
          90,
          90,
          90,
          90,
          90,
          90,
          88,
          88,
          88,
          88,
          88,
          86,
          86,
          86,
          86,
          86,
          86,
          84,
          84,
          84,
          84,
          84,
          84,
          84,
          84,
          84,
          84,
          84,
          82,
          82,
          82,
          82,
          82,
          82,
          82,
          80,
          80,
          80,
          80,
          80,
          80,
          80,
          80,
          80,
          80,
          78,
          78,
          78,
          78,
          78,
          78,
          78,
          78,
          78,
          78,
          76,
          76,
          76,
          76,
          74,
          74,
          74,
          74,
          70,
          70,
          68,
          68,
          64,
          60,
          60
         ],
         "yaxis": "y"
        }
       ],
       "layout": {
        "font": {
         "color": "dark blue"
        },
        "height": 600,
        "legend": {
         "title": {
          "text": "Video category"
         },
         "tracegroupgap": 0
        },
        "template": {
         "data": {
          "bar": [
           {
            "error_x": {
             "color": "#2a3f5f"
            },
            "error_y": {
             "color": "#2a3f5f"
            },
            "marker": {
             "line": {
              "color": "#E5ECF6",
              "width": 0.5
             }
            },
            "type": "bar"
           }
          ],
          "barpolar": [
           {
            "marker": {
             "line": {
              "color": "#E5ECF6",
              "width": 0.5
             }
            },
            "type": "barpolar"
           }
          ],
          "carpet": [
           {
            "aaxis": {
             "endlinecolor": "#2a3f5f",
             "gridcolor": "white",
             "linecolor": "white",
             "minorgridcolor": "white",
             "startlinecolor": "#2a3f5f"
            },
            "baxis": {
             "endlinecolor": "#2a3f5f",
             "gridcolor": "white",
             "linecolor": "white",
             "minorgridcolor": "white",
             "startlinecolor": "#2a3f5f"
            },
            "type": "carpet"
           }
          ],
          "choropleth": [
           {
            "colorbar": {
             "outlinewidth": 0,
             "ticks": ""
            },
            "type": "choropleth"
           }
          ],
          "contour": [
           {
            "colorbar": {
             "outlinewidth": 0,
             "ticks": ""
            },
            "colorscale": [
             [
              0,
              "#0d0887"
             ],
             [
              0.1111111111111111,
              "#46039f"
             ],
             [
              0.2222222222222222,
              "#7201a8"
             ],
             [
              0.3333333333333333,
              "#9c179e"
             ],
             [
              0.4444444444444444,
              "#bd3786"
             ],
             [
              0.5555555555555556,
              "#d8576b"
             ],
             [
              0.6666666666666666,
              "#ed7953"
             ],
             [
              0.7777777777777778,
              "#fb9f3a"
             ],
             [
              0.8888888888888888,
              "#fdca26"
             ],
             [
              1,
              "#f0f921"
             ]
            ],
            "type": "contour"
           }
          ],
          "contourcarpet": [
           {
            "colorbar": {
             "outlinewidth": 0,
             "ticks": ""
            },
            "type": "contourcarpet"
           }
          ],
          "heatmap": [
           {
            "colorbar": {
             "outlinewidth": 0,
             "ticks": ""
            },
            "colorscale": [
             [
              0,
              "#0d0887"
             ],
             [
              0.1111111111111111,
              "#46039f"
             ],
             [
              0.2222222222222222,
              "#7201a8"
             ],
             [
              0.3333333333333333,
              "#9c179e"
             ],
             [
              0.4444444444444444,
              "#bd3786"
             ],
             [
              0.5555555555555556,
              "#d8576b"
             ],
             [
              0.6666666666666666,
              "#ed7953"
             ],
             [
              0.7777777777777778,
              "#fb9f3a"
             ],
             [
              0.8888888888888888,
              "#fdca26"
             ],
             [
              1,
              "#f0f921"
             ]
            ],
            "type": "heatmap"
           }
          ],
          "heatmapgl": [
           {
            "colorbar": {
             "outlinewidth": 0,
             "ticks": ""
            },
            "colorscale": [
             [
              0,
              "#0d0887"
             ],
             [
              0.1111111111111111,
              "#46039f"
             ],
             [
              0.2222222222222222,
              "#7201a8"
             ],
             [
              0.3333333333333333,
              "#9c179e"
             ],
             [
              0.4444444444444444,
              "#bd3786"
             ],
             [
              0.5555555555555556,
              "#d8576b"
             ],
             [
              0.6666666666666666,
              "#ed7953"
             ],
             [
              0.7777777777777778,
              "#fb9f3a"
             ],
             [
              0.8888888888888888,
              "#fdca26"
             ],
             [
              1,
              "#f0f921"
             ]
            ],
            "type": "heatmapgl"
           }
          ],
          "histogram": [
           {
            "marker": {
             "colorbar": {
              "outlinewidth": 0,
              "ticks": ""
             }
            },
            "type": "histogram"
           }
          ],
          "histogram2d": [
           {
            "colorbar": {
             "outlinewidth": 0,
             "ticks": ""
            },
            "colorscale": [
             [
              0,
              "#0d0887"
             ],
             [
              0.1111111111111111,
              "#46039f"
             ],
             [
              0.2222222222222222,
              "#7201a8"
             ],
             [
              0.3333333333333333,
              "#9c179e"
             ],
             [
              0.4444444444444444,
              "#bd3786"
             ],
             [
              0.5555555555555556,
              "#d8576b"
             ],
             [
              0.6666666666666666,
              "#ed7953"
             ],
             [
              0.7777777777777778,
              "#fb9f3a"
             ],
             [
              0.8888888888888888,
              "#fdca26"
             ],
             [
              1,
              "#f0f921"
             ]
            ],
            "type": "histogram2d"
           }
          ],
          "histogram2dcontour": [
           {
            "colorbar": {
             "outlinewidth": 0,
             "ticks": ""
            },
            "colorscale": [
             [
              0,
              "#0d0887"
             ],
             [
              0.1111111111111111,
              "#46039f"
             ],
             [
              0.2222222222222222,
              "#7201a8"
             ],
             [
              0.3333333333333333,
              "#9c179e"
             ],
             [
              0.4444444444444444,
              "#bd3786"
             ],
             [
              0.5555555555555556,
              "#d8576b"
             ],
             [
              0.6666666666666666,
              "#ed7953"
             ],
             [
              0.7777777777777778,
              "#fb9f3a"
             ],
             [
              0.8888888888888888,
              "#fdca26"
             ],
             [
              1,
              "#f0f921"
             ]
            ],
            "type": "histogram2dcontour"
           }
          ],
          "mesh3d": [
           {
            "colorbar": {
             "outlinewidth": 0,
             "ticks": ""
            },
            "type": "mesh3d"
           }
          ],
          "parcoords": [
           {
            "line": {
             "colorbar": {
              "outlinewidth": 0,
              "ticks": ""
             }
            },
            "type": "parcoords"
           }
          ],
          "pie": [
           {
            "automargin": true,
            "type": "pie"
           }
          ],
          "scatter": [
           {
            "marker": {
             "colorbar": {
              "outlinewidth": 0,
              "ticks": ""
             }
            },
            "type": "scatter"
           }
          ],
          "scatter3d": [
           {
            "line": {
             "colorbar": {
              "outlinewidth": 0,
              "ticks": ""
             }
            },
            "marker": {
             "colorbar": {
              "outlinewidth": 0,
              "ticks": ""
             }
            },
            "type": "scatter3d"
           }
          ],
          "scattercarpet": [
           {
            "marker": {
             "colorbar": {
              "outlinewidth": 0,
              "ticks": ""
             }
            },
            "type": "scattercarpet"
           }
          ],
          "scattergeo": [
           {
            "marker": {
             "colorbar": {
              "outlinewidth": 0,
              "ticks": ""
             }
            },
            "type": "scattergeo"
           }
          ],
          "scattergl": [
           {
            "marker": {
             "colorbar": {
              "outlinewidth": 0,
              "ticks": ""
             }
            },
            "type": "scattergl"
           }
          ],
          "scattermapbox": [
           {
            "marker": {
             "colorbar": {
              "outlinewidth": 0,
              "ticks": ""
             }
            },
            "type": "scattermapbox"
           }
          ],
          "scatterpolar": [
           {
            "marker": {
             "colorbar": {
              "outlinewidth": 0,
              "ticks": ""
             }
            },
            "type": "scatterpolar"
           }
          ],
          "scatterpolargl": [
           {
            "marker": {
             "colorbar": {
              "outlinewidth": 0,
              "ticks": ""
             }
            },
            "type": "scatterpolargl"
           }
          ],
          "scatterternary": [
           {
            "marker": {
             "colorbar": {
              "outlinewidth": 0,
              "ticks": ""
             }
            },
            "type": "scatterternary"
           }
          ],
          "surface": [
           {
            "colorbar": {
             "outlinewidth": 0,
             "ticks": ""
            },
            "colorscale": [
             [
              0,
              "#0d0887"
             ],
             [
              0.1111111111111111,
              "#46039f"
             ],
             [
              0.2222222222222222,
              "#7201a8"
             ],
             [
              0.3333333333333333,
              "#9c179e"
             ],
             [
              0.4444444444444444,
              "#bd3786"
             ],
             [
              0.5555555555555556,
              "#d8576b"
             ],
             [
              0.6666666666666666,
              "#ed7953"
             ],
             [
              0.7777777777777778,
              "#fb9f3a"
             ],
             [
              0.8888888888888888,
              "#fdca26"
             ],
             [
              1,
              "#f0f921"
             ]
            ],
            "type": "surface"
           }
          ],
          "table": [
           {
            "cells": {
             "fill": {
              "color": "#EBF0F8"
             },
             "line": {
              "color": "white"
             }
            },
            "header": {
             "fill": {
              "color": "#C8D4E3"
             },
             "line": {
              "color": "white"
             }
            },
            "type": "table"
           }
          ]
         },
         "layout": {
          "annotationdefaults": {
           "arrowcolor": "#2a3f5f",
           "arrowhead": 0,
           "arrowwidth": 1
          },
          "autotypenumbers": "strict",
          "coloraxis": {
           "colorbar": {
            "outlinewidth": 0,
            "ticks": ""
           }
          },
          "colorscale": {
           "diverging": [
            [
             0,
             "#8e0152"
            ],
            [
             0.1,
             "#c51b7d"
            ],
            [
             0.2,
             "#de77ae"
            ],
            [
             0.3,
             "#f1b6da"
            ],
            [
             0.4,
             "#fde0ef"
            ],
            [
             0.5,
             "#f7f7f7"
            ],
            [
             0.6,
             "#e6f5d0"
            ],
            [
             0.7,
             "#b8e186"
            ],
            [
             0.8,
             "#7fbc41"
            ],
            [
             0.9,
             "#4d9221"
            ],
            [
             1,
             "#276419"
            ]
           ],
           "sequential": [
            [
             0,
             "#0d0887"
            ],
            [
             0.1111111111111111,
             "#46039f"
            ],
            [
             0.2222222222222222,
             "#7201a8"
            ],
            [
             0.3333333333333333,
             "#9c179e"
            ],
            [
             0.4444444444444444,
             "#bd3786"
            ],
            [
             0.5555555555555556,
             "#d8576b"
            ],
            [
             0.6666666666666666,
             "#ed7953"
            ],
            [
             0.7777777777777778,
             "#fb9f3a"
            ],
            [
             0.8888888888888888,
             "#fdca26"
            ],
            [
             1,
             "#f0f921"
            ]
           ],
           "sequentialminus": [
            [
             0,
             "#0d0887"
            ],
            [
             0.1111111111111111,
             "#46039f"
            ],
            [
             0.2222222222222222,
             "#7201a8"
            ],
            [
             0.3333333333333333,
             "#9c179e"
            ],
            [
             0.4444444444444444,
             "#bd3786"
            ],
            [
             0.5555555555555556,
             "#d8576b"
            ],
            [
             0.6666666666666666,
             "#ed7953"
            ],
            [
             0.7777777777777778,
             "#fb9f3a"
            ],
            [
             0.8888888888888888,
             "#fdca26"
            ],
            [
             1,
             "#f0f921"
            ]
           ]
          },
          "colorway": [
           "#636efa",
           "#EF553B",
           "#00cc96",
           "#ab63fa",
           "#FFA15A",
           "#19d3f3",
           "#FF6692",
           "#B6E880",
           "#FF97FF",
           "#FECB52"
          ],
          "font": {
           "color": "#2a3f5f"
          },
          "geo": {
           "bgcolor": "white",
           "lakecolor": "white",
           "landcolor": "#E5ECF6",
           "showlakes": true,
           "showland": true,
           "subunitcolor": "white"
          },
          "hoverlabel": {
           "align": "left"
          },
          "hovermode": "closest",
          "mapbox": {
           "style": "light"
          },
          "paper_bgcolor": "white",
          "plot_bgcolor": "#E5ECF6",
          "polar": {
           "angularaxis": {
            "gridcolor": "white",
            "linecolor": "white",
            "ticks": ""
           },
           "bgcolor": "#E5ECF6",
           "radialaxis": {
            "gridcolor": "white",
            "linecolor": "white",
            "ticks": ""
           }
          },
          "scene": {
           "xaxis": {
            "backgroundcolor": "#E5ECF6",
            "gridcolor": "white",
            "gridwidth": 2,
            "linecolor": "white",
            "showbackground": true,
            "ticks": "",
            "zerolinecolor": "white"
           },
           "yaxis": {
            "backgroundcolor": "#E5ECF6",
            "gridcolor": "white",
            "gridwidth": 2,
            "linecolor": "white",
            "showbackground": true,
            "ticks": "",
            "zerolinecolor": "white"
           },
           "zaxis": {
            "backgroundcolor": "#E5ECF6",
            "gridcolor": "white",
            "gridwidth": 2,
            "linecolor": "white",
            "showbackground": true,
            "ticks": "",
            "zerolinecolor": "white"
           }
          },
          "shapedefaults": {
           "line": {
            "color": "#2a3f5f"
           }
          },
          "ternary": {
           "aaxis": {
            "gridcolor": "white",
            "linecolor": "white",
            "ticks": ""
           },
           "baxis": {
            "gridcolor": "white",
            "linecolor": "white",
            "ticks": ""
           },
           "bgcolor": "#E5ECF6",
           "caxis": {
            "gridcolor": "white",
            "linecolor": "white",
            "ticks": ""
           }
          },
          "title": {
           "x": 0.05
          },
          "xaxis": {
           "automargin": true,
           "gridcolor": "white",
           "linecolor": "white",
           "ticks": "",
           "title": {
            "standoff": 15
           },
           "zerolinecolor": "white",
           "zerolinewidth": 2
          },
          "yaxis": {
           "automargin": true,
           "gridcolor": "white",
           "linecolor": "white",
           "ticks": "",
           "title": {
            "standoff": 15
           },
           "zerolinecolor": "white",
           "zerolinewidth": 2
          }
         }
        },
        "title": {
         "font": {
          "color": "black",
          "family": "Times New Roman",
          "size": 26
         },
         "text": "Daily trending video count by category",
         "x": 0.5
        },
        "width": 800,
        "xaxis": {
         "anchor": "y",
         "domain": [
          0,
          1
         ],
         "title": {
          "text": "Date"
         }
        },
        "yaxis": {
         "anchor": "x",
         "domain": [
          0,
          1
         ],
         "title": {
          "text": "Count of videos"
         }
        }
       }
      },
      "text/html": [
       "<div>                            <div id=\"018bb60b-3257-4cf5-a4c4-2afdbd75490d\" class=\"plotly-graph-div\" style=\"height:600px; width:800px;\"></div>            <script type=\"text/javascript\">                require([\"plotly\"], function(Plotly) {                    window.PLOTLYENV=window.PLOTLYENV || {};                                    if (document.getElementById(\"018bb60b-3257-4cf5-a4c4-2afdbd75490d\")) {                    Plotly.newPlot(                        \"018bb60b-3257-4cf5-a4c4-2afdbd75490d\",                        [{\"hovertemplate\": \"Video category=Entertainment<br>Date=%{x}<br>Count of videos=%{y}<extra></extra>\", \"legendgroup\": \"Entertainment\", \"line\": {\"color\": \"#636efa\"}, \"mode\": \"lines\", \"name\": \"Entertainment\", \"orientation\": \"v\", \"showlegend\": true, \"stackgroup\": \"1\", \"type\": \"scatter\", \"x\": [\"2018-05-23T00:00:00\", \"2018-05-18T00:00:00\", \"2018-05-22T00:00:00\", \"2018-05-25T00:00:00\", \"2018-05-31T00:00:00\", \"2018-06-06T00:00:00\", \"2018-06-03T00:00:00\", \"2018-06-07T00:00:00\", \"2018-06-09T00:00:00\", \"2018-05-26T00:00:00\", \"2018-05-28T00:00:00\", \"2018-05-04T00:00:00\", \"2018-06-12T00:00:00\", \"2018-05-24T00:00:00\", \"2018-06-02T00:00:00\", \"2018-05-21T00:00:00\", \"2018-06-08T00:00:00\", \"2018-05-30T00:00:00\", \"2018-06-01T00:00:00\", \"2018-05-27T00:00:00\", \"2018-04-26T00:00:00\", \"2018-05-06T00:00:00\", \"2018-05-05T00:00:00\", \"2018-05-29T00:00:00\", \"2018-05-15T00:00:00\", \"2018-06-14T00:00:00\", \"2018-06-11T00:00:00\", \"2018-05-03T00:00:00\", \"2018-05-11T00:00:00\", \"2018-06-04T00:00:00\", \"2018-05-10T00:00:00\", \"2018-05-16T00:00:00\", \"2018-03-31T00:00:00\", \"2018-05-09T00:00:00\", \"2018-04-01T00:00:00\", \"2018-03-17T00:00:00\", \"2018-06-05T00:00:00\", \"2018-04-04T00:00:00\", \"2018-05-17T00:00:00\", \"2018-05-02T00:00:00\", \"2018-05-13T00:00:00\", \"2018-03-20T00:00:00\", \"2018-06-10T00:00:00\", \"2018-02-18T00:00:00\", \"2018-03-18T00:00:00\", \"2018-04-29T00:00:00\", \"2018-04-15T00:00:00\", \"2018-03-25T00:00:00\", \"2018-04-28T00:00:00\", \"2018-04-25T00:00:00\", \"2018-04-24T00:00:00\", \"2018-04-23T00:00:00\", \"2018-04-30T00:00:00\", \"2018-04-27T00:00:00\", \"2018-03-22T00:00:00\", \"2018-02-08T00:00:00\", \"2018-05-01T00:00:00\", \"2018-03-30T00:00:00\", \"2018-04-16T00:00:00\", \"2018-02-28T00:00:00\", \"2018-02-19T00:00:00\", \"2018-06-13T00:00:00\", \"2018-04-05T00:00:00\", \"2018-02-17T00:00:00\", \"2018-04-20T00:00:00\", \"2018-05-12T00:00:00\", \"2018-03-29T00:00:00\", \"2018-02-10T00:00:00\", \"2018-04-03T00:00:00\", \"2018-04-06T00:00:00\", \"2018-04-18T00:00:00\", \"2018-03-23T00:00:00\", \"2018-05-19T00:00:00\", \"2018-04-21T00:00:00\", \"2018-03-07T00:00:00\", \"2018-03-27T00:00:00\", \"2018-03-19T00:00:00\", \"2018-03-21T00:00:00\", \"2018-02-27T00:00:00\", \"2018-04-14T00:00:00\", \"2018-03-26T00:00:00\", \"2018-03-08T00:00:00\", \"2018-04-19T00:00:00\", \"2018-04-22T00:00:00\", \"2018-04-07T00:00:00\", \"2018-03-05T00:00:00\", \"2018-03-03T00:00:00\", \"2018-05-07T00:00:00\", \"2018-02-11T00:00:00\", \"2018-02-21T00:00:00\", \"2018-03-24T00:00:00\", \"2018-02-09T00:00:00\", \"2018-04-02T00:00:00\", \"2018-03-16T00:00:00\", \"2018-05-20T00:00:00\", \"2018-03-06T00:00:00\", \"2018-03-10T00:00:00\", \"2017-12-18T00:00:00\", \"2018-03-11T00:00:00\", \"2018-02-22T00:00:00\", \"2018-03-09T00:00:00\", \"2018-03-01T00:00:00\", \"2018-04-17T00:00:00\", \"2018-05-08T00:00:00\", \"2018-02-20T00:00:00\", \"2017-12-17T00:00:00\", \"2018-02-14T00:00:00\", \"2018-02-23T00:00:00\", \"2018-02-07T00:00:00\", \"2018-02-16T00:00:00\", \"2018-03-14T00:00:00\", \"2018-05-14T00:00:00\", \"2018-03-13T00:00:00\", \"2018-02-26T00:00:00\", \"2017-12-04T00:00:00\", \"2018-02-15T00:00:00\", \"2018-02-25T00:00:00\", \"2018-03-04T00:00:00\", \"2017-12-24T00:00:00\", \"2017-12-03T00:00:00\", \"2017-12-05T00:00:00\", \"2018-03-02T00:00:00\", \"2018-01-25T00:00:00\", \"2017-12-30T00:00:00\", \"2017-12-19T00:00:00\", \"2018-01-21T00:00:00\", \"2018-02-04T00:00:00\", \"2017-12-16T00:00:00\", \"2018-01-12T00:00:00\", \"2017-12-01T00:00:00\", \"2018-02-24T00:00:00\", \"2017-12-06T00:00:00\", \"2017-12-25T00:00:00\", \"2017-12-22T00:00:00\", \"2017-12-10T00:00:00\", \"2018-02-13T00:00:00\", \"2017-12-13T00:00:00\", \"2018-03-12T00:00:00\", \"2018-01-14T00:00:00\", \"2017-12-07T00:00:00\", \"2018-03-28T00:00:00\", \"2018-02-12T00:00:00\", \"2017-12-21T00:00:00\", \"2017-11-24T00:00:00\", \"2018-01-13T00:00:00\", \"2018-01-26T00:00:00\", \"2017-12-31T00:00:00\", \"2017-12-23T00:00:00\", \"2017-11-19T00:00:00\", \"2017-12-14T00:00:00\", \"2017-12-12T00:00:00\", \"2017-11-28T00:00:00\", \"2017-11-20T00:00:00\", \"2017-12-15T00:00:00\", \"2017-11-23T00:00:00\", \"2017-12-08T00:00:00\", \"2017-11-14T00:00:00\", \"2018-01-09T00:00:00\", \"2018-01-27T00:00:00\", \"2018-01-08T00:00:00\", \"2017-12-20T00:00:00\", \"2018-01-07T00:00:00\", \"2017-11-16T00:00:00\", \"2017-12-27T00:00:00\", \"2018-02-05T00:00:00\", \"2017-11-17T00:00:00\", \"2018-01-17T00:00:00\", \"2017-11-18T00:00:00\", \"2017-11-22T00:00:00\", \"2017-12-11T00:00:00\", \"2018-01-28T00:00:00\", \"2017-11-29T00:00:00\", \"2018-01-24T00:00:00\", \"2017-11-15T00:00:00\", \"2018-01-15T00:00:00\", \"2017-12-28T00:00:00\", \"2017-12-02T00:00:00\", \"2017-11-30T00:00:00\", \"2018-01-20T00:00:00\", \"2017-11-27T00:00:00\", \"2018-01-31T00:00:00\", \"2018-01-22T00:00:00\", \"2017-12-29T00:00:00\", \"2018-02-03T00:00:00\", \"2018-02-06T00:00:00\", \"2017-12-09T00:00:00\", \"2017-11-25T00:00:00\", \"2017-12-26T00:00:00\", \"2018-01-01T00:00:00\", \"2018-01-06T00:00:00\", \"2018-01-05T00:00:00\", \"2018-03-15T00:00:00\", \"2018-01-04T00:00:00\", \"2018-01-23T00:00:00\", \"2017-11-21T00:00:00\", \"2018-01-29T00:00:00\", \"2018-01-30T00:00:00\", \"2017-11-26T00:00:00\", \"2018-01-03T00:00:00\", \"2018-01-18T00:00:00\", \"2018-01-02T00:00:00\", \"2018-01-19T00:00:00\", \"2018-01-16T00:00:00\", \"2018-02-01T00:00:00\", \"2018-02-02T00:00:00\"], \"xaxis\": \"x\", \"y\": [642, 606, 602, 598, 596, 594, 592, 590, 588, 582, 582, 582, 576, 574, 566, 564, 562, 560, 556, 556, 554, 554, 552, 552, 550, 548, 548, 546, 544, 544, 542, 542, 540, 540, 536, 536, 530, 530, 528, 528, 526, 524, 524, 520, 518, 518, 518, 518, 516, 516, 516, 514, 514, 514, 510, 510, 510, 508, 508, 508, 508, 508, 500, 500, 498, 498, 496, 496, 494, 494, 494, 492, 492, 492, 490, 490, 490, 490, 488, 488, 486, 486, 486, 484, 484, 484, 484, 482, 482, 482, 478, 476, 476, 474, 474, 472, 472, 470, 470, 466, 464, 464, 462, 460, 456, 452, 452, 452, 446, 444, 444, 444, 442, 442, 440, 440, 438, 438, 438, 436, 436, 434, 434, 432, 432, 428, 428, 428, 428, 428, 428, 428, 426, 426, 426, 424, 424, 424, 422, 420, 420, 418, 418, 418, 418, 416, 414, 412, 410, 410, 410, 410, 410, 408, 408, 408, 406, 402, 402, 400, 398, 398, 398, 398, 396, 396, 396, 394, 394, 392, 390, 390, 390, 390, 390, 384, 384, 384, 384, 382, 382, 382, 382, 380, 380, 378, 378, 376, 374, 374, 374, 374, 372, 366, 366, 364, 364, 362, 356, 354, 354, 352, 348, 344, 328], \"yaxis\": \"y\"}, {\"hovertemplate\": \"Video category=Others<br>Date=%{x}<br>Count of videos=%{y}<extra></extra>\", \"legendgroup\": \"Others\", \"line\": {\"color\": \"#EF553B\"}, \"mode\": \"lines\", \"name\": \"Others\", \"orientation\": \"v\", \"showlegend\": true, \"stackgroup\": \"1\", \"type\": \"scatter\", \"x\": [\"2018-03-14T00:00:00\", \"2018-03-13T00:00:00\", \"2018-03-11T00:00:00\", \"2018-03-10T00:00:00\", \"2018-03-09T00:00:00\", \"2018-02-09T00:00:00\", \"2018-02-08T00:00:00\", \"2018-03-07T00:00:00\", \"2018-02-13T00:00:00\", \"2018-06-12T00:00:00\", \"2018-06-11T00:00:00\", \"2018-02-15T00:00:00\", \"2017-11-17T00:00:00\", \"2018-02-10T00:00:00\", \"2018-02-07T00:00:00\", \"2018-05-18T00:00:00\", \"2018-02-12T00:00:00\", \"2018-03-02T00:00:00\", \"2018-06-05T00:00:00\", \"2018-03-12T00:00:00\", \"2018-02-28T00:00:00\", \"2018-05-15T00:00:00\", \"2018-02-27T00:00:00\", \"2018-03-01T00:00:00\", \"2018-05-31T00:00:00\", \"2018-03-05T00:00:00\", \"2018-03-06T00:00:00\", \"2018-06-13T00:00:00\", \"2018-02-24T00:00:00\", \"2018-03-08T00:00:00\", \"2018-02-20T00:00:00\", \"2018-02-23T00:00:00\", \"2018-02-14T00:00:00\", \"2018-04-24T00:00:00\", \"2018-06-04T00:00:00\", \"2018-05-01T00:00:00\", \"2018-02-06T00:00:00\", \"2018-02-21T00:00:00\", \"2018-02-11T00:00:00\", \"2018-06-10T00:00:00\", \"2018-03-03T00:00:00\", \"2018-03-16T00:00:00\", \"2018-02-16T00:00:00\", \"2018-05-30T00:00:00\", \"2018-05-14T00:00:00\", \"2018-06-03T00:00:00\", \"2018-01-07T00:00:00\", \"2018-03-22T00:00:00\", \"2018-05-22T00:00:00\", \"2017-11-14T00:00:00\", \"2018-03-15T00:00:00\", \"2017-11-16T00:00:00\", \"2018-05-16T00:00:00\", \"2018-05-11T00:00:00\", \"2018-03-17T00:00:00\", \"2018-06-01T00:00:00\", \"2018-04-20T00:00:00\", \"2018-04-29T00:00:00\", \"2018-03-23T00:00:00\", \"2018-02-22T00:00:00\", \"2018-06-14T00:00:00\", \"2018-02-17T00:00:00\", \"2018-02-01T00:00:00\", \"2018-01-05T00:00:00\", \"2017-11-15T00:00:00\", \"2017-11-18T00:00:00\", \"2018-01-12T00:00:00\", \"2018-02-18T00:00:00\", \"2018-01-08T00:00:00\", \"2018-03-18T00:00:00\", \"2018-02-05T00:00:00\", \"2018-05-13T00:00:00\", \"2018-05-21T00:00:00\", \"2018-03-31T00:00:00\", \"2018-04-25T00:00:00\", \"2018-03-29T00:00:00\", \"2017-11-27T00:00:00\", \"2018-02-02T00:00:00\", \"2018-04-23T00:00:00\", \"2018-05-09T00:00:00\", \"2018-05-29T00:00:00\", \"2018-04-30T00:00:00\", \"2018-03-21T00:00:00\", \"2018-02-26T00:00:00\", \"2018-06-07T00:00:00\", \"2017-12-09T00:00:00\", \"2017-11-19T00:00:00\", \"2017-11-21T00:00:00\", \"2018-03-30T00:00:00\", \"2018-04-19T00:00:00\", \"2018-04-21T00:00:00\", \"2018-05-04T00:00:00\", \"2018-03-19T00:00:00\", \"2018-01-29T00:00:00\", \"2018-05-12T00:00:00\", \"2018-05-26T00:00:00\", \"2018-02-19T00:00:00\", \"2018-01-30T00:00:00\", \"2018-05-24T00:00:00\", \"2018-03-04T00:00:00\", \"2018-02-25T00:00:00\", \"2018-05-06T00:00:00\", \"2018-03-26T00:00:00\", \"2018-04-26T00:00:00\", \"2018-04-28T00:00:00\", \"2018-01-23T00:00:00\", \"2018-04-14T00:00:00\", \"2017-12-28T00:00:00\", \"2018-05-17T00:00:00\", \"2018-05-03T00:00:00\", \"2018-01-20T00:00:00\", \"2018-06-06T00:00:00\", \"2018-05-23T00:00:00\", \"2018-05-25T00:00:00\", \"2017-12-07T00:00:00\", \"2018-04-22T00:00:00\", \"2018-01-16T00:00:00\", \"2018-05-27T00:00:00\", \"2018-01-18T00:00:00\", \"2018-03-24T00:00:00\", \"2018-06-08T00:00:00\", \"2018-05-28T00:00:00\", \"2018-04-17T00:00:00\", \"2018-01-19T00:00:00\", \"2018-01-31T00:00:00\", \"2018-02-03T00:00:00\", \"2018-05-10T00:00:00\", \"2018-02-04T00:00:00\", \"2018-05-05T00:00:00\", \"2018-01-06T00:00:00\", \"2018-05-08T00:00:00\", \"2018-04-03T00:00:00\", \"2018-04-06T00:00:00\", \"2017-12-29T00:00:00\", \"2018-06-09T00:00:00\", \"2017-11-20T00:00:00\", \"2017-12-01T00:00:00\", \"2017-12-30T00:00:00\", \"2018-04-04T00:00:00\", \"2018-04-05T00:00:00\", \"2018-05-02T00:00:00\", \"2017-11-23T00:00:00\", \"2017-11-29T00:00:00\", \"2017-12-31T00:00:00\", \"2017-12-08T00:00:00\", \"2018-04-02T00:00:00\", \"2018-03-25T00:00:00\", \"2018-01-13T00:00:00\", \"2018-04-01T00:00:00\", \"2018-01-04T00:00:00\", \"2018-01-21T00:00:00\", \"2018-03-27T00:00:00\", \"2018-04-15T00:00:00\", \"2017-11-24T00:00:00\", \"2018-01-17T00:00:00\", \"2018-01-27T00:00:00\", \"2017-12-19T00:00:00\", \"2018-04-16T00:00:00\", \"2018-01-03T00:00:00\", \"2017-12-20T00:00:00\", \"2017-12-13T00:00:00\", \"2018-03-20T00:00:00\", \"2018-05-07T00:00:00\", \"2018-04-27T00:00:00\", \"2017-11-22T00:00:00\", \"2018-03-28T00:00:00\", \"2018-01-22T00:00:00\", \"2018-01-01T00:00:00\", \"2018-01-14T00:00:00\", \"2018-01-25T00:00:00\", \"2018-04-18T00:00:00\", \"2018-05-19T00:00:00\", \"2018-06-02T00:00:00\", \"2017-12-05T00:00:00\", \"2018-01-28T00:00:00\", \"2018-01-15T00:00:00\", \"2017-12-22T00:00:00\", \"2018-01-09T00:00:00\", \"2018-04-07T00:00:00\", \"2017-12-12T00:00:00\", \"2017-12-04T00:00:00\", \"2017-12-10T00:00:00\", \"2018-01-24T00:00:00\", \"2018-01-02T00:00:00\", \"2017-12-23T00:00:00\", \"2018-01-26T00:00:00\", \"2017-12-06T00:00:00\", \"2017-12-27T00:00:00\", \"2017-12-14T00:00:00\", \"2017-11-28T00:00:00\", \"2017-12-15T00:00:00\", \"2017-12-11T00:00:00\", \"2017-11-25T00:00:00\", \"2017-12-18T00:00:00\", \"2017-12-21T00:00:00\", \"2017-12-02T00:00:00\", \"2017-12-03T00:00:00\", \"2017-11-26T00:00:00\", \"2018-05-20T00:00:00\", \"2017-12-26T00:00:00\", \"2017-12-16T00:00:00\", \"2017-12-17T00:00:00\", \"2017-11-30T00:00:00\", \"2017-12-25T00:00:00\", \"2017-12-24T00:00:00\"], \"xaxis\": \"x\", \"y\": [424, 424, 310, 306, 306, 288, 288, 276, 274, 274, 264, 262, 260, 256, 254, 252, 248, 248, 248, 246, 246, 246, 242, 242, 240, 238, 236, 234, 234, 232, 232, 232, 230, 228, 228, 228, 228, 226, 226, 226, 222, 222, 222, 222, 222, 220, 220, 220, 220, 218, 218, 216, 216, 216, 214, 214, 214, 212, 212, 212, 212, 212, 212, 212, 210, 210, 210, 208, 208, 206, 206, 206, 206, 206, 206, 206, 204, 204, 202, 202, 202, 202, 202, 202, 202, 200, 200, 200, 200, 200, 200, 200, 200, 198, 198, 198, 198, 198, 198, 198, 198, 198, 198, 198, 198, 196, 196, 196, 196, 196, 196, 196, 196, 194, 194, 194, 194, 192, 192, 192, 190, 190, 190, 188, 188, 188, 188, 188, 188, 188, 188, 188, 188, 186, 186, 184, 184, 184, 184, 184, 184, 182, 182, 182, 182, 182, 182, 182, 180, 180, 180, 180, 180, 178, 178, 178, 178, 178, 178, 176, 176, 176, 176, 176, 174, 174, 174, 174, 172, 172, 172, 172, 172, 172, 172, 172, 170, 170, 170, 170, 170, 168, 168, 168, 168, 166, 166, 166, 166, 164, 164, 160, 160, 158, 158, 158, 158, 158, 154, 154, 152, 150, 150, 144, 132], \"yaxis\": \"y\"}, {\"hovertemplate\": \"Video category=People & Blogs<br>Date=%{x}<br>Count of videos=%{y}<extra></extra>\", \"legendgroup\": \"People & Blogs\", \"line\": {\"color\": \"#00cc96\"}, \"mode\": \"lines\", \"name\": \"People & Blogs\", \"orientation\": \"v\", \"showlegend\": true, \"stackgroup\": \"1\", \"type\": \"scatter\", \"x\": [\"2018-02-20T00:00:00\", \"2018-02-14T00:00:00\", \"2018-03-03T00:00:00\", \"2018-04-06T00:00:00\", \"2018-02-19T00:00:00\", \"2018-05-02T00:00:00\", \"2018-03-27T00:00:00\", \"2018-04-30T00:00:00\", \"2018-04-04T00:00:00\", \"2018-04-27T00:00:00\", \"2018-05-07T00:00:00\", \"2018-04-03T00:00:00\", \"2018-04-02T00:00:00\", \"2018-04-18T00:00:00\", \"2018-04-21T00:00:00\", \"2018-03-18T00:00:00\", \"2018-02-17T00:00:00\", \"2018-02-21T00:00:00\", \"2018-04-25T00:00:00\", \"2018-04-17T00:00:00\", \"2018-02-11T00:00:00\", \"2018-02-16T00:00:00\", \"2018-03-26T00:00:00\", \"2018-05-05T00:00:00\", \"2018-04-28T00:00:00\", \"2018-02-25T00:00:00\", \"2018-03-21T00:00:00\", \"2018-04-16T00:00:00\", \"2018-02-22T00:00:00\", \"2018-03-12T00:00:00\", \"2018-03-25T00:00:00\", \"2018-02-26T00:00:00\", \"2018-02-27T00:00:00\", \"2018-04-19T00:00:00\", \"2018-04-01T00:00:00\", \"2018-05-01T00:00:00\", \"2018-03-02T00:00:00\", \"2018-04-26T00:00:00\", \"2018-03-08T00:00:00\", \"2018-02-28T00:00:00\", \"2018-04-24T00:00:00\", \"2018-03-19T00:00:00\", \"2018-03-22T00:00:00\", \"2018-05-11T00:00:00\", \"2018-04-20T00:00:00\", \"2018-05-13T00:00:00\", \"2018-03-29T00:00:00\", \"2018-04-29T00:00:00\", \"2018-03-09T00:00:00\", \"2018-04-05T00:00:00\", \"2018-03-10T00:00:00\", \"2018-02-18T00:00:00\", \"2018-04-22T00:00:00\", \"2018-04-14T00:00:00\", \"2018-05-04T00:00:00\", \"2018-02-15T00:00:00\", \"2018-02-13T00:00:00\", \"2018-03-17T00:00:00\", \"2018-04-23T00:00:00\", \"2018-03-28T00:00:00\", \"2018-03-31T00:00:00\", \"2018-04-07T00:00:00\", \"2018-02-12T00:00:00\", \"2018-01-03T00:00:00\", \"2018-05-03T00:00:00\", \"2018-03-30T00:00:00\", \"2018-03-06T00:00:00\", \"2018-03-04T00:00:00\", \"2018-01-04T00:00:00\", \"2018-05-14T00:00:00\", \"2018-02-24T00:00:00\", \"2018-03-24T00:00:00\", \"2018-03-13T00:00:00\", \"2018-01-18T00:00:00\", \"2017-12-31T00:00:00\", \"2018-02-10T00:00:00\", \"2018-03-01T00:00:00\", \"2018-03-23T00:00:00\", \"2018-02-08T00:00:00\", \"2018-05-12T00:00:00\", \"2018-03-14T00:00:00\", \"2018-03-20T00:00:00\", \"2018-02-23T00:00:00\", \"2017-11-14T00:00:00\", \"2017-12-17T00:00:00\", \"2018-02-07T00:00:00\", \"2017-12-15T00:00:00\", \"2017-12-22T00:00:00\", \"2018-06-12T00:00:00\", \"2018-04-15T00:00:00\", \"2017-12-21T00:00:00\", \"2018-05-21T00:00:00\", \"2017-12-29T00:00:00\", \"2018-01-30T00:00:00\", \"2018-02-05T00:00:00\", \"2018-03-07T00:00:00\", \"2018-01-02T00:00:00\", \"2017-12-05T00:00:00\", \"2017-12-04T00:00:00\", \"2018-01-24T00:00:00\", \"2018-01-01T00:00:00\", \"2018-03-11T00:00:00\", \"2017-12-24T00:00:00\", \"2017-12-11T00:00:00\", \"2017-12-16T00:00:00\", \"2017-12-13T00:00:00\", \"2017-12-12T00:00:00\", \"2017-11-15T00:00:00\", \"2018-06-11T00:00:00\", \"2017-12-26T00:00:00\", \"2018-02-01T00:00:00\", \"2018-01-15T00:00:00\", \"2017-12-08T00:00:00\", \"2017-11-16T00:00:00\", \"2018-05-24T00:00:00\", \"2018-06-13T00:00:00\", \"2017-12-10T00:00:00\", \"2018-03-16T00:00:00\", \"2018-05-08T00:00:00\", \"2018-03-05T00:00:00\", \"2017-12-19T00:00:00\", \"2018-05-23T00:00:00\", \"2018-05-06T00:00:00\", \"2018-01-31T00:00:00\", \"2017-12-28T00:00:00\", \"2018-01-23T00:00:00\", \"2017-11-26T00:00:00\", \"2018-01-06T00:00:00\", \"2017-12-09T00:00:00\", \"2018-01-19T00:00:00\", \"2018-01-09T00:00:00\", \"2017-12-14T00:00:00\", \"2018-01-05T00:00:00\", \"2018-05-15T00:00:00\", \"2018-06-09T00:00:00\", \"2017-12-30T00:00:00\", \"2017-12-03T00:00:00\", \"2017-12-20T00:00:00\", \"2017-11-22T00:00:00\", \"2018-01-07T00:00:00\", \"2018-01-26T00:00:00\", \"2018-01-28T00:00:00\", \"2018-01-12T00:00:00\", \"2018-05-09T00:00:00\", \"2018-06-08T00:00:00\", \"2017-12-18T00:00:00\", \"2017-11-25T00:00:00\", \"2018-02-02T00:00:00\", \"2018-05-10T00:00:00\", \"2018-03-15T00:00:00\", \"2018-06-01T00:00:00\", \"2018-01-20T00:00:00\", \"2018-05-16T00:00:00\", \"2018-02-04T00:00:00\", \"2017-12-23T00:00:00\", \"2017-12-25T00:00:00\", \"2017-11-19T00:00:00\", \"2018-06-05T00:00:00\", \"2018-01-16T00:00:00\", \"2017-12-06T00:00:00\", \"2018-06-02T00:00:00\", \"2018-06-07T00:00:00\", \"2017-11-30T00:00:00\", \"2017-12-27T00:00:00\", \"2018-05-22T00:00:00\", \"2017-11-18T00:00:00\", \"2018-06-14T00:00:00\", \"2018-06-03T00:00:00\", \"2018-01-22T00:00:00\", \"2018-01-29T00:00:00\", \"2018-01-13T00:00:00\", \"2018-05-20T00:00:00\", \"2017-11-21T00:00:00\", \"2018-06-06T00:00:00\", \"2018-01-25T00:00:00\", \"2018-05-29T00:00:00\", \"2018-02-09T00:00:00\", \"2018-01-14T00:00:00\", \"2017-11-28T00:00:00\", \"2017-11-24T00:00:00\", \"2018-01-17T00:00:00\", \"2018-05-31T00:00:00\", \"2018-01-08T00:00:00\", \"2017-11-20T00:00:00\", \"2018-05-18T00:00:00\", \"2018-01-27T00:00:00\", \"2017-11-27T00:00:00\", \"2018-05-25T00:00:00\", \"2018-02-06T00:00:00\", \"2018-05-27T00:00:00\", \"2017-12-07T00:00:00\", \"2017-11-17T00:00:00\", \"2018-06-04T00:00:00\", \"2018-05-26T00:00:00\", \"2017-11-23T00:00:00\", \"2018-02-03T00:00:00\", \"2018-05-17T00:00:00\", \"2018-05-28T00:00:00\", \"2018-01-21T00:00:00\", \"2017-12-01T00:00:00\", \"2018-06-10T00:00:00\", \"2017-12-02T00:00:00\", \"2017-11-29T00:00:00\", \"2018-05-30T00:00:00\", \"2018-05-19T00:00:00\"], \"xaxis\": \"x\", \"y\": [306, 294, 294, 292, 286, 286, 286, 284, 284, 284, 280, 276, 272, 268, 266, 266, 266, 266, 262, 262, 260, 260, 260, 260, 260, 260, 258, 258, 258, 256, 256, 256, 256, 254, 254, 254, 254, 252, 248, 248, 248, 248, 248, 246, 246, 244, 244, 244, 240, 240, 238, 238, 238, 238, 238, 236, 236, 234, 234, 234, 232, 232, 232, 232, 232, 230, 230, 230, 230, 230, 228, 228, 228, 226, 226, 226, 224, 224, 224, 222, 222, 222, 222, 222, 222, 222, 222, 220, 220, 220, 218, 218, 218, 218, 218, 218, 216, 216, 216, 216, 216, 216, 214, 214, 212, 212, 212, 212, 212, 212, 212, 212, 212, 210, 210, 210, 210, 210, 210, 208, 208, 208, 208, 208, 206, 204, 204, 204, 204, 202, 202, 202, 202, 202, 202, 200, 200, 200, 200, 198, 198, 198, 198, 198, 198, 198, 196, 196, 196, 196, 196, 194, 194, 194, 194, 192, 192, 192, 190, 190, 190, 190, 190, 190, 188, 188, 188, 186, 186, 186, 186, 186, 186, 186, 184, 182, 182, 182, 182, 182, 182, 182, 180, 180, 180, 180, 178, 178, 176, 176, 176, 174, 174, 174, 172, 172, 170, 166, 166, 166, 166, 164, 162, 160, 160], \"yaxis\": \"y\"}, {\"hovertemplate\": \"Video category=News & Politics<br>Date=%{x}<br>Count of videos=%{y}<extra></extra>\", \"legendgroup\": \"News & Politics\", \"line\": {\"color\": \"#ab63fa\"}, \"mode\": \"lines\", \"name\": \"News & Politics\", \"orientation\": \"v\", \"showlegend\": true, \"stackgroup\": \"1\", \"type\": \"scatter\", \"x\": [\"2018-03-29T00:00:00\", \"2018-03-27T00:00:00\", \"2018-04-18T00:00:00\", \"2018-03-20T00:00:00\", \"2018-02-28T00:00:00\", \"2017-12-12T00:00:00\", \"2017-11-30T00:00:00\", \"2018-05-15T00:00:00\", \"2018-04-17T00:00:00\", \"2018-03-30T00:00:00\", \"2018-04-24T00:00:00\", \"2018-03-02T00:00:00\", \"2018-03-28T00:00:00\", \"2018-02-27T00:00:00\", \"2018-02-02T00:00:00\", \"2018-03-19T00:00:00\", \"2017-12-13T00:00:00\", \"2018-04-19T00:00:00\", \"2018-03-23T00:00:00\", \"2018-01-20T00:00:00\", \"2018-02-20T00:00:00\", \"2018-05-10T00:00:00\", \"2018-03-16T00:00:00\", \"2017-12-07T00:00:00\", \"2018-01-17T00:00:00\", \"2018-02-09T00:00:00\", \"2018-03-17T00:00:00\", \"2018-03-01T00:00:00\", \"2018-02-13T00:00:00\", \"2017-12-01T00:00:00\", \"2017-11-29T00:00:00\", \"2018-04-06T00:00:00\", \"2018-01-25T00:00:00\", \"2018-02-01T00:00:00\", \"2018-01-19T00:00:00\", \"2018-05-29T00:00:00\", \"2018-04-20T00:00:00\", \"2017-12-08T00:00:00\", \"2018-01-24T00:00:00\", \"2018-04-15T00:00:00\", \"2018-02-12T00:00:00\", \"2018-02-16T00:00:00\", \"2018-02-21T00:00:00\", \"2017-12-09T00:00:00\", \"2018-05-24T00:00:00\", \"2018-05-14T00:00:00\", \"2018-03-24T00:00:00\", \"2018-04-27T00:00:00\", \"2017-12-15T00:00:00\", \"2018-04-03T00:00:00\", \"2018-01-23T00:00:00\", \"2018-03-26T00:00:00\", \"2018-04-04T00:00:00\", \"2018-04-14T00:00:00\", \"2017-12-26T00:00:00\", \"2017-12-06T00:00:00\", \"2017-12-02T00:00:00\", \"2018-04-16T00:00:00\", \"2018-03-21T00:00:00\", \"2018-05-08T00:00:00\", \"2018-02-26T00:00:00\", \"2018-01-16T00:00:00\", \"2017-11-26T00:00:00\", \"2018-05-17T00:00:00\", \"2018-05-09T00:00:00\", \"2017-11-23T00:00:00\", \"2017-11-24T00:00:00\", \"2018-05-25T00:00:00\", \"2018-01-18T00:00:00\", \"2018-05-18T00:00:00\", \"2018-02-06T00:00:00\", \"2018-02-14T00:00:00\", \"2018-03-03T00:00:00\", \"2018-03-22T00:00:00\", \"2018-03-07T00:00:00\", \"2018-02-17T00:00:00\", \"2018-04-25T00:00:00\", \"2018-01-09T00:00:00\", \"2017-12-22T00:00:00\", \"2018-02-08T00:00:00\", \"2017-12-16T00:00:00\", \"2018-05-23T00:00:00\", \"2017-11-25T00:00:00\", \"2017-11-21T00:00:00\", \"2017-11-28T00:00:00\", \"2017-12-05T00:00:00\", \"2017-12-10T00:00:00\", \"2018-02-10T00:00:00\", \"2018-01-06T00:00:00\", \"2018-02-03T00:00:00\", \"2018-01-26T00:00:00\", \"2018-03-31T00:00:00\", \"2018-01-05T00:00:00\", \"2018-01-04T00:00:00\", \"2018-01-03T00:00:00\", \"2018-05-30T00:00:00\", \"2018-02-22T00:00:00\", \"2018-04-26T00:00:00\", \"2018-04-05T00:00:00\", \"2017-11-17T00:00:00\", \"2018-05-16T00:00:00\", \"2017-12-21T00:00:00\", \"2018-02-07T00:00:00\", \"2017-11-18T00:00:00\", \"2018-01-14T00:00:00\", \"2018-01-21T00:00:00\", \"2017-12-14T00:00:00\", \"2018-03-08T00:00:00\", \"2018-01-07T00:00:00\", \"2018-04-22T00:00:00\", \"2018-04-28T00:00:00\", \"2018-01-29T00:00:00\", \"2017-12-23T00:00:00\", \"2018-01-31T00:00:00\", \"2018-04-21T00:00:00\", \"2018-03-09T00:00:00\", \"2018-03-18T00:00:00\", \"2018-05-22T00:00:00\", \"2018-05-03T00:00:00\", \"2018-02-23T00:00:00\", \"2018-04-29T00:00:00\", \"2018-03-05T00:00:00\", \"2018-03-06T00:00:00\", \"2017-12-11T00:00:00\", \"2018-01-13T00:00:00\", \"2018-05-26T00:00:00\", \"2018-01-22T00:00:00\", \"2018-05-11T00:00:00\", \"2018-04-07T00:00:00\", \"2018-04-23T00:00:00\", \"2018-02-15T00:00:00\", \"2017-12-27T00:00:00\", \"2018-01-27T00:00:00\", \"2018-02-18T00:00:00\", \"2018-05-27T00:00:00\", \"2018-05-12T00:00:00\", \"2018-05-21T00:00:00\", \"2018-01-08T00:00:00\", \"2018-01-15T00:00:00\", \"2018-05-06T00:00:00\", \"2018-05-02T00:00:00\", \"2017-12-28T00:00:00\", \"2018-06-01T00:00:00\", \"2018-05-05T00:00:00\", \"2018-03-10T00:00:00\", \"2018-03-15T00:00:00\", \"2018-02-19T00:00:00\", \"2018-05-28T00:00:00\", \"2017-11-19T00:00:00\", \"2017-11-20T00:00:00\", \"2017-11-27T00:00:00\", \"2018-01-02T00:00:00\", \"2018-02-11T00:00:00\", \"2018-03-04T00:00:00\", \"2018-02-25T00:00:00\", \"2017-12-29T00:00:00\", \"2018-01-12T00:00:00\", \"2017-12-24T00:00:00\", \"2018-01-30T00:00:00\", \"2018-05-07T00:00:00\", \"2018-03-12T00:00:00\", \"2018-06-07T00:00:00\", \"2017-11-14T00:00:00\", \"2017-11-16T00:00:00\", \"2018-02-24T00:00:00\", \"2017-11-15T00:00:00\", \"2017-11-22T00:00:00\", \"2018-03-25T00:00:00\", \"2017-12-19T00:00:00\", \"2018-02-05T00:00:00\", \"2018-03-11T00:00:00\", \"2018-05-31T00:00:00\", \"2018-06-11T00:00:00\", \"2018-04-01T00:00:00\", \"2017-12-17T00:00:00\", \"2017-12-25T00:00:00\", \"2018-05-19T00:00:00\", \"2017-12-18T00:00:00\", \"2018-03-13T00:00:00\", \"2017-12-30T00:00:00\", \"2018-05-04T00:00:00\", \"2018-03-14T00:00:00\", \"2017-12-03T00:00:00\", \"2018-01-28T00:00:00\", \"2018-01-01T00:00:00\", \"2018-04-02T00:00:00\", \"2018-04-30T00:00:00\", \"2018-06-02T00:00:00\", \"2018-06-12T00:00:00\", \"2018-02-04T00:00:00\", \"2017-12-20T00:00:00\", \"2018-06-04T00:00:00\", \"2018-06-08T00:00:00\", \"2018-05-01T00:00:00\", \"2018-06-06T00:00:00\", \"2018-06-14T00:00:00\", \"2018-05-13T00:00:00\", \"2017-12-04T00:00:00\", \"2018-06-05T00:00:00\", \"2017-12-31T00:00:00\", \"2018-05-20T00:00:00\", \"2018-06-03T00:00:00\", \"2018-06-09T00:00:00\", \"2018-06-10T00:00:00\", \"2018-06-13T00:00:00\"], \"xaxis\": \"x\", \"y\": [268, 242, 238, 232, 230, 222, 218, 216, 216, 214, 212, 212, 210, 210, 208, 206, 206, 206, 204, 204, 202, 202, 202, 200, 200, 200, 200, 200, 200, 198, 198, 198, 196, 196, 196, 196, 196, 194, 194, 192, 192, 192, 190, 190, 190, 190, 190, 188, 188, 188, 186, 186, 186, 186, 186, 184, 184, 184, 184, 184, 182, 182, 182, 182, 182, 182, 180, 180, 178, 178, 176, 176, 176, 176, 174, 174, 174, 174, 172, 172, 172, 172, 172, 172, 172, 172, 172, 170, 170, 170, 170, 170, 170, 170, 170, 170, 168, 168, 168, 168, 168, 168, 168, 166, 166, 166, 166, 166, 166, 166, 166, 164, 164, 164, 164, 164, 164, 164, 164, 164, 162, 162, 162, 162, 162, 162, 160, 160, 160, 160, 160, 158, 158, 156, 156, 156, 154, 154, 154, 152, 152, 152, 152, 150, 150, 150, 150, 150, 150, 150, 150, 150, 148, 146, 146, 146, 146, 144, 144, 144, 144, 144, 144, 144, 142, 142, 142, 140, 140, 138, 138, 136, 136, 136, 134, 134, 132, 132, 132, 130, 130, 130, 130, 128, 128, 128, 126, 124, 124, 122, 122, 122, 122, 120, 120, 120, 118, 116, 116, 114, 112, 106, 102, 96, 78], \"yaxis\": \"y\"}, {\"hovertemplate\": \"Video category=Music<br>Date=%{x}<br>Count of videos=%{y}<extra></extra>\", \"legendgroup\": \"Music\", \"line\": {\"color\": \"#FFA15A\"}, \"mode\": \"lines\", \"name\": \"Music\", \"orientation\": \"v\", \"showlegend\": true, \"stackgroup\": \"1\", \"type\": \"scatter\", \"x\": [\"2018-04-14T00:00:00\", \"2018-06-09T00:00:00\", \"2018-06-08T00:00:00\", \"2018-06-02T00:00:00\", \"2018-04-21T00:00:00\", \"2018-05-12T00:00:00\", \"2018-06-05T00:00:00\", \"2018-06-06T00:00:00\", \"2018-05-05T00:00:00\", \"2018-05-07T00:00:00\", \"2018-02-24T00:00:00\", \"2018-05-19T00:00:00\", \"2018-05-20T00:00:00\", \"2018-04-28T00:00:00\", \"2018-06-01T00:00:00\", \"2018-04-15T00:00:00\", \"2018-06-03T00:00:00\", \"2018-06-04T00:00:00\", \"2018-06-12T00:00:00\", \"2018-06-07T00:00:00\", \"2018-05-22T00:00:00\", \"2018-06-11T00:00:00\", \"2018-05-11T00:00:00\", \"2018-05-08T00:00:00\", \"2018-05-04T00:00:00\", \"2018-03-03T00:00:00\", \"2018-02-17T00:00:00\", \"2018-05-06T00:00:00\", \"2018-06-10T00:00:00\", \"2018-03-31T00:00:00\", \"2018-04-22T00:00:00\", \"2018-06-14T00:00:00\", \"2018-05-23T00:00:00\", \"2018-04-07T00:00:00\", \"2018-05-13T00:00:00\", \"2018-04-26T00:00:00\", \"2018-05-26T00:00:00\", \"2018-02-23T00:00:00\", \"2018-05-02T00:00:00\", \"2018-05-25T00:00:00\", \"2018-06-13T00:00:00\", \"2018-02-10T00:00:00\", \"2018-05-31T00:00:00\", \"2018-02-15T00:00:00\", \"2018-03-18T00:00:00\", \"2018-05-10T00:00:00\", \"2018-04-27T00:00:00\", \"2018-05-24T00:00:00\", \"2018-02-16T00:00:00\", \"2018-04-29T00:00:00\", \"2018-05-18T00:00:00\", \"2018-05-01T00:00:00\", \"2018-05-03T00:00:00\", \"2018-05-21T00:00:00\", \"2018-03-22T00:00:00\", \"2018-02-19T00:00:00\", \"2018-04-30T00:00:00\", \"2018-04-25T00:00:00\", \"2018-03-20T00:00:00\", \"2018-04-02T00:00:00\", \"2018-04-01T00:00:00\", \"2018-03-10T00:00:00\", \"2018-05-09T00:00:00\", \"2018-03-02T00:00:00\", \"2018-05-29T00:00:00\", \"2018-05-15T00:00:00\", \"2018-03-23T00:00:00\", \"2018-05-30T00:00:00\", \"2018-04-23T00:00:00\", \"2018-03-24T00:00:00\", \"2018-01-26T00:00:00\", \"2017-12-23T00:00:00\", \"2018-04-20T00:00:00\", \"2018-04-24T00:00:00\", \"2018-04-17T00:00:00\", \"2018-03-17T00:00:00\", \"2018-02-18T00:00:00\", \"2018-04-19T00:00:00\", \"2018-05-14T00:00:00\", \"2017-12-16T00:00:00\", \"2018-03-19T00:00:00\", \"2018-02-22T00:00:00\", \"2018-01-27T00:00:00\", \"2017-11-25T00:00:00\", \"2018-04-18T00:00:00\", \"2018-04-03T00:00:00\", \"2018-02-14T00:00:00\", \"2018-03-16T00:00:00\", \"2018-03-27T00:00:00\", \"2017-12-21T00:00:00\", \"2017-12-02T00:00:00\", \"2018-05-27T00:00:00\", \"2018-04-06T00:00:00\", \"2018-05-16T00:00:00\", \"2018-05-17T00:00:00\", \"2018-01-13T00:00:00\", \"2018-01-20T00:00:00\", \"2018-02-20T00:00:00\", \"2018-03-01T00:00:00\", \"2017-12-17T00:00:00\", \"2017-12-22T00:00:00\", \"2017-12-24T00:00:00\", \"2018-04-16T00:00:00\", \"2017-11-20T00:00:00\", \"2018-05-28T00:00:00\", \"2018-03-04T00:00:00\", \"2018-01-30T00:00:00\", \"2018-02-25T00:00:00\", \"2018-03-11T00:00:00\", \"2018-03-21T00:00:00\", \"2017-12-26T00:00:00\", \"2017-12-27T00:00:00\", \"2018-03-14T00:00:00\", \"2018-03-13T00:00:00\", \"2018-03-12T00:00:00\", \"2017-12-03T00:00:00\", \"2017-11-21T00:00:00\", \"2017-12-19T00:00:00\", \"2017-12-31T00:00:00\", \"2018-01-03T00:00:00\", \"2018-01-01T00:00:00\", \"2018-01-02T00:00:00\", \"2018-01-16T00:00:00\", \"2018-03-26T00:00:00\", \"2017-12-25T00:00:00\", \"2018-03-30T00:00:00\", \"2018-03-09T00:00:00\", \"2018-02-13T00:00:00\", \"2017-11-18T00:00:00\", \"2018-03-25T00:00:00\", \"2018-04-04T00:00:00\", \"2018-04-05T00:00:00\", \"2018-02-28T00:00:00\", \"2018-01-21T00:00:00\", \"2017-12-20T00:00:00\", \"2017-12-14T00:00:00\", \"2017-12-15T00:00:00\", \"2018-01-25T00:00:00\", \"2018-02-03T00:00:00\", \"2018-02-09T00:00:00\", \"2017-11-22T00:00:00\", \"2018-01-29T00:00:00\", \"2018-02-21T00:00:00\", \"2018-01-28T00:00:00\", \"2018-01-31T00:00:00\", \"2017-11-14T00:00:00\", \"2018-03-29T00:00:00\", \"2017-12-18T00:00:00\", \"2017-11-15T00:00:00\", \"2017-11-19T00:00:00\", \"2018-03-05T00:00:00\", \"2018-03-08T00:00:00\", \"2018-01-22T00:00:00\", \"2017-12-05T00:00:00\", \"2018-01-12T00:00:00\", \"2018-01-15T00:00:00\", \"2018-02-27T00:00:00\", \"2018-01-14T00:00:00\", \"2018-02-04T00:00:00\", \"2017-11-24T00:00:00\", \"2018-03-28T00:00:00\", \"2018-03-07T00:00:00\", \"2017-12-30T00:00:00\", \"2017-11-16T00:00:00\", \"2018-01-17T00:00:00\", \"2017-12-28T00:00:00\", \"2018-02-05T00:00:00\", \"2018-01-07T00:00:00\", \"2018-01-04T00:00:00\", \"2017-12-29T00:00:00\", \"2018-02-08T00:00:00\", \"2018-01-19T00:00:00\", \"2018-01-06T00:00:00\", \"2018-01-05T00:00:00\", \"2018-03-06T00:00:00\", \"2018-02-07T00:00:00\", \"2017-12-06T00:00:00\", \"2017-12-01T00:00:00\", \"2018-01-24T00:00:00\", \"2018-01-08T00:00:00\", \"2017-11-23T00:00:00\", \"2018-02-02T00:00:00\", \"2018-02-12T00:00:00\", \"2017-12-04T00:00:00\", \"2018-01-23T00:00:00\", \"2018-02-01T00:00:00\", \"2017-11-30T00:00:00\", \"2017-11-26T00:00:00\", \"2018-01-18T00:00:00\", \"2017-11-17T00:00:00\", \"2018-02-06T00:00:00\", \"2018-02-11T00:00:00\", \"2018-02-26T00:00:00\", \"2017-12-07T00:00:00\", \"2017-12-09T00:00:00\", \"2018-03-15T00:00:00\", \"2017-12-13T00:00:00\", \"2017-12-11T00:00:00\", \"2017-11-27T00:00:00\", \"2017-12-10T00:00:00\", \"2017-12-12T00:00:00\", \"2018-01-09T00:00:00\", \"2017-11-29T00:00:00\", \"2017-11-28T00:00:00\", \"2017-12-08T00:00:00\"], \"xaxis\": \"x\", \"y\": [242, 240, 238, 238, 238, 236, 236, 234, 230, 224, 222, 218, 216, 216, 216, 216, 214, 214, 214, 214, 212, 212, 212, 212, 208, 208, 208, 208, 208, 208, 206, 206, 204, 202, 202, 202, 202, 202, 200, 200, 200, 200, 198, 198, 198, 198, 196, 196, 194, 194, 192, 192, 192, 192, 190, 190, 188, 188, 188, 188, 188, 188, 188, 188, 186, 184, 184, 184, 184, 184, 182, 182, 182, 180, 180, 180, 180, 178, 178, 178, 178, 176, 176, 176, 176, 174, 172, 172, 172, 170, 170, 170, 168, 168, 168, 168, 168, 168, 166, 166, 166, 166, 164, 164, 164, 160, 160, 160, 160, 160, 160, 160, 160, 160, 158, 158, 158, 158, 158, 156, 156, 156, 156, 156, 156, 156, 156, 154, 154, 154, 154, 152, 152, 152, 152, 150, 150, 150, 150, 150, 150, 150, 150, 150, 148, 148, 146, 146, 146, 146, 146, 146, 144, 144, 144, 142, 142, 142, 142, 140, 140, 140, 140, 140, 138, 136, 136, 136, 134, 134, 134, 134, 134, 132, 132, 132, 132, 130, 130, 128, 128, 128, 128, 126, 124, 124, 124, 122, 122, 120, 120, 120, 120, 118, 116, 116, 112, 112, 110, 110, 108, 104, 104, 102, 102], \"yaxis\": \"y\"}, {\"hovertemplate\": \"Video category=Comedy<br>Date=%{x}<br>Count of videos=%{y}<extra></extra>\", \"legendgroup\": \"Comedy\", \"line\": {\"color\": \"#19d3f3\"}, \"mode\": \"lines\", \"name\": \"Comedy\", \"orientation\": \"v\", \"showlegend\": true, \"stackgroup\": \"1\", \"type\": \"scatter\", \"x\": [\"2018-05-27T00:00:00\", \"2018-05-28T00:00:00\", \"2018-06-13T00:00:00\", \"2018-06-02T00:00:00\", \"2018-05-21T00:00:00\", \"2018-04-07T00:00:00\", \"2018-05-07T00:00:00\", \"2017-12-24T00:00:00\", \"2018-05-22T00:00:00\", \"2018-05-26T00:00:00\", \"2018-05-31T00:00:00\", \"2017-12-09T00:00:00\", \"2018-04-15T00:00:00\", \"2018-04-05T00:00:00\", \"2018-05-08T00:00:00\", \"2017-11-26T00:00:00\", \"2017-12-22T00:00:00\", \"2017-12-16T00:00:00\", \"2018-06-14T00:00:00\", \"2018-04-27T00:00:00\", \"2018-04-28T00:00:00\", \"2018-03-31T00:00:00\", \"2018-01-01T00:00:00\", \"2017-11-25T00:00:00\", \"2018-06-01T00:00:00\", \"2018-03-30T00:00:00\", \"2018-04-16T00:00:00\", \"2017-12-23T00:00:00\", \"2017-12-15T00:00:00\", \"2018-02-08T00:00:00\", \"2018-06-11T00:00:00\", \"2018-04-25T00:00:00\", \"2018-04-26T00:00:00\", \"2018-04-04T00:00:00\", \"2018-05-25T00:00:00\", \"2017-11-17T00:00:00\", \"2018-06-09T00:00:00\", \"2017-11-18T00:00:00\", \"2018-04-22T00:00:00\", \"2017-12-18T00:00:00\", \"2018-05-23T00:00:00\", \"2017-12-25T00:00:00\", \"2017-12-31T00:00:00\", \"2018-06-04T00:00:00\", \"2018-05-29T00:00:00\", \"2017-12-10T00:00:00\", \"2017-12-11T00:00:00\", \"2018-05-30T00:00:00\", \"2018-01-02T00:00:00\", \"2017-12-01T00:00:00\", \"2017-12-02T00:00:00\", \"2018-05-20T00:00:00\", \"2018-01-12T00:00:00\", \"2017-12-21T00:00:00\", \"2018-04-17T00:00:00\", \"2018-01-21T00:00:00\", \"2017-12-17T00:00:00\", \"2018-02-24T00:00:00\", \"2018-02-07T00:00:00\", \"2017-11-29T00:00:00\", \"2018-04-06T00:00:00\", \"2018-04-24T00:00:00\", \"2018-02-09T00:00:00\", \"2018-06-07T00:00:00\", \"2017-11-28T00:00:00\", \"2018-05-06T00:00:00\", \"2018-06-08T00:00:00\", \"2018-03-17T00:00:00\", \"2018-03-26T00:00:00\", \"2018-06-12T00:00:00\", \"2018-06-05T00:00:00\", \"2017-11-30T00:00:00\", \"2018-02-11T00:00:00\", \"2018-03-12T00:00:00\", \"2017-12-14T00:00:00\", \"2018-03-03T00:00:00\", \"2017-11-27T00:00:00\", \"2018-03-22T00:00:00\", \"2018-04-23T00:00:00\", \"2018-06-03T00:00:00\", \"2018-04-29T00:00:00\", \"2018-01-07T00:00:00\", \"2017-11-16T00:00:00\", \"2018-03-27T00:00:00\", \"2018-01-13T00:00:00\", \"2017-12-12T00:00:00\", \"2017-12-08T00:00:00\", \"2017-11-15T00:00:00\", \"2018-06-10T00:00:00\", \"2017-11-19T00:00:00\", \"2017-11-23T00:00:00\", \"2017-11-20T00:00:00\", \"2018-05-12T00:00:00\", \"2017-12-03T00:00:00\", \"2017-12-20T00:00:00\", \"2018-03-28T00:00:00\", \"2018-03-29T00:00:00\", \"2018-04-02T00:00:00\", \"2018-04-03T00:00:00\", \"2018-04-20T00:00:00\", \"2018-01-18T00:00:00\", \"2018-05-24T00:00:00\", \"2017-12-13T00:00:00\", \"2018-02-25T00:00:00\", \"2018-03-08T00:00:00\", \"2018-02-12T00:00:00\", \"2018-01-26T00:00:00\", \"2018-03-02T00:00:00\", \"2018-03-23T00:00:00\", \"2018-05-05T00:00:00\", \"2018-02-10T00:00:00\", \"2018-04-14T00:00:00\", \"2018-05-19T00:00:00\", \"2018-03-04T00:00:00\", \"2018-04-21T00:00:00\", \"2018-03-09T00:00:00\", \"2018-04-19T00:00:00\", \"2018-05-09T00:00:00\", \"2018-04-18T00:00:00\", \"2018-05-02T00:00:00\", \"2017-11-24T00:00:00\", \"2018-01-20T00:00:00\", \"2017-12-19T00:00:00\", \"2018-04-01T00:00:00\", \"2018-02-03T00:00:00\", \"2018-01-27T00:00:00\", \"2017-12-30T00:00:00\", \"2018-05-03T00:00:00\", \"2017-12-04T00:00:00\", \"2018-01-09T00:00:00\", \"2018-03-10T00:00:00\", \"2018-06-06T00:00:00\", \"2018-03-06T00:00:00\", \"2018-01-14T00:00:00\", \"2017-12-28T00:00:00\", \"2018-05-18T00:00:00\", \"2018-05-13T00:00:00\", \"2017-11-22T00:00:00\", \"2018-02-14T00:00:00\", \"2018-02-23T00:00:00\", \"2018-03-13T00:00:00\", \"2018-05-10T00:00:00\", \"2018-01-15T00:00:00\", \"2018-04-30T00:00:00\", \"2018-02-26T00:00:00\", \"2017-12-29T00:00:00\", \"2018-03-14T00:00:00\", \"2018-02-27T00:00:00\", \"2018-02-22T00:00:00\", \"2017-12-05T00:00:00\", \"2018-01-08T00:00:00\", \"2018-02-17T00:00:00\", \"2018-01-04T00:00:00\", \"2018-05-04T00:00:00\", \"2017-12-07T00:00:00\", \"2018-03-24T00:00:00\", \"2017-12-26T00:00:00\", \"2018-01-28T00:00:00\", \"2018-05-01T00:00:00\", \"2018-01-29T00:00:00\", \"2018-02-28T00:00:00\", \"2018-05-11T00:00:00\", \"2018-03-01T00:00:00\", \"2018-02-18T00:00:00\", \"2018-02-19T00:00:00\", \"2018-02-06T00:00:00\", \"2017-12-06T00:00:00\", \"2018-05-16T00:00:00\", \"2018-05-15T00:00:00\", \"2018-03-20T00:00:00\", \"2018-01-03T00:00:00\", \"2018-02-13T00:00:00\", \"2018-02-16T00:00:00\", \"2018-03-25T00:00:00\", \"2018-03-11T00:00:00\", \"2018-03-07T00:00:00\", \"2018-01-17T00:00:00\", \"2018-01-22T00:00:00\", \"2018-01-25T00:00:00\", \"2018-01-19T00:00:00\", \"2017-12-27T00:00:00\", \"2018-03-21T00:00:00\", \"2018-01-05T00:00:00\", \"2018-01-31T00:00:00\", \"2017-11-14T00:00:00\", \"2018-05-17T00:00:00\", \"2018-03-05T00:00:00\", \"2018-01-06T00:00:00\", \"2017-11-21T00:00:00\", \"2018-02-05T00:00:00\", \"2018-01-16T00:00:00\", \"2018-01-24T00:00:00\", \"2018-03-19T00:00:00\", \"2018-02-15T00:00:00\", \"2018-02-04T00:00:00\", \"2018-03-16T00:00:00\", \"2018-05-14T00:00:00\", \"2018-03-18T00:00:00\", \"2018-02-02T00:00:00\", \"2018-02-20T00:00:00\", \"2018-03-15T00:00:00\", \"2018-01-23T00:00:00\", \"2018-02-21T00:00:00\", \"2018-02-01T00:00:00\", \"2018-01-30T00:00:00\"], \"xaxis\": \"x\", \"y\": [188, 188, 186, 182, 180, 178, 176, 176, 176, 176, 176, 176, 176, 176, 174, 174, 174, 174, 172, 172, 172, 170, 170, 168, 168, 168, 168, 168, 168, 168, 168, 166, 166, 166, 166, 166, 164, 164, 164, 164, 164, 164, 164, 162, 162, 160, 160, 160, 160, 158, 158, 158, 158, 158, 156, 156, 156, 156, 156, 156, 154, 154, 154, 154, 154, 154, 154, 152, 152, 152, 152, 152, 152, 150, 150, 150, 150, 150, 150, 150, 148, 148, 148, 148, 148, 148, 146, 146, 146, 146, 144, 144, 144, 144, 144, 144, 144, 144, 144, 144, 142, 142, 142, 142, 140, 140, 140, 140, 140, 140, 140, 138, 138, 138, 138, 138, 138, 138, 138, 138, 138, 136, 136, 136, 136, 136, 136, 136, 136, 136, 134, 134, 134, 134, 134, 134, 134, 134, 134, 134, 132, 132, 132, 132, 132, 130, 130, 130, 130, 130, 130, 130, 130, 130, 128, 128, 128, 128, 128, 128, 128, 128, 126, 126, 126, 126, 126, 126, 126, 126, 126, 124, 124, 124, 124, 124, 124, 124, 122, 122, 122, 120, 120, 120, 118, 118, 118, 118, 118, 116, 116, 116, 116, 114, 114, 114, 112, 112, 110, 110, 110, 110, 108, 102, 100], \"yaxis\": \"y\"}, {\"hovertemplate\": \"Video category=Sports<br>Date=%{x}<br>Count of videos=%{y}<extra></extra>\", \"legendgroup\": \"Sports\", \"line\": {\"color\": \"#FF6692\"}, \"mode\": \"lines\", \"name\": \"Sports\", \"orientation\": \"v\", \"showlegend\": true, \"stackgroup\": \"1\", \"type\": \"scatter\", \"x\": [\"2018-03-19T00:00:00\", \"2018-04-01T00:00:00\", \"2018-05-28T00:00:00\", \"2018-02-25T00:00:00\", \"2018-04-05T00:00:00\", \"2018-06-01T00:00:00\", \"2018-05-14T00:00:00\", \"2018-02-26T00:00:00\", \"2018-05-07T00:00:00\", \"2018-04-06T00:00:00\", \"2018-04-04T00:00:00\", \"2018-04-07T00:00:00\", \"2018-05-08T00:00:00\", \"2018-05-29T00:00:00\", \"2018-05-27T00:00:00\", \"2018-05-04T00:00:00\", \"2018-06-02T00:00:00\", \"2018-05-06T00:00:00\", \"2018-04-02T00:00:00\", \"2018-05-03T00:00:00\", \"2018-05-31T00:00:00\", \"2018-03-04T00:00:00\", \"2018-02-15T00:00:00\", \"2018-06-08T00:00:00\", \"2018-02-27T00:00:00\", \"2018-02-21T00:00:00\", \"2018-04-23T00:00:00\", \"2018-02-11T00:00:00\", \"2018-06-04T00:00:00\", \"2018-01-23T00:00:00\", \"2018-05-02T00:00:00\", \"2018-03-25T00:00:00\", \"2018-04-26T00:00:00\", \"2018-03-12T00:00:00\", \"2018-06-03T00:00:00\", \"2018-05-30T00:00:00\", \"2018-02-18T00:00:00\", \"2018-04-16T00:00:00\", \"2018-03-24T00:00:00\", \"2018-02-20T00:00:00\", \"2018-03-05T00:00:00\", \"2018-01-22T00:00:00\", \"2018-02-19T00:00:00\", \"2018-02-09T00:00:00\", \"2018-05-21T00:00:00\", \"2018-04-15T00:00:00\", \"2018-04-22T00:00:00\", \"2018-03-28T00:00:00\", \"2018-03-08T00:00:00\", \"2018-02-04T00:00:00\", \"2018-01-15T00:00:00\", \"2018-04-03T00:00:00\", \"2018-01-29T00:00:00\", \"2018-03-20T00:00:00\", \"2018-05-25T00:00:00\", \"2018-05-05T00:00:00\", \"2018-02-16T00:00:00\", \"2018-05-13T00:00:00\", \"2018-04-29T00:00:00\", \"2018-02-22T00:00:00\", \"2018-03-11T00:00:00\", \"2018-03-01T00:00:00\", \"2018-04-30T00:00:00\", \"2018-04-27T00:00:00\", \"2018-05-09T00:00:00\", \"2018-04-19T00:00:00\", \"2018-01-16T00:00:00\", \"2018-02-23T00:00:00\", \"2018-06-11T00:00:00\", \"2018-02-24T00:00:00\", \"2018-03-21T00:00:00\", \"2018-06-05T00:00:00\", \"2018-06-13T00:00:00\", \"2018-04-25T00:00:00\", \"2018-06-09T00:00:00\", \"2018-02-14T00:00:00\", \"2018-02-13T00:00:00\", \"2018-02-12T00:00:00\", \"2018-02-05T00:00:00\", \"2018-01-25T00:00:00\", \"2018-04-28T00:00:00\", \"2018-03-29T00:00:00\", \"2018-03-02T00:00:00\", \"2018-04-21T00:00:00\", \"2018-06-14T00:00:00\", \"2018-03-22T00:00:00\", \"2018-05-10T00:00:00\", \"2018-05-15T00:00:00\", \"2018-01-30T00:00:00\", \"2018-06-10T00:00:00\", \"2018-01-28T00:00:00\", \"2018-01-08T00:00:00\", \"2018-01-02T00:00:00\", \"2018-05-24T00:00:00\", \"2018-03-30T00:00:00\", \"2018-03-18T00:00:00\", \"2018-03-06T00:00:00\", \"2018-02-07T00:00:00\", \"2018-01-24T00:00:00\", \"2017-12-06T00:00:00\", \"2018-04-24T00:00:00\", \"2018-03-31T00:00:00\", \"2017-12-04T00:00:00\", \"2018-05-17T00:00:00\", \"2018-05-01T00:00:00\", \"2017-12-25T00:00:00\", \"2017-11-28T00:00:00\", \"2018-01-09T00:00:00\", \"2017-11-19T00:00:00\", \"2017-11-15T00:00:00\", \"2017-11-16T00:00:00\", \"2018-05-23T00:00:00\", \"2018-03-16T00:00:00\", \"2018-01-19T00:00:00\", \"2018-01-31T00:00:00\", \"2017-11-17T00:00:00\", \"2018-02-10T00:00:00\", \"2018-03-09T00:00:00\", \"2018-05-11T00:00:00\", \"2018-01-21T00:00:00\", \"2017-12-27T00:00:00\", \"2017-11-27T00:00:00\", \"2018-02-28T00:00:00\", \"2018-06-12T00:00:00\", \"2018-06-07T00:00:00\", \"2018-03-26T00:00:00\", \"2017-12-24T00:00:00\", \"2018-01-05T00:00:00\", \"2017-12-07T00:00:00\", \"2018-05-18T00:00:00\", \"2018-05-16T00:00:00\", \"2018-05-12T00:00:00\", \"2018-02-08T00:00:00\", \"2018-03-10T00:00:00\", \"2018-01-26T00:00:00\", \"2017-12-10T00:00:00\", \"2018-05-26T00:00:00\", \"2018-03-07T00:00:00\", \"2018-05-19T00:00:00\", \"2018-03-23T00:00:00\", \"2018-01-12T00:00:00\", \"2018-02-17T00:00:00\", \"2017-12-11T00:00:00\", \"2018-04-14T00:00:00\", \"2018-03-03T00:00:00\", \"2018-01-06T00:00:00\", \"2018-02-01T00:00:00\", \"2017-11-14T00:00:00\", \"2018-01-04T00:00:00\", \"2018-05-22T00:00:00\", \"2018-04-17T00:00:00\", \"2018-02-02T00:00:00\", \"2017-12-31T00:00:00\", \"2017-12-05T00:00:00\", \"2018-01-17T00:00:00\", \"2018-03-14T00:00:00\", \"2018-01-27T00:00:00\", \"2017-12-29T00:00:00\", \"2018-02-06T00:00:00\", \"2017-12-08T00:00:00\", \"2018-06-06T00:00:00\", \"2018-01-18T00:00:00\", \"2018-03-15T00:00:00\", \"2018-03-13T00:00:00\", \"2018-04-18T00:00:00\", \"2017-11-22T00:00:00\", \"2017-12-28T00:00:00\", \"2017-11-20T00:00:00\", \"2017-12-12T00:00:00\", \"2017-12-18T00:00:00\", \"2017-11-21T00:00:00\", \"2018-04-20T00:00:00\", \"2017-11-30T00:00:00\", \"2018-01-03T00:00:00\", \"2017-12-23T00:00:00\", \"2018-01-01T00:00:00\", \"2018-01-14T00:00:00\", \"2018-03-27T00:00:00\", \"2017-12-26T00:00:00\", \"2018-03-17T00:00:00\", \"2017-11-29T00:00:00\", \"2017-12-03T00:00:00\", \"2017-11-23T00:00:00\", \"2018-01-13T00:00:00\", \"2017-12-01T00:00:00\", \"2017-12-09T00:00:00\", \"2018-01-20T00:00:00\", \"2017-12-02T00:00:00\", \"2017-11-26T00:00:00\", \"2017-12-14T00:00:00\", \"2017-12-17T00:00:00\", \"2017-11-18T00:00:00\", \"2017-11-24T00:00:00\", \"2018-01-07T00:00:00\", \"2017-12-22T00:00:00\", \"2017-12-30T00:00:00\", \"2017-12-19T00:00:00\", \"2018-02-03T00:00:00\", \"2017-12-13T00:00:00\", \"2017-12-21T00:00:00\", \"2018-05-20T00:00:00\", \"2017-12-16T00:00:00\", \"2017-12-15T00:00:00\", \"2017-12-20T00:00:00\", \"2017-11-25T00:00:00\"], \"xaxis\": \"x\", \"y\": [174, 172, 170, 170, 168, 166, 164, 160, 160, 158, 158, 152, 150, 148, 146, 144, 144, 142, 140, 140, 138, 138, 138, 138, 138, 138, 136, 136, 134, 134, 132, 132, 130, 130, 130, 130, 128, 128, 126, 126, 124, 124, 124, 122, 120, 120, 120, 120, 120, 120, 120, 120, 118, 118, 116, 116, 114, 114, 114, 114, 114, 114, 112, 112, 112, 112, 112, 112, 112, 110, 110, 110, 108, 108, 108, 106, 106, 106, 106, 106, 106, 106, 106, 106, 104, 104, 104, 104, 104, 104, 104, 104, 104, 102, 102, 102, 102, 102, 102, 102, 100, 100, 100, 98, 98, 98, 98, 96, 96, 96, 96, 96, 96, 96, 96, 94, 94, 94, 94, 94, 92, 92, 92, 92, 92, 92, 92, 90, 90, 90, 90, 90, 88, 88, 88, 88, 88, 88, 88, 86, 86, 86, 86, 86, 86, 86, 86, 86, 86, 82, 82, 82, 82, 82, 82, 80, 80, 80, 80, 80, 80, 80, 78, 78, 78, 78, 78, 78, 78, 78, 76, 76, 76, 76, 76, 76, 76, 76, 76, 76, 74, 72, 72, 72, 70, 70, 68, 68, 68, 66, 66, 66, 66, 66, 66, 64, 64, 60, 60, 58, 58, 56, 50, 48, 48], \"yaxis\": \"y\"}, {\"hovertemplate\": \"Video category=Film & Animation<br>Date=%{x}<br>Count of videos=%{y}<extra></extra>\", \"legendgroup\": \"Film & Animation\", \"line\": {\"color\": \"#B6E880\"}, \"mode\": \"lines\", \"name\": \"Film & Animation\", \"orientation\": \"v\", \"showlegend\": true, \"stackgroup\": \"1\", \"type\": \"scatter\", \"x\": [\"2018-06-08T00:00:00\", \"2018-04-22T00:00:00\", \"2018-06-09T00:00:00\", \"2018-05-16T00:00:00\", \"2018-05-17T00:00:00\", \"2018-05-12T00:00:00\", \"2018-05-13T00:00:00\", \"2018-06-14T00:00:00\", \"2018-06-13T00:00:00\", \"2018-04-28T00:00:00\", \"2018-04-21T00:00:00\", \"2018-03-17T00:00:00\", \"2018-03-16T00:00:00\", \"2018-03-06T00:00:00\", \"2018-06-06T00:00:00\", \"2018-03-05T00:00:00\", \"2018-06-07T00:00:00\", \"2018-04-14T00:00:00\", \"2018-05-04T00:00:00\", \"2018-05-18T00:00:00\", \"2018-03-04T00:00:00\", \"2018-02-11T00:00:00\", \"2018-05-21T00:00:00\", \"2018-04-27T00:00:00\", \"2018-04-18T00:00:00\", \"2017-12-25T00:00:00\", \"2018-03-25T00:00:00\", \"2017-12-26T00:00:00\", \"2018-05-09T00:00:00\", \"2018-05-15T00:00:00\", \"2018-05-19T00:00:00\", \"2017-12-30T00:00:00\", \"2018-05-03T00:00:00\", \"2018-05-05T00:00:00\", \"2018-02-10T00:00:00\", \"2018-05-30T00:00:00\", \"2018-04-17T00:00:00\", \"2017-11-26T00:00:00\", \"2018-03-12T00:00:00\", \"2018-03-21T00:00:00\", \"2018-02-12T00:00:00\", \"2018-02-07T00:00:00\", \"2018-03-20T00:00:00\", \"2018-06-02T00:00:00\", \"2018-02-15T00:00:00\", \"2018-03-07T00:00:00\", \"2018-01-14T00:00:00\", \"2018-06-12T00:00:00\", \"2018-01-28T00:00:00\", \"2018-05-25T00:00:00\", \"2017-12-31T00:00:00\", \"2018-04-20T00:00:00\", \"2018-03-09T00:00:00\", \"2018-04-19T00:00:00\", \"2018-05-11T00:00:00\", \"2018-02-09T00:00:00\", \"2018-03-27T00:00:00\", \"2018-05-01T00:00:00\", \"2018-03-19T00:00:00\", \"2018-05-26T00:00:00\", \"2017-11-21T00:00:00\", \"2017-12-21T00:00:00\", \"2018-04-24T00:00:00\", \"2018-04-15T00:00:00\", \"2017-11-27T00:00:00\", \"2018-05-20T00:00:00\", \"2017-12-03T00:00:00\", \"2018-06-04T00:00:00\", \"2018-06-03T00:00:00\", \"2017-12-29T00:00:00\", \"2018-04-23T00:00:00\", \"2018-03-18T00:00:00\", \"2018-03-10T00:00:00\", \"2018-03-02T00:00:00\", \"2018-03-01T00:00:00\", \"2018-02-23T00:00:00\", \"2018-02-22T00:00:00\", \"2018-02-14T00:00:00\", \"2018-04-16T00:00:00\", \"2018-03-08T00:00:00\", \"2018-06-05T00:00:00\", \"2018-06-01T00:00:00\", \"2018-03-26T00:00:00\", \"2017-12-24T00:00:00\", \"2017-12-11T00:00:00\", \"2018-04-01T00:00:00\", \"2018-01-22T00:00:00\", \"2018-05-28T00:00:00\", \"2017-11-22T00:00:00\", \"2018-05-24T00:00:00\", \"2018-02-13T00:00:00\", \"2018-06-10T00:00:00\", \"2017-12-04T00:00:00\", \"2017-11-20T00:00:00\", \"2018-03-31T00:00:00\", \"2018-02-25T00:00:00\", \"2018-03-11T00:00:00\", \"2018-05-31T00:00:00\", \"2018-01-01T00:00:00\", \"2017-12-28T00:00:00\", \"2017-12-12T00:00:00\", \"2017-12-13T00:00:00\", \"2018-05-06T00:00:00\", \"2018-01-17T00:00:00\", \"2018-05-10T00:00:00\", \"2018-05-08T00:00:00\", \"2018-03-03T00:00:00\", \"2018-02-02T00:00:00\", \"2017-12-20T00:00:00\", \"2018-02-16T00:00:00\", \"2017-11-25T00:00:00\", \"2018-02-06T00:00:00\", \"2017-12-27T00:00:00\", \"2018-05-14T00:00:00\", \"2017-12-02T00:00:00\", \"2018-04-29T00:00:00\", \"2017-12-14T00:00:00\", \"2018-03-23T00:00:00\", \"2018-03-15T00:00:00\", \"2017-11-23T00:00:00\", \"2017-12-10T00:00:00\", \"2017-11-30T00:00:00\", \"2018-04-30T00:00:00\", \"2018-01-16T00:00:00\", \"2018-04-06T00:00:00\", \"2018-02-24T00:00:00\", \"2018-02-28T00:00:00\", \"2018-06-11T00:00:00\", \"2018-01-15T00:00:00\", \"2018-02-26T00:00:00\", \"2018-05-02T00:00:00\", \"2017-11-24T00:00:00\", \"2018-02-21T00:00:00\", \"2017-11-19T00:00:00\", \"2018-04-03T00:00:00\", \"2018-01-23T00:00:00\", \"2018-01-03T00:00:00\", \"2018-01-21T00:00:00\", \"2018-01-02T00:00:00\", \"2018-04-02T00:00:00\", \"2017-12-15T00:00:00\", \"2017-12-22T00:00:00\", \"2018-02-17T00:00:00\", \"2018-01-07T00:00:00\", \"2018-05-23T00:00:00\", \"2017-12-05T00:00:00\", \"2017-12-01T00:00:00\", \"2018-04-25T00:00:00\", \"2017-12-09T00:00:00\", \"2018-05-07T00:00:00\", \"2017-11-16T00:00:00\", \"2018-01-08T00:00:00\", \"2018-01-24T00:00:00\", \"2017-12-23T00:00:00\", \"2018-02-18T00:00:00\", \"2018-04-26T00:00:00\", \"2017-12-18T00:00:00\", \"2018-05-27T00:00:00\", \"2018-01-09T00:00:00\", \"2018-01-13T00:00:00\", \"2017-11-28T00:00:00\", \"2017-11-29T00:00:00\", \"2018-02-27T00:00:00\", \"2018-05-29T00:00:00\", \"2018-01-25T00:00:00\", \"2018-01-31T00:00:00\", \"2017-12-19T00:00:00\", \"2017-11-17T00:00:00\", \"2018-02-20T00:00:00\", \"2017-11-18T00:00:00\", \"2018-02-19T00:00:00\", \"2018-02-03T00:00:00\", \"2018-01-20T00:00:00\", \"2018-04-04T00:00:00\", \"2018-02-08T00:00:00\", \"2017-12-16T00:00:00\", \"2017-12-17T00:00:00\", \"2018-01-30T00:00:00\", \"2018-01-04T00:00:00\", \"2018-03-14T00:00:00\", \"2017-11-14T00:00:00\", \"2018-01-18T00:00:00\", \"2018-04-07T00:00:00\", \"2018-05-22T00:00:00\", \"2018-03-13T00:00:00\", \"2017-12-08T00:00:00\", \"2018-03-30T00:00:00\", \"2018-01-19T00:00:00\", \"2018-03-24T00:00:00\", \"2018-01-12T00:00:00\", \"2017-12-06T00:00:00\", \"2017-11-15T00:00:00\", \"2018-01-27T00:00:00\", \"2018-04-05T00:00:00\", \"2018-02-05T00:00:00\", \"2018-02-01T00:00:00\", \"2018-01-26T00:00:00\", \"2018-01-29T00:00:00\", \"2018-01-05T00:00:00\", \"2018-03-22T00:00:00\", \"2017-12-07T00:00:00\", \"2018-02-04T00:00:00\", \"2018-03-29T00:00:00\", \"2018-03-28T00:00:00\", \"2018-01-06T00:00:00\"], \"xaxis\": \"x\", \"y\": [150, 146, 142, 136, 136, 134, 134, 134, 130, 122, 122, 122, 122, 122, 120, 120, 118, 118, 118, 118, 118, 118, 118, 116, 116, 114, 114, 114, 114, 114, 114, 112, 112, 112, 110, 110, 110, 110, 108, 108, 108, 108, 108, 106, 106, 106, 106, 106, 106, 106, 106, 106, 106, 104, 104, 104, 104, 104, 104, 104, 104, 104, 102, 102, 102, 102, 102, 102, 102, 100, 100, 100, 100, 100, 100, 100, 100, 100, 100, 100, 100, 100, 98, 98, 98, 98, 98, 98, 98, 98, 98, 98, 98, 96, 96, 96, 96, 96, 96, 96, 96, 96, 94, 94, 94, 94, 94, 94, 94, 94, 94, 92, 92, 92, 92, 92, 92, 92, 92, 92, 90, 90, 90, 90, 90, 90, 90, 90, 90, 88, 88, 88, 88, 88, 88, 88, 88, 88, 86, 86, 86, 86, 86, 86, 84, 84, 84, 84, 84, 84, 84, 84, 84, 84, 84, 82, 82, 82, 82, 82, 82, 82, 82, 82, 80, 80, 80, 80, 80, 78, 78, 78, 78, 78, 78, 78, 78, 76, 76, 76, 76, 76, 76, 76, 76, 76, 76, 74, 74, 74, 72, 72, 70, 68, 68, 68, 68, 68, 68, 66, 66, 64, 62, 60, 60], \"yaxis\": \"y\"}, {\"hovertemplate\": \"Video category=Howto & Style<br>Date=%{x}<br>Count of videos=%{y}<extra></extra>\", \"legendgroup\": \"Howto & Style\", \"line\": {\"color\": \"#FF97FF\"}, \"mode\": \"lines\", \"name\": \"Howto & Style\", \"orientation\": \"v\", \"showlegend\": true, \"stackgroup\": \"1\", \"type\": \"scatter\", \"x\": [\"2018-05-14T00:00:00\", \"2018-03-05T00:00:00\", \"2018-03-14T00:00:00\", \"2018-03-13T00:00:00\", \"2018-02-24T00:00:00\", \"2018-03-12T00:00:00\", \"2018-03-03T00:00:00\", \"2018-03-04T00:00:00\", \"2018-02-13T00:00:00\", \"2018-04-23T00:00:00\", \"2018-04-21T00:00:00\", \"2018-04-03T00:00:00\", \"2018-03-11T00:00:00\", \"2018-04-24T00:00:00\", \"2018-02-08T00:00:00\", \"2018-02-12T00:00:00\", \"2018-06-04T00:00:00\", \"2018-02-23T00:00:00\", \"2018-04-18T00:00:00\", \"2018-03-21T00:00:00\", \"2018-03-24T00:00:00\", \"2018-03-20T00:00:00\", \"2018-04-02T00:00:00\", \"2018-04-07T00:00:00\", \"2018-06-09T00:00:00\", \"2018-03-02T00:00:00\", \"2018-03-08T00:00:00\", \"2018-03-29T00:00:00\", \"2018-01-06T00:00:00\", \"2018-03-26T00:00:00\", \"2018-02-11T00:00:00\", \"2018-04-17T00:00:00\", \"2018-04-30T00:00:00\", \"2018-03-23T00:00:00\", \"2018-03-19T00:00:00\", \"2018-02-28T00:00:00\", \"2018-05-30T00:00:00\", \"2018-03-06T00:00:00\", \"2018-05-07T00:00:00\", \"2018-03-07T00:00:00\", \"2018-04-22T00:00:00\", \"2018-03-10T00:00:00\", \"2018-03-22T00:00:00\", \"2018-03-25T00:00:00\", \"2018-06-13T00:00:00\", \"2018-01-05T00:00:00\", \"2018-02-14T00:00:00\", \"2018-03-17T00:00:00\", \"2018-02-10T00:00:00\", \"2018-03-09T00:00:00\", \"2018-02-25T00:00:00\", \"2018-04-28T00:00:00\", \"2018-05-08T00:00:00\", \"2018-05-01T00:00:00\", \"2018-04-27T00:00:00\", \"2018-04-16T00:00:00\", \"2018-01-19T00:00:00\", \"2018-04-26T00:00:00\", \"2018-05-26T00:00:00\", \"2017-12-14T00:00:00\", \"2018-05-31T00:00:00\", \"2018-05-09T00:00:00\", \"2017-11-27T00:00:00\", \"2018-04-20T00:00:00\", \"2018-02-22T00:00:00\", \"2018-05-06T00:00:00\", \"2018-04-19T00:00:00\", \"2018-05-15T00:00:00\", \"2018-02-09T00:00:00\", \"2018-05-21T00:00:00\", \"2018-04-14T00:00:00\", \"2018-02-26T00:00:00\", \"2017-11-26T00:00:00\", \"2018-02-15T00:00:00\", \"2018-03-18T00:00:00\", \"2018-06-02T00:00:00\", \"2018-05-17T00:00:00\", \"2018-05-16T00:00:00\", \"2018-04-15T00:00:00\", \"2018-06-03T00:00:00\", \"2018-05-22T00:00:00\", \"2018-01-03T00:00:00\", \"2018-02-17T00:00:00\", \"2018-05-27T00:00:00\", \"2018-05-10T00:00:00\", \"2018-06-08T00:00:00\", \"2018-02-19T00:00:00\", \"2017-11-25T00:00:00\", \"2018-02-07T00:00:00\", \"2017-12-17T00:00:00\", \"2018-05-12T00:00:00\", \"2018-05-28T00:00:00\", \"2018-05-29T00:00:00\", \"2018-01-22T00:00:00\", \"2018-06-05T00:00:00\", \"2017-12-19T00:00:00\", \"2018-05-24T00:00:00\", \"2018-04-29T00:00:00\", \"2018-05-20T00:00:00\", \"2018-02-20T00:00:00\", \"2018-02-18T00:00:00\", \"2017-11-28T00:00:00\", \"2018-01-27T00:00:00\", \"2017-11-15T00:00:00\", \"2018-03-01T00:00:00\", \"2017-11-29T00:00:00\", \"2018-01-18T00:00:00\", \"2018-05-04T00:00:00\", \"2018-05-05T00:00:00\", \"2018-02-21T00:00:00\", \"2018-06-10T00:00:00\", \"2018-01-07T00:00:00\", \"2018-03-27T00:00:00\", \"2018-05-18T00:00:00\", \"2018-03-30T00:00:00\", \"2017-12-30T00:00:00\", \"2018-04-04T00:00:00\", \"2018-03-31T00:00:00\", \"2018-01-04T00:00:00\", \"2018-06-06T00:00:00\", \"2018-01-29T00:00:00\", \"2018-06-14T00:00:00\", \"2018-02-01T00:00:00\", \"2018-01-20T00:00:00\", \"2017-11-30T00:00:00\", \"2017-12-01T00:00:00\", \"2018-02-27T00:00:00\", \"2018-05-25T00:00:00\", \"2018-05-23T00:00:00\", \"2017-12-11T00:00:00\", \"2018-02-16T00:00:00\", \"2017-12-16T00:00:00\", \"2018-01-08T00:00:00\", \"2018-04-25T00:00:00\", \"2018-04-06T00:00:00\", \"2017-11-23T00:00:00\", \"2018-05-11T00:00:00\", \"2017-12-20T00:00:00\", \"2018-05-13T00:00:00\", \"2018-05-02T00:00:00\", \"2017-12-18T00:00:00\", \"2017-12-15T00:00:00\", \"2018-03-16T00:00:00\", \"2018-06-11T00:00:00\", \"2017-11-18T00:00:00\", \"2017-12-06T00:00:00\", \"2017-12-12T00:00:00\", \"2018-05-03T00:00:00\", \"2017-12-13T00:00:00\", \"2018-03-28T00:00:00\", \"2018-01-30T00:00:00\", \"2017-12-05T00:00:00\", \"2018-06-01T00:00:00\", \"2018-01-14T00:00:00\", \"2018-01-23T00:00:00\", \"2018-01-24T00:00:00\", \"2018-06-12T00:00:00\", \"2018-01-17T00:00:00\", \"2017-12-04T00:00:00\", \"2018-01-31T00:00:00\", \"2018-04-01T00:00:00\", \"2018-04-05T00:00:00\", \"2017-12-21T00:00:00\", \"2017-12-23T00:00:00\", \"2017-12-26T00:00:00\", \"2018-02-02T00:00:00\", \"2017-11-14T00:00:00\", \"2017-12-31T00:00:00\", \"2018-01-09T00:00:00\", \"2018-02-04T00:00:00\", \"2017-11-22T00:00:00\", \"2017-12-10T00:00:00\", \"2017-12-27T00:00:00\", \"2017-12-09T00:00:00\", \"2018-01-15T00:00:00\", \"2017-12-07T00:00:00\", \"2018-01-28T00:00:00\", \"2018-05-19T00:00:00\", \"2017-11-24T00:00:00\", \"2018-01-12T00:00:00\", \"2018-02-03T00:00:00\", \"2018-03-15T00:00:00\", \"2018-06-07T00:00:00\", \"2017-12-28T00:00:00\", \"2017-12-29T00:00:00\", \"2017-12-25T00:00:00\", \"2017-12-03T00:00:00\", \"2017-12-02T00:00:00\", \"2017-11-21T00:00:00\", \"2018-01-16T00:00:00\", \"2017-11-16T00:00:00\", \"2018-01-21T00:00:00\", \"2018-01-01T00:00:00\", \"2017-11-20T00:00:00\", \"2018-01-13T00:00:00\", \"2018-02-05T00:00:00\", \"2018-01-25T00:00:00\", \"2018-02-06T00:00:00\", \"2017-11-17T00:00:00\", \"2017-12-08T00:00:00\", \"2018-01-02T00:00:00\", \"2017-11-19T00:00:00\", \"2018-01-26T00:00:00\", \"2017-12-24T00:00:00\", \"2017-12-22T00:00:00\"], \"xaxis\": \"x\", \"y\": [150, 146, 144, 144, 142, 140, 134, 132, 132, 128, 126, 126, 126, 126, 126, 126, 124, 124, 124, 122, 122, 120, 120, 118, 118, 118, 116, 116, 116, 114, 114, 114, 114, 114, 114, 114, 114, 114, 114, 112, 112, 112, 112, 112, 112, 112, 112, 110, 110, 110, 110, 110, 110, 110, 108, 108, 108, 108, 108, 108, 108, 106, 106, 106, 106, 106, 106, 106, 106, 106, 106, 106, 104, 104, 104, 104, 104, 102, 102, 102, 102, 102, 102, 102, 100, 100, 100, 100, 100, 100, 100, 98, 98, 98, 98, 96, 96, 96, 96, 96, 96, 96, 96, 96, 96, 94, 94, 94, 94, 94, 94, 94, 92, 92, 92, 92, 92, 92, 92, 92, 92, 92, 92, 92, 92, 92, 92, 92, 92, 92, 92, 92, 92, 90, 90, 90, 90, 90, 90, 90, 90, 88, 88, 88, 88, 88, 86, 86, 86, 86, 86, 86, 84, 84, 84, 84, 84, 84, 84, 84, 84, 84, 84, 82, 82, 82, 82, 82, 82, 82, 80, 80, 80, 80, 80, 80, 80, 80, 80, 80, 78, 78, 78, 78, 78, 78, 78, 78, 78, 78, 76, 76, 76, 76, 74, 74, 74, 74, 70, 70, 68, 68, 64, 60, 60], \"yaxis\": \"y\"}],                        {\"font\": {\"color\": \"dark blue\"}, \"height\": 600, \"legend\": {\"title\": {\"text\": \"Video category\"}, \"tracegroupgap\": 0}, \"template\": {\"data\": {\"bar\": [{\"error_x\": {\"color\": \"#2a3f5f\"}, \"error_y\": {\"color\": \"#2a3f5f\"}, \"marker\": {\"line\": {\"color\": \"#E5ECF6\", \"width\": 0.5}}, \"type\": \"bar\"}], \"barpolar\": [{\"marker\": {\"line\": {\"color\": \"#E5ECF6\", \"width\": 0.5}}, \"type\": \"barpolar\"}], \"carpet\": [{\"aaxis\": {\"endlinecolor\": \"#2a3f5f\", \"gridcolor\": \"white\", \"linecolor\": \"white\", \"minorgridcolor\": \"white\", \"startlinecolor\": \"#2a3f5f\"}, \"baxis\": {\"endlinecolor\": \"#2a3f5f\", \"gridcolor\": \"white\", \"linecolor\": \"white\", \"minorgridcolor\": \"white\", \"startlinecolor\": \"#2a3f5f\"}, \"type\": \"carpet\"}], \"choropleth\": [{\"colorbar\": {\"outlinewidth\": 0, \"ticks\": \"\"}, \"type\": \"choropleth\"}], \"contour\": [{\"colorbar\": {\"outlinewidth\": 0, \"ticks\": \"\"}, \"colorscale\": [[0.0, \"#0d0887\"], [0.1111111111111111, \"#46039f\"], [0.2222222222222222, \"#7201a8\"], [0.3333333333333333, \"#9c179e\"], [0.4444444444444444, \"#bd3786\"], [0.5555555555555556, \"#d8576b\"], [0.6666666666666666, \"#ed7953\"], [0.7777777777777778, \"#fb9f3a\"], [0.8888888888888888, \"#fdca26\"], [1.0, \"#f0f921\"]], \"type\": \"contour\"}], \"contourcarpet\": [{\"colorbar\": {\"outlinewidth\": 0, \"ticks\": \"\"}, \"type\": \"contourcarpet\"}], \"heatmap\": [{\"colorbar\": {\"outlinewidth\": 0, \"ticks\": \"\"}, \"colorscale\": [[0.0, \"#0d0887\"], [0.1111111111111111, \"#46039f\"], [0.2222222222222222, \"#7201a8\"], [0.3333333333333333, \"#9c179e\"], [0.4444444444444444, \"#bd3786\"], [0.5555555555555556, \"#d8576b\"], [0.6666666666666666, \"#ed7953\"], [0.7777777777777778, \"#fb9f3a\"], [0.8888888888888888, \"#fdca26\"], [1.0, \"#f0f921\"]], \"type\": \"heatmap\"}], \"heatmapgl\": [{\"colorbar\": {\"outlinewidth\": 0, \"ticks\": \"\"}, \"colorscale\": [[0.0, \"#0d0887\"], [0.1111111111111111, \"#46039f\"], [0.2222222222222222, \"#7201a8\"], [0.3333333333333333, \"#9c179e\"], [0.4444444444444444, \"#bd3786\"], [0.5555555555555556, \"#d8576b\"], [0.6666666666666666, \"#ed7953\"], [0.7777777777777778, \"#fb9f3a\"], [0.8888888888888888, \"#fdca26\"], [1.0, \"#f0f921\"]], \"type\": \"heatmapgl\"}], \"histogram\": [{\"marker\": {\"colorbar\": {\"outlinewidth\": 0, \"ticks\": \"\"}}, \"type\": \"histogram\"}], \"histogram2d\": [{\"colorbar\": {\"outlinewidth\": 0, \"ticks\": \"\"}, \"colorscale\": [[0.0, \"#0d0887\"], [0.1111111111111111, \"#46039f\"], [0.2222222222222222, \"#7201a8\"], [0.3333333333333333, \"#9c179e\"], [0.4444444444444444, \"#bd3786\"], [0.5555555555555556, \"#d8576b\"], [0.6666666666666666, \"#ed7953\"], [0.7777777777777778, \"#fb9f3a\"], [0.8888888888888888, \"#fdca26\"], [1.0, \"#f0f921\"]], \"type\": \"histogram2d\"}], \"histogram2dcontour\": [{\"colorbar\": {\"outlinewidth\": 0, \"ticks\": \"\"}, \"colorscale\": [[0.0, \"#0d0887\"], [0.1111111111111111, \"#46039f\"], [0.2222222222222222, \"#7201a8\"], [0.3333333333333333, \"#9c179e\"], [0.4444444444444444, \"#bd3786\"], [0.5555555555555556, \"#d8576b\"], [0.6666666666666666, \"#ed7953\"], [0.7777777777777778, \"#fb9f3a\"], [0.8888888888888888, \"#fdca26\"], [1.0, \"#f0f921\"]], \"type\": \"histogram2dcontour\"}], \"mesh3d\": [{\"colorbar\": {\"outlinewidth\": 0, \"ticks\": \"\"}, \"type\": \"mesh3d\"}], \"parcoords\": [{\"line\": {\"colorbar\": {\"outlinewidth\": 0, \"ticks\": \"\"}}, \"type\": \"parcoords\"}], \"pie\": [{\"automargin\": true, \"type\": \"pie\"}], \"scatter\": [{\"marker\": {\"colorbar\": {\"outlinewidth\": 0, \"ticks\": \"\"}}, \"type\": \"scatter\"}], \"scatter3d\": [{\"line\": {\"colorbar\": {\"outlinewidth\": 0, \"ticks\": \"\"}}, \"marker\": {\"colorbar\": {\"outlinewidth\": 0, \"ticks\": \"\"}}, \"type\": \"scatter3d\"}], \"scattercarpet\": [{\"marker\": {\"colorbar\": {\"outlinewidth\": 0, \"ticks\": \"\"}}, \"type\": \"scattercarpet\"}], \"scattergeo\": [{\"marker\": {\"colorbar\": {\"outlinewidth\": 0, \"ticks\": \"\"}}, \"type\": \"scattergeo\"}], \"scattergl\": [{\"marker\": {\"colorbar\": {\"outlinewidth\": 0, \"ticks\": \"\"}}, \"type\": \"scattergl\"}], \"scattermapbox\": [{\"marker\": {\"colorbar\": {\"outlinewidth\": 0, \"ticks\": \"\"}}, \"type\": \"scattermapbox\"}], \"scatterpolar\": [{\"marker\": {\"colorbar\": {\"outlinewidth\": 0, \"ticks\": \"\"}}, \"type\": \"scatterpolar\"}], \"scatterpolargl\": [{\"marker\": {\"colorbar\": {\"outlinewidth\": 0, \"ticks\": \"\"}}, \"type\": \"scatterpolargl\"}], \"scatterternary\": [{\"marker\": {\"colorbar\": {\"outlinewidth\": 0, \"ticks\": \"\"}}, \"type\": \"scatterternary\"}], \"surface\": [{\"colorbar\": {\"outlinewidth\": 0, \"ticks\": \"\"}, \"colorscale\": [[0.0, \"#0d0887\"], [0.1111111111111111, \"#46039f\"], [0.2222222222222222, \"#7201a8\"], [0.3333333333333333, \"#9c179e\"], [0.4444444444444444, \"#bd3786\"], [0.5555555555555556, \"#d8576b\"], [0.6666666666666666, \"#ed7953\"], [0.7777777777777778, \"#fb9f3a\"], [0.8888888888888888, \"#fdca26\"], [1.0, \"#f0f921\"]], \"type\": \"surface\"}], \"table\": [{\"cells\": {\"fill\": {\"color\": \"#EBF0F8\"}, \"line\": {\"color\": \"white\"}}, \"header\": {\"fill\": {\"color\": \"#C8D4E3\"}, \"line\": {\"color\": \"white\"}}, \"type\": \"table\"}]}, \"layout\": {\"annotationdefaults\": {\"arrowcolor\": \"#2a3f5f\", \"arrowhead\": 0, \"arrowwidth\": 1}, \"autotypenumbers\": \"strict\", \"coloraxis\": {\"colorbar\": {\"outlinewidth\": 0, \"ticks\": \"\"}}, \"colorscale\": {\"diverging\": [[0, \"#8e0152\"], [0.1, \"#c51b7d\"], [0.2, \"#de77ae\"], [0.3, \"#f1b6da\"], [0.4, \"#fde0ef\"], [0.5, \"#f7f7f7\"], [0.6, \"#e6f5d0\"], [0.7, \"#b8e186\"], [0.8, \"#7fbc41\"], [0.9, \"#4d9221\"], [1, \"#276419\"]], \"sequential\": [[0.0, \"#0d0887\"], [0.1111111111111111, \"#46039f\"], [0.2222222222222222, \"#7201a8\"], [0.3333333333333333, \"#9c179e\"], [0.4444444444444444, \"#bd3786\"], [0.5555555555555556, \"#d8576b\"], [0.6666666666666666, \"#ed7953\"], [0.7777777777777778, \"#fb9f3a\"], [0.8888888888888888, \"#fdca26\"], [1.0, \"#f0f921\"]], \"sequentialminus\": [[0.0, \"#0d0887\"], [0.1111111111111111, \"#46039f\"], [0.2222222222222222, \"#7201a8\"], [0.3333333333333333, \"#9c179e\"], [0.4444444444444444, \"#bd3786\"], [0.5555555555555556, \"#d8576b\"], [0.6666666666666666, \"#ed7953\"], [0.7777777777777778, \"#fb9f3a\"], [0.8888888888888888, \"#fdca26\"], [1.0, \"#f0f921\"]]}, \"colorway\": [\"#636efa\", \"#EF553B\", \"#00cc96\", \"#ab63fa\", \"#FFA15A\", \"#19d3f3\", \"#FF6692\", \"#B6E880\", \"#FF97FF\", \"#FECB52\"], \"font\": {\"color\": \"#2a3f5f\"}, \"geo\": {\"bgcolor\": \"white\", \"lakecolor\": \"white\", \"landcolor\": \"#E5ECF6\", \"showlakes\": true, \"showland\": true, \"subunitcolor\": \"white\"}, \"hoverlabel\": {\"align\": \"left\"}, \"hovermode\": \"closest\", \"mapbox\": {\"style\": \"light\"}, \"paper_bgcolor\": \"white\", \"plot_bgcolor\": \"#E5ECF6\", \"polar\": {\"angularaxis\": {\"gridcolor\": \"white\", \"linecolor\": \"white\", \"ticks\": \"\"}, \"bgcolor\": \"#E5ECF6\", \"radialaxis\": {\"gridcolor\": \"white\", \"linecolor\": \"white\", \"ticks\": \"\"}}, \"scene\": {\"xaxis\": {\"backgroundcolor\": \"#E5ECF6\", \"gridcolor\": \"white\", \"gridwidth\": 2, \"linecolor\": \"white\", \"showbackground\": true, \"ticks\": \"\", \"zerolinecolor\": \"white\"}, \"yaxis\": {\"backgroundcolor\": \"#E5ECF6\", \"gridcolor\": \"white\", \"gridwidth\": 2, \"linecolor\": \"white\", \"showbackground\": true, \"ticks\": \"\", \"zerolinecolor\": \"white\"}, \"zaxis\": {\"backgroundcolor\": \"#E5ECF6\", \"gridcolor\": \"white\", \"gridwidth\": 2, \"linecolor\": \"white\", \"showbackground\": true, \"ticks\": \"\", \"zerolinecolor\": \"white\"}}, \"shapedefaults\": {\"line\": {\"color\": \"#2a3f5f\"}}, \"ternary\": {\"aaxis\": {\"gridcolor\": \"white\", \"linecolor\": \"white\", \"ticks\": \"\"}, \"baxis\": {\"gridcolor\": \"white\", \"linecolor\": \"white\", \"ticks\": \"\"}, \"bgcolor\": \"#E5ECF6\", \"caxis\": {\"gridcolor\": \"white\", \"linecolor\": \"white\", \"ticks\": \"\"}}, \"title\": {\"x\": 0.05}, \"xaxis\": {\"automargin\": true, \"gridcolor\": \"white\", \"linecolor\": \"white\", \"ticks\": \"\", \"title\": {\"standoff\": 15}, \"zerolinecolor\": \"white\", \"zerolinewidth\": 2}, \"yaxis\": {\"automargin\": true, \"gridcolor\": \"white\", \"linecolor\": \"white\", \"ticks\": \"\", \"title\": {\"standoff\": 15}, \"zerolinecolor\": \"white\", \"zerolinewidth\": 2}}}, \"title\": {\"font\": {\"color\": \"black\", \"family\": \"Times New Roman\", \"size\": 26}, \"text\": \"Daily trending video count by category\", \"x\": 0.5}, \"width\": 800, \"xaxis\": {\"anchor\": \"y\", \"domain\": [0.0, 1.0], \"title\": {\"text\": \"Date\"}}, \"yaxis\": {\"anchor\": \"x\", \"domain\": [0.0, 1.0], \"title\": {\"text\": \"Count of videos\"}}},                        {\"responsive\": true}                    ).then(function(){\n",
       "                            \n",
       "var gd = document.getElementById('018bb60b-3257-4cf5-a4c4-2afdbd75490d');\n",
       "var x = new MutationObserver(function (mutations, observer) {{\n",
       "        var display = window.getComputedStyle(gd).display;\n",
       "        if (!display || display === 'none') {{\n",
       "            console.log([gd, 'removed!']);\n",
       "            Plotly.purge(gd);\n",
       "            observer.disconnect();\n",
       "        }}\n",
       "}});\n",
       "\n",
       "// Listen for the removal of the full notebook cells\n",
       "var notebookContainer = gd.closest('#notebook-container');\n",
       "if (notebookContainer) {{\n",
       "    x.observe(notebookContainer, {childList: true});\n",
       "}}\n",
       "\n",
       "// Listen for the clearing of the current output cell\n",
       "var outputEl = gd.closest('.output');\n",
       "if (outputEl) {{\n",
       "    x.observe(outputEl, {childList: true});\n",
       "}}\n",
       "\n",
       "                        })                };                });            </script>        </div>"
      ]
     },
     "metadata": {},
     "output_type": "display_data"
    }
   ],
   "source": [
    "fig = px.area(trending_category_date, \n",
    "              x=\"trending_date\", \n",
    "              y=\"videos_count\", \n",
    "              color=\"category\",\n",
    "              title = 'Daily trending video count by category',\n",
    "              width = 800,\n",
    "              height=600,\n",
    "              labels = {'videos_count': 'Count of videos', \n",
    "                       'trending_date': 'Date',\n",
    "                       'category': 'Video category'}\n",
    "             )\n",
    "fig.update_layout(\n",
    "    title_x=0.5,\n",
    "    font_color=\"dark blue\",\n",
    "    title_font_family=\"Times New Roman\",\n",
    "    title_font_color=\"black\",\n",
    "    title_font_size=26)\n",
    "fig.show()"
   ]
  },
  {
   "cell_type": "markdown",
   "metadata": {},
   "source": [
    "# Trending videos by countries: the daily count"
   ]
  },
  {
   "cell_type": "code",
   "execution_count": 33,
   "metadata": {},
   "outputs": [],
   "source": [
    "trending_region = videos.groupby(['trending_date', 'region']).agg({\n",
    "    'videos_count': 'sum'}).reset_index()\n",
    "trending_region = trending_region.replace(np.nan, 0)"
   ]
  },
  {
   "cell_type": "code",
   "execution_count": 34,
   "metadata": {},
   "outputs": [],
   "source": [
    "#dir(px.colors.qualitative)"
   ]
  },
  {
   "cell_type": "code",
   "execution_count": 35,
   "metadata": {},
   "outputs": [
    {
     "data": {
      "application/vnd.plotly.v1+json": {
       "config": {
        "plotlyServerURL": "https://plot.ly"
       },
       "data": [
        {
         "hovertemplate": "region=France<br>Date=%{x}<br>Count of videos=%{y}<extra></extra>",
         "legendgroup": "France",
         "line": {
          "color": "rgb(229, 134, 6)",
          "dash": "solid"
         },
         "mode": "lines",
         "name": "France",
         "showlegend": true,
         "type": "scattergl",
         "x": [
          "2017-11-14T00:00:00",
          "2017-11-15T00:00:00",
          "2017-11-16T00:00:00",
          "2017-11-17T00:00:00",
          "2017-11-18T00:00:00",
          "2017-11-19T00:00:00",
          "2017-11-20T00:00:00",
          "2017-11-21T00:00:00",
          "2017-11-22T00:00:00",
          "2017-11-23T00:00:00",
          "2017-11-24T00:00:00",
          "2017-11-25T00:00:00",
          "2017-11-26T00:00:00",
          "2017-11-27T00:00:00",
          "2017-11-28T00:00:00",
          "2017-11-29T00:00:00",
          "2017-11-30T00:00:00",
          "2017-12-01T00:00:00",
          "2017-12-02T00:00:00",
          "2017-12-03T00:00:00",
          "2017-12-04T00:00:00",
          "2017-12-05T00:00:00",
          "2017-12-06T00:00:00",
          "2017-12-07T00:00:00",
          "2017-12-08T00:00:00",
          "2017-12-09T00:00:00",
          "2017-12-10T00:00:00",
          "2017-12-11T00:00:00",
          "2017-12-12T00:00:00",
          "2017-12-13T00:00:00",
          "2017-12-14T00:00:00",
          "2017-12-15T00:00:00",
          "2017-12-16T00:00:00",
          "2017-12-17T00:00:00",
          "2017-12-18T00:00:00",
          "2017-12-19T00:00:00",
          "2017-12-20T00:00:00",
          "2017-12-21T00:00:00",
          "2017-12-22T00:00:00",
          "2017-12-23T00:00:00",
          "2017-12-24T00:00:00",
          "2017-12-25T00:00:00",
          "2017-12-26T00:00:00",
          "2017-12-27T00:00:00",
          "2017-12-28T00:00:00",
          "2017-12-29T00:00:00",
          "2017-12-30T00:00:00",
          "2017-12-31T00:00:00",
          "2018-01-01T00:00:00",
          "2018-01-02T00:00:00",
          "2018-01-03T00:00:00",
          "2018-01-04T00:00:00",
          "2018-01-05T00:00:00",
          "2018-01-06T00:00:00",
          "2018-01-07T00:00:00",
          "2018-01-08T00:00:00",
          "2018-01-09T00:00:00",
          "2018-01-12T00:00:00",
          "2018-01-13T00:00:00",
          "2018-01-14T00:00:00",
          "2018-01-15T00:00:00",
          "2018-01-16T00:00:00",
          "2018-01-17T00:00:00",
          "2018-01-18T00:00:00",
          "2018-01-19T00:00:00",
          "2018-01-20T00:00:00",
          "2018-01-21T00:00:00",
          "2018-01-22T00:00:00",
          "2018-01-23T00:00:00",
          "2018-01-24T00:00:00",
          "2018-01-25T00:00:00",
          "2018-01-26T00:00:00",
          "2018-01-27T00:00:00",
          "2018-01-28T00:00:00",
          "2018-01-29T00:00:00",
          "2018-01-30T00:00:00",
          "2018-01-31T00:00:00",
          "2018-02-01T00:00:00",
          "2018-02-02T00:00:00",
          "2018-02-03T00:00:00",
          "2018-02-04T00:00:00",
          "2018-02-05T00:00:00",
          "2018-02-06T00:00:00",
          "2018-02-07T00:00:00",
          "2018-02-08T00:00:00",
          "2018-02-09T00:00:00",
          "2018-02-10T00:00:00",
          "2018-02-11T00:00:00",
          "2018-02-12T00:00:00",
          "2018-02-13T00:00:00",
          "2018-02-14T00:00:00",
          "2018-02-15T00:00:00",
          "2018-02-16T00:00:00",
          "2018-02-17T00:00:00",
          "2018-02-18T00:00:00",
          "2018-02-19T00:00:00",
          "2018-02-20T00:00:00",
          "2018-02-21T00:00:00",
          "2018-02-22T00:00:00",
          "2018-02-23T00:00:00",
          "2018-02-24T00:00:00",
          "2018-02-25T00:00:00",
          "2018-02-26T00:00:00",
          "2018-02-27T00:00:00",
          "2018-02-28T00:00:00",
          "2018-03-01T00:00:00",
          "2018-03-02T00:00:00",
          "2018-03-03T00:00:00",
          "2018-03-04T00:00:00",
          "2018-03-05T00:00:00",
          "2018-03-06T00:00:00",
          "2018-03-07T00:00:00",
          "2018-03-08T00:00:00",
          "2018-03-09T00:00:00",
          "2018-03-10T00:00:00",
          "2018-03-11T00:00:00",
          "2018-03-12T00:00:00",
          "2018-03-13T00:00:00",
          "2018-03-14T00:00:00",
          "2018-03-15T00:00:00",
          "2018-03-16T00:00:00",
          "2018-03-17T00:00:00",
          "2018-03-18T00:00:00",
          "2018-03-19T00:00:00",
          "2018-03-20T00:00:00",
          "2018-03-21T00:00:00",
          "2018-03-22T00:00:00",
          "2018-03-23T00:00:00",
          "2018-03-24T00:00:00",
          "2018-03-25T00:00:00",
          "2018-03-26T00:00:00",
          "2018-03-27T00:00:00",
          "2018-03-28T00:00:00",
          "2018-03-29T00:00:00",
          "2018-03-30T00:00:00",
          "2018-03-31T00:00:00",
          "2018-04-01T00:00:00",
          "2018-04-02T00:00:00",
          "2018-04-03T00:00:00",
          "2018-04-04T00:00:00",
          "2018-04-05T00:00:00",
          "2018-04-06T00:00:00",
          "2018-04-07T00:00:00",
          "2018-04-14T00:00:00",
          "2018-04-15T00:00:00",
          "2018-04-16T00:00:00",
          "2018-04-17T00:00:00",
          "2018-04-18T00:00:00",
          "2018-04-19T00:00:00",
          "2018-04-20T00:00:00",
          "2018-04-21T00:00:00",
          "2018-04-22T00:00:00",
          "2018-04-23T00:00:00",
          "2018-04-24T00:00:00",
          "2018-04-25T00:00:00",
          "2018-04-26T00:00:00",
          "2018-04-27T00:00:00",
          "2018-04-28T00:00:00",
          "2018-04-29T00:00:00",
          "2018-04-30T00:00:00",
          "2018-05-01T00:00:00",
          "2018-05-02T00:00:00",
          "2018-05-03T00:00:00",
          "2018-05-04T00:00:00",
          "2018-05-05T00:00:00",
          "2018-05-06T00:00:00",
          "2018-05-07T00:00:00",
          "2018-05-08T00:00:00",
          "2018-05-09T00:00:00",
          "2018-05-10T00:00:00",
          "2018-05-11T00:00:00",
          "2018-05-12T00:00:00",
          "2018-05-13T00:00:00",
          "2018-05-14T00:00:00",
          "2018-05-15T00:00:00",
          "2018-05-16T00:00:00",
          "2018-05-17T00:00:00",
          "2018-05-18T00:00:00",
          "2018-05-19T00:00:00",
          "2018-05-20T00:00:00",
          "2018-05-21T00:00:00",
          "2018-05-22T00:00:00",
          "2018-05-23T00:00:00",
          "2018-05-24T00:00:00",
          "2018-05-25T00:00:00",
          "2018-05-26T00:00:00",
          "2018-05-27T00:00:00",
          "2018-05-28T00:00:00",
          "2018-05-29T00:00:00",
          "2018-05-30T00:00:00",
          "2018-05-31T00:00:00",
          "2018-06-01T00:00:00",
          "2018-06-02T00:00:00",
          "2018-06-03T00:00:00",
          "2018-06-04T00:00:00",
          "2018-06-05T00:00:00",
          "2018-06-06T00:00:00",
          "2018-06-07T00:00:00",
          "2018-06-08T00:00:00",
          "2018-06-09T00:00:00",
          "2018-06-10T00:00:00",
          "2018-06-11T00:00:00",
          "2018-06-12T00:00:00",
          "2018-06-13T00:00:00",
          "2018-06-14T00:00:00"
         ],
         "xaxis": "x",
         "y": [
          374,
          366,
          370,
          386,
          372,
          372,
          372,
          364,
          368,
          362,
          350,
          368,
          366,
          362,
          368,
          344,
          360,
          364,
          360,
          364,
          366,
          372,
          360,
          384,
          372,
          374,
          372,
          366,
          372,
          368,
          366,
          376,
          388,
          378,
          370,
          378,
          366,
          378,
          376,
          380,
          374,
          388,
          370,
          368,
          356,
          376,
          370,
          384,
          346,
          360,
          366,
          364,
          378,
          368,
          374,
          376,
          364,
          380,
          368,
          374,
          362,
          374,
          370,
          380,
          384,
          384,
          372,
          356,
          362,
          358,
          362,
          366,
          366,
          370,
          382,
          374,
          362,
          366,
          362,
          372,
          380,
          374,
          366,
          372,
          360,
          352,
          370,
          354,
          362,
          354,
          362,
          350,
          352,
          372,
          364,
          364,
          368,
          362,
          368,
          368,
          370,
          366,
          366,
          362,
          368,
          360,
          368,
          374,
          374,
          382,
          366,
          368,
          374,
          366,
          374,
          360,
          380,
          370,
          372,
          354,
          358,
          376,
          364,
          372,
          364,
          372,
          364,
          368,
          368,
          376,
          374,
          370,
          358,
          368,
          362,
          364,
          352,
          364,
          358,
          360,
          356,
          364,
          374,
          370,
          372,
          364,
          360,
          366,
          378,
          370,
          382,
          368,
          376,
          382,
          354,
          358,
          366,
          372,
          366,
          378,
          362,
          370,
          376,
          366,
          380,
          372,
          368,
          372,
          370,
          376,
          370,
          370,
          372,
          350,
          364,
          370,
          320,
          382,
          372,
          338,
          376,
          364,
          358,
          372,
          382,
          374,
          374,
          362,
          370,
          364,
          376,
          372,
          378,
          370,
          376,
          366,
          356,
          370,
          372,
          372,
          310,
          370,
          382,
          358,
          362
         ],
         "yaxis": "y"
        },
        {
         "hovertemplate": "region=India<br>Date=%{x}<br>Count of videos=%{y}<extra></extra>",
         "legendgroup": "India",
         "line": {
          "color": "rgb(93, 105, 177)",
          "dash": "solid"
         },
         "mode": "lines",
         "name": "India",
         "showlegend": true,
         "type": "scattergl",
         "x": [
          "2017-11-14T00:00:00",
          "2017-11-15T00:00:00",
          "2017-11-16T00:00:00",
          "2017-11-17T00:00:00",
          "2017-11-18T00:00:00",
          "2017-11-19T00:00:00",
          "2017-11-20T00:00:00",
          "2017-11-21T00:00:00",
          "2017-11-22T00:00:00",
          "2017-11-23T00:00:00",
          "2017-11-24T00:00:00",
          "2017-11-25T00:00:00",
          "2017-11-26T00:00:00",
          "2017-11-27T00:00:00",
          "2017-11-28T00:00:00",
          "2017-11-29T00:00:00",
          "2017-11-30T00:00:00",
          "2017-12-01T00:00:00",
          "2017-12-02T00:00:00",
          "2017-12-03T00:00:00",
          "2017-12-04T00:00:00",
          "2017-12-05T00:00:00",
          "2017-12-06T00:00:00",
          "2017-12-07T00:00:00",
          "2017-12-08T00:00:00",
          "2017-12-09T00:00:00",
          "2017-12-10T00:00:00",
          "2017-12-11T00:00:00",
          "2017-12-12T00:00:00",
          "2017-12-13T00:00:00",
          "2017-12-14T00:00:00",
          "2017-12-15T00:00:00",
          "2017-12-16T00:00:00",
          "2017-12-17T00:00:00",
          "2017-12-18T00:00:00",
          "2017-12-19T00:00:00",
          "2017-12-20T00:00:00",
          "2017-12-21T00:00:00",
          "2017-12-22T00:00:00",
          "2017-12-23T00:00:00",
          "2017-12-24T00:00:00",
          "2017-12-25T00:00:00",
          "2017-12-26T00:00:00",
          "2017-12-27T00:00:00",
          "2017-12-28T00:00:00",
          "2017-12-29T00:00:00",
          "2017-12-30T00:00:00",
          "2017-12-31T00:00:00",
          "2018-01-01T00:00:00",
          "2018-01-02T00:00:00",
          "2018-01-03T00:00:00",
          "2018-01-04T00:00:00",
          "2018-01-05T00:00:00",
          "2018-01-06T00:00:00",
          "2018-01-07T00:00:00",
          "2018-01-08T00:00:00",
          "2018-01-09T00:00:00",
          "2018-01-12T00:00:00",
          "2018-01-13T00:00:00",
          "2018-01-14T00:00:00",
          "2018-01-15T00:00:00",
          "2018-01-16T00:00:00",
          "2018-01-17T00:00:00",
          "2018-01-18T00:00:00",
          "2018-01-19T00:00:00",
          "2018-01-20T00:00:00",
          "2018-01-21T00:00:00",
          "2018-01-22T00:00:00",
          "2018-01-23T00:00:00",
          "2018-01-24T00:00:00",
          "2018-01-25T00:00:00",
          "2018-01-26T00:00:00",
          "2018-01-27T00:00:00",
          "2018-01-28T00:00:00",
          "2018-01-29T00:00:00",
          "2018-01-30T00:00:00",
          "2018-01-31T00:00:00",
          "2018-02-01T00:00:00",
          "2018-02-02T00:00:00",
          "2018-02-03T00:00:00",
          "2018-02-04T00:00:00",
          "2018-02-05T00:00:00",
          "2018-02-06T00:00:00",
          "2018-02-07T00:00:00",
          "2018-02-08T00:00:00",
          "2018-02-09T00:00:00",
          "2018-02-10T00:00:00",
          "2018-02-11T00:00:00",
          "2018-02-12T00:00:00",
          "2018-02-13T00:00:00",
          "2018-02-14T00:00:00",
          "2018-02-15T00:00:00",
          "2018-02-16T00:00:00",
          "2018-02-17T00:00:00",
          "2018-02-18T00:00:00",
          "2018-02-19T00:00:00",
          "2018-02-20T00:00:00",
          "2018-02-21T00:00:00",
          "2018-02-22T00:00:00",
          "2018-02-23T00:00:00",
          "2018-02-24T00:00:00",
          "2018-02-25T00:00:00",
          "2018-02-26T00:00:00",
          "2018-02-27T00:00:00",
          "2018-02-28T00:00:00",
          "2018-03-01T00:00:00",
          "2018-03-02T00:00:00",
          "2018-03-03T00:00:00",
          "2018-03-04T00:00:00",
          "2018-03-05T00:00:00",
          "2018-03-06T00:00:00",
          "2018-03-07T00:00:00",
          "2018-03-08T00:00:00",
          "2018-03-09T00:00:00",
          "2018-03-10T00:00:00",
          "2018-03-11T00:00:00",
          "2018-03-12T00:00:00",
          "2018-03-13T00:00:00",
          "2018-03-14T00:00:00",
          "2018-03-15T00:00:00",
          "2018-03-16T00:00:00",
          "2018-03-17T00:00:00",
          "2018-03-18T00:00:00",
          "2018-03-19T00:00:00",
          "2018-03-20T00:00:00",
          "2018-03-21T00:00:00",
          "2018-03-22T00:00:00",
          "2018-03-23T00:00:00",
          "2018-03-24T00:00:00",
          "2018-03-25T00:00:00",
          "2018-03-26T00:00:00",
          "2018-03-27T00:00:00",
          "2018-03-28T00:00:00",
          "2018-03-29T00:00:00",
          "2018-03-30T00:00:00",
          "2018-03-31T00:00:00",
          "2018-04-01T00:00:00",
          "2018-04-02T00:00:00",
          "2018-04-03T00:00:00",
          "2018-04-04T00:00:00",
          "2018-04-05T00:00:00",
          "2018-04-06T00:00:00",
          "2018-04-07T00:00:00",
          "2018-04-14T00:00:00",
          "2018-04-15T00:00:00",
          "2018-04-16T00:00:00",
          "2018-04-17T00:00:00",
          "2018-04-18T00:00:00",
          "2018-04-19T00:00:00",
          "2018-04-20T00:00:00",
          "2018-04-21T00:00:00",
          "2018-04-22T00:00:00",
          "2018-04-23T00:00:00",
          "2018-04-24T00:00:00",
          "2018-04-25T00:00:00",
          "2018-04-26T00:00:00",
          "2018-04-27T00:00:00",
          "2018-04-28T00:00:00",
          "2018-04-29T00:00:00",
          "2018-04-30T00:00:00",
          "2018-05-01T00:00:00",
          "2018-05-02T00:00:00",
          "2018-05-03T00:00:00",
          "2018-05-04T00:00:00",
          "2018-05-05T00:00:00",
          "2018-05-06T00:00:00",
          "2018-05-07T00:00:00",
          "2018-05-08T00:00:00",
          "2018-05-09T00:00:00",
          "2018-05-10T00:00:00",
          "2018-05-11T00:00:00",
          "2018-05-12T00:00:00",
          "2018-05-13T00:00:00",
          "2018-05-14T00:00:00",
          "2018-05-15T00:00:00",
          "2018-05-16T00:00:00",
          "2018-05-17T00:00:00",
          "2018-05-18T00:00:00",
          "2018-05-19T00:00:00",
          "2018-05-20T00:00:00",
          "2018-05-21T00:00:00",
          "2018-05-22T00:00:00",
          "2018-05-23T00:00:00",
          "2018-05-24T00:00:00",
          "2018-05-25T00:00:00",
          "2018-05-26T00:00:00",
          "2018-05-27T00:00:00",
          "2018-05-28T00:00:00",
          "2018-05-29T00:00:00",
          "2018-05-30T00:00:00",
          "2018-05-31T00:00:00",
          "2018-06-01T00:00:00",
          "2018-06-02T00:00:00",
          "2018-06-03T00:00:00",
          "2018-06-04T00:00:00",
          "2018-06-05T00:00:00",
          "2018-06-06T00:00:00",
          "2018-06-07T00:00:00",
          "2018-06-08T00:00:00",
          "2018-06-09T00:00:00",
          "2018-06-10T00:00:00",
          "2018-06-11T00:00:00",
          "2018-06-12T00:00:00",
          "2018-06-13T00:00:00",
          "2018-06-14T00:00:00"
         ],
         "xaxis": "x",
         "y": [
          380,
          388,
          392,
          384,
          384,
          390,
          380,
          344,
          326,
          370,
          386,
          388,
          376,
          370,
          360,
          350,
          356,
          392,
          358,
          364,
          360,
          388,
          374,
          336,
          334,
          368,
          374,
          362,
          392,
          394,
          386,
          390,
          394,
          390,
          386,
          344,
          298,
          388,
          394,
          396,
          390,
          358,
          358,
          316,
          328,
          320,
          368,
          382,
          372,
          364,
          378,
          362,
          350,
          338,
          386,
          372,
          336,
          390,
          392,
          390,
          384,
          362,
          372,
          346,
          350,
          390,
          390,
          382,
          384,
          390,
          394,
          372,
          370,
          346,
          334,
          328,
          370,
          322,
          340,
          302,
          336,
          336,
          324,
          348,
          390,
          338,
          350,
          356,
          346,
          358,
          342,
          356,
          342,
          360,
          354,
          330,
          336,
          320,
          322,
          326,
          336,
          320,
          322,
          362,
          334,
          318,
          334,
          392,
          296,
          306,
          314,
          302,
          312,
          358,
          348,
          338,
          338,
          336,
          336,
          220,
          318,
          390,
          388,
          382,
          388,
          304,
          382,
          334,
          324,
          306,
          300,
          376,
          340,
          388,
          368,
          388,
          372,
          312,
          372,
          376,
          364,
          370,
          370,
          382,
          392,
          358,
          358,
          382,
          354,
          352,
          374,
          374,
          386,
          368,
          388,
          350,
          372,
          386,
          368,
          364,
          358,
          346,
          350,
          362,
          396,
          376,
          372,
          378,
          372,
          354,
          362,
          376,
          362,
          392,
          368,
          308,
          350,
          362,
          336,
          340,
          346,
          364,
          376,
          354,
          374,
          350,
          356,
          348,
          346,
          358,
          362,
          342,
          368,
          356,
          358,
          356,
          350,
          336,
          358,
          384,
          360,
          356,
          340,
          336,
          342
         ],
         "yaxis": "y"
        },
        {
         "hovertemplate": "region=Japan<br>Date=%{x}<br>Count of videos=%{y}<extra></extra>",
         "legendgroup": "Japan",
         "line": {
          "color": "rgb(82, 188, 163)",
          "dash": "solid"
         },
         "mode": "lines",
         "name": "Japan",
         "showlegend": true,
         "type": "scattergl",
         "x": [
          "2017-11-14T00:00:00",
          "2017-11-15T00:00:00",
          "2017-11-16T00:00:00",
          "2017-11-17T00:00:00",
          "2017-11-18T00:00:00",
          "2017-11-19T00:00:00",
          "2017-11-20T00:00:00",
          "2017-11-21T00:00:00",
          "2017-11-22T00:00:00",
          "2017-11-23T00:00:00",
          "2017-11-24T00:00:00",
          "2017-11-25T00:00:00",
          "2017-11-26T00:00:00",
          "2017-11-27T00:00:00",
          "2017-11-28T00:00:00",
          "2017-11-29T00:00:00",
          "2017-11-30T00:00:00",
          "2017-12-01T00:00:00",
          "2017-12-02T00:00:00",
          "2017-12-03T00:00:00",
          "2017-12-04T00:00:00",
          "2017-12-05T00:00:00",
          "2017-12-06T00:00:00",
          "2017-12-07T00:00:00",
          "2017-12-08T00:00:00",
          "2017-12-09T00:00:00",
          "2017-12-10T00:00:00",
          "2017-12-11T00:00:00",
          "2017-12-12T00:00:00",
          "2017-12-13T00:00:00",
          "2017-12-14T00:00:00",
          "2017-12-15T00:00:00",
          "2017-12-16T00:00:00",
          "2017-12-17T00:00:00",
          "2017-12-18T00:00:00",
          "2017-12-19T00:00:00",
          "2017-12-20T00:00:00",
          "2017-12-21T00:00:00",
          "2017-12-22T00:00:00",
          "2017-12-23T00:00:00",
          "2017-12-24T00:00:00",
          "2017-12-25T00:00:00",
          "2017-12-26T00:00:00",
          "2017-12-27T00:00:00",
          "2017-12-28T00:00:00",
          "2017-12-29T00:00:00",
          "2017-12-30T00:00:00",
          "2017-12-31T00:00:00",
          "2018-01-01T00:00:00",
          "2018-01-02T00:00:00",
          "2018-01-03T00:00:00",
          "2018-01-04T00:00:00",
          "2018-01-05T00:00:00",
          "2018-01-06T00:00:00",
          "2018-01-07T00:00:00",
          "2018-01-08T00:00:00",
          "2018-01-09T00:00:00",
          "2018-01-12T00:00:00",
          "2018-01-13T00:00:00",
          "2018-01-14T00:00:00",
          "2018-01-15T00:00:00",
          "2018-01-16T00:00:00",
          "2018-01-17T00:00:00",
          "2018-01-18T00:00:00",
          "2018-01-19T00:00:00",
          "2018-01-20T00:00:00",
          "2018-01-21T00:00:00",
          "2018-01-22T00:00:00",
          "2018-01-23T00:00:00",
          "2018-01-24T00:00:00",
          "2018-01-25T00:00:00",
          "2018-01-26T00:00:00",
          "2018-01-27T00:00:00",
          "2018-01-28T00:00:00",
          "2018-01-29T00:00:00",
          "2018-01-30T00:00:00",
          "2018-01-31T00:00:00",
          "2018-02-01T00:00:00",
          "2018-02-02T00:00:00",
          "2018-02-03T00:00:00",
          "2018-02-04T00:00:00",
          "2018-02-05T00:00:00",
          "2018-02-06T00:00:00",
          "2018-02-07T00:00:00",
          "2018-02-08T00:00:00",
          "2018-02-09T00:00:00",
          "2018-02-10T00:00:00",
          "2018-02-11T00:00:00",
          "2018-02-12T00:00:00",
          "2018-02-13T00:00:00",
          "2018-02-14T00:00:00",
          "2018-02-15T00:00:00",
          "2018-02-16T00:00:00",
          "2018-02-17T00:00:00",
          "2018-02-18T00:00:00",
          "2018-02-19T00:00:00",
          "2018-02-20T00:00:00",
          "2018-02-21T00:00:00",
          "2018-02-22T00:00:00",
          "2018-02-23T00:00:00",
          "2018-02-24T00:00:00",
          "2018-02-25T00:00:00",
          "2018-02-26T00:00:00",
          "2018-02-27T00:00:00",
          "2018-02-28T00:00:00",
          "2018-03-01T00:00:00",
          "2018-03-02T00:00:00",
          "2018-03-03T00:00:00",
          "2018-03-04T00:00:00",
          "2018-03-05T00:00:00",
          "2018-03-06T00:00:00",
          "2018-03-07T00:00:00",
          "2018-03-08T00:00:00",
          "2018-03-09T00:00:00",
          "2018-03-10T00:00:00",
          "2018-03-11T00:00:00",
          "2018-03-12T00:00:00",
          "2018-03-13T00:00:00",
          "2018-03-14T00:00:00",
          "2018-03-15T00:00:00",
          "2018-03-16T00:00:00",
          "2018-03-17T00:00:00",
          "2018-03-18T00:00:00",
          "2018-03-19T00:00:00",
          "2018-03-20T00:00:00",
          "2018-03-21T00:00:00",
          "2018-03-22T00:00:00",
          "2018-03-23T00:00:00",
          "2018-03-24T00:00:00",
          "2018-03-25T00:00:00",
          "2018-03-26T00:00:00",
          "2018-03-27T00:00:00",
          "2018-03-28T00:00:00",
          "2018-03-29T00:00:00",
          "2018-03-30T00:00:00",
          "2018-03-31T00:00:00",
          "2018-04-01T00:00:00",
          "2018-04-02T00:00:00",
          "2018-04-03T00:00:00",
          "2018-04-04T00:00:00",
          "2018-04-05T00:00:00",
          "2018-04-06T00:00:00",
          "2018-04-07T00:00:00",
          "2018-04-14T00:00:00",
          "2018-04-15T00:00:00",
          "2018-04-16T00:00:00",
          "2018-04-17T00:00:00",
          "2018-04-18T00:00:00",
          "2018-04-19T00:00:00",
          "2018-04-20T00:00:00",
          "2018-04-21T00:00:00",
          "2018-04-22T00:00:00",
          "2018-04-23T00:00:00",
          "2018-04-24T00:00:00",
          "2018-04-25T00:00:00",
          "2018-04-26T00:00:00",
          "2018-04-27T00:00:00",
          "2018-04-28T00:00:00",
          "2018-04-29T00:00:00",
          "2018-04-30T00:00:00",
          "2018-05-01T00:00:00",
          "2018-05-02T00:00:00",
          "2018-05-03T00:00:00",
          "2018-05-04T00:00:00",
          "2018-05-05T00:00:00",
          "2018-05-06T00:00:00",
          "2018-05-07T00:00:00",
          "2018-05-08T00:00:00",
          "2018-05-09T00:00:00",
          "2018-05-10T00:00:00",
          "2018-05-11T00:00:00",
          "2018-05-12T00:00:00",
          "2018-05-13T00:00:00",
          "2018-05-14T00:00:00",
          "2018-05-15T00:00:00",
          "2018-05-16T00:00:00",
          "2018-05-17T00:00:00",
          "2018-05-18T00:00:00",
          "2018-05-19T00:00:00",
          "2018-05-20T00:00:00",
          "2018-05-21T00:00:00",
          "2018-05-22T00:00:00",
          "2018-05-23T00:00:00",
          "2018-05-24T00:00:00",
          "2018-05-25T00:00:00",
          "2018-05-26T00:00:00",
          "2018-05-27T00:00:00",
          "2018-05-28T00:00:00",
          "2018-05-29T00:00:00",
          "2018-05-30T00:00:00",
          "2018-05-31T00:00:00",
          "2018-06-01T00:00:00",
          "2018-06-02T00:00:00",
          "2018-06-03T00:00:00",
          "2018-06-04T00:00:00",
          "2018-06-05T00:00:00",
          "2018-06-06T00:00:00",
          "2018-06-07T00:00:00",
          "2018-06-08T00:00:00",
          "2018-06-09T00:00:00",
          "2018-06-10T00:00:00",
          "2018-06-11T00:00:00",
          "2018-06-12T00:00:00",
          "2018-06-13T00:00:00",
          "2018-06-14T00:00:00"
         ],
         "xaxis": "x",
         "y": [
          0,
          0,
          0,
          0,
          0,
          0,
          0,
          0,
          0,
          0,
          0,
          0,
          0,
          0,
          0,
          0,
          0,
          0,
          0,
          0,
          0,
          0,
          0,
          0,
          0,
          0,
          0,
          0,
          0,
          0,
          0,
          0,
          0,
          0,
          0,
          0,
          0,
          0,
          0,
          0,
          0,
          0,
          0,
          0,
          0,
          0,
          0,
          0,
          0,
          0,
          0,
          0,
          0,
          0,
          0,
          0,
          0,
          0,
          0,
          0,
          0,
          0,
          0,
          0,
          0,
          0,
          0,
          0,
          0,
          0,
          0,
          0,
          0,
          0,
          0,
          0,
          0,
          0,
          0,
          0,
          0,
          0,
          0,
          216,
          296,
          326,
          316,
          290,
          254,
          282,
          324,
          312,
          300,
          296,
          282,
          318,
          314,
          306,
          294,
          306,
          294,
          296,
          262,
          328,
          342,
          300,
          338,
          326,
          272,
          300,
          262,
          310,
          312,
          298,
          308,
          300,
          286,
          340,
          336,
          80,
          270,
          306,
          258,
          322,
          308,
          310,
          280,
          288,
          276,
          294,
          324,
          320,
          164,
          294,
          260,
          298,
          320,
          300,
          306,
          344,
          260,
          324,
          266,
          288,
          320,
          318,
          300,
          296,
          290,
          304,
          328,
          324,
          284,
          348,
          284,
          370,
          360,
          336,
          288,
          260,
          268,
          346,
          324,
          346,
          310,
          306,
          344,
          278,
          274,
          288,
          284,
          262,
          280,
          270,
          364,
          308,
          272,
          332,
          184,
          112,
          376,
          372,
          376,
          310,
          304,
          328,
          298,
          322,
          328,
          320,
          356,
          360,
          316,
          304,
          316,
          306,
          276,
          300,
          344,
          312,
          296,
          332,
          350,
          300,
          296
         ],
         "yaxis": "y"
        },
        {
         "hovertemplate": "region=Russia<br>Date=%{x}<br>Count of videos=%{y}<extra></extra>",
         "legendgroup": "Russia",
         "line": {
          "color": "rgb(153, 201, 69)",
          "dash": "solid"
         },
         "mode": "lines",
         "name": "Russia",
         "showlegend": true,
         "type": "scattergl",
         "x": [
          "2017-11-14T00:00:00",
          "2017-11-15T00:00:00",
          "2017-11-16T00:00:00",
          "2017-11-17T00:00:00",
          "2017-11-18T00:00:00",
          "2017-11-19T00:00:00",
          "2017-11-20T00:00:00",
          "2017-11-21T00:00:00",
          "2017-11-22T00:00:00",
          "2017-11-23T00:00:00",
          "2017-11-24T00:00:00",
          "2017-11-25T00:00:00",
          "2017-11-26T00:00:00",
          "2017-11-27T00:00:00",
          "2017-11-28T00:00:00",
          "2017-11-29T00:00:00",
          "2017-11-30T00:00:00",
          "2017-12-01T00:00:00",
          "2017-12-02T00:00:00",
          "2017-12-03T00:00:00",
          "2017-12-04T00:00:00",
          "2017-12-05T00:00:00",
          "2017-12-06T00:00:00",
          "2017-12-07T00:00:00",
          "2017-12-08T00:00:00",
          "2017-12-09T00:00:00",
          "2017-12-10T00:00:00",
          "2017-12-11T00:00:00",
          "2017-12-12T00:00:00",
          "2017-12-13T00:00:00",
          "2017-12-14T00:00:00",
          "2017-12-15T00:00:00",
          "2017-12-16T00:00:00",
          "2017-12-17T00:00:00",
          "2017-12-18T00:00:00",
          "2017-12-19T00:00:00",
          "2017-12-20T00:00:00",
          "2017-12-21T00:00:00",
          "2017-12-22T00:00:00",
          "2017-12-23T00:00:00",
          "2017-12-24T00:00:00",
          "2017-12-25T00:00:00",
          "2017-12-26T00:00:00",
          "2017-12-27T00:00:00",
          "2017-12-28T00:00:00",
          "2017-12-29T00:00:00",
          "2017-12-30T00:00:00",
          "2017-12-31T00:00:00",
          "2018-01-01T00:00:00",
          "2018-01-02T00:00:00",
          "2018-01-03T00:00:00",
          "2018-01-04T00:00:00",
          "2018-01-05T00:00:00",
          "2018-01-06T00:00:00",
          "2018-01-07T00:00:00",
          "2018-01-08T00:00:00",
          "2018-01-09T00:00:00",
          "2018-01-12T00:00:00",
          "2018-01-13T00:00:00",
          "2018-01-14T00:00:00",
          "2018-01-15T00:00:00",
          "2018-01-16T00:00:00",
          "2018-01-17T00:00:00",
          "2018-01-18T00:00:00",
          "2018-01-19T00:00:00",
          "2018-01-20T00:00:00",
          "2018-01-21T00:00:00",
          "2018-01-22T00:00:00",
          "2018-01-23T00:00:00",
          "2018-01-24T00:00:00",
          "2018-01-25T00:00:00",
          "2018-01-26T00:00:00",
          "2018-01-27T00:00:00",
          "2018-01-28T00:00:00",
          "2018-01-29T00:00:00",
          "2018-01-30T00:00:00",
          "2018-01-31T00:00:00",
          "2018-02-01T00:00:00",
          "2018-02-02T00:00:00",
          "2018-02-03T00:00:00",
          "2018-02-04T00:00:00",
          "2018-02-05T00:00:00",
          "2018-02-06T00:00:00",
          "2018-02-07T00:00:00",
          "2018-02-08T00:00:00",
          "2018-02-09T00:00:00",
          "2018-02-10T00:00:00",
          "2018-02-11T00:00:00",
          "2018-02-12T00:00:00",
          "2018-02-13T00:00:00",
          "2018-02-14T00:00:00",
          "2018-02-15T00:00:00",
          "2018-02-16T00:00:00",
          "2018-02-17T00:00:00",
          "2018-02-18T00:00:00",
          "2018-02-19T00:00:00",
          "2018-02-20T00:00:00",
          "2018-02-21T00:00:00",
          "2018-02-22T00:00:00",
          "2018-02-23T00:00:00",
          "2018-02-24T00:00:00",
          "2018-02-25T00:00:00",
          "2018-02-26T00:00:00",
          "2018-02-27T00:00:00",
          "2018-02-28T00:00:00",
          "2018-03-01T00:00:00",
          "2018-03-02T00:00:00",
          "2018-03-03T00:00:00",
          "2018-03-04T00:00:00",
          "2018-03-05T00:00:00",
          "2018-03-06T00:00:00",
          "2018-03-07T00:00:00",
          "2018-03-08T00:00:00",
          "2018-03-09T00:00:00",
          "2018-03-10T00:00:00",
          "2018-03-11T00:00:00",
          "2018-03-12T00:00:00",
          "2018-03-13T00:00:00",
          "2018-03-14T00:00:00",
          "2018-03-15T00:00:00",
          "2018-03-16T00:00:00",
          "2018-03-17T00:00:00",
          "2018-03-18T00:00:00",
          "2018-03-19T00:00:00",
          "2018-03-20T00:00:00",
          "2018-03-21T00:00:00",
          "2018-03-22T00:00:00",
          "2018-03-23T00:00:00",
          "2018-03-24T00:00:00",
          "2018-03-25T00:00:00",
          "2018-03-26T00:00:00",
          "2018-03-27T00:00:00",
          "2018-03-28T00:00:00",
          "2018-03-29T00:00:00",
          "2018-03-30T00:00:00",
          "2018-03-31T00:00:00",
          "2018-04-01T00:00:00",
          "2018-04-02T00:00:00",
          "2018-04-03T00:00:00",
          "2018-04-04T00:00:00",
          "2018-04-05T00:00:00",
          "2018-04-06T00:00:00",
          "2018-04-07T00:00:00",
          "2018-04-14T00:00:00",
          "2018-04-15T00:00:00",
          "2018-04-16T00:00:00",
          "2018-04-17T00:00:00",
          "2018-04-18T00:00:00",
          "2018-04-19T00:00:00",
          "2018-04-20T00:00:00",
          "2018-04-21T00:00:00",
          "2018-04-22T00:00:00",
          "2018-04-23T00:00:00",
          "2018-04-24T00:00:00",
          "2018-04-25T00:00:00",
          "2018-04-26T00:00:00",
          "2018-04-27T00:00:00",
          "2018-04-28T00:00:00",
          "2018-04-29T00:00:00",
          "2018-04-30T00:00:00",
          "2018-05-01T00:00:00",
          "2018-05-02T00:00:00",
          "2018-05-03T00:00:00",
          "2018-05-04T00:00:00",
          "2018-05-05T00:00:00",
          "2018-05-06T00:00:00",
          "2018-05-07T00:00:00",
          "2018-05-08T00:00:00",
          "2018-05-09T00:00:00",
          "2018-05-10T00:00:00",
          "2018-05-11T00:00:00",
          "2018-05-12T00:00:00",
          "2018-05-13T00:00:00",
          "2018-05-14T00:00:00",
          "2018-05-15T00:00:00",
          "2018-05-16T00:00:00",
          "2018-05-17T00:00:00",
          "2018-05-18T00:00:00",
          "2018-05-19T00:00:00",
          "2018-05-20T00:00:00",
          "2018-05-21T00:00:00",
          "2018-05-22T00:00:00",
          "2018-05-23T00:00:00",
          "2018-05-24T00:00:00",
          "2018-05-25T00:00:00",
          "2018-05-26T00:00:00",
          "2018-05-27T00:00:00",
          "2018-05-28T00:00:00",
          "2018-05-29T00:00:00",
          "2018-05-30T00:00:00",
          "2018-05-31T00:00:00",
          "2018-06-01T00:00:00",
          "2018-06-02T00:00:00",
          "2018-06-03T00:00:00",
          "2018-06-04T00:00:00",
          "2018-06-05T00:00:00",
          "2018-06-06T00:00:00",
          "2018-06-07T00:00:00",
          "2018-06-08T00:00:00",
          "2018-06-09T00:00:00",
          "2018-06-10T00:00:00",
          "2018-06-11T00:00:00",
          "2018-06-12T00:00:00",
          "2018-06-13T00:00:00",
          "2018-06-14T00:00:00"
         ],
         "xaxis": "x",
         "y": [
          352,
          360,
          354,
          364,
          358,
          344,
          340,
          358,
          364,
          350,
          344,
          346,
          352,
          352,
          342,
          360,
          370,
          364,
          348,
          356,
          362,
          366,
          360,
          358,
          372,
          364,
          368,
          358,
          372,
          358,
          364,
          364,
          366,
          360,
          364,
          372,
          362,
          372,
          370,
          354,
          356,
          360,
          360,
          376,
          378,
          360,
          354,
          368,
          354,
          344,
          348,
          354,
          362,
          356,
          364,
          344,
          358,
          362,
          346,
          334,
          362,
          348,
          354,
          350,
          344,
          350,
          350,
          358,
          354,
          344,
          368,
          364,
          350,
          348,
          360,
          354,
          352,
          362,
          352,
          360,
          354,
          356,
          368,
          358,
          346,
          370,
          368,
          358,
          344,
          360,
          354,
          350,
          350,
          348,
          348,
          358,
          370,
          366,
          360,
          356,
          368,
          354,
          356,
          346,
          376,
          362,
          366,
          362,
          362,
          362,
          366,
          354,
          364,
          360,
          362,
          360,
          356,
          374,
          372,
          364,
          362,
          360,
          366,
          358,
          356,
          368,
          350,
          360,
          356,
          358,
          346,
          328,
          328,
          340,
          358,
          366,
          342,
          362,
          364,
          356,
          364,
          376,
          364,
          360,
          344,
          358,
          356,
          362,
          362,
          342,
          368,
          364,
          362,
          368,
          368,
          382,
          368,
          372,
          358,
          362,
          358,
          340,
          358,
          374,
          360,
          366,
          360,
          358,
          368,
          342,
          382,
          376,
          360,
          372,
          360,
          362,
          364,
          372,
          308,
          372,
          366,
          328,
          354,
          376,
          376,
          348,
          346,
          380,
          370,
          374,
          382,
          384,
          368,
          376,
          358,
          358,
          378,
          380,
          382,
          384,
          298,
          374,
          372,
          374,
          378
         ],
         "yaxis": "y"
        },
        {
         "hovertemplate": "region=United States<br>Date=%{x}<br>Count of videos=%{y}<extra></extra>",
         "legendgroup": "United States",
         "line": {
          "color": "rgb(204, 97, 176)",
          "dash": "solid"
         },
         "mode": "lines",
         "name": "United States",
         "showlegend": true,
         "type": "scattergl",
         "x": [
          "2017-11-14T00:00:00",
          "2017-11-15T00:00:00",
          "2017-11-16T00:00:00",
          "2017-11-17T00:00:00",
          "2017-11-18T00:00:00",
          "2017-11-19T00:00:00",
          "2017-11-20T00:00:00",
          "2017-11-21T00:00:00",
          "2017-11-22T00:00:00",
          "2017-11-23T00:00:00",
          "2017-11-24T00:00:00",
          "2017-11-25T00:00:00",
          "2017-11-26T00:00:00",
          "2017-11-27T00:00:00",
          "2017-11-28T00:00:00",
          "2017-11-29T00:00:00",
          "2017-11-30T00:00:00",
          "2017-12-01T00:00:00",
          "2017-12-02T00:00:00",
          "2017-12-03T00:00:00",
          "2017-12-04T00:00:00",
          "2017-12-05T00:00:00",
          "2017-12-06T00:00:00",
          "2017-12-07T00:00:00",
          "2017-12-08T00:00:00",
          "2017-12-09T00:00:00",
          "2017-12-10T00:00:00",
          "2017-12-11T00:00:00",
          "2017-12-12T00:00:00",
          "2017-12-13T00:00:00",
          "2017-12-14T00:00:00",
          "2017-12-15T00:00:00",
          "2017-12-16T00:00:00",
          "2017-12-17T00:00:00",
          "2017-12-18T00:00:00",
          "2017-12-19T00:00:00",
          "2017-12-20T00:00:00",
          "2017-12-21T00:00:00",
          "2017-12-22T00:00:00",
          "2017-12-23T00:00:00",
          "2017-12-24T00:00:00",
          "2017-12-25T00:00:00",
          "2017-12-26T00:00:00",
          "2017-12-27T00:00:00",
          "2017-12-28T00:00:00",
          "2017-12-29T00:00:00",
          "2017-12-30T00:00:00",
          "2017-12-31T00:00:00",
          "2018-01-01T00:00:00",
          "2018-01-02T00:00:00",
          "2018-01-03T00:00:00",
          "2018-01-04T00:00:00",
          "2018-01-05T00:00:00",
          "2018-01-06T00:00:00",
          "2018-01-07T00:00:00",
          "2018-01-08T00:00:00",
          "2018-01-09T00:00:00",
          "2018-01-12T00:00:00",
          "2018-01-13T00:00:00",
          "2018-01-14T00:00:00",
          "2018-01-15T00:00:00",
          "2018-01-16T00:00:00",
          "2018-01-17T00:00:00",
          "2018-01-18T00:00:00",
          "2018-01-19T00:00:00",
          "2018-01-20T00:00:00",
          "2018-01-21T00:00:00",
          "2018-01-22T00:00:00",
          "2018-01-23T00:00:00",
          "2018-01-24T00:00:00",
          "2018-01-25T00:00:00",
          "2018-01-26T00:00:00",
          "2018-01-27T00:00:00",
          "2018-01-28T00:00:00",
          "2018-01-29T00:00:00",
          "2018-01-30T00:00:00",
          "2018-01-31T00:00:00",
          "2018-02-01T00:00:00",
          "2018-02-02T00:00:00",
          "2018-02-03T00:00:00",
          "2018-02-04T00:00:00",
          "2018-02-05T00:00:00",
          "2018-02-06T00:00:00",
          "2018-02-07T00:00:00",
          "2018-02-08T00:00:00",
          "2018-02-09T00:00:00",
          "2018-02-10T00:00:00",
          "2018-02-11T00:00:00",
          "2018-02-12T00:00:00",
          "2018-02-13T00:00:00",
          "2018-02-14T00:00:00",
          "2018-02-15T00:00:00",
          "2018-02-16T00:00:00",
          "2018-02-17T00:00:00",
          "2018-02-18T00:00:00",
          "2018-02-19T00:00:00",
          "2018-02-20T00:00:00",
          "2018-02-21T00:00:00",
          "2018-02-22T00:00:00",
          "2018-02-23T00:00:00",
          "2018-02-24T00:00:00",
          "2018-02-25T00:00:00",
          "2018-02-26T00:00:00",
          "2018-02-27T00:00:00",
          "2018-02-28T00:00:00",
          "2018-03-01T00:00:00",
          "2018-03-02T00:00:00",
          "2018-03-03T00:00:00",
          "2018-03-04T00:00:00",
          "2018-03-05T00:00:00",
          "2018-03-06T00:00:00",
          "2018-03-07T00:00:00",
          "2018-03-08T00:00:00",
          "2018-03-09T00:00:00",
          "2018-03-10T00:00:00",
          "2018-03-11T00:00:00",
          "2018-03-12T00:00:00",
          "2018-03-13T00:00:00",
          "2018-03-14T00:00:00",
          "2018-03-15T00:00:00",
          "2018-03-16T00:00:00",
          "2018-03-17T00:00:00",
          "2018-03-18T00:00:00",
          "2018-03-19T00:00:00",
          "2018-03-20T00:00:00",
          "2018-03-21T00:00:00",
          "2018-03-22T00:00:00",
          "2018-03-23T00:00:00",
          "2018-03-24T00:00:00",
          "2018-03-25T00:00:00",
          "2018-03-26T00:00:00",
          "2018-03-27T00:00:00",
          "2018-03-28T00:00:00",
          "2018-03-29T00:00:00",
          "2018-03-30T00:00:00",
          "2018-03-31T00:00:00",
          "2018-04-01T00:00:00",
          "2018-04-02T00:00:00",
          "2018-04-03T00:00:00",
          "2018-04-04T00:00:00",
          "2018-04-05T00:00:00",
          "2018-04-06T00:00:00",
          "2018-04-07T00:00:00",
          "2018-04-14T00:00:00",
          "2018-04-15T00:00:00",
          "2018-04-16T00:00:00",
          "2018-04-17T00:00:00",
          "2018-04-18T00:00:00",
          "2018-04-19T00:00:00",
          "2018-04-20T00:00:00",
          "2018-04-21T00:00:00",
          "2018-04-22T00:00:00",
          "2018-04-23T00:00:00",
          "2018-04-24T00:00:00",
          "2018-04-25T00:00:00",
          "2018-04-26T00:00:00",
          "2018-04-27T00:00:00",
          "2018-04-28T00:00:00",
          "2018-04-29T00:00:00",
          "2018-04-30T00:00:00",
          "2018-05-01T00:00:00",
          "2018-05-02T00:00:00",
          "2018-05-03T00:00:00",
          "2018-05-04T00:00:00",
          "2018-05-05T00:00:00",
          "2018-05-06T00:00:00",
          "2018-05-07T00:00:00",
          "2018-05-08T00:00:00",
          "2018-05-09T00:00:00",
          "2018-05-10T00:00:00",
          "2018-05-11T00:00:00",
          "2018-05-12T00:00:00",
          "2018-05-13T00:00:00",
          "2018-05-14T00:00:00",
          "2018-05-15T00:00:00",
          "2018-05-16T00:00:00",
          "2018-05-17T00:00:00",
          "2018-05-18T00:00:00",
          "2018-05-19T00:00:00",
          "2018-05-20T00:00:00",
          "2018-05-21T00:00:00",
          "2018-05-22T00:00:00",
          "2018-05-23T00:00:00",
          "2018-05-24T00:00:00",
          "2018-05-25T00:00:00",
          "2018-05-26T00:00:00",
          "2018-05-27T00:00:00",
          "2018-05-28T00:00:00",
          "2018-05-29T00:00:00",
          "2018-05-30T00:00:00",
          "2018-05-31T00:00:00",
          "2018-06-01T00:00:00",
          "2018-06-02T00:00:00",
          "2018-06-03T00:00:00",
          "2018-06-04T00:00:00",
          "2018-06-05T00:00:00",
          "2018-06-06T00:00:00",
          "2018-06-07T00:00:00",
          "2018-06-08T00:00:00",
          "2018-06-09T00:00:00",
          "2018-06-10T00:00:00",
          "2018-06-11T00:00:00",
          "2018-06-12T00:00:00",
          "2018-06-13T00:00:00",
          "2018-06-14T00:00:00"
         ],
         "xaxis": "x",
         "y": [
          394,
          396,
          396,
          394,
          394,
          390,
          390,
          392,
          392,
          388,
          390,
          390,
          390,
          390,
          390,
          388,
          390,
          390,
          390,
          394,
          398,
          396,
          394,
          394,
          392,
          392,
          390,
          390,
          394,
          394,
          394,
          394,
          394,
          396,
          398,
          398,
          398,
          398,
          400,
          400,
          400,
          400,
          400,
          398,
          398,
          398,
          398,
          394,
          394,
          394,
          392,
          390,
          390,
          388,
          388,
          388,
          390,
          392,
          386,
          386,
          384,
          382,
          382,
          388,
          394,
          396,
          394,
          394,
          392,
          392,
          394,
          390,
          390,
          392,
          392,
          394,
          386,
          386,
          378,
          378,
          384,
          392,
          394,
          394,
          396,
          396,
          398,
          398,
          392,
          394,
          394,
          390,
          392,
          388,
          388,
          390,
          388,
          388,
          386,
          386,
          384,
          384,
          382,
          382,
          388,
          392,
          394,
          394,
          394,
          396,
          396,
          394,
          392,
          396,
          396,
          396,
          396,
          396,
          394,
          394,
          392,
          392,
          394,
          396,
          398,
          400,
          400,
          398,
          398,
          398,
          398,
          396,
          398,
          398,
          398,
          398,
          398,
          398,
          398,
          396,
          396,
          398,
          398,
          398,
          398,
          398,
          398,
          398,
          400,
          400,
          400,
          400,
          400,
          400,
          400,
          400,
          400,
          400,
          400,
          398,
          398,
          396,
          396,
          396,
          396,
          396,
          396,
          396,
          396,
          396,
          396,
          394,
          394,
          398,
          392,
          394,
          394,
          394,
          394,
          394,
          394,
          394,
          394,
          394,
          394,
          394,
          394,
          394,
          394,
          394,
          394,
          394,
          396,
          396,
          396,
          396,
          396,
          396,
          396,
          398,
          398,
          398,
          398,
          398,
          398
         ],
         "yaxis": "y"
        }
       ],
       "layout": {
        "font": {
         "color": "dark blue"
        },
        "height": 600,
        "legend": {
         "title": {
          "text": "region"
         },
         "tracegroupgap": 0
        },
        "template": {
         "data": {
          "bar": [
           {
            "error_x": {
             "color": "#2a3f5f"
            },
            "error_y": {
             "color": "#2a3f5f"
            },
            "marker": {
             "line": {
              "color": "#E5ECF6",
              "width": 0.5
             }
            },
            "type": "bar"
           }
          ],
          "barpolar": [
           {
            "marker": {
             "line": {
              "color": "#E5ECF6",
              "width": 0.5
             }
            },
            "type": "barpolar"
           }
          ],
          "carpet": [
           {
            "aaxis": {
             "endlinecolor": "#2a3f5f",
             "gridcolor": "white",
             "linecolor": "white",
             "minorgridcolor": "white",
             "startlinecolor": "#2a3f5f"
            },
            "baxis": {
             "endlinecolor": "#2a3f5f",
             "gridcolor": "white",
             "linecolor": "white",
             "minorgridcolor": "white",
             "startlinecolor": "#2a3f5f"
            },
            "type": "carpet"
           }
          ],
          "choropleth": [
           {
            "colorbar": {
             "outlinewidth": 0,
             "ticks": ""
            },
            "type": "choropleth"
           }
          ],
          "contour": [
           {
            "colorbar": {
             "outlinewidth": 0,
             "ticks": ""
            },
            "colorscale": [
             [
              0,
              "#0d0887"
             ],
             [
              0.1111111111111111,
              "#46039f"
             ],
             [
              0.2222222222222222,
              "#7201a8"
             ],
             [
              0.3333333333333333,
              "#9c179e"
             ],
             [
              0.4444444444444444,
              "#bd3786"
             ],
             [
              0.5555555555555556,
              "#d8576b"
             ],
             [
              0.6666666666666666,
              "#ed7953"
             ],
             [
              0.7777777777777778,
              "#fb9f3a"
             ],
             [
              0.8888888888888888,
              "#fdca26"
             ],
             [
              1,
              "#f0f921"
             ]
            ],
            "type": "contour"
           }
          ],
          "contourcarpet": [
           {
            "colorbar": {
             "outlinewidth": 0,
             "ticks": ""
            },
            "type": "contourcarpet"
           }
          ],
          "heatmap": [
           {
            "colorbar": {
             "outlinewidth": 0,
             "ticks": ""
            },
            "colorscale": [
             [
              0,
              "#0d0887"
             ],
             [
              0.1111111111111111,
              "#46039f"
             ],
             [
              0.2222222222222222,
              "#7201a8"
             ],
             [
              0.3333333333333333,
              "#9c179e"
             ],
             [
              0.4444444444444444,
              "#bd3786"
             ],
             [
              0.5555555555555556,
              "#d8576b"
             ],
             [
              0.6666666666666666,
              "#ed7953"
             ],
             [
              0.7777777777777778,
              "#fb9f3a"
             ],
             [
              0.8888888888888888,
              "#fdca26"
             ],
             [
              1,
              "#f0f921"
             ]
            ],
            "type": "heatmap"
           }
          ],
          "heatmapgl": [
           {
            "colorbar": {
             "outlinewidth": 0,
             "ticks": ""
            },
            "colorscale": [
             [
              0,
              "#0d0887"
             ],
             [
              0.1111111111111111,
              "#46039f"
             ],
             [
              0.2222222222222222,
              "#7201a8"
             ],
             [
              0.3333333333333333,
              "#9c179e"
             ],
             [
              0.4444444444444444,
              "#bd3786"
             ],
             [
              0.5555555555555556,
              "#d8576b"
             ],
             [
              0.6666666666666666,
              "#ed7953"
             ],
             [
              0.7777777777777778,
              "#fb9f3a"
             ],
             [
              0.8888888888888888,
              "#fdca26"
             ],
             [
              1,
              "#f0f921"
             ]
            ],
            "type": "heatmapgl"
           }
          ],
          "histogram": [
           {
            "marker": {
             "colorbar": {
              "outlinewidth": 0,
              "ticks": ""
             }
            },
            "type": "histogram"
           }
          ],
          "histogram2d": [
           {
            "colorbar": {
             "outlinewidth": 0,
             "ticks": ""
            },
            "colorscale": [
             [
              0,
              "#0d0887"
             ],
             [
              0.1111111111111111,
              "#46039f"
             ],
             [
              0.2222222222222222,
              "#7201a8"
             ],
             [
              0.3333333333333333,
              "#9c179e"
             ],
             [
              0.4444444444444444,
              "#bd3786"
             ],
             [
              0.5555555555555556,
              "#d8576b"
             ],
             [
              0.6666666666666666,
              "#ed7953"
             ],
             [
              0.7777777777777778,
              "#fb9f3a"
             ],
             [
              0.8888888888888888,
              "#fdca26"
             ],
             [
              1,
              "#f0f921"
             ]
            ],
            "type": "histogram2d"
           }
          ],
          "histogram2dcontour": [
           {
            "colorbar": {
             "outlinewidth": 0,
             "ticks": ""
            },
            "colorscale": [
             [
              0,
              "#0d0887"
             ],
             [
              0.1111111111111111,
              "#46039f"
             ],
             [
              0.2222222222222222,
              "#7201a8"
             ],
             [
              0.3333333333333333,
              "#9c179e"
             ],
             [
              0.4444444444444444,
              "#bd3786"
             ],
             [
              0.5555555555555556,
              "#d8576b"
             ],
             [
              0.6666666666666666,
              "#ed7953"
             ],
             [
              0.7777777777777778,
              "#fb9f3a"
             ],
             [
              0.8888888888888888,
              "#fdca26"
             ],
             [
              1,
              "#f0f921"
             ]
            ],
            "type": "histogram2dcontour"
           }
          ],
          "mesh3d": [
           {
            "colorbar": {
             "outlinewidth": 0,
             "ticks": ""
            },
            "type": "mesh3d"
           }
          ],
          "parcoords": [
           {
            "line": {
             "colorbar": {
              "outlinewidth": 0,
              "ticks": ""
             }
            },
            "type": "parcoords"
           }
          ],
          "pie": [
           {
            "automargin": true,
            "type": "pie"
           }
          ],
          "scatter": [
           {
            "marker": {
             "colorbar": {
              "outlinewidth": 0,
              "ticks": ""
             }
            },
            "type": "scatter"
           }
          ],
          "scatter3d": [
           {
            "line": {
             "colorbar": {
              "outlinewidth": 0,
              "ticks": ""
             }
            },
            "marker": {
             "colorbar": {
              "outlinewidth": 0,
              "ticks": ""
             }
            },
            "type": "scatter3d"
           }
          ],
          "scattercarpet": [
           {
            "marker": {
             "colorbar": {
              "outlinewidth": 0,
              "ticks": ""
             }
            },
            "type": "scattercarpet"
           }
          ],
          "scattergeo": [
           {
            "marker": {
             "colorbar": {
              "outlinewidth": 0,
              "ticks": ""
             }
            },
            "type": "scattergeo"
           }
          ],
          "scattergl": [
           {
            "marker": {
             "colorbar": {
              "outlinewidth": 0,
              "ticks": ""
             }
            },
            "type": "scattergl"
           }
          ],
          "scattermapbox": [
           {
            "marker": {
             "colorbar": {
              "outlinewidth": 0,
              "ticks": ""
             }
            },
            "type": "scattermapbox"
           }
          ],
          "scatterpolar": [
           {
            "marker": {
             "colorbar": {
              "outlinewidth": 0,
              "ticks": ""
             }
            },
            "type": "scatterpolar"
           }
          ],
          "scatterpolargl": [
           {
            "marker": {
             "colorbar": {
              "outlinewidth": 0,
              "ticks": ""
             }
            },
            "type": "scatterpolargl"
           }
          ],
          "scatterternary": [
           {
            "marker": {
             "colorbar": {
              "outlinewidth": 0,
              "ticks": ""
             }
            },
            "type": "scatterternary"
           }
          ],
          "surface": [
           {
            "colorbar": {
             "outlinewidth": 0,
             "ticks": ""
            },
            "colorscale": [
             [
              0,
              "#0d0887"
             ],
             [
              0.1111111111111111,
              "#46039f"
             ],
             [
              0.2222222222222222,
              "#7201a8"
             ],
             [
              0.3333333333333333,
              "#9c179e"
             ],
             [
              0.4444444444444444,
              "#bd3786"
             ],
             [
              0.5555555555555556,
              "#d8576b"
             ],
             [
              0.6666666666666666,
              "#ed7953"
             ],
             [
              0.7777777777777778,
              "#fb9f3a"
             ],
             [
              0.8888888888888888,
              "#fdca26"
             ],
             [
              1,
              "#f0f921"
             ]
            ],
            "type": "surface"
           }
          ],
          "table": [
           {
            "cells": {
             "fill": {
              "color": "#EBF0F8"
             },
             "line": {
              "color": "white"
             }
            },
            "header": {
             "fill": {
              "color": "#C8D4E3"
             },
             "line": {
              "color": "white"
             }
            },
            "type": "table"
           }
          ]
         },
         "layout": {
          "annotationdefaults": {
           "arrowcolor": "#2a3f5f",
           "arrowhead": 0,
           "arrowwidth": 1
          },
          "autotypenumbers": "strict",
          "coloraxis": {
           "colorbar": {
            "outlinewidth": 0,
            "ticks": ""
           }
          },
          "colorscale": {
           "diverging": [
            [
             0,
             "#8e0152"
            ],
            [
             0.1,
             "#c51b7d"
            ],
            [
             0.2,
             "#de77ae"
            ],
            [
             0.3,
             "#f1b6da"
            ],
            [
             0.4,
             "#fde0ef"
            ],
            [
             0.5,
             "#f7f7f7"
            ],
            [
             0.6,
             "#e6f5d0"
            ],
            [
             0.7,
             "#b8e186"
            ],
            [
             0.8,
             "#7fbc41"
            ],
            [
             0.9,
             "#4d9221"
            ],
            [
             1,
             "#276419"
            ]
           ],
           "sequential": [
            [
             0,
             "#0d0887"
            ],
            [
             0.1111111111111111,
             "#46039f"
            ],
            [
             0.2222222222222222,
             "#7201a8"
            ],
            [
             0.3333333333333333,
             "#9c179e"
            ],
            [
             0.4444444444444444,
             "#bd3786"
            ],
            [
             0.5555555555555556,
             "#d8576b"
            ],
            [
             0.6666666666666666,
             "#ed7953"
            ],
            [
             0.7777777777777778,
             "#fb9f3a"
            ],
            [
             0.8888888888888888,
             "#fdca26"
            ],
            [
             1,
             "#f0f921"
            ]
           ],
           "sequentialminus": [
            [
             0,
             "#0d0887"
            ],
            [
             0.1111111111111111,
             "#46039f"
            ],
            [
             0.2222222222222222,
             "#7201a8"
            ],
            [
             0.3333333333333333,
             "#9c179e"
            ],
            [
             0.4444444444444444,
             "#bd3786"
            ],
            [
             0.5555555555555556,
             "#d8576b"
            ],
            [
             0.6666666666666666,
             "#ed7953"
            ],
            [
             0.7777777777777778,
             "#fb9f3a"
            ],
            [
             0.8888888888888888,
             "#fdca26"
            ],
            [
             1,
             "#f0f921"
            ]
           ]
          },
          "colorway": [
           "#636efa",
           "#EF553B",
           "#00cc96",
           "#ab63fa",
           "#FFA15A",
           "#19d3f3",
           "#FF6692",
           "#B6E880",
           "#FF97FF",
           "#FECB52"
          ],
          "font": {
           "color": "#2a3f5f"
          },
          "geo": {
           "bgcolor": "white",
           "lakecolor": "white",
           "landcolor": "#E5ECF6",
           "showlakes": true,
           "showland": true,
           "subunitcolor": "white"
          },
          "hoverlabel": {
           "align": "left"
          },
          "hovermode": "closest",
          "mapbox": {
           "style": "light"
          },
          "paper_bgcolor": "white",
          "plot_bgcolor": "#E5ECF6",
          "polar": {
           "angularaxis": {
            "gridcolor": "white",
            "linecolor": "white",
            "ticks": ""
           },
           "bgcolor": "#E5ECF6",
           "radialaxis": {
            "gridcolor": "white",
            "linecolor": "white",
            "ticks": ""
           }
          },
          "scene": {
           "xaxis": {
            "backgroundcolor": "#E5ECF6",
            "gridcolor": "white",
            "gridwidth": 2,
            "linecolor": "white",
            "showbackground": true,
            "ticks": "",
            "zerolinecolor": "white"
           },
           "yaxis": {
            "backgroundcolor": "#E5ECF6",
            "gridcolor": "white",
            "gridwidth": 2,
            "linecolor": "white",
            "showbackground": true,
            "ticks": "",
            "zerolinecolor": "white"
           },
           "zaxis": {
            "backgroundcolor": "#E5ECF6",
            "gridcolor": "white",
            "gridwidth": 2,
            "linecolor": "white",
            "showbackground": true,
            "ticks": "",
            "zerolinecolor": "white"
           }
          },
          "shapedefaults": {
           "line": {
            "color": "#2a3f5f"
           }
          },
          "ternary": {
           "aaxis": {
            "gridcolor": "white",
            "linecolor": "white",
            "ticks": ""
           },
           "baxis": {
            "gridcolor": "white",
            "linecolor": "white",
            "ticks": ""
           },
           "bgcolor": "#E5ECF6",
           "caxis": {
            "gridcolor": "white",
            "linecolor": "white",
            "ticks": ""
           }
          },
          "title": {
           "x": 0.05
          },
          "xaxis": {
           "automargin": true,
           "gridcolor": "white",
           "linecolor": "white",
           "ticks": "",
           "title": {
            "standoff": 15
           },
           "zerolinecolor": "white",
           "zerolinewidth": 2
          },
          "yaxis": {
           "automargin": true,
           "gridcolor": "white",
           "linecolor": "white",
           "ticks": "",
           "title": {
            "standoff": 15
           },
           "zerolinecolor": "white",
           "zerolinewidth": 2
          }
         }
        },
        "title": {
         "font": {
          "color": "black",
          "family": "Times New Roman",
          "size": 26
         },
         "text": "Daily videos count by region",
         "x": 0.5
        },
        "width": 800,
        "xaxis": {
         "anchor": "y",
         "domain": [
          0,
          1
         ],
         "title": {
          "text": "Date"
         }
        },
        "yaxis": {
         "anchor": "x",
         "domain": [
          0,
          1
         ],
         "title": {
          "text": "Count of videos"
         }
        }
       }
      },
      "text/html": [
       "<div>                            <div id=\"fe56c0ae-9e80-4e41-9e72-25e8fc9d23f3\" class=\"plotly-graph-div\" style=\"height:600px; width:800px;\"></div>            <script type=\"text/javascript\">                require([\"plotly\"], function(Plotly) {                    window.PLOTLYENV=window.PLOTLYENV || {};                                    if (document.getElementById(\"fe56c0ae-9e80-4e41-9e72-25e8fc9d23f3\")) {                    Plotly.newPlot(                        \"fe56c0ae-9e80-4e41-9e72-25e8fc9d23f3\",                        [{\"hovertemplate\": \"region=France<br>Date=%{x}<br>Count of videos=%{y}<extra></extra>\", \"legendgroup\": \"France\", \"line\": {\"color\": \"rgb(229, 134, 6)\", \"dash\": \"solid\"}, \"mode\": \"lines\", \"name\": \"France\", \"showlegend\": true, \"type\": \"scattergl\", \"x\": [\"2017-11-14T00:00:00\", \"2017-11-15T00:00:00\", \"2017-11-16T00:00:00\", \"2017-11-17T00:00:00\", \"2017-11-18T00:00:00\", \"2017-11-19T00:00:00\", \"2017-11-20T00:00:00\", \"2017-11-21T00:00:00\", \"2017-11-22T00:00:00\", \"2017-11-23T00:00:00\", \"2017-11-24T00:00:00\", \"2017-11-25T00:00:00\", \"2017-11-26T00:00:00\", \"2017-11-27T00:00:00\", \"2017-11-28T00:00:00\", \"2017-11-29T00:00:00\", \"2017-11-30T00:00:00\", \"2017-12-01T00:00:00\", \"2017-12-02T00:00:00\", \"2017-12-03T00:00:00\", \"2017-12-04T00:00:00\", \"2017-12-05T00:00:00\", \"2017-12-06T00:00:00\", \"2017-12-07T00:00:00\", \"2017-12-08T00:00:00\", \"2017-12-09T00:00:00\", \"2017-12-10T00:00:00\", \"2017-12-11T00:00:00\", \"2017-12-12T00:00:00\", \"2017-12-13T00:00:00\", \"2017-12-14T00:00:00\", \"2017-12-15T00:00:00\", \"2017-12-16T00:00:00\", \"2017-12-17T00:00:00\", \"2017-12-18T00:00:00\", \"2017-12-19T00:00:00\", \"2017-12-20T00:00:00\", \"2017-12-21T00:00:00\", \"2017-12-22T00:00:00\", \"2017-12-23T00:00:00\", \"2017-12-24T00:00:00\", \"2017-12-25T00:00:00\", \"2017-12-26T00:00:00\", \"2017-12-27T00:00:00\", \"2017-12-28T00:00:00\", \"2017-12-29T00:00:00\", \"2017-12-30T00:00:00\", \"2017-12-31T00:00:00\", \"2018-01-01T00:00:00\", \"2018-01-02T00:00:00\", \"2018-01-03T00:00:00\", \"2018-01-04T00:00:00\", \"2018-01-05T00:00:00\", \"2018-01-06T00:00:00\", \"2018-01-07T00:00:00\", \"2018-01-08T00:00:00\", \"2018-01-09T00:00:00\", \"2018-01-12T00:00:00\", \"2018-01-13T00:00:00\", \"2018-01-14T00:00:00\", \"2018-01-15T00:00:00\", \"2018-01-16T00:00:00\", \"2018-01-17T00:00:00\", \"2018-01-18T00:00:00\", \"2018-01-19T00:00:00\", \"2018-01-20T00:00:00\", \"2018-01-21T00:00:00\", \"2018-01-22T00:00:00\", \"2018-01-23T00:00:00\", \"2018-01-24T00:00:00\", \"2018-01-25T00:00:00\", \"2018-01-26T00:00:00\", \"2018-01-27T00:00:00\", \"2018-01-28T00:00:00\", \"2018-01-29T00:00:00\", \"2018-01-30T00:00:00\", \"2018-01-31T00:00:00\", \"2018-02-01T00:00:00\", \"2018-02-02T00:00:00\", \"2018-02-03T00:00:00\", \"2018-02-04T00:00:00\", \"2018-02-05T00:00:00\", \"2018-02-06T00:00:00\", \"2018-02-07T00:00:00\", \"2018-02-08T00:00:00\", \"2018-02-09T00:00:00\", \"2018-02-10T00:00:00\", \"2018-02-11T00:00:00\", \"2018-02-12T00:00:00\", \"2018-02-13T00:00:00\", \"2018-02-14T00:00:00\", \"2018-02-15T00:00:00\", \"2018-02-16T00:00:00\", \"2018-02-17T00:00:00\", \"2018-02-18T00:00:00\", \"2018-02-19T00:00:00\", \"2018-02-20T00:00:00\", \"2018-02-21T00:00:00\", \"2018-02-22T00:00:00\", \"2018-02-23T00:00:00\", \"2018-02-24T00:00:00\", \"2018-02-25T00:00:00\", \"2018-02-26T00:00:00\", \"2018-02-27T00:00:00\", \"2018-02-28T00:00:00\", \"2018-03-01T00:00:00\", \"2018-03-02T00:00:00\", \"2018-03-03T00:00:00\", \"2018-03-04T00:00:00\", \"2018-03-05T00:00:00\", \"2018-03-06T00:00:00\", \"2018-03-07T00:00:00\", \"2018-03-08T00:00:00\", \"2018-03-09T00:00:00\", \"2018-03-10T00:00:00\", \"2018-03-11T00:00:00\", \"2018-03-12T00:00:00\", \"2018-03-13T00:00:00\", \"2018-03-14T00:00:00\", \"2018-03-15T00:00:00\", \"2018-03-16T00:00:00\", \"2018-03-17T00:00:00\", \"2018-03-18T00:00:00\", \"2018-03-19T00:00:00\", \"2018-03-20T00:00:00\", \"2018-03-21T00:00:00\", \"2018-03-22T00:00:00\", \"2018-03-23T00:00:00\", \"2018-03-24T00:00:00\", \"2018-03-25T00:00:00\", \"2018-03-26T00:00:00\", \"2018-03-27T00:00:00\", \"2018-03-28T00:00:00\", \"2018-03-29T00:00:00\", \"2018-03-30T00:00:00\", \"2018-03-31T00:00:00\", \"2018-04-01T00:00:00\", \"2018-04-02T00:00:00\", \"2018-04-03T00:00:00\", \"2018-04-04T00:00:00\", \"2018-04-05T00:00:00\", \"2018-04-06T00:00:00\", \"2018-04-07T00:00:00\", \"2018-04-14T00:00:00\", \"2018-04-15T00:00:00\", \"2018-04-16T00:00:00\", \"2018-04-17T00:00:00\", \"2018-04-18T00:00:00\", \"2018-04-19T00:00:00\", \"2018-04-20T00:00:00\", \"2018-04-21T00:00:00\", \"2018-04-22T00:00:00\", \"2018-04-23T00:00:00\", \"2018-04-24T00:00:00\", \"2018-04-25T00:00:00\", \"2018-04-26T00:00:00\", \"2018-04-27T00:00:00\", \"2018-04-28T00:00:00\", \"2018-04-29T00:00:00\", \"2018-04-30T00:00:00\", \"2018-05-01T00:00:00\", \"2018-05-02T00:00:00\", \"2018-05-03T00:00:00\", \"2018-05-04T00:00:00\", \"2018-05-05T00:00:00\", \"2018-05-06T00:00:00\", \"2018-05-07T00:00:00\", \"2018-05-08T00:00:00\", \"2018-05-09T00:00:00\", \"2018-05-10T00:00:00\", \"2018-05-11T00:00:00\", \"2018-05-12T00:00:00\", \"2018-05-13T00:00:00\", \"2018-05-14T00:00:00\", \"2018-05-15T00:00:00\", \"2018-05-16T00:00:00\", \"2018-05-17T00:00:00\", \"2018-05-18T00:00:00\", \"2018-05-19T00:00:00\", \"2018-05-20T00:00:00\", \"2018-05-21T00:00:00\", \"2018-05-22T00:00:00\", \"2018-05-23T00:00:00\", \"2018-05-24T00:00:00\", \"2018-05-25T00:00:00\", \"2018-05-26T00:00:00\", \"2018-05-27T00:00:00\", \"2018-05-28T00:00:00\", \"2018-05-29T00:00:00\", \"2018-05-30T00:00:00\", \"2018-05-31T00:00:00\", \"2018-06-01T00:00:00\", \"2018-06-02T00:00:00\", \"2018-06-03T00:00:00\", \"2018-06-04T00:00:00\", \"2018-06-05T00:00:00\", \"2018-06-06T00:00:00\", \"2018-06-07T00:00:00\", \"2018-06-08T00:00:00\", \"2018-06-09T00:00:00\", \"2018-06-10T00:00:00\", \"2018-06-11T00:00:00\", \"2018-06-12T00:00:00\", \"2018-06-13T00:00:00\", \"2018-06-14T00:00:00\"], \"xaxis\": \"x\", \"y\": [374, 366, 370, 386, 372, 372, 372, 364, 368, 362, 350, 368, 366, 362, 368, 344, 360, 364, 360, 364, 366, 372, 360, 384, 372, 374, 372, 366, 372, 368, 366, 376, 388, 378, 370, 378, 366, 378, 376, 380, 374, 388, 370, 368, 356, 376, 370, 384, 346, 360, 366, 364, 378, 368, 374, 376, 364, 380, 368, 374, 362, 374, 370, 380, 384, 384, 372, 356, 362, 358, 362, 366, 366, 370, 382, 374, 362, 366, 362, 372, 380, 374, 366, 372, 360, 352, 370, 354, 362, 354, 362, 350, 352, 372, 364, 364, 368, 362, 368, 368, 370, 366, 366, 362, 368, 360, 368, 374, 374, 382, 366, 368, 374, 366, 374, 360, 380, 370, 372, 354, 358, 376, 364, 372, 364, 372, 364, 368, 368, 376, 374, 370, 358, 368, 362, 364, 352, 364, 358, 360, 356, 364, 374, 370, 372, 364, 360, 366, 378, 370, 382, 368, 376, 382, 354, 358, 366, 372, 366, 378, 362, 370, 376, 366, 380, 372, 368, 372, 370, 376, 370, 370, 372, 350, 364, 370, 320, 382, 372, 338, 376, 364, 358, 372, 382, 374, 374, 362, 370, 364, 376, 372, 378, 370, 376, 366, 356, 370, 372, 372, 310, 370, 382, 358, 362], \"yaxis\": \"y\"}, {\"hovertemplate\": \"region=India<br>Date=%{x}<br>Count of videos=%{y}<extra></extra>\", \"legendgroup\": \"India\", \"line\": {\"color\": \"rgb(93, 105, 177)\", \"dash\": \"solid\"}, \"mode\": \"lines\", \"name\": \"India\", \"showlegend\": true, \"type\": \"scattergl\", \"x\": [\"2017-11-14T00:00:00\", \"2017-11-15T00:00:00\", \"2017-11-16T00:00:00\", \"2017-11-17T00:00:00\", \"2017-11-18T00:00:00\", \"2017-11-19T00:00:00\", \"2017-11-20T00:00:00\", \"2017-11-21T00:00:00\", \"2017-11-22T00:00:00\", \"2017-11-23T00:00:00\", \"2017-11-24T00:00:00\", \"2017-11-25T00:00:00\", \"2017-11-26T00:00:00\", \"2017-11-27T00:00:00\", \"2017-11-28T00:00:00\", \"2017-11-29T00:00:00\", \"2017-11-30T00:00:00\", \"2017-12-01T00:00:00\", \"2017-12-02T00:00:00\", \"2017-12-03T00:00:00\", \"2017-12-04T00:00:00\", \"2017-12-05T00:00:00\", \"2017-12-06T00:00:00\", \"2017-12-07T00:00:00\", \"2017-12-08T00:00:00\", \"2017-12-09T00:00:00\", \"2017-12-10T00:00:00\", \"2017-12-11T00:00:00\", \"2017-12-12T00:00:00\", \"2017-12-13T00:00:00\", \"2017-12-14T00:00:00\", \"2017-12-15T00:00:00\", \"2017-12-16T00:00:00\", \"2017-12-17T00:00:00\", \"2017-12-18T00:00:00\", \"2017-12-19T00:00:00\", \"2017-12-20T00:00:00\", \"2017-12-21T00:00:00\", \"2017-12-22T00:00:00\", \"2017-12-23T00:00:00\", \"2017-12-24T00:00:00\", \"2017-12-25T00:00:00\", \"2017-12-26T00:00:00\", \"2017-12-27T00:00:00\", \"2017-12-28T00:00:00\", \"2017-12-29T00:00:00\", \"2017-12-30T00:00:00\", \"2017-12-31T00:00:00\", \"2018-01-01T00:00:00\", \"2018-01-02T00:00:00\", \"2018-01-03T00:00:00\", \"2018-01-04T00:00:00\", \"2018-01-05T00:00:00\", \"2018-01-06T00:00:00\", \"2018-01-07T00:00:00\", \"2018-01-08T00:00:00\", \"2018-01-09T00:00:00\", \"2018-01-12T00:00:00\", \"2018-01-13T00:00:00\", \"2018-01-14T00:00:00\", \"2018-01-15T00:00:00\", \"2018-01-16T00:00:00\", \"2018-01-17T00:00:00\", \"2018-01-18T00:00:00\", \"2018-01-19T00:00:00\", \"2018-01-20T00:00:00\", \"2018-01-21T00:00:00\", \"2018-01-22T00:00:00\", \"2018-01-23T00:00:00\", \"2018-01-24T00:00:00\", \"2018-01-25T00:00:00\", \"2018-01-26T00:00:00\", \"2018-01-27T00:00:00\", \"2018-01-28T00:00:00\", \"2018-01-29T00:00:00\", \"2018-01-30T00:00:00\", \"2018-01-31T00:00:00\", \"2018-02-01T00:00:00\", \"2018-02-02T00:00:00\", \"2018-02-03T00:00:00\", \"2018-02-04T00:00:00\", \"2018-02-05T00:00:00\", \"2018-02-06T00:00:00\", \"2018-02-07T00:00:00\", \"2018-02-08T00:00:00\", \"2018-02-09T00:00:00\", \"2018-02-10T00:00:00\", \"2018-02-11T00:00:00\", \"2018-02-12T00:00:00\", \"2018-02-13T00:00:00\", \"2018-02-14T00:00:00\", \"2018-02-15T00:00:00\", \"2018-02-16T00:00:00\", \"2018-02-17T00:00:00\", \"2018-02-18T00:00:00\", \"2018-02-19T00:00:00\", \"2018-02-20T00:00:00\", \"2018-02-21T00:00:00\", \"2018-02-22T00:00:00\", \"2018-02-23T00:00:00\", \"2018-02-24T00:00:00\", \"2018-02-25T00:00:00\", \"2018-02-26T00:00:00\", \"2018-02-27T00:00:00\", \"2018-02-28T00:00:00\", \"2018-03-01T00:00:00\", \"2018-03-02T00:00:00\", \"2018-03-03T00:00:00\", \"2018-03-04T00:00:00\", \"2018-03-05T00:00:00\", \"2018-03-06T00:00:00\", \"2018-03-07T00:00:00\", \"2018-03-08T00:00:00\", \"2018-03-09T00:00:00\", \"2018-03-10T00:00:00\", \"2018-03-11T00:00:00\", \"2018-03-12T00:00:00\", \"2018-03-13T00:00:00\", \"2018-03-14T00:00:00\", \"2018-03-15T00:00:00\", \"2018-03-16T00:00:00\", \"2018-03-17T00:00:00\", \"2018-03-18T00:00:00\", \"2018-03-19T00:00:00\", \"2018-03-20T00:00:00\", \"2018-03-21T00:00:00\", \"2018-03-22T00:00:00\", \"2018-03-23T00:00:00\", \"2018-03-24T00:00:00\", \"2018-03-25T00:00:00\", \"2018-03-26T00:00:00\", \"2018-03-27T00:00:00\", \"2018-03-28T00:00:00\", \"2018-03-29T00:00:00\", \"2018-03-30T00:00:00\", \"2018-03-31T00:00:00\", \"2018-04-01T00:00:00\", \"2018-04-02T00:00:00\", \"2018-04-03T00:00:00\", \"2018-04-04T00:00:00\", \"2018-04-05T00:00:00\", \"2018-04-06T00:00:00\", \"2018-04-07T00:00:00\", \"2018-04-14T00:00:00\", \"2018-04-15T00:00:00\", \"2018-04-16T00:00:00\", \"2018-04-17T00:00:00\", \"2018-04-18T00:00:00\", \"2018-04-19T00:00:00\", \"2018-04-20T00:00:00\", \"2018-04-21T00:00:00\", \"2018-04-22T00:00:00\", \"2018-04-23T00:00:00\", \"2018-04-24T00:00:00\", \"2018-04-25T00:00:00\", \"2018-04-26T00:00:00\", \"2018-04-27T00:00:00\", \"2018-04-28T00:00:00\", \"2018-04-29T00:00:00\", \"2018-04-30T00:00:00\", \"2018-05-01T00:00:00\", \"2018-05-02T00:00:00\", \"2018-05-03T00:00:00\", \"2018-05-04T00:00:00\", \"2018-05-05T00:00:00\", \"2018-05-06T00:00:00\", \"2018-05-07T00:00:00\", \"2018-05-08T00:00:00\", \"2018-05-09T00:00:00\", \"2018-05-10T00:00:00\", \"2018-05-11T00:00:00\", \"2018-05-12T00:00:00\", \"2018-05-13T00:00:00\", \"2018-05-14T00:00:00\", \"2018-05-15T00:00:00\", \"2018-05-16T00:00:00\", \"2018-05-17T00:00:00\", \"2018-05-18T00:00:00\", \"2018-05-19T00:00:00\", \"2018-05-20T00:00:00\", \"2018-05-21T00:00:00\", \"2018-05-22T00:00:00\", \"2018-05-23T00:00:00\", \"2018-05-24T00:00:00\", \"2018-05-25T00:00:00\", \"2018-05-26T00:00:00\", \"2018-05-27T00:00:00\", \"2018-05-28T00:00:00\", \"2018-05-29T00:00:00\", \"2018-05-30T00:00:00\", \"2018-05-31T00:00:00\", \"2018-06-01T00:00:00\", \"2018-06-02T00:00:00\", \"2018-06-03T00:00:00\", \"2018-06-04T00:00:00\", \"2018-06-05T00:00:00\", \"2018-06-06T00:00:00\", \"2018-06-07T00:00:00\", \"2018-06-08T00:00:00\", \"2018-06-09T00:00:00\", \"2018-06-10T00:00:00\", \"2018-06-11T00:00:00\", \"2018-06-12T00:00:00\", \"2018-06-13T00:00:00\", \"2018-06-14T00:00:00\"], \"xaxis\": \"x\", \"y\": [380, 388, 392, 384, 384, 390, 380, 344, 326, 370, 386, 388, 376, 370, 360, 350, 356, 392, 358, 364, 360, 388, 374, 336, 334, 368, 374, 362, 392, 394, 386, 390, 394, 390, 386, 344, 298, 388, 394, 396, 390, 358, 358, 316, 328, 320, 368, 382, 372, 364, 378, 362, 350, 338, 386, 372, 336, 390, 392, 390, 384, 362, 372, 346, 350, 390, 390, 382, 384, 390, 394, 372, 370, 346, 334, 328, 370, 322, 340, 302, 336, 336, 324, 348, 390, 338, 350, 356, 346, 358, 342, 356, 342, 360, 354, 330, 336, 320, 322, 326, 336, 320, 322, 362, 334, 318, 334, 392, 296, 306, 314, 302, 312, 358, 348, 338, 338, 336, 336, 220, 318, 390, 388, 382, 388, 304, 382, 334, 324, 306, 300, 376, 340, 388, 368, 388, 372, 312, 372, 376, 364, 370, 370, 382, 392, 358, 358, 382, 354, 352, 374, 374, 386, 368, 388, 350, 372, 386, 368, 364, 358, 346, 350, 362, 396, 376, 372, 378, 372, 354, 362, 376, 362, 392, 368, 308, 350, 362, 336, 340, 346, 364, 376, 354, 374, 350, 356, 348, 346, 358, 362, 342, 368, 356, 358, 356, 350, 336, 358, 384, 360, 356, 340, 336, 342], \"yaxis\": \"y\"}, {\"hovertemplate\": \"region=Japan<br>Date=%{x}<br>Count of videos=%{y}<extra></extra>\", \"legendgroup\": \"Japan\", \"line\": {\"color\": \"rgb(82, 188, 163)\", \"dash\": \"solid\"}, \"mode\": \"lines\", \"name\": \"Japan\", \"showlegend\": true, \"type\": \"scattergl\", \"x\": [\"2017-11-14T00:00:00\", \"2017-11-15T00:00:00\", \"2017-11-16T00:00:00\", \"2017-11-17T00:00:00\", \"2017-11-18T00:00:00\", \"2017-11-19T00:00:00\", \"2017-11-20T00:00:00\", \"2017-11-21T00:00:00\", \"2017-11-22T00:00:00\", \"2017-11-23T00:00:00\", \"2017-11-24T00:00:00\", \"2017-11-25T00:00:00\", \"2017-11-26T00:00:00\", \"2017-11-27T00:00:00\", \"2017-11-28T00:00:00\", \"2017-11-29T00:00:00\", \"2017-11-30T00:00:00\", \"2017-12-01T00:00:00\", \"2017-12-02T00:00:00\", \"2017-12-03T00:00:00\", \"2017-12-04T00:00:00\", \"2017-12-05T00:00:00\", \"2017-12-06T00:00:00\", \"2017-12-07T00:00:00\", \"2017-12-08T00:00:00\", \"2017-12-09T00:00:00\", \"2017-12-10T00:00:00\", \"2017-12-11T00:00:00\", \"2017-12-12T00:00:00\", \"2017-12-13T00:00:00\", \"2017-12-14T00:00:00\", \"2017-12-15T00:00:00\", \"2017-12-16T00:00:00\", \"2017-12-17T00:00:00\", \"2017-12-18T00:00:00\", \"2017-12-19T00:00:00\", \"2017-12-20T00:00:00\", \"2017-12-21T00:00:00\", \"2017-12-22T00:00:00\", \"2017-12-23T00:00:00\", \"2017-12-24T00:00:00\", \"2017-12-25T00:00:00\", \"2017-12-26T00:00:00\", \"2017-12-27T00:00:00\", \"2017-12-28T00:00:00\", \"2017-12-29T00:00:00\", \"2017-12-30T00:00:00\", \"2017-12-31T00:00:00\", \"2018-01-01T00:00:00\", \"2018-01-02T00:00:00\", \"2018-01-03T00:00:00\", \"2018-01-04T00:00:00\", \"2018-01-05T00:00:00\", \"2018-01-06T00:00:00\", \"2018-01-07T00:00:00\", \"2018-01-08T00:00:00\", \"2018-01-09T00:00:00\", \"2018-01-12T00:00:00\", \"2018-01-13T00:00:00\", \"2018-01-14T00:00:00\", \"2018-01-15T00:00:00\", \"2018-01-16T00:00:00\", \"2018-01-17T00:00:00\", \"2018-01-18T00:00:00\", \"2018-01-19T00:00:00\", \"2018-01-20T00:00:00\", \"2018-01-21T00:00:00\", \"2018-01-22T00:00:00\", \"2018-01-23T00:00:00\", \"2018-01-24T00:00:00\", \"2018-01-25T00:00:00\", \"2018-01-26T00:00:00\", \"2018-01-27T00:00:00\", \"2018-01-28T00:00:00\", \"2018-01-29T00:00:00\", \"2018-01-30T00:00:00\", \"2018-01-31T00:00:00\", \"2018-02-01T00:00:00\", \"2018-02-02T00:00:00\", \"2018-02-03T00:00:00\", \"2018-02-04T00:00:00\", \"2018-02-05T00:00:00\", \"2018-02-06T00:00:00\", \"2018-02-07T00:00:00\", \"2018-02-08T00:00:00\", \"2018-02-09T00:00:00\", \"2018-02-10T00:00:00\", \"2018-02-11T00:00:00\", \"2018-02-12T00:00:00\", \"2018-02-13T00:00:00\", \"2018-02-14T00:00:00\", \"2018-02-15T00:00:00\", \"2018-02-16T00:00:00\", \"2018-02-17T00:00:00\", \"2018-02-18T00:00:00\", \"2018-02-19T00:00:00\", \"2018-02-20T00:00:00\", \"2018-02-21T00:00:00\", \"2018-02-22T00:00:00\", \"2018-02-23T00:00:00\", \"2018-02-24T00:00:00\", \"2018-02-25T00:00:00\", \"2018-02-26T00:00:00\", \"2018-02-27T00:00:00\", \"2018-02-28T00:00:00\", \"2018-03-01T00:00:00\", \"2018-03-02T00:00:00\", \"2018-03-03T00:00:00\", \"2018-03-04T00:00:00\", \"2018-03-05T00:00:00\", \"2018-03-06T00:00:00\", \"2018-03-07T00:00:00\", \"2018-03-08T00:00:00\", \"2018-03-09T00:00:00\", \"2018-03-10T00:00:00\", \"2018-03-11T00:00:00\", \"2018-03-12T00:00:00\", \"2018-03-13T00:00:00\", \"2018-03-14T00:00:00\", \"2018-03-15T00:00:00\", \"2018-03-16T00:00:00\", \"2018-03-17T00:00:00\", \"2018-03-18T00:00:00\", \"2018-03-19T00:00:00\", \"2018-03-20T00:00:00\", \"2018-03-21T00:00:00\", \"2018-03-22T00:00:00\", \"2018-03-23T00:00:00\", \"2018-03-24T00:00:00\", \"2018-03-25T00:00:00\", \"2018-03-26T00:00:00\", \"2018-03-27T00:00:00\", \"2018-03-28T00:00:00\", \"2018-03-29T00:00:00\", \"2018-03-30T00:00:00\", \"2018-03-31T00:00:00\", \"2018-04-01T00:00:00\", \"2018-04-02T00:00:00\", \"2018-04-03T00:00:00\", \"2018-04-04T00:00:00\", \"2018-04-05T00:00:00\", \"2018-04-06T00:00:00\", \"2018-04-07T00:00:00\", \"2018-04-14T00:00:00\", \"2018-04-15T00:00:00\", \"2018-04-16T00:00:00\", \"2018-04-17T00:00:00\", \"2018-04-18T00:00:00\", \"2018-04-19T00:00:00\", \"2018-04-20T00:00:00\", \"2018-04-21T00:00:00\", \"2018-04-22T00:00:00\", \"2018-04-23T00:00:00\", \"2018-04-24T00:00:00\", \"2018-04-25T00:00:00\", \"2018-04-26T00:00:00\", \"2018-04-27T00:00:00\", \"2018-04-28T00:00:00\", \"2018-04-29T00:00:00\", \"2018-04-30T00:00:00\", \"2018-05-01T00:00:00\", \"2018-05-02T00:00:00\", \"2018-05-03T00:00:00\", \"2018-05-04T00:00:00\", \"2018-05-05T00:00:00\", \"2018-05-06T00:00:00\", \"2018-05-07T00:00:00\", \"2018-05-08T00:00:00\", \"2018-05-09T00:00:00\", \"2018-05-10T00:00:00\", \"2018-05-11T00:00:00\", \"2018-05-12T00:00:00\", \"2018-05-13T00:00:00\", \"2018-05-14T00:00:00\", \"2018-05-15T00:00:00\", \"2018-05-16T00:00:00\", \"2018-05-17T00:00:00\", \"2018-05-18T00:00:00\", \"2018-05-19T00:00:00\", \"2018-05-20T00:00:00\", \"2018-05-21T00:00:00\", \"2018-05-22T00:00:00\", \"2018-05-23T00:00:00\", \"2018-05-24T00:00:00\", \"2018-05-25T00:00:00\", \"2018-05-26T00:00:00\", \"2018-05-27T00:00:00\", \"2018-05-28T00:00:00\", \"2018-05-29T00:00:00\", \"2018-05-30T00:00:00\", \"2018-05-31T00:00:00\", \"2018-06-01T00:00:00\", \"2018-06-02T00:00:00\", \"2018-06-03T00:00:00\", \"2018-06-04T00:00:00\", \"2018-06-05T00:00:00\", \"2018-06-06T00:00:00\", \"2018-06-07T00:00:00\", \"2018-06-08T00:00:00\", \"2018-06-09T00:00:00\", \"2018-06-10T00:00:00\", \"2018-06-11T00:00:00\", \"2018-06-12T00:00:00\", \"2018-06-13T00:00:00\", \"2018-06-14T00:00:00\"], \"xaxis\": \"x\", \"y\": [0, 0, 0, 0, 0, 0, 0, 0, 0, 0, 0, 0, 0, 0, 0, 0, 0, 0, 0, 0, 0, 0, 0, 0, 0, 0, 0, 0, 0, 0, 0, 0, 0, 0, 0, 0, 0, 0, 0, 0, 0, 0, 0, 0, 0, 0, 0, 0, 0, 0, 0, 0, 0, 0, 0, 0, 0, 0, 0, 0, 0, 0, 0, 0, 0, 0, 0, 0, 0, 0, 0, 0, 0, 0, 0, 0, 0, 0, 0, 0, 0, 0, 0, 216, 296, 326, 316, 290, 254, 282, 324, 312, 300, 296, 282, 318, 314, 306, 294, 306, 294, 296, 262, 328, 342, 300, 338, 326, 272, 300, 262, 310, 312, 298, 308, 300, 286, 340, 336, 80, 270, 306, 258, 322, 308, 310, 280, 288, 276, 294, 324, 320, 164, 294, 260, 298, 320, 300, 306, 344, 260, 324, 266, 288, 320, 318, 300, 296, 290, 304, 328, 324, 284, 348, 284, 370, 360, 336, 288, 260, 268, 346, 324, 346, 310, 306, 344, 278, 274, 288, 284, 262, 280, 270, 364, 308, 272, 332, 184, 112, 376, 372, 376, 310, 304, 328, 298, 322, 328, 320, 356, 360, 316, 304, 316, 306, 276, 300, 344, 312, 296, 332, 350, 300, 296], \"yaxis\": \"y\"}, {\"hovertemplate\": \"region=Russia<br>Date=%{x}<br>Count of videos=%{y}<extra></extra>\", \"legendgroup\": \"Russia\", \"line\": {\"color\": \"rgb(153, 201, 69)\", \"dash\": \"solid\"}, \"mode\": \"lines\", \"name\": \"Russia\", \"showlegend\": true, \"type\": \"scattergl\", \"x\": [\"2017-11-14T00:00:00\", \"2017-11-15T00:00:00\", \"2017-11-16T00:00:00\", \"2017-11-17T00:00:00\", \"2017-11-18T00:00:00\", \"2017-11-19T00:00:00\", \"2017-11-20T00:00:00\", \"2017-11-21T00:00:00\", \"2017-11-22T00:00:00\", \"2017-11-23T00:00:00\", \"2017-11-24T00:00:00\", \"2017-11-25T00:00:00\", \"2017-11-26T00:00:00\", \"2017-11-27T00:00:00\", \"2017-11-28T00:00:00\", \"2017-11-29T00:00:00\", \"2017-11-30T00:00:00\", \"2017-12-01T00:00:00\", \"2017-12-02T00:00:00\", \"2017-12-03T00:00:00\", \"2017-12-04T00:00:00\", \"2017-12-05T00:00:00\", \"2017-12-06T00:00:00\", \"2017-12-07T00:00:00\", \"2017-12-08T00:00:00\", \"2017-12-09T00:00:00\", \"2017-12-10T00:00:00\", \"2017-12-11T00:00:00\", \"2017-12-12T00:00:00\", \"2017-12-13T00:00:00\", \"2017-12-14T00:00:00\", \"2017-12-15T00:00:00\", \"2017-12-16T00:00:00\", \"2017-12-17T00:00:00\", \"2017-12-18T00:00:00\", \"2017-12-19T00:00:00\", \"2017-12-20T00:00:00\", \"2017-12-21T00:00:00\", \"2017-12-22T00:00:00\", \"2017-12-23T00:00:00\", \"2017-12-24T00:00:00\", \"2017-12-25T00:00:00\", \"2017-12-26T00:00:00\", \"2017-12-27T00:00:00\", \"2017-12-28T00:00:00\", \"2017-12-29T00:00:00\", \"2017-12-30T00:00:00\", \"2017-12-31T00:00:00\", \"2018-01-01T00:00:00\", \"2018-01-02T00:00:00\", \"2018-01-03T00:00:00\", \"2018-01-04T00:00:00\", \"2018-01-05T00:00:00\", \"2018-01-06T00:00:00\", \"2018-01-07T00:00:00\", \"2018-01-08T00:00:00\", \"2018-01-09T00:00:00\", \"2018-01-12T00:00:00\", \"2018-01-13T00:00:00\", \"2018-01-14T00:00:00\", \"2018-01-15T00:00:00\", \"2018-01-16T00:00:00\", \"2018-01-17T00:00:00\", \"2018-01-18T00:00:00\", \"2018-01-19T00:00:00\", \"2018-01-20T00:00:00\", \"2018-01-21T00:00:00\", \"2018-01-22T00:00:00\", \"2018-01-23T00:00:00\", \"2018-01-24T00:00:00\", \"2018-01-25T00:00:00\", \"2018-01-26T00:00:00\", \"2018-01-27T00:00:00\", \"2018-01-28T00:00:00\", \"2018-01-29T00:00:00\", \"2018-01-30T00:00:00\", \"2018-01-31T00:00:00\", \"2018-02-01T00:00:00\", \"2018-02-02T00:00:00\", \"2018-02-03T00:00:00\", \"2018-02-04T00:00:00\", \"2018-02-05T00:00:00\", \"2018-02-06T00:00:00\", \"2018-02-07T00:00:00\", \"2018-02-08T00:00:00\", \"2018-02-09T00:00:00\", \"2018-02-10T00:00:00\", \"2018-02-11T00:00:00\", \"2018-02-12T00:00:00\", \"2018-02-13T00:00:00\", \"2018-02-14T00:00:00\", \"2018-02-15T00:00:00\", \"2018-02-16T00:00:00\", \"2018-02-17T00:00:00\", \"2018-02-18T00:00:00\", \"2018-02-19T00:00:00\", \"2018-02-20T00:00:00\", \"2018-02-21T00:00:00\", \"2018-02-22T00:00:00\", \"2018-02-23T00:00:00\", \"2018-02-24T00:00:00\", \"2018-02-25T00:00:00\", \"2018-02-26T00:00:00\", \"2018-02-27T00:00:00\", \"2018-02-28T00:00:00\", \"2018-03-01T00:00:00\", \"2018-03-02T00:00:00\", \"2018-03-03T00:00:00\", \"2018-03-04T00:00:00\", \"2018-03-05T00:00:00\", \"2018-03-06T00:00:00\", \"2018-03-07T00:00:00\", \"2018-03-08T00:00:00\", \"2018-03-09T00:00:00\", \"2018-03-10T00:00:00\", \"2018-03-11T00:00:00\", \"2018-03-12T00:00:00\", \"2018-03-13T00:00:00\", \"2018-03-14T00:00:00\", \"2018-03-15T00:00:00\", \"2018-03-16T00:00:00\", \"2018-03-17T00:00:00\", \"2018-03-18T00:00:00\", \"2018-03-19T00:00:00\", \"2018-03-20T00:00:00\", \"2018-03-21T00:00:00\", \"2018-03-22T00:00:00\", \"2018-03-23T00:00:00\", \"2018-03-24T00:00:00\", \"2018-03-25T00:00:00\", \"2018-03-26T00:00:00\", \"2018-03-27T00:00:00\", \"2018-03-28T00:00:00\", \"2018-03-29T00:00:00\", \"2018-03-30T00:00:00\", \"2018-03-31T00:00:00\", \"2018-04-01T00:00:00\", \"2018-04-02T00:00:00\", \"2018-04-03T00:00:00\", \"2018-04-04T00:00:00\", \"2018-04-05T00:00:00\", \"2018-04-06T00:00:00\", \"2018-04-07T00:00:00\", \"2018-04-14T00:00:00\", \"2018-04-15T00:00:00\", \"2018-04-16T00:00:00\", \"2018-04-17T00:00:00\", \"2018-04-18T00:00:00\", \"2018-04-19T00:00:00\", \"2018-04-20T00:00:00\", \"2018-04-21T00:00:00\", \"2018-04-22T00:00:00\", \"2018-04-23T00:00:00\", \"2018-04-24T00:00:00\", \"2018-04-25T00:00:00\", \"2018-04-26T00:00:00\", \"2018-04-27T00:00:00\", \"2018-04-28T00:00:00\", \"2018-04-29T00:00:00\", \"2018-04-30T00:00:00\", \"2018-05-01T00:00:00\", \"2018-05-02T00:00:00\", \"2018-05-03T00:00:00\", \"2018-05-04T00:00:00\", \"2018-05-05T00:00:00\", \"2018-05-06T00:00:00\", \"2018-05-07T00:00:00\", \"2018-05-08T00:00:00\", \"2018-05-09T00:00:00\", \"2018-05-10T00:00:00\", \"2018-05-11T00:00:00\", \"2018-05-12T00:00:00\", \"2018-05-13T00:00:00\", \"2018-05-14T00:00:00\", \"2018-05-15T00:00:00\", \"2018-05-16T00:00:00\", \"2018-05-17T00:00:00\", \"2018-05-18T00:00:00\", \"2018-05-19T00:00:00\", \"2018-05-20T00:00:00\", \"2018-05-21T00:00:00\", \"2018-05-22T00:00:00\", \"2018-05-23T00:00:00\", \"2018-05-24T00:00:00\", \"2018-05-25T00:00:00\", \"2018-05-26T00:00:00\", \"2018-05-27T00:00:00\", \"2018-05-28T00:00:00\", \"2018-05-29T00:00:00\", \"2018-05-30T00:00:00\", \"2018-05-31T00:00:00\", \"2018-06-01T00:00:00\", \"2018-06-02T00:00:00\", \"2018-06-03T00:00:00\", \"2018-06-04T00:00:00\", \"2018-06-05T00:00:00\", \"2018-06-06T00:00:00\", \"2018-06-07T00:00:00\", \"2018-06-08T00:00:00\", \"2018-06-09T00:00:00\", \"2018-06-10T00:00:00\", \"2018-06-11T00:00:00\", \"2018-06-12T00:00:00\", \"2018-06-13T00:00:00\", \"2018-06-14T00:00:00\"], \"xaxis\": \"x\", \"y\": [352, 360, 354, 364, 358, 344, 340, 358, 364, 350, 344, 346, 352, 352, 342, 360, 370, 364, 348, 356, 362, 366, 360, 358, 372, 364, 368, 358, 372, 358, 364, 364, 366, 360, 364, 372, 362, 372, 370, 354, 356, 360, 360, 376, 378, 360, 354, 368, 354, 344, 348, 354, 362, 356, 364, 344, 358, 362, 346, 334, 362, 348, 354, 350, 344, 350, 350, 358, 354, 344, 368, 364, 350, 348, 360, 354, 352, 362, 352, 360, 354, 356, 368, 358, 346, 370, 368, 358, 344, 360, 354, 350, 350, 348, 348, 358, 370, 366, 360, 356, 368, 354, 356, 346, 376, 362, 366, 362, 362, 362, 366, 354, 364, 360, 362, 360, 356, 374, 372, 364, 362, 360, 366, 358, 356, 368, 350, 360, 356, 358, 346, 328, 328, 340, 358, 366, 342, 362, 364, 356, 364, 376, 364, 360, 344, 358, 356, 362, 362, 342, 368, 364, 362, 368, 368, 382, 368, 372, 358, 362, 358, 340, 358, 374, 360, 366, 360, 358, 368, 342, 382, 376, 360, 372, 360, 362, 364, 372, 308, 372, 366, 328, 354, 376, 376, 348, 346, 380, 370, 374, 382, 384, 368, 376, 358, 358, 378, 380, 382, 384, 298, 374, 372, 374, 378], \"yaxis\": \"y\"}, {\"hovertemplate\": \"region=United States<br>Date=%{x}<br>Count of videos=%{y}<extra></extra>\", \"legendgroup\": \"United States\", \"line\": {\"color\": \"rgb(204, 97, 176)\", \"dash\": \"solid\"}, \"mode\": \"lines\", \"name\": \"United States\", \"showlegend\": true, \"type\": \"scattergl\", \"x\": [\"2017-11-14T00:00:00\", \"2017-11-15T00:00:00\", \"2017-11-16T00:00:00\", \"2017-11-17T00:00:00\", \"2017-11-18T00:00:00\", \"2017-11-19T00:00:00\", \"2017-11-20T00:00:00\", \"2017-11-21T00:00:00\", \"2017-11-22T00:00:00\", \"2017-11-23T00:00:00\", \"2017-11-24T00:00:00\", \"2017-11-25T00:00:00\", \"2017-11-26T00:00:00\", \"2017-11-27T00:00:00\", \"2017-11-28T00:00:00\", \"2017-11-29T00:00:00\", \"2017-11-30T00:00:00\", \"2017-12-01T00:00:00\", \"2017-12-02T00:00:00\", \"2017-12-03T00:00:00\", \"2017-12-04T00:00:00\", \"2017-12-05T00:00:00\", \"2017-12-06T00:00:00\", \"2017-12-07T00:00:00\", \"2017-12-08T00:00:00\", \"2017-12-09T00:00:00\", \"2017-12-10T00:00:00\", \"2017-12-11T00:00:00\", \"2017-12-12T00:00:00\", \"2017-12-13T00:00:00\", \"2017-12-14T00:00:00\", \"2017-12-15T00:00:00\", \"2017-12-16T00:00:00\", \"2017-12-17T00:00:00\", \"2017-12-18T00:00:00\", \"2017-12-19T00:00:00\", \"2017-12-20T00:00:00\", \"2017-12-21T00:00:00\", \"2017-12-22T00:00:00\", \"2017-12-23T00:00:00\", \"2017-12-24T00:00:00\", \"2017-12-25T00:00:00\", \"2017-12-26T00:00:00\", \"2017-12-27T00:00:00\", \"2017-12-28T00:00:00\", \"2017-12-29T00:00:00\", \"2017-12-30T00:00:00\", \"2017-12-31T00:00:00\", \"2018-01-01T00:00:00\", \"2018-01-02T00:00:00\", \"2018-01-03T00:00:00\", \"2018-01-04T00:00:00\", \"2018-01-05T00:00:00\", \"2018-01-06T00:00:00\", \"2018-01-07T00:00:00\", \"2018-01-08T00:00:00\", \"2018-01-09T00:00:00\", \"2018-01-12T00:00:00\", \"2018-01-13T00:00:00\", \"2018-01-14T00:00:00\", \"2018-01-15T00:00:00\", \"2018-01-16T00:00:00\", \"2018-01-17T00:00:00\", \"2018-01-18T00:00:00\", \"2018-01-19T00:00:00\", \"2018-01-20T00:00:00\", \"2018-01-21T00:00:00\", \"2018-01-22T00:00:00\", \"2018-01-23T00:00:00\", \"2018-01-24T00:00:00\", \"2018-01-25T00:00:00\", \"2018-01-26T00:00:00\", \"2018-01-27T00:00:00\", \"2018-01-28T00:00:00\", \"2018-01-29T00:00:00\", \"2018-01-30T00:00:00\", \"2018-01-31T00:00:00\", \"2018-02-01T00:00:00\", \"2018-02-02T00:00:00\", \"2018-02-03T00:00:00\", \"2018-02-04T00:00:00\", \"2018-02-05T00:00:00\", \"2018-02-06T00:00:00\", \"2018-02-07T00:00:00\", \"2018-02-08T00:00:00\", \"2018-02-09T00:00:00\", \"2018-02-10T00:00:00\", \"2018-02-11T00:00:00\", \"2018-02-12T00:00:00\", \"2018-02-13T00:00:00\", \"2018-02-14T00:00:00\", \"2018-02-15T00:00:00\", \"2018-02-16T00:00:00\", \"2018-02-17T00:00:00\", \"2018-02-18T00:00:00\", \"2018-02-19T00:00:00\", \"2018-02-20T00:00:00\", \"2018-02-21T00:00:00\", \"2018-02-22T00:00:00\", \"2018-02-23T00:00:00\", \"2018-02-24T00:00:00\", \"2018-02-25T00:00:00\", \"2018-02-26T00:00:00\", \"2018-02-27T00:00:00\", \"2018-02-28T00:00:00\", \"2018-03-01T00:00:00\", \"2018-03-02T00:00:00\", \"2018-03-03T00:00:00\", \"2018-03-04T00:00:00\", \"2018-03-05T00:00:00\", \"2018-03-06T00:00:00\", \"2018-03-07T00:00:00\", \"2018-03-08T00:00:00\", \"2018-03-09T00:00:00\", \"2018-03-10T00:00:00\", \"2018-03-11T00:00:00\", \"2018-03-12T00:00:00\", \"2018-03-13T00:00:00\", \"2018-03-14T00:00:00\", \"2018-03-15T00:00:00\", \"2018-03-16T00:00:00\", \"2018-03-17T00:00:00\", \"2018-03-18T00:00:00\", \"2018-03-19T00:00:00\", \"2018-03-20T00:00:00\", \"2018-03-21T00:00:00\", \"2018-03-22T00:00:00\", \"2018-03-23T00:00:00\", \"2018-03-24T00:00:00\", \"2018-03-25T00:00:00\", \"2018-03-26T00:00:00\", \"2018-03-27T00:00:00\", \"2018-03-28T00:00:00\", \"2018-03-29T00:00:00\", \"2018-03-30T00:00:00\", \"2018-03-31T00:00:00\", \"2018-04-01T00:00:00\", \"2018-04-02T00:00:00\", \"2018-04-03T00:00:00\", \"2018-04-04T00:00:00\", \"2018-04-05T00:00:00\", \"2018-04-06T00:00:00\", \"2018-04-07T00:00:00\", \"2018-04-14T00:00:00\", \"2018-04-15T00:00:00\", \"2018-04-16T00:00:00\", \"2018-04-17T00:00:00\", \"2018-04-18T00:00:00\", \"2018-04-19T00:00:00\", \"2018-04-20T00:00:00\", \"2018-04-21T00:00:00\", \"2018-04-22T00:00:00\", \"2018-04-23T00:00:00\", \"2018-04-24T00:00:00\", \"2018-04-25T00:00:00\", \"2018-04-26T00:00:00\", \"2018-04-27T00:00:00\", \"2018-04-28T00:00:00\", \"2018-04-29T00:00:00\", \"2018-04-30T00:00:00\", \"2018-05-01T00:00:00\", \"2018-05-02T00:00:00\", \"2018-05-03T00:00:00\", \"2018-05-04T00:00:00\", \"2018-05-05T00:00:00\", \"2018-05-06T00:00:00\", \"2018-05-07T00:00:00\", \"2018-05-08T00:00:00\", \"2018-05-09T00:00:00\", \"2018-05-10T00:00:00\", \"2018-05-11T00:00:00\", \"2018-05-12T00:00:00\", \"2018-05-13T00:00:00\", \"2018-05-14T00:00:00\", \"2018-05-15T00:00:00\", \"2018-05-16T00:00:00\", \"2018-05-17T00:00:00\", \"2018-05-18T00:00:00\", \"2018-05-19T00:00:00\", \"2018-05-20T00:00:00\", \"2018-05-21T00:00:00\", \"2018-05-22T00:00:00\", \"2018-05-23T00:00:00\", \"2018-05-24T00:00:00\", \"2018-05-25T00:00:00\", \"2018-05-26T00:00:00\", \"2018-05-27T00:00:00\", \"2018-05-28T00:00:00\", \"2018-05-29T00:00:00\", \"2018-05-30T00:00:00\", \"2018-05-31T00:00:00\", \"2018-06-01T00:00:00\", \"2018-06-02T00:00:00\", \"2018-06-03T00:00:00\", \"2018-06-04T00:00:00\", \"2018-06-05T00:00:00\", \"2018-06-06T00:00:00\", \"2018-06-07T00:00:00\", \"2018-06-08T00:00:00\", \"2018-06-09T00:00:00\", \"2018-06-10T00:00:00\", \"2018-06-11T00:00:00\", \"2018-06-12T00:00:00\", \"2018-06-13T00:00:00\", \"2018-06-14T00:00:00\"], \"xaxis\": \"x\", \"y\": [394, 396, 396, 394, 394, 390, 390, 392, 392, 388, 390, 390, 390, 390, 390, 388, 390, 390, 390, 394, 398, 396, 394, 394, 392, 392, 390, 390, 394, 394, 394, 394, 394, 396, 398, 398, 398, 398, 400, 400, 400, 400, 400, 398, 398, 398, 398, 394, 394, 394, 392, 390, 390, 388, 388, 388, 390, 392, 386, 386, 384, 382, 382, 388, 394, 396, 394, 394, 392, 392, 394, 390, 390, 392, 392, 394, 386, 386, 378, 378, 384, 392, 394, 394, 396, 396, 398, 398, 392, 394, 394, 390, 392, 388, 388, 390, 388, 388, 386, 386, 384, 384, 382, 382, 388, 392, 394, 394, 394, 396, 396, 394, 392, 396, 396, 396, 396, 396, 394, 394, 392, 392, 394, 396, 398, 400, 400, 398, 398, 398, 398, 396, 398, 398, 398, 398, 398, 398, 398, 396, 396, 398, 398, 398, 398, 398, 398, 398, 400, 400, 400, 400, 400, 400, 400, 400, 400, 400, 400, 398, 398, 396, 396, 396, 396, 396, 396, 396, 396, 396, 396, 394, 394, 398, 392, 394, 394, 394, 394, 394, 394, 394, 394, 394, 394, 394, 394, 394, 394, 394, 394, 394, 396, 396, 396, 396, 396, 396, 396, 398, 398, 398, 398, 398, 398], \"yaxis\": \"y\"}],                        {\"font\": {\"color\": \"dark blue\"}, \"height\": 600, \"legend\": {\"title\": {\"text\": \"region\"}, \"tracegroupgap\": 0}, \"template\": {\"data\": {\"bar\": [{\"error_x\": {\"color\": \"#2a3f5f\"}, \"error_y\": {\"color\": \"#2a3f5f\"}, \"marker\": {\"line\": {\"color\": \"#E5ECF6\", \"width\": 0.5}}, \"type\": \"bar\"}], \"barpolar\": [{\"marker\": {\"line\": {\"color\": \"#E5ECF6\", \"width\": 0.5}}, \"type\": \"barpolar\"}], \"carpet\": [{\"aaxis\": {\"endlinecolor\": \"#2a3f5f\", \"gridcolor\": \"white\", \"linecolor\": \"white\", \"minorgridcolor\": \"white\", \"startlinecolor\": \"#2a3f5f\"}, \"baxis\": {\"endlinecolor\": \"#2a3f5f\", \"gridcolor\": \"white\", \"linecolor\": \"white\", \"minorgridcolor\": \"white\", \"startlinecolor\": \"#2a3f5f\"}, \"type\": \"carpet\"}], \"choropleth\": [{\"colorbar\": {\"outlinewidth\": 0, \"ticks\": \"\"}, \"type\": \"choropleth\"}], \"contour\": [{\"colorbar\": {\"outlinewidth\": 0, \"ticks\": \"\"}, \"colorscale\": [[0.0, \"#0d0887\"], [0.1111111111111111, \"#46039f\"], [0.2222222222222222, \"#7201a8\"], [0.3333333333333333, \"#9c179e\"], [0.4444444444444444, \"#bd3786\"], [0.5555555555555556, \"#d8576b\"], [0.6666666666666666, \"#ed7953\"], [0.7777777777777778, \"#fb9f3a\"], [0.8888888888888888, \"#fdca26\"], [1.0, \"#f0f921\"]], \"type\": \"contour\"}], \"contourcarpet\": [{\"colorbar\": {\"outlinewidth\": 0, \"ticks\": \"\"}, \"type\": \"contourcarpet\"}], \"heatmap\": [{\"colorbar\": {\"outlinewidth\": 0, \"ticks\": \"\"}, \"colorscale\": [[0.0, \"#0d0887\"], [0.1111111111111111, \"#46039f\"], [0.2222222222222222, \"#7201a8\"], [0.3333333333333333, \"#9c179e\"], [0.4444444444444444, \"#bd3786\"], [0.5555555555555556, \"#d8576b\"], [0.6666666666666666, \"#ed7953\"], [0.7777777777777778, \"#fb9f3a\"], [0.8888888888888888, \"#fdca26\"], [1.0, \"#f0f921\"]], \"type\": \"heatmap\"}], \"heatmapgl\": [{\"colorbar\": {\"outlinewidth\": 0, \"ticks\": \"\"}, \"colorscale\": [[0.0, \"#0d0887\"], [0.1111111111111111, \"#46039f\"], [0.2222222222222222, \"#7201a8\"], [0.3333333333333333, \"#9c179e\"], [0.4444444444444444, \"#bd3786\"], [0.5555555555555556, \"#d8576b\"], [0.6666666666666666, \"#ed7953\"], [0.7777777777777778, \"#fb9f3a\"], [0.8888888888888888, \"#fdca26\"], [1.0, \"#f0f921\"]], \"type\": \"heatmapgl\"}], \"histogram\": [{\"marker\": {\"colorbar\": {\"outlinewidth\": 0, \"ticks\": \"\"}}, \"type\": \"histogram\"}], \"histogram2d\": [{\"colorbar\": {\"outlinewidth\": 0, \"ticks\": \"\"}, \"colorscale\": [[0.0, \"#0d0887\"], [0.1111111111111111, \"#46039f\"], [0.2222222222222222, \"#7201a8\"], [0.3333333333333333, \"#9c179e\"], [0.4444444444444444, \"#bd3786\"], [0.5555555555555556, \"#d8576b\"], [0.6666666666666666, \"#ed7953\"], [0.7777777777777778, \"#fb9f3a\"], [0.8888888888888888, \"#fdca26\"], [1.0, \"#f0f921\"]], \"type\": \"histogram2d\"}], \"histogram2dcontour\": [{\"colorbar\": {\"outlinewidth\": 0, \"ticks\": \"\"}, \"colorscale\": [[0.0, \"#0d0887\"], [0.1111111111111111, \"#46039f\"], [0.2222222222222222, \"#7201a8\"], [0.3333333333333333, \"#9c179e\"], [0.4444444444444444, \"#bd3786\"], [0.5555555555555556, \"#d8576b\"], [0.6666666666666666, \"#ed7953\"], [0.7777777777777778, \"#fb9f3a\"], [0.8888888888888888, \"#fdca26\"], [1.0, \"#f0f921\"]], \"type\": \"histogram2dcontour\"}], \"mesh3d\": [{\"colorbar\": {\"outlinewidth\": 0, \"ticks\": \"\"}, \"type\": \"mesh3d\"}], \"parcoords\": [{\"line\": {\"colorbar\": {\"outlinewidth\": 0, \"ticks\": \"\"}}, \"type\": \"parcoords\"}], \"pie\": [{\"automargin\": true, \"type\": \"pie\"}], \"scatter\": [{\"marker\": {\"colorbar\": {\"outlinewidth\": 0, \"ticks\": \"\"}}, \"type\": \"scatter\"}], \"scatter3d\": [{\"line\": {\"colorbar\": {\"outlinewidth\": 0, \"ticks\": \"\"}}, \"marker\": {\"colorbar\": {\"outlinewidth\": 0, \"ticks\": \"\"}}, \"type\": \"scatter3d\"}], \"scattercarpet\": [{\"marker\": {\"colorbar\": {\"outlinewidth\": 0, \"ticks\": \"\"}}, \"type\": \"scattercarpet\"}], \"scattergeo\": [{\"marker\": {\"colorbar\": {\"outlinewidth\": 0, \"ticks\": \"\"}}, \"type\": \"scattergeo\"}], \"scattergl\": [{\"marker\": {\"colorbar\": {\"outlinewidth\": 0, \"ticks\": \"\"}}, \"type\": \"scattergl\"}], \"scattermapbox\": [{\"marker\": {\"colorbar\": {\"outlinewidth\": 0, \"ticks\": \"\"}}, \"type\": \"scattermapbox\"}], \"scatterpolar\": [{\"marker\": {\"colorbar\": {\"outlinewidth\": 0, \"ticks\": \"\"}}, \"type\": \"scatterpolar\"}], \"scatterpolargl\": [{\"marker\": {\"colorbar\": {\"outlinewidth\": 0, \"ticks\": \"\"}}, \"type\": \"scatterpolargl\"}], \"scatterternary\": [{\"marker\": {\"colorbar\": {\"outlinewidth\": 0, \"ticks\": \"\"}}, \"type\": \"scatterternary\"}], \"surface\": [{\"colorbar\": {\"outlinewidth\": 0, \"ticks\": \"\"}, \"colorscale\": [[0.0, \"#0d0887\"], [0.1111111111111111, \"#46039f\"], [0.2222222222222222, \"#7201a8\"], [0.3333333333333333, \"#9c179e\"], [0.4444444444444444, \"#bd3786\"], [0.5555555555555556, \"#d8576b\"], [0.6666666666666666, \"#ed7953\"], [0.7777777777777778, \"#fb9f3a\"], [0.8888888888888888, \"#fdca26\"], [1.0, \"#f0f921\"]], \"type\": \"surface\"}], \"table\": [{\"cells\": {\"fill\": {\"color\": \"#EBF0F8\"}, \"line\": {\"color\": \"white\"}}, \"header\": {\"fill\": {\"color\": \"#C8D4E3\"}, \"line\": {\"color\": \"white\"}}, \"type\": \"table\"}]}, \"layout\": {\"annotationdefaults\": {\"arrowcolor\": \"#2a3f5f\", \"arrowhead\": 0, \"arrowwidth\": 1}, \"autotypenumbers\": \"strict\", \"coloraxis\": {\"colorbar\": {\"outlinewidth\": 0, \"ticks\": \"\"}}, \"colorscale\": {\"diverging\": [[0, \"#8e0152\"], [0.1, \"#c51b7d\"], [0.2, \"#de77ae\"], [0.3, \"#f1b6da\"], [0.4, \"#fde0ef\"], [0.5, \"#f7f7f7\"], [0.6, \"#e6f5d0\"], [0.7, \"#b8e186\"], [0.8, \"#7fbc41\"], [0.9, \"#4d9221\"], [1, \"#276419\"]], \"sequential\": [[0.0, \"#0d0887\"], [0.1111111111111111, \"#46039f\"], [0.2222222222222222, \"#7201a8\"], [0.3333333333333333, \"#9c179e\"], [0.4444444444444444, \"#bd3786\"], [0.5555555555555556, \"#d8576b\"], [0.6666666666666666, \"#ed7953\"], [0.7777777777777778, \"#fb9f3a\"], [0.8888888888888888, \"#fdca26\"], [1.0, \"#f0f921\"]], \"sequentialminus\": [[0.0, \"#0d0887\"], [0.1111111111111111, \"#46039f\"], [0.2222222222222222, \"#7201a8\"], [0.3333333333333333, \"#9c179e\"], [0.4444444444444444, \"#bd3786\"], [0.5555555555555556, \"#d8576b\"], [0.6666666666666666, \"#ed7953\"], [0.7777777777777778, \"#fb9f3a\"], [0.8888888888888888, \"#fdca26\"], [1.0, \"#f0f921\"]]}, \"colorway\": [\"#636efa\", \"#EF553B\", \"#00cc96\", \"#ab63fa\", \"#FFA15A\", \"#19d3f3\", \"#FF6692\", \"#B6E880\", \"#FF97FF\", \"#FECB52\"], \"font\": {\"color\": \"#2a3f5f\"}, \"geo\": {\"bgcolor\": \"white\", \"lakecolor\": \"white\", \"landcolor\": \"#E5ECF6\", \"showlakes\": true, \"showland\": true, \"subunitcolor\": \"white\"}, \"hoverlabel\": {\"align\": \"left\"}, \"hovermode\": \"closest\", \"mapbox\": {\"style\": \"light\"}, \"paper_bgcolor\": \"white\", \"plot_bgcolor\": \"#E5ECF6\", \"polar\": {\"angularaxis\": {\"gridcolor\": \"white\", \"linecolor\": \"white\", \"ticks\": \"\"}, \"bgcolor\": \"#E5ECF6\", \"radialaxis\": {\"gridcolor\": \"white\", \"linecolor\": \"white\", \"ticks\": \"\"}}, \"scene\": {\"xaxis\": {\"backgroundcolor\": \"#E5ECF6\", \"gridcolor\": \"white\", \"gridwidth\": 2, \"linecolor\": \"white\", \"showbackground\": true, \"ticks\": \"\", \"zerolinecolor\": \"white\"}, \"yaxis\": {\"backgroundcolor\": \"#E5ECF6\", \"gridcolor\": \"white\", \"gridwidth\": 2, \"linecolor\": \"white\", \"showbackground\": true, \"ticks\": \"\", \"zerolinecolor\": \"white\"}, \"zaxis\": {\"backgroundcolor\": \"#E5ECF6\", \"gridcolor\": \"white\", \"gridwidth\": 2, \"linecolor\": \"white\", \"showbackground\": true, \"ticks\": \"\", \"zerolinecolor\": \"white\"}}, \"shapedefaults\": {\"line\": {\"color\": \"#2a3f5f\"}}, \"ternary\": {\"aaxis\": {\"gridcolor\": \"white\", \"linecolor\": \"white\", \"ticks\": \"\"}, \"baxis\": {\"gridcolor\": \"white\", \"linecolor\": \"white\", \"ticks\": \"\"}, \"bgcolor\": \"#E5ECF6\", \"caxis\": {\"gridcolor\": \"white\", \"linecolor\": \"white\", \"ticks\": \"\"}}, \"title\": {\"x\": 0.05}, \"xaxis\": {\"automargin\": true, \"gridcolor\": \"white\", \"linecolor\": \"white\", \"ticks\": \"\", \"title\": {\"standoff\": 15}, \"zerolinecolor\": \"white\", \"zerolinewidth\": 2}, \"yaxis\": {\"automargin\": true, \"gridcolor\": \"white\", \"linecolor\": \"white\", \"ticks\": \"\", \"title\": {\"standoff\": 15}, \"zerolinecolor\": \"white\", \"zerolinewidth\": 2}}}, \"title\": {\"font\": {\"color\": \"black\", \"family\": \"Times New Roman\", \"size\": 26}, \"text\": \"Daily videos count by region\", \"x\": 0.5}, \"width\": 800, \"xaxis\": {\"anchor\": \"y\", \"domain\": [0.0, 1.0], \"title\": {\"text\": \"Date\"}}, \"yaxis\": {\"anchor\": \"x\", \"domain\": [0.0, 1.0], \"title\": {\"text\": \"Count of videos\"}}},                        {\"responsive\": true}                    ).then(function(){\n",
       "                            \n",
       "var gd = document.getElementById('fe56c0ae-9e80-4e41-9e72-25e8fc9d23f3');\n",
       "var x = new MutationObserver(function (mutations, observer) {{\n",
       "        var display = window.getComputedStyle(gd).display;\n",
       "        if (!display || display === 'none') {{\n",
       "            console.log([gd, 'removed!']);\n",
       "            Plotly.purge(gd);\n",
       "            observer.disconnect();\n",
       "        }}\n",
       "}});\n",
       "\n",
       "// Listen for the removal of the full notebook cells\n",
       "var notebookContainer = gd.closest('#notebook-container');\n",
       "if (notebookContainer) {{\n",
       "    x.observe(notebookContainer, {childList: true});\n",
       "}}\n",
       "\n",
       "// Listen for the clearing of the current output cell\n",
       "var outputEl = gd.closest('.output');\n",
       "if (outputEl) {{\n",
       "    x.observe(outputEl, {childList: true});\n",
       "}}\n",
       "\n",
       "                        })                };                });            </script>        </div>"
      ]
     },
     "metadata": {},
     "output_type": "display_data"
    }
   ],
   "source": [
    "fig = px.line(trending_region, \n",
    "              x=\"trending_date\", \n",
    "              y=\"videos_count\", \n",
    "              color='region',\n",
    "              title = 'Daily videos count by region',\n",
    "              width = 800,\n",
    "              height=600,\n",
    "              labels = {'videos_count': 'Count of videos', \n",
    "                       'trending_date': 'Date'},\n",
    "              color_discrete_sequence=px.colors.qualitative.Vivid)\n",
    "fig.update_layout(\n",
    "    title_x=0.5,\n",
    "    font_color=\"dark blue\",\n",
    "    title_font_family=\"Times New Roman\",\n",
    "    title_font_color=\"black\",\n",
    "    title_font_size=26)\n",
    "fig.show()"
   ]
  },
  {
   "cell_type": "markdown",
   "metadata": {},
   "source": [
    "# Trending videos by countries: the proportion"
   ]
  },
  {
   "cell_type": "code",
   "execution_count": 36,
   "metadata": {},
   "outputs": [],
   "source": [
    "trending_region = videos.groupby('region').agg(\n",
    "    {'videos_count': 'sum'}).sort_values(by='videos_count',\n",
    "                                            ascending=False).reset_index()"
   ]
  },
  {
   "cell_type": "code",
   "execution_count": 37,
   "metadata": {},
   "outputs": [
    {
     "data": {
      "application/vnd.plotly.v1+json": {
       "config": {
        "plotlyServerURL": "https://plot.ly"
       },
       "data": [
        {
         "labels": [
          "United States",
          "France",
          "Russia",
          "India",
          "Japan"
         ],
         "type": "pie",
         "values": [
          80758,
          75404,
          73694,
          73372,
          36762
         ]
        }
       ],
       "layout": {
        "font": {
         "color": "dark blue",
         "family": "Courier New"
        },
        "template": {
         "data": {
          "bar": [
           {
            "error_x": {
             "color": "#2a3f5f"
            },
            "error_y": {
             "color": "#2a3f5f"
            },
            "marker": {
             "line": {
              "color": "#E5ECF6",
              "width": 0.5
             }
            },
            "type": "bar"
           }
          ],
          "barpolar": [
           {
            "marker": {
             "line": {
              "color": "#E5ECF6",
              "width": 0.5
             }
            },
            "type": "barpolar"
           }
          ],
          "carpet": [
           {
            "aaxis": {
             "endlinecolor": "#2a3f5f",
             "gridcolor": "white",
             "linecolor": "white",
             "minorgridcolor": "white",
             "startlinecolor": "#2a3f5f"
            },
            "baxis": {
             "endlinecolor": "#2a3f5f",
             "gridcolor": "white",
             "linecolor": "white",
             "minorgridcolor": "white",
             "startlinecolor": "#2a3f5f"
            },
            "type": "carpet"
           }
          ],
          "choropleth": [
           {
            "colorbar": {
             "outlinewidth": 0,
             "ticks": ""
            },
            "type": "choropleth"
           }
          ],
          "contour": [
           {
            "colorbar": {
             "outlinewidth": 0,
             "ticks": ""
            },
            "colorscale": [
             [
              0,
              "#0d0887"
             ],
             [
              0.1111111111111111,
              "#46039f"
             ],
             [
              0.2222222222222222,
              "#7201a8"
             ],
             [
              0.3333333333333333,
              "#9c179e"
             ],
             [
              0.4444444444444444,
              "#bd3786"
             ],
             [
              0.5555555555555556,
              "#d8576b"
             ],
             [
              0.6666666666666666,
              "#ed7953"
             ],
             [
              0.7777777777777778,
              "#fb9f3a"
             ],
             [
              0.8888888888888888,
              "#fdca26"
             ],
             [
              1,
              "#f0f921"
             ]
            ],
            "type": "contour"
           }
          ],
          "contourcarpet": [
           {
            "colorbar": {
             "outlinewidth": 0,
             "ticks": ""
            },
            "type": "contourcarpet"
           }
          ],
          "heatmap": [
           {
            "colorbar": {
             "outlinewidth": 0,
             "ticks": ""
            },
            "colorscale": [
             [
              0,
              "#0d0887"
             ],
             [
              0.1111111111111111,
              "#46039f"
             ],
             [
              0.2222222222222222,
              "#7201a8"
             ],
             [
              0.3333333333333333,
              "#9c179e"
             ],
             [
              0.4444444444444444,
              "#bd3786"
             ],
             [
              0.5555555555555556,
              "#d8576b"
             ],
             [
              0.6666666666666666,
              "#ed7953"
             ],
             [
              0.7777777777777778,
              "#fb9f3a"
             ],
             [
              0.8888888888888888,
              "#fdca26"
             ],
             [
              1,
              "#f0f921"
             ]
            ],
            "type": "heatmap"
           }
          ],
          "heatmapgl": [
           {
            "colorbar": {
             "outlinewidth": 0,
             "ticks": ""
            },
            "colorscale": [
             [
              0,
              "#0d0887"
             ],
             [
              0.1111111111111111,
              "#46039f"
             ],
             [
              0.2222222222222222,
              "#7201a8"
             ],
             [
              0.3333333333333333,
              "#9c179e"
             ],
             [
              0.4444444444444444,
              "#bd3786"
             ],
             [
              0.5555555555555556,
              "#d8576b"
             ],
             [
              0.6666666666666666,
              "#ed7953"
             ],
             [
              0.7777777777777778,
              "#fb9f3a"
             ],
             [
              0.8888888888888888,
              "#fdca26"
             ],
             [
              1,
              "#f0f921"
             ]
            ],
            "type": "heatmapgl"
           }
          ],
          "histogram": [
           {
            "marker": {
             "colorbar": {
              "outlinewidth": 0,
              "ticks": ""
             }
            },
            "type": "histogram"
           }
          ],
          "histogram2d": [
           {
            "colorbar": {
             "outlinewidth": 0,
             "ticks": ""
            },
            "colorscale": [
             [
              0,
              "#0d0887"
             ],
             [
              0.1111111111111111,
              "#46039f"
             ],
             [
              0.2222222222222222,
              "#7201a8"
             ],
             [
              0.3333333333333333,
              "#9c179e"
             ],
             [
              0.4444444444444444,
              "#bd3786"
             ],
             [
              0.5555555555555556,
              "#d8576b"
             ],
             [
              0.6666666666666666,
              "#ed7953"
             ],
             [
              0.7777777777777778,
              "#fb9f3a"
             ],
             [
              0.8888888888888888,
              "#fdca26"
             ],
             [
              1,
              "#f0f921"
             ]
            ],
            "type": "histogram2d"
           }
          ],
          "histogram2dcontour": [
           {
            "colorbar": {
             "outlinewidth": 0,
             "ticks": ""
            },
            "colorscale": [
             [
              0,
              "#0d0887"
             ],
             [
              0.1111111111111111,
              "#46039f"
             ],
             [
              0.2222222222222222,
              "#7201a8"
             ],
             [
              0.3333333333333333,
              "#9c179e"
             ],
             [
              0.4444444444444444,
              "#bd3786"
             ],
             [
              0.5555555555555556,
              "#d8576b"
             ],
             [
              0.6666666666666666,
              "#ed7953"
             ],
             [
              0.7777777777777778,
              "#fb9f3a"
             ],
             [
              0.8888888888888888,
              "#fdca26"
             ],
             [
              1,
              "#f0f921"
             ]
            ],
            "type": "histogram2dcontour"
           }
          ],
          "mesh3d": [
           {
            "colorbar": {
             "outlinewidth": 0,
             "ticks": ""
            },
            "type": "mesh3d"
           }
          ],
          "parcoords": [
           {
            "line": {
             "colorbar": {
              "outlinewidth": 0,
              "ticks": ""
             }
            },
            "type": "parcoords"
           }
          ],
          "pie": [
           {
            "automargin": true,
            "type": "pie"
           }
          ],
          "scatter": [
           {
            "marker": {
             "colorbar": {
              "outlinewidth": 0,
              "ticks": ""
             }
            },
            "type": "scatter"
           }
          ],
          "scatter3d": [
           {
            "line": {
             "colorbar": {
              "outlinewidth": 0,
              "ticks": ""
             }
            },
            "marker": {
             "colorbar": {
              "outlinewidth": 0,
              "ticks": ""
             }
            },
            "type": "scatter3d"
           }
          ],
          "scattercarpet": [
           {
            "marker": {
             "colorbar": {
              "outlinewidth": 0,
              "ticks": ""
             }
            },
            "type": "scattercarpet"
           }
          ],
          "scattergeo": [
           {
            "marker": {
             "colorbar": {
              "outlinewidth": 0,
              "ticks": ""
             }
            },
            "type": "scattergeo"
           }
          ],
          "scattergl": [
           {
            "marker": {
             "colorbar": {
              "outlinewidth": 0,
              "ticks": ""
             }
            },
            "type": "scattergl"
           }
          ],
          "scattermapbox": [
           {
            "marker": {
             "colorbar": {
              "outlinewidth": 0,
              "ticks": ""
             }
            },
            "type": "scattermapbox"
           }
          ],
          "scatterpolar": [
           {
            "marker": {
             "colorbar": {
              "outlinewidth": 0,
              "ticks": ""
             }
            },
            "type": "scatterpolar"
           }
          ],
          "scatterpolargl": [
           {
            "marker": {
             "colorbar": {
              "outlinewidth": 0,
              "ticks": ""
             }
            },
            "type": "scatterpolargl"
           }
          ],
          "scatterternary": [
           {
            "marker": {
             "colorbar": {
              "outlinewidth": 0,
              "ticks": ""
             }
            },
            "type": "scatterternary"
           }
          ],
          "surface": [
           {
            "colorbar": {
             "outlinewidth": 0,
             "ticks": ""
            },
            "colorscale": [
             [
              0,
              "#0d0887"
             ],
             [
              0.1111111111111111,
              "#46039f"
             ],
             [
              0.2222222222222222,
              "#7201a8"
             ],
             [
              0.3333333333333333,
              "#9c179e"
             ],
             [
              0.4444444444444444,
              "#bd3786"
             ],
             [
              0.5555555555555556,
              "#d8576b"
             ],
             [
              0.6666666666666666,
              "#ed7953"
             ],
             [
              0.7777777777777778,
              "#fb9f3a"
             ],
             [
              0.8888888888888888,
              "#fdca26"
             ],
             [
              1,
              "#f0f921"
             ]
            ],
            "type": "surface"
           }
          ],
          "table": [
           {
            "cells": {
             "fill": {
              "color": "#EBF0F8"
             },
             "line": {
              "color": "white"
             }
            },
            "header": {
             "fill": {
              "color": "#C8D4E3"
             },
             "line": {
              "color": "white"
             }
            },
            "type": "table"
           }
          ]
         },
         "layout": {
          "annotationdefaults": {
           "arrowcolor": "#2a3f5f",
           "arrowhead": 0,
           "arrowwidth": 1
          },
          "autotypenumbers": "strict",
          "coloraxis": {
           "colorbar": {
            "outlinewidth": 0,
            "ticks": ""
           }
          },
          "colorscale": {
           "diverging": [
            [
             0,
             "#8e0152"
            ],
            [
             0.1,
             "#c51b7d"
            ],
            [
             0.2,
             "#de77ae"
            ],
            [
             0.3,
             "#f1b6da"
            ],
            [
             0.4,
             "#fde0ef"
            ],
            [
             0.5,
             "#f7f7f7"
            ],
            [
             0.6,
             "#e6f5d0"
            ],
            [
             0.7,
             "#b8e186"
            ],
            [
             0.8,
             "#7fbc41"
            ],
            [
             0.9,
             "#4d9221"
            ],
            [
             1,
             "#276419"
            ]
           ],
           "sequential": [
            [
             0,
             "#0d0887"
            ],
            [
             0.1111111111111111,
             "#46039f"
            ],
            [
             0.2222222222222222,
             "#7201a8"
            ],
            [
             0.3333333333333333,
             "#9c179e"
            ],
            [
             0.4444444444444444,
             "#bd3786"
            ],
            [
             0.5555555555555556,
             "#d8576b"
            ],
            [
             0.6666666666666666,
             "#ed7953"
            ],
            [
             0.7777777777777778,
             "#fb9f3a"
            ],
            [
             0.8888888888888888,
             "#fdca26"
            ],
            [
             1,
             "#f0f921"
            ]
           ],
           "sequentialminus": [
            [
             0,
             "#0d0887"
            ],
            [
             0.1111111111111111,
             "#46039f"
            ],
            [
             0.2222222222222222,
             "#7201a8"
            ],
            [
             0.3333333333333333,
             "#9c179e"
            ],
            [
             0.4444444444444444,
             "#bd3786"
            ],
            [
             0.5555555555555556,
             "#d8576b"
            ],
            [
             0.6666666666666666,
             "#ed7953"
            ],
            [
             0.7777777777777778,
             "#fb9f3a"
            ],
            [
             0.8888888888888888,
             "#fdca26"
            ],
            [
             1,
             "#f0f921"
            ]
           ]
          },
          "colorway": [
           "#636efa",
           "#EF553B",
           "#00cc96",
           "#ab63fa",
           "#FFA15A",
           "#19d3f3",
           "#FF6692",
           "#B6E880",
           "#FF97FF",
           "#FECB52"
          ],
          "font": {
           "color": "#2a3f5f"
          },
          "geo": {
           "bgcolor": "white",
           "lakecolor": "white",
           "landcolor": "#E5ECF6",
           "showlakes": true,
           "showland": true,
           "subunitcolor": "white"
          },
          "hoverlabel": {
           "align": "left"
          },
          "hovermode": "closest",
          "mapbox": {
           "style": "light"
          },
          "paper_bgcolor": "white",
          "plot_bgcolor": "#E5ECF6",
          "polar": {
           "angularaxis": {
            "gridcolor": "white",
            "linecolor": "white",
            "ticks": ""
           },
           "bgcolor": "#E5ECF6",
           "radialaxis": {
            "gridcolor": "white",
            "linecolor": "white",
            "ticks": ""
           }
          },
          "scene": {
           "xaxis": {
            "backgroundcolor": "#E5ECF6",
            "gridcolor": "white",
            "gridwidth": 2,
            "linecolor": "white",
            "showbackground": true,
            "ticks": "",
            "zerolinecolor": "white"
           },
           "yaxis": {
            "backgroundcolor": "#E5ECF6",
            "gridcolor": "white",
            "gridwidth": 2,
            "linecolor": "white",
            "showbackground": true,
            "ticks": "",
            "zerolinecolor": "white"
           },
           "zaxis": {
            "backgroundcolor": "#E5ECF6",
            "gridcolor": "white",
            "gridwidth": 2,
            "linecolor": "white",
            "showbackground": true,
            "ticks": "",
            "zerolinecolor": "white"
           }
          },
          "shapedefaults": {
           "line": {
            "color": "#2a3f5f"
           }
          },
          "ternary": {
           "aaxis": {
            "gridcolor": "white",
            "linecolor": "white",
            "ticks": ""
           },
           "baxis": {
            "gridcolor": "white",
            "linecolor": "white",
            "ticks": ""
           },
           "bgcolor": "#E5ECF6",
           "caxis": {
            "gridcolor": "white",
            "linecolor": "white",
            "ticks": ""
           }
          },
          "title": {
           "x": 0.05
          },
          "xaxis": {
           "automargin": true,
           "gridcolor": "white",
           "linecolor": "white",
           "ticks": "",
           "title": {
            "standoff": 15
           },
           "zerolinecolor": "white",
           "zerolinewidth": 2
          },
          "yaxis": {
           "automargin": true,
           "gridcolor": "white",
           "linecolor": "white",
           "ticks": "",
           "title": {
            "standoff": 15
           },
           "zerolinecolor": "white",
           "zerolinewidth": 2
          }
         }
        },
        "title": {
         "font": {
          "color": "black",
          "family": "Times New Roman",
          "size": 26
         },
         "text": "Trending videos by country",
         "x": 0.45
        }
       }
      },
      "text/html": [
       "<div>                            <div id=\"82baaa32-1d9a-4d7e-b137-58e1a42bbb0e\" class=\"plotly-graph-div\" style=\"height:525px; width:100%;\"></div>            <script type=\"text/javascript\">                require([\"plotly\"], function(Plotly) {                    window.PLOTLYENV=window.PLOTLYENV || {};                                    if (document.getElementById(\"82baaa32-1d9a-4d7e-b137-58e1a42bbb0e\")) {                    Plotly.newPlot(                        \"82baaa32-1d9a-4d7e-b137-58e1a42bbb0e\",                        [{\"labels\": [\"United States\", \"France\", \"Russia\", \"India\", \"Japan\"], \"type\": \"pie\", \"values\": [80758, 75404, 73694, 73372, 36762]}],                        {\"font\": {\"color\": \"dark blue\", \"family\": \"Courier New\"}, \"template\": {\"data\": {\"bar\": [{\"error_x\": {\"color\": \"#2a3f5f\"}, \"error_y\": {\"color\": \"#2a3f5f\"}, \"marker\": {\"line\": {\"color\": \"#E5ECF6\", \"width\": 0.5}}, \"type\": \"bar\"}], \"barpolar\": [{\"marker\": {\"line\": {\"color\": \"#E5ECF6\", \"width\": 0.5}}, \"type\": \"barpolar\"}], \"carpet\": [{\"aaxis\": {\"endlinecolor\": \"#2a3f5f\", \"gridcolor\": \"white\", \"linecolor\": \"white\", \"minorgridcolor\": \"white\", \"startlinecolor\": \"#2a3f5f\"}, \"baxis\": {\"endlinecolor\": \"#2a3f5f\", \"gridcolor\": \"white\", \"linecolor\": \"white\", \"minorgridcolor\": \"white\", \"startlinecolor\": \"#2a3f5f\"}, \"type\": \"carpet\"}], \"choropleth\": [{\"colorbar\": {\"outlinewidth\": 0, \"ticks\": \"\"}, \"type\": \"choropleth\"}], \"contour\": [{\"colorbar\": {\"outlinewidth\": 0, \"ticks\": \"\"}, \"colorscale\": [[0.0, \"#0d0887\"], [0.1111111111111111, \"#46039f\"], [0.2222222222222222, \"#7201a8\"], [0.3333333333333333, \"#9c179e\"], [0.4444444444444444, \"#bd3786\"], [0.5555555555555556, \"#d8576b\"], [0.6666666666666666, \"#ed7953\"], [0.7777777777777778, \"#fb9f3a\"], [0.8888888888888888, \"#fdca26\"], [1.0, \"#f0f921\"]], \"type\": \"contour\"}], \"contourcarpet\": [{\"colorbar\": {\"outlinewidth\": 0, \"ticks\": \"\"}, \"type\": \"contourcarpet\"}], \"heatmap\": [{\"colorbar\": {\"outlinewidth\": 0, \"ticks\": \"\"}, \"colorscale\": [[0.0, \"#0d0887\"], [0.1111111111111111, \"#46039f\"], [0.2222222222222222, \"#7201a8\"], [0.3333333333333333, \"#9c179e\"], [0.4444444444444444, \"#bd3786\"], [0.5555555555555556, \"#d8576b\"], [0.6666666666666666, \"#ed7953\"], [0.7777777777777778, \"#fb9f3a\"], [0.8888888888888888, \"#fdca26\"], [1.0, \"#f0f921\"]], \"type\": \"heatmap\"}], \"heatmapgl\": [{\"colorbar\": {\"outlinewidth\": 0, \"ticks\": \"\"}, \"colorscale\": [[0.0, \"#0d0887\"], [0.1111111111111111, \"#46039f\"], [0.2222222222222222, \"#7201a8\"], [0.3333333333333333, \"#9c179e\"], [0.4444444444444444, \"#bd3786\"], [0.5555555555555556, \"#d8576b\"], [0.6666666666666666, \"#ed7953\"], [0.7777777777777778, \"#fb9f3a\"], [0.8888888888888888, \"#fdca26\"], [1.0, \"#f0f921\"]], \"type\": \"heatmapgl\"}], \"histogram\": [{\"marker\": {\"colorbar\": {\"outlinewidth\": 0, \"ticks\": \"\"}}, \"type\": \"histogram\"}], \"histogram2d\": [{\"colorbar\": {\"outlinewidth\": 0, \"ticks\": \"\"}, \"colorscale\": [[0.0, \"#0d0887\"], [0.1111111111111111, \"#46039f\"], [0.2222222222222222, \"#7201a8\"], [0.3333333333333333, \"#9c179e\"], [0.4444444444444444, \"#bd3786\"], [0.5555555555555556, \"#d8576b\"], [0.6666666666666666, \"#ed7953\"], [0.7777777777777778, \"#fb9f3a\"], [0.8888888888888888, \"#fdca26\"], [1.0, \"#f0f921\"]], \"type\": \"histogram2d\"}], \"histogram2dcontour\": [{\"colorbar\": {\"outlinewidth\": 0, \"ticks\": \"\"}, \"colorscale\": [[0.0, \"#0d0887\"], [0.1111111111111111, \"#46039f\"], [0.2222222222222222, \"#7201a8\"], [0.3333333333333333, \"#9c179e\"], [0.4444444444444444, \"#bd3786\"], [0.5555555555555556, \"#d8576b\"], [0.6666666666666666, \"#ed7953\"], [0.7777777777777778, \"#fb9f3a\"], [0.8888888888888888, \"#fdca26\"], [1.0, \"#f0f921\"]], \"type\": \"histogram2dcontour\"}], \"mesh3d\": [{\"colorbar\": {\"outlinewidth\": 0, \"ticks\": \"\"}, \"type\": \"mesh3d\"}], \"parcoords\": [{\"line\": {\"colorbar\": {\"outlinewidth\": 0, \"ticks\": \"\"}}, \"type\": \"parcoords\"}], \"pie\": [{\"automargin\": true, \"type\": \"pie\"}], \"scatter\": [{\"marker\": {\"colorbar\": {\"outlinewidth\": 0, \"ticks\": \"\"}}, \"type\": \"scatter\"}], \"scatter3d\": [{\"line\": {\"colorbar\": {\"outlinewidth\": 0, \"ticks\": \"\"}}, \"marker\": {\"colorbar\": {\"outlinewidth\": 0, \"ticks\": \"\"}}, \"type\": \"scatter3d\"}], \"scattercarpet\": [{\"marker\": {\"colorbar\": {\"outlinewidth\": 0, \"ticks\": \"\"}}, \"type\": \"scattercarpet\"}], \"scattergeo\": [{\"marker\": {\"colorbar\": {\"outlinewidth\": 0, \"ticks\": \"\"}}, \"type\": \"scattergeo\"}], \"scattergl\": [{\"marker\": {\"colorbar\": {\"outlinewidth\": 0, \"ticks\": \"\"}}, \"type\": \"scattergl\"}], \"scattermapbox\": [{\"marker\": {\"colorbar\": {\"outlinewidth\": 0, \"ticks\": \"\"}}, \"type\": \"scattermapbox\"}], \"scatterpolar\": [{\"marker\": {\"colorbar\": {\"outlinewidth\": 0, \"ticks\": \"\"}}, \"type\": \"scatterpolar\"}], \"scatterpolargl\": [{\"marker\": {\"colorbar\": {\"outlinewidth\": 0, \"ticks\": \"\"}}, \"type\": \"scatterpolargl\"}], \"scatterternary\": [{\"marker\": {\"colorbar\": {\"outlinewidth\": 0, \"ticks\": \"\"}}, \"type\": \"scatterternary\"}], \"surface\": [{\"colorbar\": {\"outlinewidth\": 0, \"ticks\": \"\"}, \"colorscale\": [[0.0, \"#0d0887\"], [0.1111111111111111, \"#46039f\"], [0.2222222222222222, \"#7201a8\"], [0.3333333333333333, \"#9c179e\"], [0.4444444444444444, \"#bd3786\"], [0.5555555555555556, \"#d8576b\"], [0.6666666666666666, \"#ed7953\"], [0.7777777777777778, \"#fb9f3a\"], [0.8888888888888888, \"#fdca26\"], [1.0, \"#f0f921\"]], \"type\": \"surface\"}], \"table\": [{\"cells\": {\"fill\": {\"color\": \"#EBF0F8\"}, \"line\": {\"color\": \"white\"}}, \"header\": {\"fill\": {\"color\": \"#C8D4E3\"}, \"line\": {\"color\": \"white\"}}, \"type\": \"table\"}]}, \"layout\": {\"annotationdefaults\": {\"arrowcolor\": \"#2a3f5f\", \"arrowhead\": 0, \"arrowwidth\": 1}, \"autotypenumbers\": \"strict\", \"coloraxis\": {\"colorbar\": {\"outlinewidth\": 0, \"ticks\": \"\"}}, \"colorscale\": {\"diverging\": [[0, \"#8e0152\"], [0.1, \"#c51b7d\"], [0.2, \"#de77ae\"], [0.3, \"#f1b6da\"], [0.4, \"#fde0ef\"], [0.5, \"#f7f7f7\"], [0.6, \"#e6f5d0\"], [0.7, \"#b8e186\"], [0.8, \"#7fbc41\"], [0.9, \"#4d9221\"], [1, \"#276419\"]], \"sequential\": [[0.0, \"#0d0887\"], [0.1111111111111111, \"#46039f\"], [0.2222222222222222, \"#7201a8\"], [0.3333333333333333, \"#9c179e\"], [0.4444444444444444, \"#bd3786\"], [0.5555555555555556, \"#d8576b\"], [0.6666666666666666, \"#ed7953\"], [0.7777777777777778, \"#fb9f3a\"], [0.8888888888888888, \"#fdca26\"], [1.0, \"#f0f921\"]], \"sequentialminus\": [[0.0, \"#0d0887\"], [0.1111111111111111, \"#46039f\"], [0.2222222222222222, \"#7201a8\"], [0.3333333333333333, \"#9c179e\"], [0.4444444444444444, \"#bd3786\"], [0.5555555555555556, \"#d8576b\"], [0.6666666666666666, \"#ed7953\"], [0.7777777777777778, \"#fb9f3a\"], [0.8888888888888888, \"#fdca26\"], [1.0, \"#f0f921\"]]}, \"colorway\": [\"#636efa\", \"#EF553B\", \"#00cc96\", \"#ab63fa\", \"#FFA15A\", \"#19d3f3\", \"#FF6692\", \"#B6E880\", \"#FF97FF\", \"#FECB52\"], \"font\": {\"color\": \"#2a3f5f\"}, \"geo\": {\"bgcolor\": \"white\", \"lakecolor\": \"white\", \"landcolor\": \"#E5ECF6\", \"showlakes\": true, \"showland\": true, \"subunitcolor\": \"white\"}, \"hoverlabel\": {\"align\": \"left\"}, \"hovermode\": \"closest\", \"mapbox\": {\"style\": \"light\"}, \"paper_bgcolor\": \"white\", \"plot_bgcolor\": \"#E5ECF6\", \"polar\": {\"angularaxis\": {\"gridcolor\": \"white\", \"linecolor\": \"white\", \"ticks\": \"\"}, \"bgcolor\": \"#E5ECF6\", \"radialaxis\": {\"gridcolor\": \"white\", \"linecolor\": \"white\", \"ticks\": \"\"}}, \"scene\": {\"xaxis\": {\"backgroundcolor\": \"#E5ECF6\", \"gridcolor\": \"white\", \"gridwidth\": 2, \"linecolor\": \"white\", \"showbackground\": true, \"ticks\": \"\", \"zerolinecolor\": \"white\"}, \"yaxis\": {\"backgroundcolor\": \"#E5ECF6\", \"gridcolor\": \"white\", \"gridwidth\": 2, \"linecolor\": \"white\", \"showbackground\": true, \"ticks\": \"\", \"zerolinecolor\": \"white\"}, \"zaxis\": {\"backgroundcolor\": \"#E5ECF6\", \"gridcolor\": \"white\", \"gridwidth\": 2, \"linecolor\": \"white\", \"showbackground\": true, \"ticks\": \"\", \"zerolinecolor\": \"white\"}}, \"shapedefaults\": {\"line\": {\"color\": \"#2a3f5f\"}}, \"ternary\": {\"aaxis\": {\"gridcolor\": \"white\", \"linecolor\": \"white\", \"ticks\": \"\"}, \"baxis\": {\"gridcolor\": \"white\", \"linecolor\": \"white\", \"ticks\": \"\"}, \"bgcolor\": \"#E5ECF6\", \"caxis\": {\"gridcolor\": \"white\", \"linecolor\": \"white\", \"ticks\": \"\"}}, \"title\": {\"x\": 0.05}, \"xaxis\": {\"automargin\": true, \"gridcolor\": \"white\", \"linecolor\": \"white\", \"ticks\": \"\", \"title\": {\"standoff\": 15}, \"zerolinecolor\": \"white\", \"zerolinewidth\": 2}, \"yaxis\": {\"automargin\": true, \"gridcolor\": \"white\", \"linecolor\": \"white\", \"ticks\": \"\", \"title\": {\"standoff\": 15}, \"zerolinecolor\": \"white\", \"zerolinewidth\": 2}}}, \"title\": {\"font\": {\"color\": \"black\", \"family\": \"Times New Roman\", \"size\": 26}, \"text\": \"Trending videos by country\", \"x\": 0.45}},                        {\"responsive\": true}                    ).then(function(){\n",
       "                            \n",
       "var gd = document.getElementById('82baaa32-1d9a-4d7e-b137-58e1a42bbb0e');\n",
       "var x = new MutationObserver(function (mutations, observer) {{\n",
       "        var display = window.getComputedStyle(gd).display;\n",
       "        if (!display || display === 'none') {{\n",
       "            console.log([gd, 'removed!']);\n",
       "            Plotly.purge(gd);\n",
       "            observer.disconnect();\n",
       "        }}\n",
       "}});\n",
       "\n",
       "// Listen for the removal of the full notebook cells\n",
       "var notebookContainer = gd.closest('#notebook-container');\n",
       "if (notebookContainer) {{\n",
       "    x.observe(notebookContainer, {childList: true});\n",
       "}}\n",
       "\n",
       "// Listen for the clearing of the current output cell\n",
       "var outputEl = gd.closest('.output');\n",
       "if (outputEl) {{\n",
       "    x.observe(outputEl, {childList: true});\n",
       "}}\n",
       "\n",
       "                        })                };                });            </script>        </div>"
      ]
     },
     "metadata": {},
     "output_type": "display_data"
    }
   ],
   "source": [
    "labels = trending_region['region'].tolist()\n",
    "values = trending_region['videos_count'].tolist()\n",
    "\n",
    "fig = go.Figure(go.Pie(labels=labels, values=values))\n",
    "fig.update_layout(\n",
    "    title_text='Trending videos by country',\n",
    "    title_x=0.45,\n",
    "    font_family=\"Courier New\",\n",
    "    font_color=\"dark blue\",\n",
    "    title_font_family=\"Times New Roman\",\n",
    "    title_font_color=\"black\",\n",
    "    title_font_size=26)\n",
    "fig.show()"
   ]
  },
  {
   "cell_type": "markdown",
   "metadata": {},
   "source": [
    "# Trending videos by countries: the differences"
   ]
  },
  {
   "cell_type": "code",
   "execution_count": 39,
   "metadata": {},
   "outputs": [
    {
     "data": {
      "text/html": [
       "<div>\n",
       "<style scoped>\n",
       "    .dataframe tbody tr th:only-of-type {\n",
       "        vertical-align: middle;\n",
       "    }\n",
       "\n",
       "    .dataframe tbody tr th {\n",
       "        vertical-align: top;\n",
       "    }\n",
       "\n",
       "    .dataframe thead th {\n",
       "        text-align: right;\n",
       "    }\n",
       "</style>\n",
       "<table border=\"1\" class=\"dataframe\">\n",
       "  <thead>\n",
       "    <tr style=\"text-align: right;\">\n",
       "      <th></th>\n",
       "      <th>category_title</th>\n",
       "      <th>videos_count</th>\n",
       "      <th>region</th>\n",
       "    </tr>\n",
       "  </thead>\n",
       "  <tbody>\n",
       "    <tr>\n",
       "      <th>0</th>\n",
       "      <td>Entertainment</td>\n",
       "      <td>19638</td>\n",
       "      <td>United States</td>\n",
       "    </tr>\n",
       "    <tr>\n",
       "      <th>1</th>\n",
       "      <td>Music</td>\n",
       "      <td>12874</td>\n",
       "      <td>United States</td>\n",
       "    </tr>\n",
       "    <tr>\n",
       "      <th>2</th>\n",
       "      <td>Howto &amp; Style</td>\n",
       "      <td>8280</td>\n",
       "      <td>United States</td>\n",
       "    </tr>\n",
       "    <tr>\n",
       "      <th>3</th>\n",
       "      <td>Comedy</td>\n",
       "      <td>6870</td>\n",
       "      <td>United States</td>\n",
       "    </tr>\n",
       "    <tr>\n",
       "      <th>4</th>\n",
       "      <td>People &amp; Blogs</td>\n",
       "      <td>6122</td>\n",
       "      <td>United States</td>\n",
       "    </tr>\n",
       "  </tbody>\n",
       "</table>\n",
       "</div>"
      ],
      "text/plain": [
       "   category_title  videos_count         region\n",
       "0   Entertainment         19638  United States\n",
       "1           Music         12874  United States\n",
       "2   Howto & Style          8280  United States\n",
       "3          Comedy          6870  United States\n",
       "4  People & Blogs          6122  United States"
      ]
     },
     "execution_count": 39,
     "metadata": {},
     "output_type": "execute_result"
    }
   ],
   "source": [
    "trending_us = videos.query('region == \"United States\"').groupby(\n",
    "    ['category_title']).agg(\n",
    "    {'videos_count': 'sum'}).sort_values(by='videos_count',\n",
    "                                         ascending=False).reset_index().head(5)\n",
    "trending_us['region'] = 'United States'\n",
    "trending_us"
   ]
  },
  {
   "cell_type": "code",
   "execution_count": 40,
   "metadata": {},
   "outputs": [
    {
     "data": {
      "text/html": [
       "<div>\n",
       "<style scoped>\n",
       "    .dataframe tbody tr th:only-of-type {\n",
       "        vertical-align: middle;\n",
       "    }\n",
       "\n",
       "    .dataframe tbody tr th {\n",
       "        vertical-align: top;\n",
       "    }\n",
       "\n",
       "    .dataframe thead th {\n",
       "        text-align: right;\n",
       "    }\n",
       "</style>\n",
       "<table border=\"1\" class=\"dataframe\">\n",
       "  <thead>\n",
       "    <tr style=\"text-align: right;\">\n",
       "      <th></th>\n",
       "      <th>category_title</th>\n",
       "      <th>videos_count</th>\n",
       "      <th>region</th>\n",
       "    </tr>\n",
       "  </thead>\n",
       "  <tbody>\n",
       "    <tr>\n",
       "      <th>0</th>\n",
       "      <td>Entertainment</td>\n",
       "      <td>19020</td>\n",
       "      <td>France</td>\n",
       "    </tr>\n",
       "    <tr>\n",
       "      <th>1</th>\n",
       "      <td>People &amp; Blogs</td>\n",
       "      <td>9346</td>\n",
       "      <td>France</td>\n",
       "    </tr>\n",
       "    <tr>\n",
       "      <th>2</th>\n",
       "      <td>Comedy</td>\n",
       "      <td>8446</td>\n",
       "      <td>France</td>\n",
       "    </tr>\n",
       "    <tr>\n",
       "      <th>3</th>\n",
       "      <td>Sports</td>\n",
       "      <td>8002</td>\n",
       "      <td>France</td>\n",
       "    </tr>\n",
       "    <tr>\n",
       "      <th>4</th>\n",
       "      <td>Music</td>\n",
       "      <td>7658</td>\n",
       "      <td>France</td>\n",
       "    </tr>\n",
       "  </tbody>\n",
       "</table>\n",
       "</div>"
      ],
      "text/plain": [
       "   category_title  videos_count  region\n",
       "0   Entertainment         19020  France\n",
       "1  People & Blogs          9346  France\n",
       "2          Comedy          8446  France\n",
       "3          Sports          8002  France\n",
       "4           Music          7658  France"
      ]
     },
     "execution_count": 40,
     "metadata": {},
     "output_type": "execute_result"
    }
   ],
   "source": [
    "trending_france = videos.query('region == \"France\"').groupby(\n",
    "    'category_title').agg(\n",
    "    {'videos_count': 'sum'}).sort_values(by='videos_count',\n",
    "                                         ascending = False).reset_index().head()\n",
    "trending_france['region'] = 'France'\n",
    "trending_france"
   ]
  },
  {
   "cell_type": "code",
   "execution_count": 41,
   "metadata": {},
   "outputs": [
    {
     "data": {
      "text/html": [
       "<div>\n",
       "<style scoped>\n",
       "    .dataframe tbody tr th:only-of-type {\n",
       "        vertical-align: middle;\n",
       "    }\n",
       "\n",
       "    .dataframe tbody tr th {\n",
       "        vertical-align: top;\n",
       "    }\n",
       "\n",
       "    .dataframe thead th {\n",
       "        text-align: right;\n",
       "    }\n",
       "</style>\n",
       "<table border=\"1\" class=\"dataframe\">\n",
       "  <thead>\n",
       "    <tr style=\"text-align: right;\">\n",
       "      <th></th>\n",
       "      <th>category_title</th>\n",
       "      <th>videos_count</th>\n",
       "      <th>region</th>\n",
       "    </tr>\n",
       "  </thead>\n",
       "  <tbody>\n",
       "    <tr>\n",
       "      <th>0</th>\n",
       "      <td>People &amp; Blogs</td>\n",
       "      <td>18452</td>\n",
       "      <td>Russia</td>\n",
       "    </tr>\n",
       "    <tr>\n",
       "      <th>1</th>\n",
       "      <td>Entertainment</td>\n",
       "      <td>11692</td>\n",
       "      <td>Russia</td>\n",
       "    </tr>\n",
       "    <tr>\n",
       "      <th>2</th>\n",
       "      <td>News &amp; Politics</td>\n",
       "      <td>9858</td>\n",
       "      <td>Russia</td>\n",
       "    </tr>\n",
       "    <tr>\n",
       "      <th>3</th>\n",
       "      <td>Comedy</td>\n",
       "      <td>5968</td>\n",
       "      <td>Russia</td>\n",
       "    </tr>\n",
       "    <tr>\n",
       "      <th>4</th>\n",
       "      <td>Film &amp; Animation</td>\n",
       "      <td>5676</td>\n",
       "      <td>Russia</td>\n",
       "    </tr>\n",
       "  </tbody>\n",
       "</table>\n",
       "</div>"
      ],
      "text/plain": [
       "     category_title  videos_count  region\n",
       "0    People & Blogs         18452  Russia\n",
       "1     Entertainment         11692  Russia\n",
       "2   News & Politics          9858  Russia\n",
       "3            Comedy          5968  Russia\n",
       "4  Film & Animation          5676  Russia"
      ]
     },
     "execution_count": 41,
     "metadata": {},
     "output_type": "execute_result"
    }
   ],
   "source": [
    "trending_russia = videos.query('region == \"Russia\"').groupby(\n",
    "    'category_title').agg(\n",
    "    {'videos_count': 'sum'}).sort_values(by='videos_count',\n",
    "                                         ascending = False).reset_index().head()\n",
    "trending_russia['region'] = 'Russia'\n",
    "trending_russia"
   ]
  },
  {
   "cell_type": "code",
   "execution_count": 42,
   "metadata": {},
   "outputs": [
    {
     "data": {
      "text/html": [
       "<div>\n",
       "<style scoped>\n",
       "    .dataframe tbody tr th:only-of-type {\n",
       "        vertical-align: middle;\n",
       "    }\n",
       "\n",
       "    .dataframe tbody tr th {\n",
       "        vertical-align: top;\n",
       "    }\n",
       "\n",
       "    .dataframe thead th {\n",
       "        text-align: right;\n",
       "    }\n",
       "</style>\n",
       "<table border=\"1\" class=\"dataframe\">\n",
       "  <thead>\n",
       "    <tr style=\"text-align: right;\">\n",
       "      <th></th>\n",
       "      <th>category_title</th>\n",
       "      <th>videos_count</th>\n",
       "      <th>region</th>\n",
       "    </tr>\n",
       "  </thead>\n",
       "  <tbody>\n",
       "    <tr>\n",
       "      <th>0</th>\n",
       "      <td>Entertainment</td>\n",
       "      <td>32924</td>\n",
       "      <td>India</td>\n",
       "    </tr>\n",
       "    <tr>\n",
       "      <th>1</th>\n",
       "      <td>News &amp; Politics</td>\n",
       "      <td>10346</td>\n",
       "      <td>India</td>\n",
       "    </tr>\n",
       "    <tr>\n",
       "      <th>2</th>\n",
       "      <td>Music</td>\n",
       "      <td>7714</td>\n",
       "      <td>India</td>\n",
       "    </tr>\n",
       "    <tr>\n",
       "      <th>3</th>\n",
       "      <td>Comedy</td>\n",
       "      <td>6814</td>\n",
       "      <td>India</td>\n",
       "    </tr>\n",
       "    <tr>\n",
       "      <th>4</th>\n",
       "      <td>People &amp; Blogs</td>\n",
       "      <td>4988</td>\n",
       "      <td>India</td>\n",
       "    </tr>\n",
       "  </tbody>\n",
       "</table>\n",
       "</div>"
      ],
      "text/plain": [
       "    category_title  videos_count region\n",
       "0    Entertainment         32924  India\n",
       "1  News & Politics         10346  India\n",
       "2            Music          7714  India\n",
       "3           Comedy          6814  India\n",
       "4   People & Blogs          4988  India"
      ]
     },
     "execution_count": 42,
     "metadata": {},
     "output_type": "execute_result"
    }
   ],
   "source": [
    "trending_india= videos.query('region == \"India\"').groupby(\n",
    "    'category_title').agg(\n",
    "    {'videos_count': 'sum'}).sort_values(by='videos_count',\n",
    "                                         ascending = False).reset_index().head()\n",
    "trending_india['region'] = 'India'\n",
    "trending_india"
   ]
  },
  {
   "cell_type": "code",
   "execution_count": 43,
   "metadata": {},
   "outputs": [
    {
     "data": {
      "text/html": [
       "<div>\n",
       "<style scoped>\n",
       "    .dataframe tbody tr th:only-of-type {\n",
       "        vertical-align: middle;\n",
       "    }\n",
       "\n",
       "    .dataframe tbody tr th {\n",
       "        vertical-align: top;\n",
       "    }\n",
       "\n",
       "    .dataframe thead th {\n",
       "        text-align: right;\n",
       "    }\n",
       "</style>\n",
       "<table border=\"1\" class=\"dataframe\">\n",
       "  <thead>\n",
       "    <tr style=\"text-align: right;\">\n",
       "      <th></th>\n",
       "      <th>category_title</th>\n",
       "      <th>videos_count</th>\n",
       "      <th>region</th>\n",
       "    </tr>\n",
       "  </thead>\n",
       "  <tbody>\n",
       "    <tr>\n",
       "      <th>0</th>\n",
       "      <td>Entertainment</td>\n",
       "      <td>11734</td>\n",
       "      <td>Japan</td>\n",
       "    </tr>\n",
       "    <tr>\n",
       "      <th>1</th>\n",
       "      <td>People &amp; Blogs</td>\n",
       "      <td>5792</td>\n",
       "      <td>Japan</td>\n",
       "    </tr>\n",
       "    <tr>\n",
       "      <th>2</th>\n",
       "      <td>Sports</td>\n",
       "      <td>3606</td>\n",
       "      <td>Japan</td>\n",
       "    </tr>\n",
       "    <tr>\n",
       "      <th>3</th>\n",
       "      <td>News &amp; Politics</td>\n",
       "      <td>2654</td>\n",
       "      <td>Japan</td>\n",
       "    </tr>\n",
       "    <tr>\n",
       "      <th>4</th>\n",
       "      <td>Music</td>\n",
       "      <td>2480</td>\n",
       "      <td>Japan</td>\n",
       "    </tr>\n",
       "  </tbody>\n",
       "</table>\n",
       "</div>"
      ],
      "text/plain": [
       "    category_title  videos_count region\n",
       "0    Entertainment         11734  Japan\n",
       "1   People & Blogs          5792  Japan\n",
       "2           Sports          3606  Japan\n",
       "3  News & Politics          2654  Japan\n",
       "4            Music          2480  Japan"
      ]
     },
     "execution_count": 43,
     "metadata": {},
     "output_type": "execute_result"
    }
   ],
   "source": [
    "trending_japan = videos.query('region == \"Japan\"').groupby(\n",
    "    'category_title').agg(\n",
    "    {'videos_count': 'sum'}).sort_values(by='videos_count',\n",
    "                                         ascending = False).reset_index().head()\n",
    "trending_japan['region'] = 'Japan'\n",
    "trending_japan"
   ]
  },
  {
   "cell_type": "code",
   "execution_count": 44,
   "metadata": {},
   "outputs": [
    {
     "data": {
      "text/html": [
       "<div>\n",
       "<style scoped>\n",
       "    .dataframe tbody tr th:only-of-type {\n",
       "        vertical-align: middle;\n",
       "    }\n",
       "\n",
       "    .dataframe tbody tr th {\n",
       "        vertical-align: top;\n",
       "    }\n",
       "\n",
       "    .dataframe thead th {\n",
       "        text-align: right;\n",
       "    }\n",
       "</style>\n",
       "<table border=\"1\" class=\"dataframe\">\n",
       "  <thead>\n",
       "    <tr style=\"text-align: right;\">\n",
       "      <th></th>\n",
       "      <th>category_title</th>\n",
       "      <th>videos_count</th>\n",
       "      <th>region</th>\n",
       "    </tr>\n",
       "  </thead>\n",
       "  <tbody>\n",
       "    <tr>\n",
       "      <th>0</th>\n",
       "      <td>Entertainment</td>\n",
       "      <td>19638</td>\n",
       "      <td>United States</td>\n",
       "    </tr>\n",
       "    <tr>\n",
       "      <th>1</th>\n",
       "      <td>Music</td>\n",
       "      <td>12874</td>\n",
       "      <td>United States</td>\n",
       "    </tr>\n",
       "    <tr>\n",
       "      <th>2</th>\n",
       "      <td>Howto &amp; Style</td>\n",
       "      <td>8280</td>\n",
       "      <td>United States</td>\n",
       "    </tr>\n",
       "    <tr>\n",
       "      <th>3</th>\n",
       "      <td>Comedy</td>\n",
       "      <td>6870</td>\n",
       "      <td>United States</td>\n",
       "    </tr>\n",
       "    <tr>\n",
       "      <th>4</th>\n",
       "      <td>People &amp; Blogs</td>\n",
       "      <td>6122</td>\n",
       "      <td>United States</td>\n",
       "    </tr>\n",
       "    <tr>\n",
       "      <th>5</th>\n",
       "      <td>Entertainment</td>\n",
       "      <td>19020</td>\n",
       "      <td>France</td>\n",
       "    </tr>\n",
       "    <tr>\n",
       "      <th>6</th>\n",
       "      <td>People &amp; Blogs</td>\n",
       "      <td>9346</td>\n",
       "      <td>France</td>\n",
       "    </tr>\n",
       "    <tr>\n",
       "      <th>7</th>\n",
       "      <td>Comedy</td>\n",
       "      <td>8446</td>\n",
       "      <td>France</td>\n",
       "    </tr>\n",
       "    <tr>\n",
       "      <th>8</th>\n",
       "      <td>Sports</td>\n",
       "      <td>8002</td>\n",
       "      <td>France</td>\n",
       "    </tr>\n",
       "    <tr>\n",
       "      <th>9</th>\n",
       "      <td>Music</td>\n",
       "      <td>7658</td>\n",
       "      <td>France</td>\n",
       "    </tr>\n",
       "    <tr>\n",
       "      <th>10</th>\n",
       "      <td>Entertainment</td>\n",
       "      <td>32924</td>\n",
       "      <td>India</td>\n",
       "    </tr>\n",
       "    <tr>\n",
       "      <th>11</th>\n",
       "      <td>News &amp; Politics</td>\n",
       "      <td>10346</td>\n",
       "      <td>India</td>\n",
       "    </tr>\n",
       "    <tr>\n",
       "      <th>12</th>\n",
       "      <td>Music</td>\n",
       "      <td>7714</td>\n",
       "      <td>India</td>\n",
       "    </tr>\n",
       "    <tr>\n",
       "      <th>13</th>\n",
       "      <td>Comedy</td>\n",
       "      <td>6814</td>\n",
       "      <td>India</td>\n",
       "    </tr>\n",
       "    <tr>\n",
       "      <th>14</th>\n",
       "      <td>People &amp; Blogs</td>\n",
       "      <td>4988</td>\n",
       "      <td>India</td>\n",
       "    </tr>\n",
       "    <tr>\n",
       "      <th>15</th>\n",
       "      <td>Entertainment</td>\n",
       "      <td>11734</td>\n",
       "      <td>Japan</td>\n",
       "    </tr>\n",
       "    <tr>\n",
       "      <th>16</th>\n",
       "      <td>People &amp; Blogs</td>\n",
       "      <td>5792</td>\n",
       "      <td>Japan</td>\n",
       "    </tr>\n",
       "    <tr>\n",
       "      <th>17</th>\n",
       "      <td>Sports</td>\n",
       "      <td>3606</td>\n",
       "      <td>Japan</td>\n",
       "    </tr>\n",
       "    <tr>\n",
       "      <th>18</th>\n",
       "      <td>News &amp; Politics</td>\n",
       "      <td>2654</td>\n",
       "      <td>Japan</td>\n",
       "    </tr>\n",
       "    <tr>\n",
       "      <th>19</th>\n",
       "      <td>Music</td>\n",
       "      <td>2480</td>\n",
       "      <td>Japan</td>\n",
       "    </tr>\n",
       "    <tr>\n",
       "      <th>20</th>\n",
       "      <td>People &amp; Blogs</td>\n",
       "      <td>18452</td>\n",
       "      <td>Russia</td>\n",
       "    </tr>\n",
       "    <tr>\n",
       "      <th>21</th>\n",
       "      <td>Entertainment</td>\n",
       "      <td>11692</td>\n",
       "      <td>Russia</td>\n",
       "    </tr>\n",
       "    <tr>\n",
       "      <th>22</th>\n",
       "      <td>News &amp; Politics</td>\n",
       "      <td>9858</td>\n",
       "      <td>Russia</td>\n",
       "    </tr>\n",
       "    <tr>\n",
       "      <th>23</th>\n",
       "      <td>Comedy</td>\n",
       "      <td>5968</td>\n",
       "      <td>Russia</td>\n",
       "    </tr>\n",
       "    <tr>\n",
       "      <th>24</th>\n",
       "      <td>Film &amp; Animation</td>\n",
       "      <td>5676</td>\n",
       "      <td>Russia</td>\n",
       "    </tr>\n",
       "  </tbody>\n",
       "</table>\n",
       "</div>"
      ],
      "text/plain": [
       "      category_title  videos_count         region\n",
       "0      Entertainment         19638  United States\n",
       "1              Music         12874  United States\n",
       "2      Howto & Style          8280  United States\n",
       "3             Comedy          6870  United States\n",
       "4     People & Blogs          6122  United States\n",
       "5      Entertainment         19020         France\n",
       "6     People & Blogs          9346         France\n",
       "7             Comedy          8446         France\n",
       "8             Sports          8002         France\n",
       "9              Music          7658         France\n",
       "10     Entertainment         32924          India\n",
       "11   News & Politics         10346          India\n",
       "12             Music          7714          India\n",
       "13            Comedy          6814          India\n",
       "14    People & Blogs          4988          India\n",
       "15     Entertainment         11734          Japan\n",
       "16    People & Blogs          5792          Japan\n",
       "17            Sports          3606          Japan\n",
       "18   News & Politics          2654          Japan\n",
       "19             Music          2480          Japan\n",
       "20    People & Blogs         18452         Russia\n",
       "21     Entertainment         11692         Russia\n",
       "22   News & Politics          9858         Russia\n",
       "23            Comedy          5968         Russia\n",
       "24  Film & Animation          5676         Russia"
      ]
     },
     "execution_count": 44,
     "metadata": {},
     "output_type": "execute_result"
    }
   ],
   "source": [
    "trending_all = trending_us.append(trending_france,\n",
    "                                  ignore_index=True).append(trending_india,\n",
    "                                                            ignore_index=True).append(trending_japan,\n",
    "                                                                                      ignore_index=True).append(trending_russia,\n",
    "                                                                                                                ignore_index=True)\n",
    "trending_all"
   ]
  },
  {
   "cell_type": "code",
   "execution_count": 45,
   "metadata": {},
   "outputs": [
    {
     "data": {
      "image/png": "[encoded data removed]",
      "text/plain": [
       "<Figure size 720x360 with 5 Axes>"
      ]
     },
     "metadata": {},
     "output_type": "display_data"
    }
   ],
   "source": [
    "fig, (ax1, ax2, ax3, ax4, ax5) = plt.subplots(1,5, figsize=(10,5), sharey = True)\n",
    "trending_us.plot(kind = 'bar', x='category_title', grid = True, ax = ax1, color ='blue')\n",
    "ax1.set_title('United States')\n",
    "ax1.set_xlabel('')\n",
    "ax1.set_xticklabels(ax1.get_xticklabels(), rotation = 45, size=9, ha='right')\n",
    "ax1.legend().set_visible(False)\n",
    "\n",
    "trending_france.plot(kind = 'bar', x='category_title', grid = True, ax = ax2, color='orange')\n",
    "ax2.set_title('France')\n",
    "ax2.set_xlabel('')\n",
    "ax2.set_xticklabels(ax2.get_xticklabels(), rotation = 45, size=9, ha='right')\n",
    "ax2.legend().set_visible(False)\n",
    "\n",
    "trending_russia.plot(kind = 'bar', x='category_title', grid = True, ax = ax3, color ='red')\n",
    "ax3.set_title('Russia')\n",
    "ax3.set_xlabel('')\n",
    "ax3.set_xticklabels(ax3.get_xticklabels(), rotation = 45, size=9, ha='right')\n",
    "ax3.legend().set_visible(False)\n",
    "\n",
    "trending_india.plot(kind = 'bar', x='category_title', grid = True, ax = ax4, color ='green')\n",
    "ax4.set_title('India')\n",
    "ax4.set_xlabel('')\n",
    "ax4.set_xticklabels(ax4.get_xticklabels(), rotation = 45, size=9, ha='right')\n",
    "ax4.legend().set_visible(False)\n",
    "\n",
    "trending_japan.plot(kind = 'bar', x='category_title', grid = True, ax = ax5, color ='purple')\n",
    "ax5.set_title('Japan')\n",
    "ax5.set_xlabel('')\n",
    "ax5.set_xticklabels(ax5.get_xticklabels(), rotation = 45, size=9, ha='right')\n",
    "ax5.legend().set_visible(False)\n",
    "\n",
    "plt.suptitle('Top 5 trending video categories')\n",
    "fig.text(0.5, 0.0001, 'Video category', ha='center', color = 'black')\n",
    "fig.text(0.0001, 0.5, 'Video count', va='center', rotation='vertical')\n",
    "plt.tight_layout()"
   ]
  }
 ],
 "metadata": {
  "kernelspec": {
   "display_name": "Python 3",
   "language": "python",
   "name": "python3"
  },
  "language_info": {
   "codemirror_mode": {
    "name": "ipython",
    "version": 3
   },
   "file_extension": ".py",
   "mimetype": "text/x-python",
   "name": "python",
   "nbconvert_exporter": "python",
   "pygments_lexer": "ipython3",
   "version": "3.7.6"
  }
 },
 "nbformat": 4,
 "nbformat_minor": 4
}
