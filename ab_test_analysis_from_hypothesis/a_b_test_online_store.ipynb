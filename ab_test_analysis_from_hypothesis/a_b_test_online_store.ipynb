{
 "cells": [
  {
   "cell_type": "markdown",
   "metadata": {},
   "source": [
    "# Title: A/B Test Analysis"
   ]
  },
  {
   "cell_type": "markdown",
   "metadata": {},
   "source": [
    "# Author: James Amezcua"
   ]
  },
  {
   "cell_type": "markdown",
   "metadata": {},
   "source": [
    "# Introduction"
   ]
  },
  {
   "cell_type": "markdown",
   "metadata": {},
   "source": [
    "This report presents the analysis of an A/B test results for an online store. First, we will examine the 9 hypotheses compiled by the marketing department to boost revenues, and decide which ones to prioritize.\n",
    "\n",
    "Following this, we will analyze the A/B test results. The analysis focuses on comparing the cumulative revenue, average order size, and conversion rates between the two groups.\n",
    "\n",
    "Then we will carry out 4 statistical significance tests, which we use to see if the two groups have the same conversion rates and average order size, using both raw data and data removed of anomalies. On the basis of this analysis, we will decide what to do next about the test."
   ]
  },
  {
   "cell_type": "markdown",
   "metadata": {},
   "source": [
    "# Table of content"
   ]
  },
  {
   "cell_type": "markdown",
   "metadata": {},
   "source": [
    "Part 1: Hypothesis data importing and calculation\n",
    "\n",
    "Part 2: Visitors and orders data importing and preprocessing\n",
    "\n",
    "Part 3: Analysis of A/B test\n",
    "\n",
    "Part 4: Detecting anomalies\n",
    "\n",
    "Part 5: Statistical significance testing\n",
    "\n",
    "Part 6: Findings and conclusions"
   ]
  },
  {
   "cell_type": "code",
   "execution_count": 1,
   "metadata": {},
   "outputs": [],
   "source": [
    "import pandas as pd\n",
    "import numpy as np\n",
    "import math\n",
    "from matplotlib import pyplot as plt\n",
    "from scipy import stats as st\n",
    "from IPython.display import display\n",
    "import seaborn as sns\n",
    "%matplotlib inline\n",
    "plt.rcParams.update({'figure.figsize':(7,5), 'figure.dpi':100})\n",
    "import warnings\n",
    "warnings.filterwarnings(\"ignore\")\n",
    "pd.set_option('max_colwidth', 400)"
   ]
  },
  {
   "cell_type": "markdown",
   "metadata": {},
   "source": [
    "# Part 1: Hypothesis data importing and calculation"
   ]
  },
  {
   "cell_type": "markdown",
   "metadata": {},
   "source": [
    "In this section, we will:\n",
    "\n",
    "import and check the data containing the 9 hypotheses;\n",
    "\n",
    "apply the ICE framework to prioritize hypotheses; and\n",
    "\n",
    "apply the RICE framework to prioritize hypotheses."
   ]
  },
  {
   "cell_type": "code",
   "execution_count": 2,
   "metadata": {},
   "outputs": [],
   "source": [
    "hypothesis = pd.read_csv(\n",
    "    'https://code.s3.yandex.net/datasets/hypotheses_us.csv', sep=';')"
   ]
  },
  {
   "cell_type": "code",
   "execution_count": 3,
   "metadata": {},
   "outputs": [
    {
     "data": {
      "text/html": [
       "<div>\n",
       "<style scoped>\n",
       "    .dataframe tbody tr th:only-of-type {\n",
       "        vertical-align: middle;\n",
       "    }\n",
       "\n",
       "    .dataframe tbody tr th {\n",
       "        vertical-align: top;\n",
       "    }\n",
       "\n",
       "    .dataframe thead th {\n",
       "        text-align: right;\n",
       "    }\n",
       "</style>\n",
       "<table border=\"1\" class=\"dataframe\">\n",
       "  <thead>\n",
       "    <tr style=\"text-align: right;\">\n",
       "      <th></th>\n",
       "      <th>Hypothesis</th>\n",
       "      <th>Reach</th>\n",
       "      <th>Impact</th>\n",
       "      <th>Confidence</th>\n",
       "      <th>Effort</th>\n",
       "    </tr>\n",
       "  </thead>\n",
       "  <tbody>\n",
       "    <tr>\n",
       "      <td>0</td>\n",
       "      <td>Add two new channels for attracting traffic. This will bring 30% more users</td>\n",
       "      <td>3</td>\n",
       "      <td>10</td>\n",
       "      <td>8</td>\n",
       "      <td>6</td>\n",
       "    </tr>\n",
       "    <tr>\n",
       "      <td>1</td>\n",
       "      <td>Launch your own delivery service. This will shorten delivery time</td>\n",
       "      <td>2</td>\n",
       "      <td>5</td>\n",
       "      <td>4</td>\n",
       "      <td>10</td>\n",
       "    </tr>\n",
       "    <tr>\n",
       "      <td>2</td>\n",
       "      <td>Add product recommendation blocks to the store's site. This will increase conversion and average purchase size</td>\n",
       "      <td>8</td>\n",
       "      <td>3</td>\n",
       "      <td>7</td>\n",
       "      <td>3</td>\n",
       "    </tr>\n",
       "    <tr>\n",
       "      <td>3</td>\n",
       "      <td>Change the category structure. This will increase conversion since users will find the products they want more quickly</td>\n",
       "      <td>8</td>\n",
       "      <td>3</td>\n",
       "      <td>3</td>\n",
       "      <td>8</td>\n",
       "    </tr>\n",
       "    <tr>\n",
       "      <td>4</td>\n",
       "      <td>Change the background color on the main page. This will increase user engagement</td>\n",
       "      <td>3</td>\n",
       "      <td>1</td>\n",
       "      <td>1</td>\n",
       "      <td>1</td>\n",
       "    </tr>\n",
       "    <tr>\n",
       "      <td>5</td>\n",
       "      <td>Add a customer review page. This will increase the number of orders</td>\n",
       "      <td>3</td>\n",
       "      <td>2</td>\n",
       "      <td>2</td>\n",
       "      <td>3</td>\n",
       "    </tr>\n",
       "    <tr>\n",
       "      <td>6</td>\n",
       "      <td>Show banners with current offers and sales on the main page. This will boost conversion</td>\n",
       "      <td>5</td>\n",
       "      <td>3</td>\n",
       "      <td>8</td>\n",
       "      <td>3</td>\n",
       "    </tr>\n",
       "    <tr>\n",
       "      <td>7</td>\n",
       "      <td>Add a subscription form to all the main pages. This will help you compile a mailing list</td>\n",
       "      <td>10</td>\n",
       "      <td>7</td>\n",
       "      <td>8</td>\n",
       "      <td>5</td>\n",
       "    </tr>\n",
       "    <tr>\n",
       "      <td>8</td>\n",
       "      <td>Launch a promotion that gives users discounts on their birthdays</td>\n",
       "      <td>1</td>\n",
       "      <td>9</td>\n",
       "      <td>9</td>\n",
       "      <td>5</td>\n",
       "    </tr>\n",
       "  </tbody>\n",
       "</table>\n",
       "</div>"
      ],
      "text/plain": [
       "                                                                                                               Hypothesis  \\\n",
       "0                                             Add two new channels for attracting traffic. This will bring 30% more users   \n",
       "1                                                       Launch your own delivery service. This will shorten delivery time   \n",
       "2          Add product recommendation blocks to the store's site. This will increase conversion and average purchase size   \n",
       "3  Change the category structure. This will increase conversion since users will find the products they want more quickly   \n",
       "4                                        Change the background color on the main page. This will increase user engagement   \n",
       "5                                                     Add a customer review page. This will increase the number of orders   \n",
       "6                                 Show banners with current offers and sales on the main page. This will boost conversion   \n",
       "7                                Add a subscription form to all the main pages. This will help you compile a mailing list   \n",
       "8                                                        Launch a promotion that gives users discounts on their birthdays   \n",
       "\n",
       "   Reach  Impact  Confidence  Effort  \n",
       "0      3      10           8       6  \n",
       "1      2       5           4      10  \n",
       "2      8       3           7       3  \n",
       "3      8       3           3       8  \n",
       "4      3       1           1       1  \n",
       "5      3       2           2       3  \n",
       "6      5       3           8       3  \n",
       "7     10       7           8       5  \n",
       "8      1       9           9       5  "
      ]
     },
     "execution_count": 3,
     "metadata": {},
     "output_type": "execute_result"
    }
   ],
   "source": [
    "hypothesis"
   ]
  },
  {
   "cell_type": "code",
   "execution_count": 4,
   "metadata": {},
   "outputs": [],
   "source": [
    "hypothesis.columns=hypothesis.columns.str.lower()"
   ]
  },
  {
   "cell_type": "code",
   "execution_count": 5,
   "metadata": {},
   "outputs": [],
   "source": [
    "hypothesis['ICE'] = (hypothesis['impact'] *\n",
    "                     hypothesis['confidence'])/hypothesis['effort']"
   ]
  },
  {
   "cell_type": "code",
   "execution_count": 6,
   "metadata": {},
   "outputs": [
    {
     "data": {
      "text/html": [
       "<div>\n",
       "<style scoped>\n",
       "    .dataframe tbody tr th:only-of-type {\n",
       "        vertical-align: middle;\n",
       "    }\n",
       "\n",
       "    .dataframe tbody tr th {\n",
       "        vertical-align: top;\n",
       "    }\n",
       "\n",
       "    .dataframe thead th {\n",
       "        text-align: right;\n",
       "    }\n",
       "</style>\n",
       "<table border=\"1\" class=\"dataframe\">\n",
       "  <thead>\n",
       "    <tr style=\"text-align: right;\">\n",
       "      <th></th>\n",
       "      <th>hypothesis</th>\n",
       "      <th>ICE</th>\n",
       "    </tr>\n",
       "  </thead>\n",
       "  <tbody>\n",
       "    <tr>\n",
       "      <td>8</td>\n",
       "      <td>Launch a promotion that gives users discounts on their birthdays</td>\n",
       "      <td>16.200000</td>\n",
       "    </tr>\n",
       "    <tr>\n",
       "      <td>0</td>\n",
       "      <td>Add two new channels for attracting traffic. This will bring 30% more users</td>\n",
       "      <td>13.333333</td>\n",
       "    </tr>\n",
       "    <tr>\n",
       "      <td>7</td>\n",
       "      <td>Add a subscription form to all the main pages. This will help you compile a mailing list</td>\n",
       "      <td>11.200000</td>\n",
       "    </tr>\n",
       "    <tr>\n",
       "      <td>6</td>\n",
       "      <td>Show banners with current offers and sales on the main page. This will boost conversion</td>\n",
       "      <td>8.000000</td>\n",
       "    </tr>\n",
       "    <tr>\n",
       "      <td>2</td>\n",
       "      <td>Add product recommendation blocks to the store's site. This will increase conversion and average purchase size</td>\n",
       "      <td>7.000000</td>\n",
       "    </tr>\n",
       "    <tr>\n",
       "      <td>1</td>\n",
       "      <td>Launch your own delivery service. This will shorten delivery time</td>\n",
       "      <td>2.000000</td>\n",
       "    </tr>\n",
       "    <tr>\n",
       "      <td>5</td>\n",
       "      <td>Add a customer review page. This will increase the number of orders</td>\n",
       "      <td>1.333333</td>\n",
       "    </tr>\n",
       "    <tr>\n",
       "      <td>3</td>\n",
       "      <td>Change the category structure. This will increase conversion since users will find the products they want more quickly</td>\n",
       "      <td>1.125000</td>\n",
       "    </tr>\n",
       "    <tr>\n",
       "      <td>4</td>\n",
       "      <td>Change the background color on the main page. This will increase user engagement</td>\n",
       "      <td>1.000000</td>\n",
       "    </tr>\n",
       "  </tbody>\n",
       "</table>\n",
       "</div>"
      ],
      "text/plain": [
       "                                                                                                               hypothesis  \\\n",
       "8                                                        Launch a promotion that gives users discounts on their birthdays   \n",
       "0                                             Add two new channels for attracting traffic. This will bring 30% more users   \n",
       "7                                Add a subscription form to all the main pages. This will help you compile a mailing list   \n",
       "6                                 Show banners with current offers and sales on the main page. This will boost conversion   \n",
       "2          Add product recommendation blocks to the store's site. This will increase conversion and average purchase size   \n",
       "1                                                       Launch your own delivery service. This will shorten delivery time   \n",
       "5                                                     Add a customer review page. This will increase the number of orders   \n",
       "3  Change the category structure. This will increase conversion since users will find the products they want more quickly   \n",
       "4                                        Change the background color on the main page. This will increase user engagement   \n",
       "\n",
       "         ICE  \n",
       "8  16.200000  \n",
       "0  13.333333  \n",
       "7  11.200000  \n",
       "6   8.000000  \n",
       "2   7.000000  \n",
       "1   2.000000  \n",
       "5   1.333333  \n",
       "3   1.125000  \n",
       "4   1.000000  "
      ]
     },
     "execution_count": 6,
     "metadata": {},
     "output_type": "execute_result"
    }
   ],
   "source": [
    "hypothesis[['hypothesis', 'ICE']].sort_values(by='ICE', ascending=False)"
   ]
  },
  {
   "cell_type": "markdown",
   "metadata": {},
   "source": [
    "The top 5 hypotheses with the highest scores are no. 8, 0, 7, 6, and 2.\n",
    "\n",
    "Now let's include 'reach' and calculate the RICE scores."
   ]
  },
  {
   "cell_type": "code",
   "execution_count": 7,
   "metadata": {},
   "outputs": [],
   "source": [
    "hypothesis['RICE'] = (hypothesis['reach'] * hypothesis['impact'] *\n",
    "                     hypothesis['confidence'])/hypothesis['effort']"
   ]
  },
  {
   "cell_type": "code",
   "execution_count": 8,
   "metadata": {},
   "outputs": [
    {
     "data": {
      "text/html": [
       "<div>\n",
       "<style scoped>\n",
       "    .dataframe tbody tr th:only-of-type {\n",
       "        vertical-align: middle;\n",
       "    }\n",
       "\n",
       "    .dataframe tbody tr th {\n",
       "        vertical-align: top;\n",
       "    }\n",
       "\n",
       "    .dataframe thead th {\n",
       "        text-align: right;\n",
       "    }\n",
       "</style>\n",
       "<table border=\"1\" class=\"dataframe\">\n",
       "  <thead>\n",
       "    <tr style=\"text-align: right;\">\n",
       "      <th></th>\n",
       "      <th>hypothesis</th>\n",
       "      <th>RICE</th>\n",
       "    </tr>\n",
       "  </thead>\n",
       "  <tbody>\n",
       "    <tr>\n",
       "      <td>7</td>\n",
       "      <td>Add a subscription form to all the main pages. This will help you compile a mailing list</td>\n",
       "      <td>112.0</td>\n",
       "    </tr>\n",
       "    <tr>\n",
       "      <td>2</td>\n",
       "      <td>Add product recommendation blocks to the store's site. This will increase conversion and average purchase size</td>\n",
       "      <td>56.0</td>\n",
       "    </tr>\n",
       "    <tr>\n",
       "      <td>0</td>\n",
       "      <td>Add two new channels for attracting traffic. This will bring 30% more users</td>\n",
       "      <td>40.0</td>\n",
       "    </tr>\n",
       "    <tr>\n",
       "      <td>6</td>\n",
       "      <td>Show banners with current offers and sales on the main page. This will boost conversion</td>\n",
       "      <td>40.0</td>\n",
       "    </tr>\n",
       "    <tr>\n",
       "      <td>8</td>\n",
       "      <td>Launch a promotion that gives users discounts on their birthdays</td>\n",
       "      <td>16.2</td>\n",
       "    </tr>\n",
       "    <tr>\n",
       "      <td>3</td>\n",
       "      <td>Change the category structure. This will increase conversion since users will find the products they want more quickly</td>\n",
       "      <td>9.0</td>\n",
       "    </tr>\n",
       "    <tr>\n",
       "      <td>1</td>\n",
       "      <td>Launch your own delivery service. This will shorten delivery time</td>\n",
       "      <td>4.0</td>\n",
       "    </tr>\n",
       "    <tr>\n",
       "      <td>5</td>\n",
       "      <td>Add a customer review page. This will increase the number of orders</td>\n",
       "      <td>4.0</td>\n",
       "    </tr>\n",
       "    <tr>\n",
       "      <td>4</td>\n",
       "      <td>Change the background color on the main page. This will increase user engagement</td>\n",
       "      <td>3.0</td>\n",
       "    </tr>\n",
       "  </tbody>\n",
       "</table>\n",
       "</div>"
      ],
      "text/plain": [
       "                                                                                                               hypothesis  \\\n",
       "7                                Add a subscription form to all the main pages. This will help you compile a mailing list   \n",
       "2          Add product recommendation blocks to the store's site. This will increase conversion and average purchase size   \n",
       "0                                             Add two new channels for attracting traffic. This will bring 30% more users   \n",
       "6                                 Show banners with current offers and sales on the main page. This will boost conversion   \n",
       "8                                                        Launch a promotion that gives users discounts on their birthdays   \n",
       "3  Change the category structure. This will increase conversion since users will find the products they want more quickly   \n",
       "1                                                       Launch your own delivery service. This will shorten delivery time   \n",
       "5                                                     Add a customer review page. This will increase the number of orders   \n",
       "4                                        Change the background color on the main page. This will increase user engagement   \n",
       "\n",
       "    RICE  \n",
       "7  112.0  \n",
       "2   56.0  \n",
       "0   40.0  \n",
       "6   40.0  \n",
       "8   16.2  \n",
       "3    9.0  \n",
       "1    4.0  \n",
       "5    4.0  \n",
       "4    3.0  "
      ]
     },
     "execution_count": 8,
     "metadata": {},
     "output_type": "execute_result"
    }
   ],
   "source": [
    "hypothesis[['hypothesis', 'RICE']].sort_values(by='RICE', ascending=False)"
   ]
  },
  {
   "cell_type": "markdown",
   "metadata": {},
   "source": [
    "Judging from the RICE scores, the 5 most promising hypotheses are no. 7, 2, 0, 6, and 8. The same five as from ICE calculation but in different order.\n",
    "\n",
    "Now let's also make a scatterplot with the x asix showing the ICE score and y axis showing the RICE score."
   ]
  },
  {
   "cell_type": "code",
   "execution_count": 9,
   "metadata": {},
   "outputs": [
    {
     "data": {
      "image/png": "[encoded data removed]",
      "text/plain": [
       "<Figure size 700x500 with 1 Axes>"
      ]
     },
     "metadata": {
      "needs_background": "light"
     },
     "output_type": "display_data"
    }
   ],
   "source": [
    "x = hypothesis['ICE']\n",
    "y = hypothesis['RICE']\n",
    "types = hypothesis.index\n",
    "\n",
    "fig, ax = plt.subplots(figsize=(7, 5))\n",
    "ax.scatter(x, y)\n",
    "\n",
    "ax.set_xlabel('ICE score', fontsize=12)\n",
    "ax.set_ylabel('RICE score', fontsize=12)\n",
    "ax.set_title('Hypothesis ICE and RICE scores', fontsize=14)\n",
    "\n",
    "for i, txt in enumerate(types):\n",
    "    ax.annotate(txt, (x[i], y[i]), xytext=(10, 2), textcoords='offset points')\n",
    "    plt.scatter(x, y, color='red')"
   ]
  },
  {
   "cell_type": "markdown",
   "metadata": {},
   "source": [
    "Shown on the scatterplot, the more top and right hand side a hypothesis is positioned towards, the more promising it is.\n",
    "\n",
    "No.7 hypothesis jumped to the top the RICE score list because it has the highest reach score, which is 10. Indeed, adding a subscription form to all the main page will affect all users. No.8 hypothesis fell to the 5th place in RICE from 1st in ICE because it has the lowest reach score, which is 1. This is because this hypothesis will only affect those whose birthdays fall in a specific period of time.\n",
    "\n",
    "Therefore using which method to prioritize the hypothesis does make a difference. In the case of this project, the two methods produce the same 5 hypotheses that the company should prioritize for testing. So any of the five could make a strong case."
   ]
  },
  {
   "cell_type": "markdown",
   "metadata": {},
   "source": [
    "# Part 1 Summary "
   ]
  },
  {
   "cell_type": "markdown",
   "metadata": {},
   "source": [
    "In this section, we imported the data containing the 9 hypotheses and calcuated their ICE and RICE scores. Based on the results, the company can decide which hypotheses to test and which to test first.\n",
    "\n",
    "In this project, it hasn't been noted which specific hypothesis is being tested using the A/B test. However, based on the tasks, we can speculate that it is possibly hypothesis 2, which says adding recommendation blocks to the site will boost both conversion rate and average purchase size.\n",
    "\n",
    "In the next section, we will work with the results of the A/B test."
   ]
  },
  {
   "cell_type": "markdown",
   "metadata": {},
   "source": [
    "# Part 2: Visitors and orders data importing and preprocessing"
   ]
  },
  {
   "cell_type": "code",
   "execution_count": 10,
   "metadata": {},
   "outputs": [],
   "source": [
    "orders = pd.read_csv(\n",
    "    'https://code.s3.yandex.net/datasets/orders_us.csv',\n",
    "    parse_dates=['date'])"
   ]
  },
  {
   "cell_type": "code",
   "execution_count": 11,
   "metadata": {},
   "outputs": [],
   "source": [
    "visits = pd.read_csv(\n",
    "    'https://code.s3.yandex.net/datasets/visits_us.csv',\n",
    "    parse_dates=['date'])"
   ]
  },
  {
   "cell_type": "code",
   "execution_count": 12,
   "metadata": {},
   "outputs": [
    {
     "data": {
      "text/html": [
       "<div>\n",
       "<style scoped>\n",
       "    .dataframe tbody tr th:only-of-type {\n",
       "        vertical-align: middle;\n",
       "    }\n",
       "\n",
       "    .dataframe tbody tr th {\n",
       "        vertical-align: top;\n",
       "    }\n",
       "\n",
       "    .dataframe thead th {\n",
       "        text-align: right;\n",
       "    }\n",
       "</style>\n",
       "<table border=\"1\" class=\"dataframe\">\n",
       "  <thead>\n",
       "    <tr style=\"text-align: right;\">\n",
       "      <th></th>\n",
       "      <th>transactionId</th>\n",
       "      <th>visitorId</th>\n",
       "      <th>date</th>\n",
       "      <th>revenue</th>\n",
       "      <th>group</th>\n",
       "    </tr>\n",
       "  </thead>\n",
       "  <tbody>\n",
       "    <tr>\n",
       "      <td>0</td>\n",
       "      <td>3667963787</td>\n",
       "      <td>3312258926</td>\n",
       "      <td>2019-08-15</td>\n",
       "      <td>30.4</td>\n",
       "      <td>B</td>\n",
       "    </tr>\n",
       "    <tr>\n",
       "      <td>1</td>\n",
       "      <td>2804400009</td>\n",
       "      <td>3642806036</td>\n",
       "      <td>2019-08-15</td>\n",
       "      <td>15.2</td>\n",
       "      <td>B</td>\n",
       "    </tr>\n",
       "    <tr>\n",
       "      <td>2</td>\n",
       "      <td>2961555356</td>\n",
       "      <td>4069496402</td>\n",
       "      <td>2019-08-15</td>\n",
       "      <td>10.2</td>\n",
       "      <td>A</td>\n",
       "    </tr>\n",
       "    <tr>\n",
       "      <td>3</td>\n",
       "      <td>3797467345</td>\n",
       "      <td>1196621759</td>\n",
       "      <td>2019-08-15</td>\n",
       "      <td>155.1</td>\n",
       "      <td>B</td>\n",
       "    </tr>\n",
       "    <tr>\n",
       "      <td>4</td>\n",
       "      <td>2282983706</td>\n",
       "      <td>2322279887</td>\n",
       "      <td>2019-08-15</td>\n",
       "      <td>40.5</td>\n",
       "      <td>B</td>\n",
       "    </tr>\n",
       "  </tbody>\n",
       "</table>\n",
       "</div>"
      ],
      "text/plain": [
       "   transactionId   visitorId       date  revenue group\n",
       "0     3667963787  3312258926 2019-08-15     30.4     B\n",
       "1     2804400009  3642806036 2019-08-15     15.2     B\n",
       "2     2961555356  4069496402 2019-08-15     10.2     A\n",
       "3     3797467345  1196621759 2019-08-15    155.1     B\n",
       "4     2282983706  2322279887 2019-08-15     40.5     B"
      ]
     },
     "execution_count": 12,
     "metadata": {},
     "output_type": "execute_result"
    }
   ],
   "source": [
    "orders.head()"
   ]
  },
  {
   "cell_type": "code",
   "execution_count": 13,
   "metadata": {},
   "outputs": [
    {
     "data": {
      "text/html": [
       "<div>\n",
       "<style scoped>\n",
       "    .dataframe tbody tr th:only-of-type {\n",
       "        vertical-align: middle;\n",
       "    }\n",
       "\n",
       "    .dataframe tbody tr th {\n",
       "        vertical-align: top;\n",
       "    }\n",
       "\n",
       "    .dataframe thead th {\n",
       "        text-align: right;\n",
       "    }\n",
       "</style>\n",
       "<table border=\"1\" class=\"dataframe\">\n",
       "  <thead>\n",
       "    <tr style=\"text-align: right;\">\n",
       "      <th></th>\n",
       "      <th>date</th>\n",
       "      <th>group</th>\n",
       "      <th>visits</th>\n",
       "    </tr>\n",
       "  </thead>\n",
       "  <tbody>\n",
       "    <tr>\n",
       "      <td>0</td>\n",
       "      <td>2019-08-01</td>\n",
       "      <td>A</td>\n",
       "      <td>719</td>\n",
       "    </tr>\n",
       "    <tr>\n",
       "      <td>1</td>\n",
       "      <td>2019-08-02</td>\n",
       "      <td>A</td>\n",
       "      <td>619</td>\n",
       "    </tr>\n",
       "    <tr>\n",
       "      <td>2</td>\n",
       "      <td>2019-08-03</td>\n",
       "      <td>A</td>\n",
       "      <td>507</td>\n",
       "    </tr>\n",
       "    <tr>\n",
       "      <td>3</td>\n",
       "      <td>2019-08-04</td>\n",
       "      <td>A</td>\n",
       "      <td>717</td>\n",
       "    </tr>\n",
       "    <tr>\n",
       "      <td>4</td>\n",
       "      <td>2019-08-05</td>\n",
       "      <td>A</td>\n",
       "      <td>756</td>\n",
       "    </tr>\n",
       "  </tbody>\n",
       "</table>\n",
       "</div>"
      ],
      "text/plain": [
       "        date group  visits\n",
       "0 2019-08-01     A     719\n",
       "1 2019-08-02     A     619\n",
       "2 2019-08-03     A     507\n",
       "3 2019-08-04     A     717\n",
       "4 2019-08-05     A     756"
      ]
     },
     "execution_count": 13,
     "metadata": {},
     "output_type": "execute_result"
    }
   ],
   "source": [
    "visits.head()"
   ]
  },
  {
   "cell_type": "markdown",
   "metadata": {},
   "source": [
    "The column names look fine. Now let's check for NA values and duplicates."
   ]
  },
  {
   "cell_type": "code",
   "execution_count": 14,
   "metadata": {},
   "outputs": [
    {
     "data": {
      "text/plain": [
       "transactionId    0\n",
       "visitorId        0\n",
       "date             0\n",
       "revenue          0\n",
       "group            0\n",
       "dtype: int64"
      ]
     },
     "execution_count": 14,
     "metadata": {},
     "output_type": "execute_result"
    }
   ],
   "source": [
    "orders.isna().sum()"
   ]
  },
  {
   "cell_type": "code",
   "execution_count": 15,
   "metadata": {},
   "outputs": [
    {
     "data": {
      "text/plain": [
       "0"
      ]
     },
     "execution_count": 15,
     "metadata": {},
     "output_type": "execute_result"
    }
   ],
   "source": [
    "orders.duplicated().sum()"
   ]
  },
  {
   "cell_type": "code",
   "execution_count": 16,
   "metadata": {},
   "outputs": [
    {
     "data": {
      "text/plain": [
       "date      0\n",
       "group     0\n",
       "visits    0\n",
       "dtype: int64"
      ]
     },
     "execution_count": 16,
     "metadata": {},
     "output_type": "execute_result"
    }
   ],
   "source": [
    "visits.isna().sum()"
   ]
  },
  {
   "cell_type": "code",
   "execution_count": 17,
   "metadata": {},
   "outputs": [
    {
     "data": {
      "text/plain": [
       "0"
      ]
     },
     "execution_count": 17,
     "metadata": {},
     "output_type": "execute_result"
    }
   ],
   "source": [
    "visits.duplicated().sum()"
   ]
  },
  {
   "cell_type": "markdown",
   "metadata": {},
   "source": [
    "No NA values or duplicates. Great. Let's next check the date range for both."
   ]
  },
  {
   "cell_type": "code",
   "execution_count": 18,
   "metadata": {},
   "outputs": [
    {
     "data": {
      "text/plain": [
       "Timestamp('2019-08-01 00:00:00')"
      ]
     },
     "metadata": {},
     "output_type": "display_data"
    },
    {
     "data": {
      "text/plain": [
       "Timestamp('2019-08-31 00:00:00')"
      ]
     },
     "metadata": {},
     "output_type": "display_data"
    }
   ],
   "source": [
    "display(orders['date'].min(), orders['date'].max())"
   ]
  },
  {
   "cell_type": "code",
   "execution_count": 19,
   "metadata": {},
   "outputs": [
    {
     "data": {
      "text/plain": [
       "Timestamp('2019-08-01 00:00:00')"
      ]
     },
     "metadata": {},
     "output_type": "display_data"
    },
    {
     "data": {
      "text/plain": [
       "Timestamp('2019-08-31 00:00:00')"
      ]
     },
     "metadata": {},
     "output_type": "display_data"
    }
   ],
   "source": [
    "display(visits['date'].min(), visits['date'].max())"
   ]
  },
  {
   "cell_type": "markdown",
   "metadata": {},
   "source": [
    "Both datasets contain information from 2019-08-01 to 2019-08-31. All good. Now let's check the numeric data."
   ]
  },
  {
   "cell_type": "code",
   "execution_count": 20,
   "metadata": {},
   "outputs": [
    {
     "data": {
      "text/plain": [
       "count     1197.000000\n",
       "mean       131.491646\n",
       "std        603.004729\n",
       "min          5.000000\n",
       "25%         20.800000\n",
       "50%         50.200000\n",
       "75%        130.400000\n",
       "max      19920.400000\n",
       "Name: revenue, dtype: float64"
      ]
     },
     "execution_count": 20,
     "metadata": {},
     "output_type": "execute_result"
    }
   ],
   "source": [
    "orders['revenue'].describe()"
   ]
  },
  {
   "cell_type": "code",
   "execution_count": 21,
   "metadata": {},
   "outputs": [
    {
     "data": {
      "text/plain": [
       "count     62.000000\n",
       "mean     607.290323\n",
       "std      114.400560\n",
       "min      361.000000\n",
       "25%      534.000000\n",
       "50%      624.500000\n",
       "75%      710.500000\n",
       "max      770.000000\n",
       "Name: visits, dtype: float64"
      ]
     },
     "execution_count": 21,
     "metadata": {},
     "output_type": "execute_result"
    }
   ],
   "source": [
    "visits['visits'].describe()"
   ]
  },
  {
   "cell_type": "markdown",
   "metadata": {},
   "source": [
    "The summary of revenue shows quite likely there are some outliers on the higher end of the revenue, which we will deal with later in the analysis.\n",
    "\n",
    "Now let's take a look at how big each group is."
   ]
  },
  {
   "cell_type": "code",
   "execution_count": 22,
   "metadata": {},
   "outputs": [
    {
     "data": {
      "text/plain": [
       "B    640\n",
       "A    557\n",
       "Name: group, dtype: int64"
      ]
     },
     "execution_count": 22,
     "metadata": {},
     "output_type": "execute_result"
    }
   ],
   "source": [
    "orders['group'].value_counts()"
   ]
  },
  {
   "cell_type": "code",
   "execution_count": 23,
   "metadata": {},
   "outputs": [
    {
     "name": "stdout",
     "output_type": "stream",
     "text": [
      "Number of unique users in the data: 1031 \n",
      "Number of unique users in group A: 503 \n",
      "Number of unique users in group B: 586\n"
     ]
    }
   ],
   "source": [
    "print('Number of unique users in the data:', orders['visitorId'].nunique(),\n",
    "      '\\nNumber of unique users in group A:',\n",
    "      orders[orders['group'] == 'A']['visitorId'].nunique(),\n",
    "      '\\nNumber of unique users in group B:',\n",
    "      orders[orders['group'] == 'B']['visitorId'].nunique())"
   ]
  },
  {
   "cell_type": "markdown",
   "metadata": {},
   "source": [
    "We can see, there are 640 transaction records for B group, and 557 for A group. However, when we look at how many unique visitorId in each group in light of the total visitorId, we can notice that the add up of both group is larger than the total unique visitorId number. This means there are users who show up in both groups. We need to find out how many of them there are."
   ]
  },
  {
   "cell_type": "code",
   "execution_count": 24,
   "metadata": {},
   "outputs": [
    {
     "data": {
      "text/plain": [
       "58"
      ]
     },
     "execution_count": 24,
     "metadata": {},
     "output_type": "execute_result"
    }
   ],
   "source": [
    "usersA = orders[orders['group'] =='A']['visitorId'].unique()\n",
    "usersB = orders[orders['group'] =='B']['visitorId'].unique()\n",
    "usersAB = np.intersect1d(usersA, usersB)\n",
    "len(usersAB)"
   ]
  },
  {
   "cell_type": "code",
   "execution_count": 25,
   "metadata": {},
   "outputs": [
    {
     "data": {
      "text/plain": [
       "181"
      ]
     },
     "execution_count": 25,
     "metadata": {},
     "output_type": "execute_result"
    }
   ],
   "source": [
    "len(orders[orders['visitorId'].isin(usersAB)])"
   ]
  },
  {
   "cell_type": "markdown",
   "metadata": {},
   "source": [
    "There are 58 users that actually show up in both A and B groups, contributing to a total of 181 transactions. This is very likely a mistake at either traffic splitting stage or the data entering stage. Considering the total transactions are 1197, these records represent approximately 15% of the total orders.\n",
    "\n",
    "The most appropriate approach given the situation would be to drop these rows. It's pity to lose 15% of data but sometimes we just have to do that to protect ourselves from badly wrong conclusions which may be caused by an erroneous data. Let go ahead and do that now."
   ]
  },
  {
   "cell_type": "code",
   "execution_count": 26,
   "metadata": {},
   "outputs": [
    {
     "data": {
      "text/plain": [
       "(1016, 5)"
      ]
     },
     "execution_count": 26,
     "metadata": {},
     "output_type": "execute_result"
    }
   ],
   "source": [
    "orders = orders[~orders['visitorId'].isin(usersAB)]\n",
    "orders.shape"
   ]
  },
  {
   "cell_type": "code",
   "execution_count": 27,
   "metadata": {},
   "outputs": [
    {
     "data": {
      "text/plain": [
       "B    548\n",
       "A    468\n",
       "Name: group, dtype: int64"
      ]
     },
     "execution_count": 27,
     "metadata": {},
     "output_type": "execute_result"
    }
   ],
   "source": [
    "orders['group'].value_counts()"
   ]
  },
  {
   "cell_type": "markdown",
   "metadata": {},
   "source": [
    "The data is 181 rows less but in good shape for the analysis and calculations next."
   ]
  },
  {
   "cell_type": "markdown",
   "metadata": {},
   "source": [
    "# Part 2 summary"
   ]
  },
  {
   "cell_type": "markdown",
   "metadata": {},
   "source": [
    "In this section, we imported and checked the orders and visits datasets. To prepare the data for the A/B test analysis next, we removed the rows where users have records both in A and B group. The resulting dataset contains 468 A group orders and 548 B group orders.\n",
    "\n",
    "One thing we need to keep in mind is that there are possible outliers we will need to address in the revenue column."
   ]
  },
  {
   "cell_type": "markdown",
   "metadata": {},
   "source": [
    "# Part 3: Analysis of the A/B test"
   ]
  },
  {
   "cell_type": "markdown",
   "metadata": {},
   "source": [
    "In this section, we will use the visits and orders datasets to calculate and plot the following:\n",
    "\n",
    "1. cumulative revenue by group;\n",
    "2. cumulative average order size by group;\n",
    "3. the relative difference in cumulative average order size for group B compared with group A; and\n",
    "4. daily and cumulative conversion rates of the two groups."
   ]
  },
  {
   "cell_type": "code",
   "execution_count": 28,
   "metadata": {},
   "outputs": [
    {
     "data": {
      "text/html": [
       "<div>\n",
       "<style scoped>\n",
       "    .dataframe tbody tr th:only-of-type {\n",
       "        vertical-align: middle;\n",
       "    }\n",
       "\n",
       "    .dataframe tbody tr th {\n",
       "        vertical-align: top;\n",
       "    }\n",
       "\n",
       "    .dataframe thead th {\n",
       "        text-align: right;\n",
       "    }\n",
       "</style>\n",
       "<table border=\"1\" class=\"dataframe\">\n",
       "  <thead>\n",
       "    <tr style=\"text-align: right;\">\n",
       "      <th></th>\n",
       "      <th>transactionId</th>\n",
       "      <th>visitorId</th>\n",
       "      <th>date</th>\n",
       "      <th>revenue</th>\n",
       "      <th>group</th>\n",
       "    </tr>\n",
       "  </thead>\n",
       "  <tbody>\n",
       "    <tr>\n",
       "      <td>0</td>\n",
       "      <td>3667963787</td>\n",
       "      <td>3312258926</td>\n",
       "      <td>2019-08-15</td>\n",
       "      <td>30.4</td>\n",
       "      <td>B</td>\n",
       "    </tr>\n",
       "    <tr>\n",
       "      <td>1</td>\n",
       "      <td>2804400009</td>\n",
       "      <td>3642806036</td>\n",
       "      <td>2019-08-15</td>\n",
       "      <td>15.2</td>\n",
       "      <td>B</td>\n",
       "    </tr>\n",
       "    <tr>\n",
       "      <td>3</td>\n",
       "      <td>3797467345</td>\n",
       "      <td>1196621759</td>\n",
       "      <td>2019-08-15</td>\n",
       "      <td>155.1</td>\n",
       "      <td>B</td>\n",
       "    </tr>\n",
       "    <tr>\n",
       "      <td>4</td>\n",
       "      <td>2282983706</td>\n",
       "      <td>2322279887</td>\n",
       "      <td>2019-08-15</td>\n",
       "      <td>40.5</td>\n",
       "      <td>B</td>\n",
       "    </tr>\n",
       "    <tr>\n",
       "      <td>5</td>\n",
       "      <td>182168103</td>\n",
       "      <td>935554773</td>\n",
       "      <td>2019-08-15</td>\n",
       "      <td>35.0</td>\n",
       "      <td>B</td>\n",
       "    </tr>\n",
       "  </tbody>\n",
       "</table>\n",
       "</div>"
      ],
      "text/plain": [
       "   transactionId   visitorId       date  revenue group\n",
       "0     3667963787  3312258926 2019-08-15     30.4     B\n",
       "1     2804400009  3642806036 2019-08-15     15.2     B\n",
       "3     3797467345  1196621759 2019-08-15    155.1     B\n",
       "4     2282983706  2322279887 2019-08-15     40.5     B\n",
       "5      182168103   935554773 2019-08-15     35.0     B"
      ]
     },
     "execution_count": 28,
     "metadata": {},
     "output_type": "execute_result"
    }
   ],
   "source": [
    "orders.head()"
   ]
  },
  {
   "cell_type": "code",
   "execution_count": 29,
   "metadata": {},
   "outputs": [
    {
     "data": {
      "text/html": [
       "<div>\n",
       "<style scoped>\n",
       "    .dataframe tbody tr th:only-of-type {\n",
       "        vertical-align: middle;\n",
       "    }\n",
       "\n",
       "    .dataframe tbody tr th {\n",
       "        vertical-align: top;\n",
       "    }\n",
       "\n",
       "    .dataframe thead th {\n",
       "        text-align: right;\n",
       "    }\n",
       "</style>\n",
       "<table border=\"1\" class=\"dataframe\">\n",
       "  <thead>\n",
       "    <tr style=\"text-align: right;\">\n",
       "      <th></th>\n",
       "      <th>date</th>\n",
       "      <th>group</th>\n",
       "      <th>visits</th>\n",
       "    </tr>\n",
       "  </thead>\n",
       "  <tbody>\n",
       "    <tr>\n",
       "      <td>0</td>\n",
       "      <td>2019-08-01</td>\n",
       "      <td>A</td>\n",
       "      <td>719</td>\n",
       "    </tr>\n",
       "    <tr>\n",
       "      <td>1</td>\n",
       "      <td>2019-08-02</td>\n",
       "      <td>A</td>\n",
       "      <td>619</td>\n",
       "    </tr>\n",
       "    <tr>\n",
       "      <td>2</td>\n",
       "      <td>2019-08-03</td>\n",
       "      <td>A</td>\n",
       "      <td>507</td>\n",
       "    </tr>\n",
       "    <tr>\n",
       "      <td>3</td>\n",
       "      <td>2019-08-04</td>\n",
       "      <td>A</td>\n",
       "      <td>717</td>\n",
       "    </tr>\n",
       "    <tr>\n",
       "      <td>4</td>\n",
       "      <td>2019-08-05</td>\n",
       "      <td>A</td>\n",
       "      <td>756</td>\n",
       "    </tr>\n",
       "  </tbody>\n",
       "</table>\n",
       "</div>"
      ],
      "text/plain": [
       "        date group  visits\n",
       "0 2019-08-01     A     719\n",
       "1 2019-08-02     A     619\n",
       "2 2019-08-03     A     507\n",
       "3 2019-08-04     A     717\n",
       "4 2019-08-05     A     756"
      ]
     },
     "execution_count": 29,
     "metadata": {},
     "output_type": "execute_result"
    }
   ],
   "source": [
    "visits.head()"
   ]
  },
  {
   "cell_type": "markdown",
   "metadata": {},
   "source": [
    "# 3.1 Cumulative revenue by group"
   ]
  },
  {
   "cell_type": "markdown",
   "metadata": {},
   "source": [
    "First, let's create a DatesGroup dataframe that only contains the unique combination of date and group, and aggregate the orders data to get the accumulative number of orders and visitors, as well as revenue."
   ]
  },
  {
   "cell_type": "code",
   "execution_count": 30,
   "metadata": {},
   "outputs": [],
   "source": [
    "datesGroups = orders[['date', 'group']].drop_duplicates()\n",
    "ordersAggregated = datesGroups.apply(\n",
    "    lambda x: orders[np.logical_and(orders['date'] <= x['date'], orders[\n",
    "        'group'] == x['group'])].agg({\n",
    "            'date': 'max',\n",
    "            'group': 'max',\n",
    "            'transactionId': pd.Series.nunique,\n",
    "            'visitorId': pd.Series.nunique,\n",
    "            'revenue': 'sum'\n",
    "        }),\n",
    "    axis=1).sort_values(by=['date', 'group'])"
   ]
  },
  {
   "cell_type": "code",
   "execution_count": 31,
   "metadata": {},
   "outputs": [],
   "source": [
    "visitorsAggregated = datesGroups.apply(\n",
    "    lambda x: visits[np.logical_and(visits['date'] <= x['date'], visits[\n",
    "        'group'] == x['group'])].agg({\n",
    "            'date': 'max',\n",
    "            'group': 'max',\n",
    "            'visits': 'sum'\n",
    "        }),\n",
    "    axis=1).sort_values(by=['date', 'group'])"
   ]
  },
  {
   "cell_type": "markdown",
   "metadata": {},
   "source": [
    "Now let's merge the two aggregated datasets so we have the orders, users, revenue, and visitors information for each unique date and group combination."
   ]
  },
  {
   "cell_type": "code",
   "execution_count": 32,
   "metadata": {},
   "outputs": [],
   "source": [
    "cumulativeData = ordersAggregated.merge(visitorsAggregated,\n",
    "                                        left_on=['date', 'group'],\n",
    "                                        right_on=['date', 'group'])\n",
    "cumulativeData.columns = [\n",
    "    'date', 'group', 'orders', 'buyers', 'revenue', 'visitors'\n",
    "]"
   ]
  },
  {
   "cell_type": "code",
   "execution_count": 33,
   "metadata": {},
   "outputs": [
    {
     "data": {
      "text/html": [
       "<div>\n",
       "<style scoped>\n",
       "    .dataframe tbody tr th:only-of-type {\n",
       "        vertical-align: middle;\n",
       "    }\n",
       "\n",
       "    .dataframe tbody tr th {\n",
       "        vertical-align: top;\n",
       "    }\n",
       "\n",
       "    .dataframe thead th {\n",
       "        text-align: right;\n",
       "    }\n",
       "</style>\n",
       "<table border=\"1\" class=\"dataframe\">\n",
       "  <thead>\n",
       "    <tr style=\"text-align: right;\">\n",
       "      <th></th>\n",
       "      <th>date</th>\n",
       "      <th>group</th>\n",
       "      <th>orders</th>\n",
       "      <th>buyers</th>\n",
       "      <th>revenue</th>\n",
       "      <th>visitors</th>\n",
       "    </tr>\n",
       "  </thead>\n",
       "  <tbody>\n",
       "    <tr>\n",
       "      <td>0</td>\n",
       "      <td>2019-08-01</td>\n",
       "      <td>A</td>\n",
       "      <td>23</td>\n",
       "      <td>19</td>\n",
       "      <td>2266.6</td>\n",
       "      <td>719</td>\n",
       "    </tr>\n",
       "    <tr>\n",
       "      <td>1</td>\n",
       "      <td>2019-08-01</td>\n",
       "      <td>B</td>\n",
       "      <td>17</td>\n",
       "      <td>17</td>\n",
       "      <td>967.2</td>\n",
       "      <td>713</td>\n",
       "    </tr>\n",
       "    <tr>\n",
       "      <td>2</td>\n",
       "      <td>2019-08-02</td>\n",
       "      <td>A</td>\n",
       "      <td>42</td>\n",
       "      <td>36</td>\n",
       "      <td>3734.9</td>\n",
       "      <td>1338</td>\n",
       "    </tr>\n",
       "    <tr>\n",
       "      <td>3</td>\n",
       "      <td>2019-08-02</td>\n",
       "      <td>B</td>\n",
       "      <td>40</td>\n",
       "      <td>39</td>\n",
       "      <td>3535.3</td>\n",
       "      <td>1294</td>\n",
       "    </tr>\n",
       "    <tr>\n",
       "      <td>4</td>\n",
       "      <td>2019-08-03</td>\n",
       "      <td>A</td>\n",
       "      <td>66</td>\n",
       "      <td>60</td>\n",
       "      <td>5550.1</td>\n",
       "      <td>1845</td>\n",
       "    </tr>\n",
       "  </tbody>\n",
       "</table>\n",
       "</div>"
      ],
      "text/plain": [
       "        date group  orders  buyers  revenue  visitors\n",
       "0 2019-08-01     A      23      19   2266.6       719\n",
       "1 2019-08-01     B      17      17    967.2       713\n",
       "2 2019-08-02     A      42      36   3734.9      1338\n",
       "3 2019-08-02     B      40      39   3535.3      1294\n",
       "4 2019-08-03     A      66      60   5550.1      1845"
      ]
     },
     "execution_count": 33,
     "metadata": {},
     "output_type": "execute_result"
    }
   ],
   "source": [
    "cumulativeData.head()"
   ]
  },
  {
   "cell_type": "markdown",
   "metadata": {},
   "source": [
    "Now let's create two subsets containing the A group and B group records respectively, and plot the accumulative revenue for both groups on the same graph."
   ]
  },
  {
   "cell_type": "code",
   "execution_count": 34,
   "metadata": {},
   "outputs": [],
   "source": [
    "cumulativeRevenueA = cumulativeData[cumulativeData['group'] == 'A'][[\n",
    "    'date', 'revenue', 'orders'\n",
    "]]\n",
    "cumulativeRevenueB = cumulativeData[cumulativeData['group'] == 'B'][[\n",
    "    'date', 'revenue', 'orders'\n",
    "]]"
   ]
  },
  {
   "cell_type": "code",
   "execution_count": 35,
   "metadata": {},
   "outputs": [
    {
     "data": {
      "image/png": "[encoded data removed]",
      "text/plain": [
       "<Figure size 700x500 with 1 Axes>"
      ]
     },
     "metadata": {
      "needs_background": "light"
     },
     "output_type": "display_data"
    }
   ],
   "source": [
    "plt.plot(cumulativeRevenueA['date'], \n",
    "         cumulativeRevenueA['revenue'], \n",
    "         label='A')\n",
    "plt.plot(cumulativeRevenueB['date'], \n",
    "         cumulativeRevenueB['revenue'], \n",
    "         label='B')\n",
    "plt.legend()\n",
    "plt.ylabel('Revenue')\n",
    "plt.title('Cumulative revenue by A/B group')\n",
    "plt.xticks(rotation=45)\n",
    "plt.grid()\n",
    "plt.show()"
   ]
  },
  {
   "cell_type": "markdown",
   "metadata": {},
   "source": [
    "We can see from the graph that the cumulative revenue for both A and B group were going up at about the same rate until mid August. Then B group had a big jump, leading A group by over 20000 in revenue, and kept that lead for the rest of the month.\n",
    "\n",
    "Potentially there were some extremely large order(s) that happened around that time in B group which caused the spike. Following that, cumulative revenue for A and B group kept going up at about the same rate again.\n",
    "\n",
    "From the graph, we can see that cumulative revenue from A and B group are roughly grow at about the same rate, except the spike between 17th and 21st of August. We will address the anomaly in the data later in the analysis."
   ]
  },
  {
   "cell_type": "markdown",
   "metadata": {},
   "source": [
    "# 3.2 Cumulative average order size by group"
   ]
  },
  {
   "cell_type": "markdown",
   "metadata": {},
   "source": [
    "Next, let's plot the cumulative average order size by A/B group. We will calculate this as the cumulative revenue divided by the cumulative number of orders."
   ]
  },
  {
   "cell_type": "code",
   "execution_count": 36,
   "metadata": {},
   "outputs": [
    {
     "data": {
      "image/png": "[encoded data removed]",
      "text/plain": [
       "<Figure size 700x500 with 1 Axes>"
      ]
     },
     "metadata": {
      "needs_background": "light"
     },
     "output_type": "display_data"
    }
   ],
   "source": [
    "plt.plot(cumulativeRevenueA['date'],\n",
    "         cumulativeRevenueA['revenue'] / cumulativeRevenueA['orders'],\n",
    "         label='A')\n",
    "plt.plot(cumulativeRevenueB['date'],\n",
    "         cumulativeRevenueB['revenue'] / cumulativeRevenueB['orders'],\n",
    "         label='B')\n",
    "plt.legend()\n",
    "plt.ylabel('Average order size')\n",
    "plt.title('Cumulative average order size by A/B group')\n",
    "plt.xticks(rotation=45)\n",
    "plt.grid()\n",
    "plt.show()"
   ]
  },
  {
   "cell_type": "markdown",
   "metadata": {},
   "source": [
    "We can see from above that there are some fluctuation in average order size for both groups before mid August, and it is hard to tell which one is doing better. Then B group had a big jump, followed by a slow decline.\n",
    "\n",
    "Once again, this might be the result of some very expensive orders from B group between 17th and 21st of August. We will find out what caused this in a later section.\n",
    "\n",
    "While A group is shown to start to stablize between 100 and 120, we will need more data on B group to find the true average purchase size and establish its level."
   ]
  },
  {
   "cell_type": "markdown",
   "metadata": {},
   "source": [
    "# 3.3 Relative difference in cumulative average order size(B compared with A)"
   ]
  },
  {
   "cell_type": "markdown",
   "metadata": {},
   "source": [
    "Now let's plot a relative difference graph for the average purchase sizes for B group compared with A group. We will merge the two subsets first and then calculate the difference and plot it."
   ]
  },
  {
   "cell_type": "code",
   "execution_count": 37,
   "metadata": {},
   "outputs": [],
   "source": [
    "mergedCumulativeRevenue = cumulativeRevenueA.merge(cumulativeRevenueB,\n",
    "                                                   on='date',\n",
    "                                                   how='left',\n",
    "                                                   suffixes=['A', 'B'])"
   ]
  },
  {
   "cell_type": "code",
   "execution_count": 38,
   "metadata": {},
   "outputs": [
    {
     "data": {
      "image/png": "[encoded data removed]",
      "text/plain": [
       "<Figure size 700x500 with 1 Axes>"
      ]
     },
     "metadata": {
      "needs_background": "light"
     },
     "output_type": "display_data"
    }
   ],
   "source": [
    "plt.plot(\n",
    "    mergedCumulativeRevenue['date'],\n",
    "    (mergedCumulativeRevenue['revenueB'] / mergedCumulativeRevenue['ordersB'])\n",
    "    /\n",
    "    (mergedCumulativeRevenue['revenueA'] / mergedCumulativeRevenue['ordersA'])\n",
    "    - 1)\n",
    "plt.title('Relative difference in cumulative average order size')\n",
    "plt.ylabel('Cumulative average order size')\n",
    "plt.xticks(rotation=45)\n",
    "plt.axhline(y=0, color='black', linestyle='--') \n",
    "plt.ylim(-1, 1)\n",
    "plt.grid()\n",
    "plt.show()"
   ]
  },
  {
   "cell_type": "markdown",
   "metadata": {},
   "source": [
    "The relative difference in average purchase size for B group compared with A fluctuates. The suspecious large order(s) is influencing the results here as well, causing B group have more relative gains than losses. However, the going down trend following the spike suggests that, if we remove the anomalies in the data, we might see some relative losses in the last two weeks of the test as well.\n",
    "\n",
    "We will find out more about this later in the report."
   ]
  },
  {
   "cell_type": "markdown",
   "metadata": {},
   "source": [
    "# 3.4 Daily conversion rates of the A/B group"
   ]
  },
  {
   "cell_type": "markdown",
   "metadata": {},
   "source": [
    "First, we will calculate and plot the daily conversion rate of the A/B group. We will calculate this as the number of orders divided by the number of visitors.\n",
    "\n",
    "Let's create the dataframe containing the daily conversion rate for both groups."
   ]
  },
  {
   "cell_type": "code",
   "execution_count": 39,
   "metadata": {},
   "outputs": [
    {
     "data": {
      "text/html": [
       "<div>\n",
       "<style scoped>\n",
       "    .dataframe tbody tr th:only-of-type {\n",
       "        vertical-align: middle;\n",
       "    }\n",
       "\n",
       "    .dataframe tbody tr th {\n",
       "        vertical-align: top;\n",
       "    }\n",
       "\n",
       "    .dataframe thead th {\n",
       "        text-align: right;\n",
       "    }\n",
       "</style>\n",
       "<table border=\"1\" class=\"dataframe\">\n",
       "  <thead>\n",
       "    <tr style=\"text-align: right;\">\n",
       "      <th></th>\n",
       "      <th>group</th>\n",
       "      <th>date</th>\n",
       "      <th>orders</th>\n",
       "      <th>visits</th>\n",
       "      <th>conversion</th>\n",
       "    </tr>\n",
       "  </thead>\n",
       "  <tbody>\n",
       "    <tr>\n",
       "      <td>0</td>\n",
       "      <td>A</td>\n",
       "      <td>2019-08-01</td>\n",
       "      <td>23</td>\n",
       "      <td>719</td>\n",
       "      <td>0.031989</td>\n",
       "    </tr>\n",
       "    <tr>\n",
       "      <td>1</td>\n",
       "      <td>A</td>\n",
       "      <td>2019-08-02</td>\n",
       "      <td>19</td>\n",
       "      <td>619</td>\n",
       "      <td>0.030695</td>\n",
       "    </tr>\n",
       "    <tr>\n",
       "      <td>2</td>\n",
       "      <td>A</td>\n",
       "      <td>2019-08-03</td>\n",
       "      <td>24</td>\n",
       "      <td>507</td>\n",
       "      <td>0.047337</td>\n",
       "    </tr>\n",
       "    <tr>\n",
       "      <td>3</td>\n",
       "      <td>A</td>\n",
       "      <td>2019-08-04</td>\n",
       "      <td>11</td>\n",
       "      <td>717</td>\n",
       "      <td>0.015342</td>\n",
       "    </tr>\n",
       "    <tr>\n",
       "      <td>4</td>\n",
       "      <td>A</td>\n",
       "      <td>2019-08-05</td>\n",
       "      <td>22</td>\n",
       "      <td>756</td>\n",
       "      <td>0.029101</td>\n",
       "    </tr>\n",
       "  </tbody>\n",
       "</table>\n",
       "</div>"
      ],
      "text/plain": [
       "  group       date  orders  visits  conversion\n",
       "0     A 2019-08-01      23     719    0.031989\n",
       "1     A 2019-08-02      19     619    0.030695\n",
       "2     A 2019-08-03      24     507    0.047337\n",
       "3     A 2019-08-04      11     717    0.015342\n",
       "4     A 2019-08-05      22     756    0.029101"
      ]
     },
     "execution_count": 39,
     "metadata": {},
     "output_type": "execute_result"
    }
   ],
   "source": [
    "ordersByGroup = orders.groupby(['group', 'date']).agg(\n",
    "    {'transactionId': 'count'}).reset_index()\n",
    "ordersByGroup.columns=['group', 'date', 'orders']\n",
    "dailyConversion = ordersByGroup.merge(visits, on=['group', 'date'])\n",
    "dailyConversion['conversion'] = dailyConversion['orders']/dailyConversion['visits']\n",
    "dailyConversion.head()"
   ]
  },
  {
   "cell_type": "markdown",
   "metadata": {},
   "source": [
    "Now, let's create the A/B subsets and plot their the daily conversion rates."
   ]
  },
  {
   "cell_type": "code",
   "execution_count": 40,
   "metadata": {},
   "outputs": [
    {
     "data": {
      "image/png": "[encoded data removed]",
      "text/plain": [
       "<Figure size 700x500 with 1 Axes>"
      ]
     },
     "metadata": {
      "needs_background": "light"
     },
     "output_type": "display_data"
    }
   ],
   "source": [
    "conversionA = dailyConversion[dailyConversion['group'] == 'A']\n",
    "conversionB = dailyConversion[dailyConversion['group'] == 'B']\n",
    "plt.plot(conversionA['date'], conversionA['conversion'], label='A')\n",
    "plt.plot(conversionB['date'], conversionB['conversion'], label='B')\n",
    "plt.legend()\n",
    "plt.title('Daily conversion rate of A/B group')\n",
    "plt.ylabel('Conversion rate')\n",
    "plt.xticks(rotation=45)\n",
    "plt.grid()\n",
    "plt.show()"
   ]
  },
  {
   "cell_type": "markdown",
   "metadata": {},
   "source": [
    "From the graph above, we can see some a clear spike in B ahead of A in the second week of August, but it's hard to tell overall which group is doing better becauase they both fluctuate strongly.\n",
    "\n",
    "Let's plot the relative difference in daily conversion rate for B compared with A."
   ]
  },
  {
   "cell_type": "code",
   "execution_count": 41,
   "metadata": {},
   "outputs": [
    {
     "data": {
      "image/png": "[encoded data removed]",
      "text/plain": [
       "<Figure size 700x500 with 1 Axes>"
      ]
     },
     "metadata": {
      "needs_background": "light"
     },
     "output_type": "display_data"
    }
   ],
   "source": [
    "mergedDailyConversions = conversionA[['date', 'conversion']].merge(\n",
    "    conversionB[['date', 'conversion']],\n",
    "    on='date',\n",
    "    how='left',\n",
    "    suffixes=['A', 'B'])\n",
    "\n",
    "plt.plot(mergedDailyConversions['date'],\n",
    "         mergedDailyConversions['conversionB'] /\n",
    "         mergedDailyConversions['conversionA'] - 1)\n",
    "plt.title('Relative gain in daily conversion in group B as opposed to group A')\n",
    "plt.axhline(y=0, color='black', linestyle='--')\n",
    "#plt.axis([\"2019-08-01\", '2019-08-31', -0.5, 0.5])\n",
    "plt.ylabel('Conversation rate')\n",
    "plt.xticks(rotation=45)\n",
    "plt.grid()\n",
    "plt.show()"
   ]
  },
  {
   "cell_type": "markdown",
   "metadata": {},
   "source": [
    "We can see from the graph of the relative difference in daily conversion rate that overall there seem to be more relative gains in conversion rate for B group than losses. To get a clear picture of these gains, we will need to take a look at the cumulative conversion rates."
   ]
  },
  {
   "cell_type": "markdown",
   "metadata": {},
   "source": [
    "# 3.5 Cumulative conversion rates of the A/B group"
   ]
  },
  {
   "cell_type": "markdown",
   "metadata": {},
   "source": [
    "Let's use the cumulativeData dataset and plot the cumulative conversion rates for the A/B group."
   ]
  },
  {
   "cell_type": "code",
   "execution_count": 42,
   "metadata": {},
   "outputs": [
    {
     "data": {
      "image/png": "[encoded data removed]",
      "text/plain": [
       "<Figure size 700x500 with 1 Axes>"
      ]
     },
     "metadata": {
      "needs_background": "light"
     },
     "output_type": "display_data"
    }
   ],
   "source": [
    "cumulativeData[\n",
    "    'conversion'] = cumulativeData['orders'] / cumulativeData['visitors']\n",
    "cumulativeDataA = cumulativeData[cumulativeData['group'] == 'A']\n",
    "cumulativeDataB = cumulativeData[cumulativeData['group'] == 'B']\n",
    "plt.plot(cumulativeDataA['date'], cumulativeDataA['conversion'], label='A')\n",
    "plt.plot(cumulativeDataB['date'], cumulativeDataB['conversion'], label='B')\n",
    "plt.legend()\n",
    "plt.title('Cumulative conversion rate of A/B group')\n",
    "plt.ylabel('Conversion rate')\n",
    "plt.xticks(rotation=45)\n",
    "plt.axis([\"2019-08-01\", '2019-08-31', 0, 0.05]) \n",
    "plt.grid()\n",
    "plt.show()"
   ]
  },
  {
   "cell_type": "markdown",
   "metadata": {},
   "source": [
    "Now it's quite clear that, after the first week in August, group B has been having a consistently higher cumulative conversion rates than group A. Let's look at the gain in conversion rates by plotting relative difference in them for group B compared with group A."
   ]
  },
  {
   "cell_type": "code",
   "execution_count": 43,
   "metadata": {},
   "outputs": [
    {
     "data": {
      "image/png": "[encoded data removed]",
      "text/plain": [
       "<Figure size 700x500 with 1 Axes>"
      ]
     },
     "metadata": {
      "needs_background": "light"
     },
     "output_type": "display_data"
    }
   ],
   "source": [
    "mergedCumulativeConversions = cumulativeDataA[['date', 'conversion']].merge(\n",
    "    cumulativeDataB[['date', 'conversion']],\n",
    "    on='date',\n",
    "    how='left',\n",
    "    suffixes=['A', 'B'])\n",
    "\n",
    "plt.plot(mergedCumulativeConversions['date'],\n",
    "         mergedCumulativeConversions['conversionB'] /\n",
    "         mergedCumulativeConversions['conversionA'] - 1)\n",
    "plt.title('Relative gain in conversion in group B as opposed to group')\n",
    "plt.axhline(y=0, color='black', linestyle='--')\n",
    "plt.axhline(y=0.2, color='grey', linestyle='--')\n",
    "plt.axis([\"2019-08-01\", '2019-08-31', -0.5, 0.5])\n",
    "plt.ylabel('Conversation rate')\n",
    "plt.xticks(rotation=45)\n",
    "plt.grid()\n",
    "plt.show()"
   ]
  },
  {
   "cell_type": "markdown",
   "metadata": {},
   "source": [
    "Now we can see thata, after the first week in August, group B's relative gain in cumulative conversion rates compared with group A climbed up to 0.2 and then fluctuates just slightly below that.\n",
    "\n",
    "Group B seems to be doing consistently better than group A in terms of conversion rates. Still, we will also need to see what happens to this after removing the anomalies in the data."
   ]
  },
  {
   "cell_type": "markdown",
   "metadata": {},
   "source": [
    "# Part 3 summary"
   ]
  },
  {
   "cell_type": "markdown",
   "metadata": {},
   "source": [
    "The analysis in this sections shows some interesting results. The cumulative revenue for group A and group B seem to rise at about the same rate, except for the spike in mid August for group B, possibly caused by some large order(s). There is no clear pattern in cumulative average purchase size for the two groups, except, again, a spike in mid August for group B. The relative difference in daily conversion rate for group B compared with group A seems to show more gains than losses, which became clear in graph for the relative difference in cumulative conversion rates: group B was leading consistently after the first week in August.\n",
    "\n",
    "Next, we will take a closer look at the revenue and order number from the data and address the anomalies in these."
   ]
  },
  {
   "cell_type": "markdown",
   "metadata": {},
   "source": [
    "# Part 4: Detecting anomalies "
   ]
  },
  {
   "cell_type": "markdown",
   "metadata": {},
   "source": [
    "In this section, we will carry out the following plots and calculations:\n",
    "\n",
    "1. scatter plot of the number of orders per user;\n",
    "2. the 95th and 99th percentiles for the number of orders per user;\n",
    "3. scatter plot of order prices; and\n",
    "4. the 95th and 99th percentiles of order prices."
   ]
  },
  {
   "cell_type": "markdown",
   "metadata": {},
   "source": [
    "# 4.1 Scatter plot of the number of orders per user"
   ]
  },
  {
   "cell_type": "markdown",
   "metadata": {},
   "source": [
    "Let's first create a dataframe containing the number of orders by user."
   ]
  },
  {
   "cell_type": "code",
   "execution_count": 44,
   "metadata": {},
   "outputs": [],
   "source": [
    "ordersByUsers = orders.groupby('visitorId', as_index=False).agg({\n",
    "    'transactionId':\n",
    "    pd.Series.nunique,\n",
    "    'group':\n",
    "    'max'\n",
    "})\n",
    "ordersByUsers.columns=['visitorId', 'orders', 'group']"
   ]
  },
  {
   "cell_type": "code",
   "execution_count": 45,
   "metadata": {},
   "outputs": [
    {
     "data": {
      "text/html": [
       "<div>\n",
       "<style scoped>\n",
       "    .dataframe tbody tr th:only-of-type {\n",
       "        vertical-align: middle;\n",
       "    }\n",
       "\n",
       "    .dataframe tbody tr th {\n",
       "        vertical-align: top;\n",
       "    }\n",
       "\n",
       "    .dataframe thead th {\n",
       "        text-align: right;\n",
       "    }\n",
       "</style>\n",
       "<table border=\"1\" class=\"dataframe\">\n",
       "  <thead>\n",
       "    <tr style=\"text-align: right;\">\n",
       "      <th></th>\n",
       "      <th>visitorId</th>\n",
       "      <th>orders</th>\n",
       "      <th>group</th>\n",
       "    </tr>\n",
       "  </thead>\n",
       "  <tbody>\n",
       "    <tr>\n",
       "      <td>908</td>\n",
       "      <td>3967698036</td>\n",
       "      <td>3</td>\n",
       "      <td>A</td>\n",
       "    </tr>\n",
       "    <tr>\n",
       "      <td>55</td>\n",
       "      <td>249864742</td>\n",
       "      <td>3</td>\n",
       "      <td>B</td>\n",
       "    </tr>\n",
       "    <tr>\n",
       "      <td>478</td>\n",
       "      <td>2108163459</td>\n",
       "      <td>3</td>\n",
       "      <td>A</td>\n",
       "    </tr>\n",
       "    <tr>\n",
       "      <td>687</td>\n",
       "      <td>2988190573</td>\n",
       "      <td>3</td>\n",
       "      <td>A</td>\n",
       "    </tr>\n",
       "    <tr>\n",
       "      <td>890</td>\n",
       "      <td>3908431265</td>\n",
       "      <td>3</td>\n",
       "      <td>A</td>\n",
       "    </tr>\n",
       "    <tr>\n",
       "      <td>138</td>\n",
       "      <td>611059232</td>\n",
       "      <td>3</td>\n",
       "      <td>A</td>\n",
       "    </tr>\n",
       "    <tr>\n",
       "      <td>632</td>\n",
       "      <td>2742574263</td>\n",
       "      <td>3</td>\n",
       "      <td>B</td>\n",
       "    </tr>\n",
       "    <tr>\n",
       "      <td>157</td>\n",
       "      <td>678354126</td>\n",
       "      <td>2</td>\n",
       "      <td>A</td>\n",
       "    </tr>\n",
       "    <tr>\n",
       "      <td>323</td>\n",
       "      <td>1404560065</td>\n",
       "      <td>2</td>\n",
       "      <td>B</td>\n",
       "    </tr>\n",
       "    <tr>\n",
       "      <td>452</td>\n",
       "      <td>1985475298</td>\n",
       "      <td>2</td>\n",
       "      <td>B</td>\n",
       "    </tr>\n",
       "  </tbody>\n",
       "</table>\n",
       "</div>"
      ],
      "text/plain": [
       "      visitorId  orders group\n",
       "908  3967698036       3     A\n",
       "55    249864742       3     B\n",
       "478  2108163459       3     A\n",
       "687  2988190573       3     A\n",
       "890  3908431265       3     A\n",
       "138   611059232       3     A\n",
       "632  2742574263       3     B\n",
       "157   678354126       2     A\n",
       "323  1404560065       2     B\n",
       "452  1985475298       2     B"
      ]
     },
     "execution_count": 45,
     "metadata": {},
     "output_type": "execute_result"
    }
   ],
   "source": [
    "ordersByUsers.sort_values(by='orders', ascending=False).head(10)"
   ]
  },
  {
   "cell_type": "markdown",
   "metadata": {},
   "source": [
    "There doesn't seem to be any outrageous numbers. Let's plot a scatterplot to show the order number next."
   ]
  },
  {
   "cell_type": "code",
   "execution_count": 46,
   "metadata": {},
   "outputs": [
    {
     "data": {
      "image/png": "[encoded data removed]",
      "text/plain": [
       "<Figure size 700x500 with 1 Axes>"
      ]
     },
     "metadata": {
      "needs_background": "light"
     },
     "output_type": "display_data"
    }
   ],
   "source": [
    "x_values_A = pd.Series(range(0, len(ordersByUsers[ordersByUsers['group'] == 'A']['orders'])))\n",
    "x_values_B = pd.Series(range(0, len(ordersByUsers[ordersByUsers['group'] == 'B']['orders'])))\n",
    "plt.scatter(x=x_values_A,\n",
    "            y=ordersByUsers[ordersByUsers['group'] == 'A']['orders'],\n",
    "            label='A')\n",
    "plt.scatter(x=x_values_B,\n",
    "            y=ordersByUsers[ordersByUsers['group'] == 'B']['orders'],\n",
    "            label='B')\n",
    "plt.legend()\n",
    "plt.title('Scatterplot of order number by user')\n",
    "plt.ylabel('Number of orders by user')\n",
    "plt.show()"
   ]
  },
  {
   "cell_type": "markdown",
   "metadata": {},
   "source": [
    "The scatterplot shows there are 7 users who have made 3 orders, among whom 2 are from B group and rest from A group. There are around a dozen users made 2 orders, and the rest all had 1 order."
   ]
  },
  {
   "cell_type": "markdown",
   "metadata": {},
   "source": [
    "# 4.2 95th and 99th percentiles for the number of orders per user"
   ]
  },
  {
   "cell_type": "markdown",
   "metadata": {},
   "source": [
    "Let's calculate the 95th and 99th percentiles for the order number per user."
   ]
  },
  {
   "cell_type": "code",
   "execution_count": 47,
   "metadata": {},
   "outputs": [
    {
     "data": {
      "text/plain": [
       "array([1., 2.])"
      ]
     },
     "execution_count": 47,
     "metadata": {},
     "output_type": "execute_result"
    }
   ],
   "source": [
    "np.percentile(ordersByUsers['orders'], [95, 99])"
   ]
  },
  {
   "cell_type": "markdown",
   "metadata": {},
   "source": [
    "99% of the users made 1 or 2 orders. We can consider the 1% 3 orders per user outliers, however, in this case, they are not by any sense extreme. Therefore let's keep them in the data."
   ]
  },
  {
   "cell_type": "markdown",
   "metadata": {},
   "source": [
    "# 4.3 Scatter chart of order prices"
   ]
  },
  {
   "cell_type": "markdown",
   "metadata": {},
   "source": [
    "From previous calculation, we had the suspicion that there might be some expensive orders which caused the spike in cumulative revenue and purchase size in group B. Let's make a scatterplot of the order prices to see what these are.\n",
    "\n",
    "Here we will make two scatterplots, one with full range of the revenue, the other with reduced range in order to get more details from it."
   ]
  },
  {
   "cell_type": "code",
   "execution_count": 48,
   "metadata": {},
   "outputs": [
    {
     "data": {
      "image/png": "[encoded data removed]",
      "text/plain": [
       "<Figure size 1000x400 with 2 Axes>"
      ]
     },
     "metadata": {
      "needs_background": "light"
     },
     "output_type": "display_data"
    }
   ],
   "source": [
    "fig, (ax1,ax2) = plt.subplots(1,2, figsize=(10, 4))\n",
    "\n",
    "x_values_A = pd.Series(range(0, len(orders[orders['group'] == 'A']['revenue'])))\n",
    "x_values_B = pd.Series(range(0, len(orders[orders['group'] == 'B']['revenue'])))\n",
    "ax1.scatter(x=x_values_A, y=orders[orders['group'] == 'A']['revenue'], label = 'A')\n",
    "ax1.scatter(x=x_values_B, y=orders[orders['group'] == 'B']['revenue'], label = 'B')\n",
    "ax1.set_title('Scatterplot of order prices (full)')\n",
    "ax1.set_ylabel('Order prices')\n",
    "ax1.legend()\n",
    "\n",
    "ax2.scatter(x=x_values_A,\n",
    "            y=orders[orders['group'] == 'A']['revenue'], label = 'A')\n",
    "ax2.scatter(x=x_values_B,\n",
    "            y=orders[orders['group'] == 'B']['revenue'], label ='B')\n",
    "ax2.set_title('Scatterplot of order prices (reduced price range)')\n",
    "ax2.set_ylabel('')\n",
    "ax2.set_ylim(0, 2500)\n",
    "ax2.legend()\n",
    "plt.tight_layout()"
   ]
  },
  {
   "cell_type": "markdown",
   "metadata": {},
   "source": [
    "Here we can see the B group has an extremely large outlier order price, at almost 20000, and an not so extreme one floating above 2500. Taking both off the graph, we can see that majority of the order prices are under 1000, with just sevaral above.\n",
    "\n",
    "Let's calculate the 95th and 99th percentiles next."
   ]
  },
  {
   "cell_type": "markdown",
   "metadata": {},
   "source": [
    "# 4.4 95th and 99th percentiles of order prices"
   ]
  },
  {
   "cell_type": "code",
   "execution_count": 49,
   "metadata": {},
   "outputs": [
    {
     "data": {
      "text/plain": [
       "array([414.275, 830.3  ])"
      ]
     },
     "execution_count": 49,
     "metadata": {},
     "output_type": "execute_result"
    }
   ],
   "source": [
    "np.percentile(orders['revenue'], [95, 99])"
   ]
  },
  {
   "cell_type": "markdown",
   "metadata": {},
   "source": [
    "99% of the order prices are 830.3 and lower. Order prices above this point can be considered as anomalies. Given this information, as well as the information from the scatterplot, we can arbitrarily decide the cut off point as 1000 for outliers. When we perform the significance testing in the next section, we can filter out the anomalies based on this."
   ]
  },
  {
   "cell_type": "markdown",
   "metadata": {},
   "source": [
    "# Part 4 summary"
   ]
  },
  {
   "cell_type": "markdown",
   "metadata": {},
   "source": [
    "In this section, using scatter plots and the percentile function, we identified the anomalies in the data. While 3 orders per user represents only 1 percent of the total users, the value itself is not extreme and thus will be kept in the data. On the other hand, while 99% of the order prices are 830.3 and below, the highest order is as extreme as almost 20000. Outliers like this severly skew the data and thus will need to be removed to get a clear understanding of the groups' performance."
   ]
  },
  {
   "cell_type": "markdown",
   "metadata": {},
   "source": [
    "# Part 5: Statistical significant testing"
   ]
  },
  {
   "cell_type": "markdown",
   "metadata": {},
   "source": [
    "In this section, we will perform the following tests:\n",
    "\n",
    "1. statistical significance of the difference in conversion between the groups using the raw data;\n",
    "\n",
    "2. statistical significance of the difference in average order size between the groups using the raw data;\n",
    "\n",
    "3. statistical significance of the difference in conversion between the groups using the filtered data; and\n",
    "\n",
    "4. statistical significance of the difference in average order size between the groups using the filtered data."
   ]
  },
  {
   "cell_type": "markdown",
   "metadata": {},
   "source": [
    "# 5.1 Significance test of the difference in conversion rates using raw data"
   ]
  },
  {
   "cell_type": "markdown",
   "metadata": {},
   "source": [
    "To test if the A and B group have the same conversion rates, we will use a two sided Mann Whitney U test.\n",
    "\n",
    "The null hypothesis is that their conversion rates are the same; the alternative hypothesis is that they are different. Threshold for the significance level alpha will be set as 0.05.\n",
    "\n",
    "First we will create two samples, A and B, which contains the visitors and the number of their orders of each group respectively."
   ]
  },
  {
   "cell_type": "code",
   "execution_count": 50,
   "metadata": {},
   "outputs": [],
   "source": [
    "ordersByUsersA = orders[orders['group'] == 'A'].groupby(\n",
    "    'visitorId', as_index=False).agg({'transactionId': pd.Series.nunique})\n",
    "ordersByUsersA.columns = ['visitorId', 'orders']\n",
    "\n",
    "ordersByUsersB = orders[orders['group'] == 'B'].groupby(\n",
    "    'visitorId', as_index=False).agg({'transactionId': pd.Series.nunique})\n",
    "ordersByUsersB.columns = ['visitorId', 'orders']\n",
    "\n",
    "sampleA = pd.concat([ordersByUsersA['orders'], pd.Series(0, index=np.arange(\n",
    "    visits[visits['group'] == 'A']['visits'].sum() - len(ordersByUsersA['orders'])), name='orders')], axis=0)\n",
    "\n",
    "sampleB = pd.concat([ordersByUsersB['orders'], pd.Series(0, index=np.arange(\n",
    "    visits[visits['group'] == 'B']['visits'].sum() - len(ordersByUsersB['orders'])), name='orders')], axis=0)"
   ]
  },
  {
   "cell_type": "markdown",
   "metadata": {},
   "source": [
    "Now let's perform the test and print the results. we will also calculate the relative conversion gain for group B compared with group A."
   ]
  },
  {
   "cell_type": "code",
   "execution_count": 51,
   "metadata": {},
   "outputs": [
    {
     "name": "stdout",
     "output_type": "stream",
     "text": [
      "0.011\n",
      "0.160\n"
     ]
    }
   ],
   "source": [
    "print(\"{0:.3f}\".format(st.mannwhitneyu(sampleA, sampleB, alternative='two-sided')[1]))\n",
    "\n",
    "print(\"{0:.3f}\".format(sampleB.mean()/sampleA.mean()-1)) "
   ]
  },
  {
   "cell_type": "markdown",
   "metadata": {},
   "source": [
    "The pvalue is smaller than 0.05. Therefore we reject the null hypothesis, and conclude that there is a difference in conversion rates between the two groups. The relative gain of group B is 16%."
   ]
  },
  {
   "cell_type": "markdown",
   "metadata": {},
   "source": [
    "# 5.2 Significance test of the difference in average order size using raw data"
   ]
  },
  {
   "cell_type": "markdown",
   "metadata": {},
   "source": [
    "Let's use the Mann Whitney U test to find out if the two groups have the same average order size. We'll also calculate group B's relative gain in average order size compared with A.\n",
    "\n",
    "The null hypothesis is the two groups have the same average order size, and the alternative hypothesis is that they have different average order size.\n",
    "\n",
    "We will set the significance level Alpha as 0.05."
   ]
  },
  {
   "cell_type": "code",
   "execution_count": 52,
   "metadata": {},
   "outputs": [
    {
     "name": "stdout",
     "output_type": "stream",
     "text": [
      "0.862\n",
      "0.278\n"
     ]
    }
   ],
   "source": [
    "revenueA = orders[orders['group'] == 'A']['revenue']\n",
    "revenueB = orders[orders['group'] == 'B']['revenue']\n",
    "print(\"{0:.3f}\".format(\n",
    "    st.mannwhitneyu(revenueA, revenueB, alternative='two-sided')[1]))\n",
    "print(\"{0:.3f}\".format(revenueB.mean() / revenueA.mean() - 1))\n"
   ]
  },
  {
   "cell_type": "markdown",
   "metadata": {},
   "source": [
    "Pvalue is larger than alpha 0.05. Therefore we can't reject the null hypothesis that the two groups have the same average order size. Despite that, we can see that group B has a relative gain of 27.8% in average purchase size compared with A. However, as we mentioned earlier, this could be due to the anomalies in the data. Next, we will perform the same tests using filtered data."
   ]
  },
  {
   "cell_type": "markdown",
   "metadata": {},
   "source": [
    "# 5.3 Significance test of the difference in conversion rates using filtered data"
   ]
  },
  {
   "cell_type": "markdown",
   "metadata": {},
   "source": [
    "Using results from previous sections on detecting anomalies in data, we decided that users who made orders higher than 1000 as anomaly users. Let's first find out who they are."
   ]
  },
  {
   "cell_type": "code",
   "execution_count": 53,
   "metadata": {},
   "outputs": [
    {
     "data": {
      "text/plain": [
       "425     1920142716\n",
       "743     4133034833\n",
       "744      888512513\n",
       "1099     148427295\n",
       "1103    1164614297\n",
       "1136    1307669133\n",
       "1196    2108080724\n",
       "Name: visitorId, dtype: int64"
      ]
     },
     "execution_count": 53,
     "metadata": {},
     "output_type": "execute_result"
    }
   ],
   "source": [
    "usersWithExpensiveOrders = orders[orders['revenue'] > 1000]['visitorId']\n",
    "usersWithExpensiveOrders"
   ]
  },
  {
   "cell_type": "markdown",
   "metadata": {},
   "source": [
    "There are 7 of them. In what follows, we will filter these users out and perform the Mann Whitney U test for the difference in conversion rate and average order size between the two groups."
   ]
  },
  {
   "cell_type": "code",
   "execution_count": 56,
   "metadata": {},
   "outputs": [],
   "source": [
    "sampleA_filtered = pd.concat([ordersByUsersA[~ordersByUsersA['visitorId'].isin(usersWithExpensiveOrders)]['orders'], pd.Series(0, index=np.arange(\n",
    "    visits[visits['group'] == 'A']['visits'].sum() - len(ordersByUsersA['orders'])), name='orders')], axis=0)\n",
    "\n",
    "sampleB_filtered = pd.concat([ordersByUsersB[~ordersByUsersB['visitorId'].isin(usersWithExpensiveOrders)]['orders'], pd.Series(0, index=np.arange(\n",
    "    visits[visits['group'] == 'B']['visits'].sum() - len(ordersByUsersB['orders'])), name='orders')], axis=0)"
   ]
  },
  {
   "cell_type": "markdown",
   "metadata": {},
   "source": [
    "Let's perform the test on the two samples, print the pvalue, and also calculate the relative gain in conversion rates for B group compared with A group."
   ]
  },
  {
   "cell_type": "code",
   "execution_count": 57,
   "metadata": {},
   "outputs": [
    {
     "name": "stdout",
     "output_type": "stream",
     "text": [
      "0.010\n",
      "0.163\n"
     ]
    }
   ],
   "source": [
    "print(\"{0:.3f}\".format(\n",
    "    st.mannwhitneyu(sampleA_filtered,\n",
    "                    sampleB_filtered,\n",
    "                    alternative='two-sided')[1]))\n",
    "print(\"{0:.3f}\".format(sampleB_filtered.mean() / sampleA_filtered.mean() - 1))"
   ]
  },
  {
   "cell_type": "markdown",
   "metadata": {},
   "source": [
    "The pvalue is still smaller than 0.05, so we could still reject the null hypothesis and conclude that there is a difference in the two groups' conversion rates.\n",
    "\n",
    "The relative gain in conversion rates for B group is 16.3%, 0.3% higher than the results from the raw data."
   ]
  },
  {
   "cell_type": "markdown",
   "metadata": {},
   "source": [
    "# 5.4 Significance test of the difference in average order size using filtered data"
   ]
  },
  {
   "cell_type": "markdown",
   "metadata": {},
   "source": [
    "Now let's use the filtered data to test if the average order size for the two groups are the same. The null and alternative hypothesis, as well as alpha remain the same as in previous test in section 5.2.\n",
    "\n",
    "We will also calculate the relative gain in average order size for B group compared with A group."
   ]
  },
  {
   "cell_type": "code",
   "execution_count": 58,
   "metadata": {},
   "outputs": [
    {
     "name": "stdout",
     "output_type": "stream",
     "text": [
      "0.927\n",
      "-0.034\n"
     ]
    }
   ],
   "source": [
    "revenueA = orders[(orders['group'] == 'A') & (\n",
    "    ~orders['visitorId'].isin(usersWithExpensiveOrders))]['revenue']\n",
    "revenueB = orders[(orders['group'] == 'B') & (\n",
    "    ~orders['visitorId'].isin(usersWithExpensiveOrders))]['revenue']\n",
    "print(\"{0:.3f}\".format(st.mannwhitneyu(revenueA, revenueB, alternative='two-sided')[1]))\n",
    "print(\"{0:.3f}\".format(revenueB.mean()/revenueA.mean()-1))"
   ]
  },
  {
   "cell_type": "markdown",
   "metadata": {},
   "source": [
    "It's interesting, after removing the anomalous users who made some extremely large orders, the relative change for B group in average order size fell from a 27.8% gain, to a 3.4% loss! The anomalous users must mostly come from the B group.\n",
    "\n",
    "The pvalue of the test results is still higher than 0.05. So similarly, we can't reject the null hypothesis that the two groups have the same average order size."
   ]
  },
  {
   "cell_type": "markdown",
   "metadata": {},
   "source": [
    "# Part 4 summary"
   ]
  },
  {
   "cell_type": "markdown",
   "metadata": {},
   "source": [
    "In this section, we performed two sets of statistical significance tests, using the raw data and filtered data respectively. The test of the difference in conversion rates between A and B group using both raw and filtered data shows that A and B group have different converstion rate, with B group have a relative gain compared with A at 16% and 16.3%.\n",
    "\n",
    "Test of the difference in average purchase size using both raw and filtered data failed to reject the null hypothesis. Therefore we do not have the evidence to say their average purchase size is different.\n",
    "\n",
    "Before removing the anomalies, B group has a relative gain of 27.8% in average purchase size, due to the existence of some extremely large orders, whereas after the removal of the anomalies, B group has a relative loss of 3.4% against A group."
   ]
  },
  {
   "cell_type": "markdown",
   "metadata": {},
   "source": [
    "# Part 5: Findings and conclusions"
   ]
  },
  {
   "cell_type": "markdown",
   "metadata": {},
   "source": [
    "Drawing on the analysis and results in this report, we can conclude:\n",
    "\n",
    "1. There's a statistically significant difference in conversion between the groups, according to both the raw and the filtered data.\n",
    "\n",
    "2. Neither the raw nor the filtered data showed a statistically significant difference between the groups in terms of average purchase size. The raw data shows B group has a relative gain in its average purchase size, whereas the filtered data shows a relative loss.\n",
    "\n",
    "3. he graph of the difference in conversion between the groups shows that group B's results are better than those of group A: they seem to have stabilized around the mean, with some slight fluctuations.\n",
    "\n",
    "4. The graph of the difference in average purchase size shows fluctuations. With or without the anomalies, we can't really draw any definite conclusions from this graph.\n",
    "\n",
    "Given the above, one option is to call the test a success, and conclude that the test does prove the hypothesis that the change to the site can lead to higher conversion rate, but does not show that it could lead to increase in average purchase size.\n",
    "\n",
    "Alternatively, if the hypothesis being tested here is hypothesis 2, which has a relative low effort score of 3, given B group is still fluctuating and not shown to be better or worse in their average purchase size, the company can potentially run the test for another month.\n",
    "\n",
    "Which option to choose will depend on the company's resources and goals of the test. For example, if whether the 2nd part of the hypothesis could be proved or not will decide on whether the company will adopt the change, then it is probably a good idea to run the test a little longer just to be sure, especially considering the low effort in the test. On the other hand, if the improved conversion rate alone is a motivation to adopt the change, then we can call to stop the test."
   ]
  }
 ],
 "metadata": {
  "ExecuteTimeLog": [
   {
    "duration": 1539,
    "start_time": "2021-10-02T06:31:20.728Z"
   },
   {
    "duration": 34,
    "start_time": "2021-10-02T06:32:03.233Z"
   },
   {
    "duration": 22,
    "start_time": "2021-10-02T06:41:20.684Z"
   },
   {
    "duration": 20,
    "start_time": "2021-10-02T06:41:24.845Z"
   },
   {
    "duration": 565,
    "start_time": "2021-10-02T06:41:57.104Z"
   },
   {
    "duration": 78,
    "start_time": "2021-10-02T06:44:17.690Z"
   },
   {
    "duration": 77,
    "start_time": "2021-10-02T06:44:48.671Z"
   },
   {
    "duration": 17,
    "start_time": "2021-10-02T06:45:20.090Z"
   },
   {
    "duration": 957,
    "start_time": "2021-10-02T06:47:20.740Z"
   },
   {
    "duration": 464,
    "start_time": "2021-10-02T06:48:03.825Z"
   },
   {
    "duration": 472,
    "start_time": "2021-10-02T06:50:36.944Z"
   },
   {
    "duration": 377,
    "start_time": "2021-10-02T06:52:27.873Z"
   },
   {
    "duration": 560,
    "start_time": "2021-10-02T06:53:37.513Z"
   },
   {
    "duration": 485,
    "start_time": "2021-10-02T06:54:26.706Z"
   },
   {
    "duration": 608,
    "start_time": "2021-10-02T06:55:04.946Z"
   },
   {
    "duration": 7,
    "start_time": "2021-10-02T06:55:48.485Z"
   },
   {
    "duration": 430,
    "start_time": "2021-10-02T07:14:26.260Z"
   },
   {
    "duration": 6,
    "start_time": "2021-10-02T07:15:11.179Z"
   },
   {
    "duration": 226,
    "start_time": "2021-10-02T07:17:02.227Z"
   },
   {
    "duration": 11,
    "start_time": "2021-10-02T07:18:38.832Z"
   },
   {
    "duration": 28,
    "start_time": "2021-10-02T07:24:22.245Z"
   },
   {
    "duration": 15,
    "start_time": "2021-10-02T07:36:39.688Z"
   },
   {
    "duration": 1475,
    "start_time": "2021-10-03T05:37:59.936Z"
   },
   {
    "duration": 36,
    "start_time": "2021-10-03T05:38:01.414Z"
   },
   {
    "duration": 23,
    "start_time": "2021-10-03T05:38:01.453Z"
   },
   {
    "duration": 52,
    "start_time": "2021-10-03T05:38:01.478Z"
   },
   {
    "duration": 466,
    "start_time": "2021-10-03T05:38:01.532Z"
   },
   {
    "duration": 84,
    "start_time": "2021-10-03T05:38:02.000Z"
   },
   {
    "duration": 16,
    "start_time": "2021-10-03T05:38:02.087Z"
   },
   {
    "duration": 962,
    "start_time": "2021-10-03T05:38:02.106Z"
   },
   {
    "duration": 487,
    "start_time": "2021-10-03T05:38:03.071Z"
   },
   {
    "duration": 484,
    "start_time": "2021-10-03T05:38:03.561Z"
   },
   {
    "duration": 356,
    "start_time": "2021-10-03T05:38:04.048Z"
   },
   {
    "duration": 611,
    "start_time": "2021-10-03T05:38:04.407Z"
   },
   {
    "duration": 6,
    "start_time": "2021-10-03T05:38:05.020Z"
   },
   {
    "duration": 496,
    "start_time": "2021-10-03T05:38:05.029Z"
   },
   {
    "duration": 6,
    "start_time": "2021-10-03T05:38:05.527Z"
   },
   {
    "duration": 265,
    "start_time": "2021-10-03T05:38:05.535Z"
   },
   {
    "duration": 23,
    "start_time": "2021-10-03T05:38:05.802Z"
   },
   {
    "duration": 29,
    "start_time": "2021-10-03T05:38:05.827Z"
   },
   {
    "duration": 15,
    "start_time": "2021-10-03T05:38:05.858Z"
   },
   {
    "duration": 1411,
    "start_time": "2021-10-03T05:38:32.372Z"
   },
   {
    "duration": 36,
    "start_time": "2021-10-03T05:38:33.786Z"
   },
   {
    "duration": 25,
    "start_time": "2021-10-03T05:38:33.825Z"
   },
   {
    "duration": 24,
    "start_time": "2021-10-03T05:38:33.852Z"
   },
   {
    "duration": 444,
    "start_time": "2021-10-03T05:38:33.878Z"
   },
   {
    "duration": 85,
    "start_time": "2021-10-03T05:38:34.324Z"
   },
   {
    "duration": 15,
    "start_time": "2021-10-03T05:38:34.411Z"
   },
   {
    "duration": 913,
    "start_time": "2021-10-03T05:38:34.430Z"
   },
   {
    "duration": 422,
    "start_time": "2021-10-03T05:38:35.346Z"
   },
   {
    "duration": 476,
    "start_time": "2021-10-03T05:38:35.770Z"
   },
   {
    "duration": 376,
    "start_time": "2021-10-03T05:38:36.249Z"
   },
   {
    "duration": 589,
    "start_time": "2021-10-03T05:38:36.628Z"
   },
   {
    "duration": 7,
    "start_time": "2021-10-03T05:38:37.223Z"
   },
   {
    "duration": 499,
    "start_time": "2021-10-03T05:38:37.233Z"
   },
   {
    "duration": 6,
    "start_time": "2021-10-03T05:38:37.734Z"
   },
   {
    "duration": 246,
    "start_time": "2021-10-03T05:38:37.742Z"
   },
   {
    "duration": 33,
    "start_time": "2021-10-03T05:38:37.991Z"
   },
   {
    "duration": 33,
    "start_time": "2021-10-03T05:38:38.027Z"
   },
   {
    "duration": 23,
    "start_time": "2021-10-03T05:38:38.063Z"
   },
   {
    "duration": 1600,
    "start_time": "2021-10-03T10:35:03.805Z"
   },
   {
    "duration": 36,
    "start_time": "2021-10-03T10:35:05.408Z"
   },
   {
    "duration": 23,
    "start_time": "2021-10-03T10:35:05.447Z"
   },
   {
    "duration": 27,
    "start_time": "2021-10-03T10:35:05.473Z"
   },
   {
    "duration": 457,
    "start_time": "2021-10-03T10:35:05.503Z"
   },
   {
    "duration": 86,
    "start_time": "2021-10-03T10:35:05.963Z"
   },
   {
    "duration": 17,
    "start_time": "2021-10-03T10:35:06.052Z"
   },
   {
    "duration": 960,
    "start_time": "2021-10-03T10:35:06.073Z"
   },
   {
    "duration": 425,
    "start_time": "2021-10-03T10:35:07.036Z"
   },
   {
    "duration": 484,
    "start_time": "2021-10-03T10:35:07.464Z"
   },
   {
    "duration": 349,
    "start_time": "2021-10-03T10:35:07.951Z"
   },
   {
    "duration": 599,
    "start_time": "2021-10-03T10:35:08.303Z"
   },
   {
    "duration": 5,
    "start_time": "2021-10-03T10:35:08.905Z"
   },
   {
    "duration": 510,
    "start_time": "2021-10-03T10:35:08.912Z"
   },
   {
    "duration": 5,
    "start_time": "2021-10-03T10:35:09.424Z"
   },
   {
    "duration": 242,
    "start_time": "2021-10-03T10:35:09.432Z"
   },
   {
    "duration": 11,
    "start_time": "2021-10-03T10:35:09.676Z"
   },
   {
    "duration": 52,
    "start_time": "2021-10-03T10:35:09.690Z"
   },
   {
    "duration": 51,
    "start_time": "2021-10-03T10:35:09.744Z"
   },
   {
    "duration": 1480,
    "start_time": "2021-10-03T11:48:21.056Z"
   },
   {
    "duration": 39,
    "start_time": "2021-10-03T11:48:22.539Z"
   },
   {
    "duration": 25,
    "start_time": "2021-10-03T11:48:22.581Z"
   },
   {
    "duration": 27,
    "start_time": "2021-10-03T11:48:22.609Z"
   },
   {
    "duration": 476,
    "start_time": "2021-10-03T11:48:22.638Z"
   },
   {
    "duration": 84,
    "start_time": "2021-10-03T11:48:23.117Z"
   },
   {
    "duration": 24,
    "start_time": "2021-10-03T11:48:23.204Z"
   },
   {
    "duration": 1057,
    "start_time": "2021-10-03T11:48:23.233Z"
   },
   {
    "duration": 462,
    "start_time": "2021-10-03T11:48:24.294Z"
   },
   {
    "duration": 464,
    "start_time": "2021-10-03T11:48:24.758Z"
   },
   {
    "duration": 534,
    "start_time": "2021-10-03T11:48:25.225Z"
   },
   {
    "duration": 727,
    "start_time": "2021-10-03T11:48:25.762Z"
   },
   {
    "duration": 7,
    "start_time": "2021-10-03T11:48:26.492Z"
   },
   {
    "duration": 551,
    "start_time": "2021-10-03T11:48:26.501Z"
   },
   {
    "duration": 6,
    "start_time": "2021-10-03T11:48:27.054Z"
   },
   {
    "duration": 241,
    "start_time": "2021-10-03T11:48:27.062Z"
   },
   {
    "duration": 24,
    "start_time": "2021-10-03T11:48:27.306Z"
   },
   {
    "duration": 31,
    "start_time": "2021-10-03T11:48:27.333Z"
   },
   {
    "duration": 18,
    "start_time": "2021-10-03T11:48:27.367Z"
   },
   {
    "duration": 952,
    "start_time": "2021-10-03T12:05:51.803Z"
   },
   {
    "duration": 294,
    "start_time": "2021-10-04T07:08:27.700Z"
   },
   {
    "duration": 1138,
    "start_time": "2021-10-04T07:08:35.352Z"
   },
   {
    "duration": 31,
    "start_time": "2021-10-04T07:08:37.957Z"
   },
   {
    "duration": 13,
    "start_time": "2021-10-04T07:08:40.036Z"
   },
   {
    "duration": 13,
    "start_time": "2021-10-04T07:08:41.400Z"
   },
   {
    "duration": 274,
    "start_time": "2021-10-04T07:08:42.723Z"
   },
   {
    "duration": 73,
    "start_time": "2021-10-04T07:08:45.116Z"
   },
   {
    "duration": 10,
    "start_time": "2021-10-04T07:08:46.560Z"
   },
   {
    "duration": 10,
    "start_time": "2021-10-04T07:08:47.362Z"
   },
   {
    "duration": 4,
    "start_time": "2021-10-04T07:09:50.708Z"
   },
   {
    "duration": 25,
    "start_time": "2021-10-04T07:09:51.709Z"
   },
   {
    "duration": 12,
    "start_time": "2021-10-04T07:09:53.464Z"
   },
   {
    "duration": 16,
    "start_time": "2021-10-04T07:09:54.887Z"
   },
   {
    "duration": 261,
    "start_time": "2021-10-04T07:09:55.845Z"
   },
   {
    "duration": 75,
    "start_time": "2021-10-04T07:09:58.951Z"
   },
   {
    "duration": 8,
    "start_time": "2021-10-04T07:10:10.339Z"
   },
   {
    "duration": 17,
    "start_time": "2021-10-04T07:10:41.668Z"
   },
   {
    "duration": 8,
    "start_time": "2021-10-04T07:18:42.881Z"
   },
   {
    "duration": 7,
    "start_time": "2021-10-04T07:54:09.813Z"
   },
   {
    "duration": 1638,
    "start_time": "2021-10-04T15:57:13.985Z"
   },
   {
    "duration": 34,
    "start_time": "2021-10-04T15:57:18.038Z"
   },
   {
    "duration": 18,
    "start_time": "2021-10-04T15:57:20.536Z"
   },
   {
    "duration": 20,
    "start_time": "2021-10-04T15:57:22.138Z"
   },
   {
    "duration": 458,
    "start_time": "2021-10-04T15:57:23.851Z"
   },
   {
    "duration": 73,
    "start_time": "2021-10-04T15:57:32.815Z"
   },
   {
    "duration": 11,
    "start_time": "2021-10-04T15:57:35.637Z"
   },
   {
    "duration": 12,
    "start_time": "2021-10-04T16:01:13.167Z"
   },
   {
    "duration": 968,
    "start_time": "2021-11-19T08:56:29.646Z"
   },
   {
    "duration": 58,
    "start_time": "2021-11-19T08:56:30.616Z"
   },
   {
    "duration": 11,
    "start_time": "2021-11-19T08:56:30.676Z"
   },
   {
    "duration": 13,
    "start_time": "2021-11-19T08:56:30.688Z"
   },
   {
    "duration": 239,
    "start_time": "2021-11-19T08:56:30.703Z"
   },
   {
    "duration": 112,
    "start_time": "2021-11-19T08:56:30.943Z"
   },
   {
    "duration": 7,
    "start_time": "2021-11-19T08:56:31.056Z"
   },
   {
    "duration": 12,
    "start_time": "2021-11-19T08:56:31.066Z"
   },
   {
    "duration": 507,
    "start_time": "2021-11-19T08:56:31.080Z"
   },
   {
    "duration": 303,
    "start_time": "2021-11-19T08:56:31.589Z"
   },
   {
    "duration": 323,
    "start_time": "2021-11-19T08:56:31.893Z"
   },
   {
    "duration": 201,
    "start_time": "2021-11-19T08:56:32.218Z"
   },
   {
    "duration": 369,
    "start_time": "2021-11-19T08:56:32.420Z"
   },
   {
    "duration": 3,
    "start_time": "2021-11-19T08:56:32.791Z"
   },
   {
    "duration": 359,
    "start_time": "2021-11-19T08:56:32.795Z"
   },
   {
    "duration": 4,
    "start_time": "2021-11-19T08:56:33.155Z"
   },
   {
    "duration": 116,
    "start_time": "2021-11-19T08:56:33.160Z"
   },
   {
    "duration": 15,
    "start_time": "2021-11-19T08:56:33.277Z"
   },
   {
    "duration": 40,
    "start_time": "2021-11-19T08:56:33.293Z"
   },
   {
    "duration": 26,
    "start_time": "2021-11-19T08:56:33.335Z"
   },
   {
    "duration": 981,
    "start_time": "2022-02-16T07:56:58.173Z"
   },
   {
    "duration": 96,
    "start_time": "2022-02-16T07:57:45.502Z"
   },
   {
    "duration": 10,
    "start_time": "2022-02-16T07:57:57.898Z"
   },
   {
    "duration": 3,
    "start_time": "2022-02-16T07:58:07.367Z"
   },
   {
    "duration": 5,
    "start_time": "2022-02-16T07:58:17.057Z"
   },
   {
    "duration": 10,
    "start_time": "2022-02-16T07:58:25.433Z"
   },
   {
    "duration": 4,
    "start_time": "2022-02-16T07:58:51.564Z"
   },
   {
    "duration": 10,
    "start_time": "2022-02-16T07:59:01.035Z"
   },
   {
    "duration": 431,
    "start_time": "2022-02-16T07:59:24.573Z"
   },
   {
    "duration": 103,
    "start_time": "2022-02-16T08:00:57.595Z"
   },
   {
    "duration": 122,
    "start_time": "2022-02-16T08:01:08.816Z"
   },
   {
    "duration": 9,
    "start_time": "2022-02-16T08:01:22.028Z"
   },
   {
    "duration": 8,
    "start_time": "2022-02-16T08:01:31.453Z"
   },
   {
    "duration": 6,
    "start_time": "2022-02-16T08:02:20.374Z"
   },
   {
    "duration": 6,
    "start_time": "2022-02-16T08:02:28.232Z"
   },
   {
    "duration": 6,
    "start_time": "2022-02-16T08:02:36.704Z"
   },
   {
    "duration": 5,
    "start_time": "2022-02-16T08:02:45.957Z"
   },
   {
    "duration": 7,
    "start_time": "2022-02-16T08:03:07.559Z"
   },
   {
    "duration": 6,
    "start_time": "2022-02-16T08:03:18.422Z"
   },
   {
    "duration": 8,
    "start_time": "2022-02-16T08:03:38.941Z"
   },
   {
    "duration": 8,
    "start_time": "2022-02-16T08:03:47.856Z"
   },
   {
    "duration": 6,
    "start_time": "2022-02-16T08:04:13.078Z"
   },
   {
    "duration": 8,
    "start_time": "2022-02-16T08:04:21.492Z"
   },
   {
    "duration": 8,
    "start_time": "2022-02-16T08:04:46.167Z"
   },
   {
    "duration": 5,
    "start_time": "2022-02-16T08:04:54.914Z"
   },
   {
    "duration": 6,
    "start_time": "2022-02-16T08:05:15.416Z"
   },
   {
    "duration": 6,
    "start_time": "2022-02-16T08:05:23.483Z"
   },
   {
    "duration": 9,
    "start_time": "2022-02-16T08:07:03.219Z"
   },
   {
    "duration": 8,
    "start_time": "2022-02-16T08:07:14.811Z"
   },
   {
    "duration": 211,
    "start_time": "2022-02-16T08:07:45.349Z"
   },
   {
    "duration": 143,
    "start_time": "2022-02-16T08:07:54.372Z"
   },
   {
    "duration": 7,
    "start_time": "2022-02-16T08:08:19.164Z"
   },
   {
    "duration": 10,
    "start_time": "2022-02-16T08:08:29.673Z"
   },
   {
    "duration": 7,
    "start_time": "2022-02-16T08:08:54.741Z"
   },
   {
    "duration": 280,
    "start_time": "2022-02-16T08:09:03.358Z"
   },
   {
    "duration": 254,
    "start_time": "2022-02-16T08:09:49.246Z"
   },
   {
    "duration": 8,
    "start_time": "2022-02-16T08:10:40.912Z"
   },
   {
    "duration": 398,
    "start_time": "2022-02-16T08:10:50.102Z"
   },
   {
    "duration": 19,
    "start_time": "2022-02-16T08:11:34.582Z"
   },
   {
    "duration": 279,
    "start_time": "2022-02-16T08:11:59.078Z"
   },
   {
    "duration": 403,
    "start_time": "2022-02-16T08:12:21.804Z"
   },
   {
    "duration": 333,
    "start_time": "2022-02-16T08:13:10.289Z"
   },
   {
    "duration": 398,
    "start_time": "2022-02-16T08:14:04.805Z"
   },
   {
    "duration": 192,
    "start_time": "2022-02-16T08:16:01.403Z"
   },
   {
    "duration": 8,
    "start_time": "2022-02-16T08:16:10.175Z"
   },
   {
    "duration": 346,
    "start_time": "2022-02-16T08:16:37.054Z"
   },
   {
    "duration": 6,
    "start_time": "2022-02-16T08:17:23.212Z"
   },
   {
    "duration": 784,
    "start_time": "2022-02-16T08:18:13.852Z"
   },
   {
    "duration": 5,
    "start_time": "2022-02-16T08:19:00.629Z"
   },
   {
    "duration": 116,
    "start_time": "2022-02-16T08:20:57.198Z"
   },
   {
    "duration": 7,
    "start_time": "2022-02-16T08:21:19.854Z"
   },
   {
    "duration": 8,
    "start_time": "2022-02-16T08:22:10.544Z"
   },
   {
    "duration": 6,
    "start_time": "2022-02-16T08:22:53.796Z"
   },
   {
    "duration": 90,
    "start_time": "2022-02-16T08:23:15.736Z"
   },
   {
    "duration": 62,
    "start_time": "2022-02-16T08:23:35.596Z"
   },
   {
    "duration": 10,
    "start_time": "2022-02-16T08:24:12.238Z"
   },
   {
    "duration": 7,
    "start_time": "2022-02-16T08:24:44.303Z"
   },
   {
    "duration": 10,
    "start_time": "2022-02-16T08:25:36.653Z"
   }
  ],
  "kernelspec": {
   "display_name": "Python 3",
   "language": "python",
   "name": "python3"
  },
  "language_info": {
   "codemirror_mode": {
    "name": "ipython",
    "version": 3
   },
   "file_extension": ".py",
   "mimetype": "text/x-python",
   "name": "python",
   "nbconvert_exporter": "python",
   "pygments_lexer": "ipython3",
   "version": "3.7.6"
  },
  "toc": {
   "base_numbering": 1,
   "nav_menu": {},
   "number_sections": true,
   "sideBar": true,
   "skip_h1_title": true,
   "title_cell": "Table of Contents",
   "title_sidebar": "Contents",
   "toc_cell": false,
   "toc_position": {},
   "toc_section_display": true,
   "toc_window_display": false
  }
 },
 "nbformat": 4,
 "nbformat_minor": 2
}
